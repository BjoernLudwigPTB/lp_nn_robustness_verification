{
 "cells": [
  {
   "cell_type": "code",
   "execution_count": 43,
   "metadata": {},
   "outputs": [],
   "source": [
    "from math import isclose\n",
    "from time import sleep\n",
    "\n",
    "import numpy as np\n",
    "import plotly.graph_objects as go\n",
    "from numpy._typing import NDArray\n",
    "from numpy.testing import assert_equal\n",
    "from tqdm import trange\n",
    "from zema_emc_annotated.dataset import ZeMASamples  # type: ignore[import]\n",
    "\n",
    "from lp_nn_robustness_verification.data_acquisition.activation_functions import (\n",
    "    Sigmoid,\n",
    ")\n",
    "from lp_nn_robustness_verification.data_acquisition.generate_nn_params import (\n",
    "    construct_out_features_counts,\n",
    "    generate_weights_and_biases,\n",
    ")\n",
    "from lp_nn_robustness_verification.data_acquisition.uncertain_inputs import (\n",
    "    UncertainInputs,\n",
    ")\n",
    "from lp_nn_robustness_verification.data_types import (\n",
    "    UncertainArray,\n",
    "    ValidCombinationForZeMA,\n",
    ")\n",
    "from lp_nn_robustness_verification.linear_program import RobustnessVerification\n",
    "from lp_nn_robustness_verification.pre_processing import LinearInclusion"
   ]
  },
  {
   "cell_type": "markdown",
   "source": [
    "## Preparations\n",
    "\n",
    "Set up shared Plotly layout parameters."
   ],
   "metadata": {
    "collapsed": false
   }
  },
  {
   "cell_type": "code",
   "execution_count": 2,
   "outputs": [],
   "source": [
    "bg_color = \"#1E1F22\"\n",
    "shared_layout = dict(\n",
    "    paper_bgcolor=bg_color,\n",
    "    font=dict(\n",
    "        size=20,\n",
    "    ),\n",
    "    xaxis_title=\"1st component\",\n",
    "    yaxis_title=\"2nd component\",\n",
    "    autosize=False,\n",
    "    width=1300,\n",
    "    height=1300,\n",
    "    showlegend=True,\n",
    "    legend=dict(\n",
    "        yanchor=\"top\",\n",
    "        y=1.05,\n",
    "        xanchor=\"left\",\n",
    "        x=0.01,\n",
    "        font=dict(\n",
    "            size=30,\n",
    "        ),\n",
    "    ),\n",
    "    plot_bgcolor=bg_color,\n",
    ")\n",
    "shared_ratio = dict(\n",
    "    scaleanchor=\"x\",\n",
    "    scaleratio=1,\n",
    ")\n",
    "shared_title_params = dict(\n",
    "    y=0.9,\n",
    "    x=0.5,\n",
    "    xanchor=\"center\",\n",
    "    yanchor=\"top\",\n",
    ")"
   ],
   "metadata": {
    "collapsed": false
   }
  },
  {
   "cell_type": "markdown",
   "source": [
    "## Run batch of examples with varying random seed\n",
    "\n",
    "valid seeds are:\n",
    "\n",
    "- ValidCombinationForZeMA(size_scaler=1, depth=1): 2\n",
    "- ValidCombinationForZeMA(size_scaler=1, depth=3): 2123\n",
    "- ValidCombinationForZeMA(size_scaler=1, depth=5): 80986\n",
    "- ValidCombinationForZeMA(size_scaler=1, depth=8): 80986\n",
    "- ValidCombinationForZeMA(size_scaler=10, depth=1): 0"
   ],
   "metadata": {
    "collapsed": false
   }
  },
  {
   "cell_type": "code",
   "execution_count": null,
   "metadata": {
    "pycharm": {
     "is_executing": true
    }
   },
   "outputs": [
    {
     "name": "stdout",
     "output_type": "stream",
     "text": [
      "    Extract values from /ZeMA_DAQ/Acceleration/qudt:value\n",
      "    Values extracted\n",
      "    Extract uncertainties from /ZeMA_DAQ/Acceleration/qudt:standardUncertainty\n",
      "    Uncertainties extracted\n",
      "    Extract values from /ZeMA_DAQ/Active_Current/qudt:value\n",
      "    Values extracted\n",
      "    Extract uncertainties from /ZeMA_DAQ/Active_Current/qudt:standardUncertainty\n",
      "    Uncertainties extracted\n",
      "    Extract values from /ZeMA_DAQ/Force/qudt:value\n",
      "    Values extracted\n",
      "    Extract uncertainties from /ZeMA_DAQ/Force/qudt:standardUncertainty\n",
      "    Uncertainties extracted\n",
      "    Extract values from /ZeMA_DAQ/Motor_Current/qudt:value\n",
      "    Values extracted\n",
      "    Extract uncertainties from /ZeMA_DAQ/Motor_Current/qudt:standardUncertainty\n",
      "    Uncertainties extracted\n",
      "    Extract values from /ZeMA_DAQ/Pressure/qudt:value\n",
      "    Values extracted\n",
      "    Extract uncertainties from /ZeMA_DAQ/Pressure/qudt:standardUncertainty\n",
      "    Uncertainties extracted\n",
      "    Extract values from /ZeMA_DAQ/Sound_Pressure/qudt:value\n",
      "    Values extracted\n",
      "    Extract uncertainties from /ZeMA_DAQ/Sound_Pressure/qudt:standardUncertainty\n",
      "    Uncertainties extracted\n",
      "    Extract values from /ZeMA_DAQ/Velocity/qudt:value\n",
      "    Values extracted\n",
      "    Extract uncertainties from /ZeMA_DAQ/Velocity/qudt:standardUncertainty\n",
      "    Uncertainties extracted\n",
      "Trying to find valid seed for ValidCombinationForZeMA(size_scaler=2000, depth=8)\n"
     ]
    },
    {
     "name": "stderr",
     "output_type": "stream",
     "text": [
      "\n",
      "  0%|          | 0/100000 [00:00<?, ?it/s]\u001B[A"
     ]
    }
   ],
   "source": [
    "valid_seeds: dict[ValidCombinationForZeMA, int] = {}\n",
    "size_scalers = [2000]\n",
    "depths = [8]\n",
    "for size_scaler in size_scalers:\n",
    "    zema_data = ZeMASamples(1, size_scaler=size_scaler, normalize=True)\n",
    "    uncertain_inputs = UncertainInputs(\n",
    "        UncertainArray(zema_data.values[0], zema_data.uncertainties[0])\n",
    "    )\n",
    "    for depth in depths:\n",
    "        print(\n",
    "            f\"Trying to find valid seed for {ValidCombinationForZeMA(size_scaler, depth)}\"\n",
    "        )\n",
    "        for seed in trange(100000):\n",
    "            linear_inclusion = LinearInclusion(\n",
    "                uncertain_inputs,\n",
    "                Sigmoid,\n",
    "                generate_weights_and_biases(\n",
    "                    len(uncertain_inputs.values),\n",
    "                    construct_out_features_counts(\n",
    "                        len(uncertain_inputs.values), depth=depth\n",
    "                    ),\n",
    "                    seed,\n",
    "                ),\n",
    "            )\n",
    "            optimization = RobustnessVerification(linear_inclusion)\n",
    "            optimization.model.hideOutput()\n",
    "            optimization.solve()\n",
    "            if optimization.model.getSols():\n",
    "                valid_seeds[ValidCombinationForZeMA(size_scaler, depth)] = seed\n",
    "                break\n",
    "sleep(0.5)\n",
    "print(f\"valid seeds: {valid_seeds}\")"
   ]
  },
  {
   "cell_type": "markdown",
   "source": [
    "## Solution to the linear optimization problem"
   ],
   "metadata": {
    "collapsed": false
   }
  },
  {
   "cell_type": "code",
   "execution_count": 23,
   "outputs": [],
   "source": [
    "zema_data = ZeMASamples(1, size_scaler=1, normalize=True, idx_start=0)\n",
    "uncertain_inputs = UncertainInputs(\n",
    "    UncertainArray(zema_data.values[0][:2], zema_data.uncertainties[0][:2])\n",
    ")\n",
    "linear_inclusion = LinearInclusion(\n",
    "    uncertain_inputs,\n",
    "    Sigmoid,\n",
    "    generate_weights_and_biases(\n",
    "        len(uncertain_inputs.values),\n",
    "        construct_out_features_counts(\n",
    "            len(uncertain_inputs.values), depth=1\n",
    "        ),\n",
    "        seed=2,\n",
    "    ),\n",
    ")"
   ],
   "metadata": {
    "collapsed": false
   }
  },
  {
   "cell_type": "code",
   "execution_count": 24,
   "outputs": [
    {
     "name": "stdout",
     "output_type": "stream",
     "text": [
      "['x_0^(0): -1.1688331982839295', 'x_1^(0): -1.393796995951563', 'x_0^(1): 0.8581344384400857', 'x_1^(1): 0.4985904236486674', 'inf r_0^(1): 0.0', 'sup r_0^(1): 0.3581413720400519', 'inf r_1^(1): 0.0', 'sup r_1^(1): -0.0', '\\n']presolving:\n",
      "(round 1, fast)       4 del vars, 3 del conss, 0 add conss, 9 chg bounds, 0 chg sides, 0 chg coeffs, 0 upgd conss, 0 impls, 0 clqs\n",
      "(round 2, fast)       6 del vars, 3 del conss, 0 add conss, 10 chg bounds, 0 chg sides, 0 chg coeffs, 0 upgd conss, 0 impls, 0 clqs\n",
      "(round 3, fast)       6 del vars, 3 del conss, 0 add conss, 10 chg bounds, 1 chg sides, 0 chg coeffs, 0 upgd conss, 0 impls, 0 clqs\n",
      "(round 4, fast)       6 del vars, 3 del conss, 0 add conss, 12 chg bounds, 1 chg sides, 0 chg coeffs, 0 upgd conss, 0 impls, 0 clqs\n",
      "(round 5, fast)       7 del vars, 4 del conss, 0 add conss, 12 chg bounds, 1 chg sides, 0 chg coeffs, 0 upgd conss, 0 impls, 0 clqs\n",
      "(round 6, fast)       8 del vars, 5 del conss, 0 add conss, 12 chg bounds, 1 chg sides, 0 chg coeffs, 0 upgd conss, 0 impls, 0 clqs\n",
      "(round 7, fast)       9 del vars, 5 del conss, 0 add conss, 12 chg bounds, 1 chg sides, 0 chg coeffs, 0 upgd conss, 0 impls, 0 clqs\n",
      "(round 8, fast)       10 del vars, 6 del conss, 0 add conss, 12 chg bounds, 2 chg sides, 0 chg coeffs, 0 upgd conss, 0 impls, 0 clqs\n",
      "presolving (9 rounds: 9 fast, 1 medium, 1 exhaustive):\n",
      " 11 deleted vars, 7 deleted constraints, 0 added constraints, 12 tightened bounds, 0 added holes, 3 changed sides, 0 changed coefficients\n",
      " 0 implications, 0 cliques\n",
      "transformed 1/1 original solutions to the transformed problem space\n",
      "Presolving Time: 0.00\n",
      "\n",
      "SCIP Status        : problem is solved [optimal solution found]\n",
      "Solving Time (sec) : 0.00\n",
      "Solving Nodes      : 0\n",
      "Primal Bound       : +3.59544014791418e-01 (1 solutions)\n",
      "Dual Bound         : +3.59544014791418e-01\n",
      "Gap                : 0.00 %\n",
      "\n"
     ]
    }
   ],
   "source": [
    "optimization = RobustnessVerification(linear_inclusion)\n",
    "solution: str = optimization.solve()\n",
    "print(solution)"
   ],
   "metadata": {
    "collapsed": false
   }
  },
  {
   "cell_type": "markdown",
   "source": [
    "### Extract and prepare linear inclusion parameters"
   ],
   "metadata": {
    "collapsed": false
   }
  },
  {
   "cell_type": "code",
   "execution_count": 83,
   "outputs": [],
   "source": [
    "def _construct_edge_idxs(\n",
    "    x_coords: NDArray[np.double], y_coords: NDArray[np.double]\n",
    ") -> NDArray[np.double]:\n",
    "    \"\"\"Build two-dimensional vector of x and y coordinates along the edges of input vectors\n",
    "\n",
    "    The edges will be parallel to x and y axes.\n",
    "    \"\"\"\n",
    "    assert_equal(len(x_coords), len(y_coords))\n",
    "    return np.vstack(\n",
    "        (\n",
    "            np.concatenate(\n",
    "                (\n",
    "                    x_coords[x_coords == x_coords.min(initial=np.infty)].repeat(len(y_coords)),\n",
    "                    x_coords[\n",
    "                        np.logical_and(\n",
    "                            x_coords != x_coords.min(initial=np.infty), x_coords != x_coords.max(initial=-np.infty)\n",
    "                        )\n",
    "                    ],\n",
    "                    x_coords[x_coords == x_coords.max(initial=-np.infty)].repeat(len(y_coords)),\n",
    "                    x_coords[\n",
    "                        np.logical_and(\n",
    "                            x_coords != x_coords.min(initial=np.infty), x_coords != x_coords.max(initial=-np.infty)\n",
    "                        )\n",
    "                    ],\n",
    "                    x_coords[0:1],\n",
    "                )\n",
    "            ),\n",
    "            np.concatenate(\n",
    "                (\n",
    "                    y_coords,\n",
    "                    np.repeat([y_coords.max(initial=-np.infty)], len(x_coords) - 2),\n",
    "                    y_coords[-1::-1],\n",
    "                    np.repeat([y_coords.min(initial=np.infty)], len(x_coords) - 2),\n",
    "                    y_coords[0:1],\n",
    "                )\n",
    "            ),\n",
    "        )\n",
    "    )"
   ],
   "metadata": {
    "collapsed": false
   }
  },
  {
   "cell_type": "code",
   "execution_count": 84,
   "outputs": [],
   "source": [
    "theta = dict()\n",
    "theta_0_0 = linear_inclusion.theta[0][0][0]\n",
    "theta_1_0 = linear_inclusion.theta[0][1][0]\n",
    "theta_0 = _construct_edge_idxs(np.array(theta_0_0), np.array(theta_1_0))\n",
    "theta_0_1 = linear_inclusion.theta[1][0][0]\n",
    "theta_1_1 = linear_inclusion.theta[1][1][0]\n",
    "theta_1 = _construct_edge_idxs(np.array(theta_0_1), np.array(theta_1_1))\n",
    "z_0_1 = linear_inclusion.z_is[0][0][0]\n",
    "z_1_1 = linear_inclusion.z_is[0][1][0]\n",
    "xi_0_1 = linear_inclusion.xi_is[0][0]\n",
    "xi_1_1 = linear_inclusion.xi_is[0][1]\n",
    "xi_1 = np.vstack((xi_0_1, xi_1_1))\n",
    "assert_equal(xi_1.shape, (2, 1))\n",
    "if optimization.model.getSols():\n",
    "    lower_r_0_1 = optimization.model.getVal(optimization.inf_r_is[1, 0])\n",
    "    lower_r_1_1 = optimization.model.getVal(optimization.inf_r_is[1, 1])\n",
    "    upper_r_i_0_1 = optimization.model.getVal(optimization.sup_r_is[1, 0])\n",
    "    upper_r_i_1_1 = optimization.model.getVal(optimization.sup_r_is[1, 1])\n",
    "else:\n",
    "    lower_r_0_1 = linear_inclusion.r_is[0][0][0].inf\n",
    "    lower_r_1_1 = linear_inclusion.r_is[0][1][0].inf\n",
    "    upper_r_i_0_1 = linear_inclusion.r_is[0][0][0].sup\n",
    "    upper_r_i_1_1 = linear_inclusion.r_is[0][1][0].sup\n",
    "lower_r_1 = np.vstack((lower_r_0_1, lower_r_1_1))\n",
    "assert_equal(lower_r_1.shape, (2, 1))\n",
    "upper_r_1 = np.vstack((upper_r_i_0_1, upper_r_i_1_1))\n",
    "assert_equal(upper_r_1.shape, (2, 1))\n",
    "points_per_dim = 20\n",
    "points_per_edges = 4 * (points_per_dim - 1) + 1\n",
    "x_0 = _construct_edge_idxs(\n",
    "    np.linspace(theta_0_0.inf, theta_0_0.sup, points_per_dim),\n",
    "    np.linspace(theta_1_0.inf, theta_1_0.sup, points_per_dim),\n",
    ")\n",
    "assert_equal(x_0.shape, (2, points_per_edges))\n",
    "x_1 = _construct_edge_idxs(\n",
    "    np.linspace(theta_0_1.inf, theta_0_1.sup, points_per_dim),\n",
    "    np.linspace(theta_1_1.inf, theta_1_1.sup, points_per_dim),\n",
    ")\n",
    "assert_equal(x_1.shape, (2, points_per_edges))"
   ],
   "metadata": {
    "collapsed": false
   }
  },
  {
   "cell_type": "code",
   "execution_count": 85,
   "outputs": [
    {
     "data": {
      "text/plain": "((interval([-5.1606377858191035, 4.074591920636097]),\n  interval([-1.393796995951563, 0.6986749809092526])),\n (interval([0.12899096008497263, 0.8581344384400857]),\n  interval([0.048269106479496726, 0.9113382321424661])))"
     },
     "execution_count": 85,
     "metadata": {},
     "output_type": "execute_result"
    }
   ],
   "source": [
    "linear_inclusion.theta"
   ],
   "metadata": {
    "collapsed": false
   }
  },
  {
   "cell_type": "code",
   "execution_count": 86,
   "outputs": [
    {
     "data": {
      "application/vnd.plotly.v1+json": {
       "data": [
        {
         "fill": "toself",
         "mode": "none",
         "name": "$\\Large{x^{(0)}}$",
         "x": [
          -5.1606377858191035,
          -5.1606377858191035,
          -5.1606377858191035,
          -5.1606377858191035,
          -5.1606377858191035,
          -5.1606377858191035,
          -5.1606377858191035,
          -5.1606377858191035,
          -5.1606377858191035,
          -5.1606377858191035,
          -5.1606377858191035,
          -5.1606377858191035,
          -5.1606377858191035,
          -5.1606377858191035,
          -5.1606377858191035,
          -5.1606377858191035,
          -5.1606377858191035,
          -5.1606377858191035,
          -5.1606377858191035,
          -5.1606377858191035,
          -4.674573064426724,
          -4.1885083430343455,
          -3.7024436216419665,
          -3.2163789002495875,
          -2.7303141788572085,
          -2.2442494574648295,
          -1.7581847360724505,
          -1.2721200146800715,
          -0.7860552932876921,
          -0.29999057189531353,
          0.18607414949706502,
          0.6721388708894445,
          1.158203592281824,
          1.6442683136742025,
          2.130333035066581,
          2.6163977564589604,
          3.10246247785134,
          3.5885271992437193,
          4.074591920636097,
          4.074591920636097,
          4.074591920636097,
          4.074591920636097,
          4.074591920636097,
          4.074591920636097,
          4.074591920636097,
          4.074591920636097,
          4.074591920636097,
          4.074591920636097,
          4.074591920636097,
          4.074591920636097,
          4.074591920636097,
          4.074591920636097,
          4.074591920636097,
          4.074591920636097,
          4.074591920636097,
          4.074591920636097,
          4.074591920636097,
          4.074591920636097,
          -4.674573064426724,
          -4.1885083430343455,
          -3.7024436216419665,
          -3.2163789002495875,
          -2.7303141788572085,
          -2.2442494574648295,
          -1.7581847360724505,
          -1.2721200146800715,
          -0.7860552932876921,
          -0.29999057189531353,
          0.18607414949706502,
          0.6721388708894445,
          1.158203592281824,
          1.6442683136742025,
          2.130333035066581,
          2.6163977564589604,
          3.10246247785134,
          3.5885271992437193,
          -5.1606377858191035
         ],
         "y": [
          -1.393796995951563,
          -1.283666891906257,
          -1.1735367878609508,
          -1.0634066838156448,
          -0.9532765797703386,
          -0.8431464757250327,
          -0.7330163716797266,
          -0.6228862676344205,
          -0.5127561635891144,
          -0.40262605954380826,
          -0.29249595549850227,
          -0.18236585145319606,
          -0.07223574740789007,
          0.03789435663741614,
          0.14802446068272213,
          0.25815456472802834,
          0.3682846687733343,
          0.4784147728186403,
          0.5885448768639465,
          0.6986749809092526,
          0.6986749809092526,
          0.6986749809092526,
          0.6986749809092526,
          0.6986749809092526,
          0.6986749809092526,
          0.6986749809092526,
          0.6986749809092526,
          0.6986749809092526,
          0.6986749809092526,
          0.6986749809092526,
          0.6986749809092526,
          0.6986749809092526,
          0.6986749809092526,
          0.6986749809092526,
          0.6986749809092526,
          0.6986749809092526,
          0.6986749809092526,
          0.6986749809092526,
          0.6986749809092526,
          0.5885448768639465,
          0.4784147728186403,
          0.3682846687733343,
          0.25815456472802834,
          0.14802446068272213,
          0.03789435663741614,
          -0.07223574740789007,
          -0.18236585145319606,
          -0.29249595549850227,
          -0.40262605954380826,
          -0.5127561635891144,
          -0.6228862676344205,
          -0.7330163716797266,
          -0.8431464757250327,
          -0.9532765797703386,
          -1.0634066838156448,
          -1.1735367878609508,
          -1.283666891906257,
          -1.393796995951563,
          -1.393796995951563,
          -1.393796995951563,
          -1.393796995951563,
          -1.393796995951563,
          -1.393796995951563,
          -1.393796995951563,
          -1.393796995951563,
          -1.393796995951563,
          -1.393796995951563,
          -1.393796995951563,
          -1.393796995951563,
          -1.393796995951563,
          -1.393796995951563,
          -1.393796995951563,
          -1.393796995951563,
          -1.393796995951563,
          -1.393796995951563,
          -1.393796995951563,
          -1.393796995951563
         ],
         "type": "scatter"
        }
       ],
       "layout": {
        "template": {
         "data": {
          "histogram2dcontour": [
           {
            "type": "histogram2dcontour",
            "colorbar": {
             "outlinewidth": 0,
             "ticks": ""
            },
            "colorscale": [
             [
              0.0,
              "#0d0887"
             ],
             [
              0.1111111111111111,
              "#46039f"
             ],
             [
              0.2222222222222222,
              "#7201a8"
             ],
             [
              0.3333333333333333,
              "#9c179e"
             ],
             [
              0.4444444444444444,
              "#bd3786"
             ],
             [
              0.5555555555555556,
              "#d8576b"
             ],
             [
              0.6666666666666666,
              "#ed7953"
             ],
             [
              0.7777777777777778,
              "#fb9f3a"
             ],
             [
              0.8888888888888888,
              "#fdca26"
             ],
             [
              1.0,
              "#f0f921"
             ]
            ]
           }
          ],
          "choropleth": [
           {
            "type": "choropleth",
            "colorbar": {
             "outlinewidth": 0,
             "ticks": ""
            }
           }
          ],
          "histogram2d": [
           {
            "type": "histogram2d",
            "colorbar": {
             "outlinewidth": 0,
             "ticks": ""
            },
            "colorscale": [
             [
              0.0,
              "#0d0887"
             ],
             [
              0.1111111111111111,
              "#46039f"
             ],
             [
              0.2222222222222222,
              "#7201a8"
             ],
             [
              0.3333333333333333,
              "#9c179e"
             ],
             [
              0.4444444444444444,
              "#bd3786"
             ],
             [
              0.5555555555555556,
              "#d8576b"
             ],
             [
              0.6666666666666666,
              "#ed7953"
             ],
             [
              0.7777777777777778,
              "#fb9f3a"
             ],
             [
              0.8888888888888888,
              "#fdca26"
             ],
             [
              1.0,
              "#f0f921"
             ]
            ]
           }
          ],
          "heatmap": [
           {
            "type": "heatmap",
            "colorbar": {
             "outlinewidth": 0,
             "ticks": ""
            },
            "colorscale": [
             [
              0.0,
              "#0d0887"
             ],
             [
              0.1111111111111111,
              "#46039f"
             ],
             [
              0.2222222222222222,
              "#7201a8"
             ],
             [
              0.3333333333333333,
              "#9c179e"
             ],
             [
              0.4444444444444444,
              "#bd3786"
             ],
             [
              0.5555555555555556,
              "#d8576b"
             ],
             [
              0.6666666666666666,
              "#ed7953"
             ],
             [
              0.7777777777777778,
              "#fb9f3a"
             ],
             [
              0.8888888888888888,
              "#fdca26"
             ],
             [
              1.0,
              "#f0f921"
             ]
            ]
           }
          ],
          "heatmapgl": [
           {
            "type": "heatmapgl",
            "colorbar": {
             "outlinewidth": 0,
             "ticks": ""
            },
            "colorscale": [
             [
              0.0,
              "#0d0887"
             ],
             [
              0.1111111111111111,
              "#46039f"
             ],
             [
              0.2222222222222222,
              "#7201a8"
             ],
             [
              0.3333333333333333,
              "#9c179e"
             ],
             [
              0.4444444444444444,
              "#bd3786"
             ],
             [
              0.5555555555555556,
              "#d8576b"
             ],
             [
              0.6666666666666666,
              "#ed7953"
             ],
             [
              0.7777777777777778,
              "#fb9f3a"
             ],
             [
              0.8888888888888888,
              "#fdca26"
             ],
             [
              1.0,
              "#f0f921"
             ]
            ]
           }
          ],
          "contourcarpet": [
           {
            "type": "contourcarpet",
            "colorbar": {
             "outlinewidth": 0,
             "ticks": ""
            }
           }
          ],
          "contour": [
           {
            "type": "contour",
            "colorbar": {
             "outlinewidth": 0,
             "ticks": ""
            },
            "colorscale": [
             [
              0.0,
              "#0d0887"
             ],
             [
              0.1111111111111111,
              "#46039f"
             ],
             [
              0.2222222222222222,
              "#7201a8"
             ],
             [
              0.3333333333333333,
              "#9c179e"
             ],
             [
              0.4444444444444444,
              "#bd3786"
             ],
             [
              0.5555555555555556,
              "#d8576b"
             ],
             [
              0.6666666666666666,
              "#ed7953"
             ],
             [
              0.7777777777777778,
              "#fb9f3a"
             ],
             [
              0.8888888888888888,
              "#fdca26"
             ],
             [
              1.0,
              "#f0f921"
             ]
            ]
           }
          ],
          "surface": [
           {
            "type": "surface",
            "colorbar": {
             "outlinewidth": 0,
             "ticks": ""
            },
            "colorscale": [
             [
              0.0,
              "#0d0887"
             ],
             [
              0.1111111111111111,
              "#46039f"
             ],
             [
              0.2222222222222222,
              "#7201a8"
             ],
             [
              0.3333333333333333,
              "#9c179e"
             ],
             [
              0.4444444444444444,
              "#bd3786"
             ],
             [
              0.5555555555555556,
              "#d8576b"
             ],
             [
              0.6666666666666666,
              "#ed7953"
             ],
             [
              0.7777777777777778,
              "#fb9f3a"
             ],
             [
              0.8888888888888888,
              "#fdca26"
             ],
             [
              1.0,
              "#f0f921"
             ]
            ]
           }
          ],
          "mesh3d": [
           {
            "type": "mesh3d",
            "colorbar": {
             "outlinewidth": 0,
             "ticks": ""
            }
           }
          ],
          "scatter": [
           {
            "marker": {
             "line": {
              "color": "#283442"
             }
            },
            "type": "scatter"
           }
          ],
          "parcoords": [
           {
            "type": "parcoords",
            "line": {
             "colorbar": {
              "outlinewidth": 0,
              "ticks": ""
             }
            }
           }
          ],
          "scatterpolargl": [
           {
            "type": "scatterpolargl",
            "marker": {
             "colorbar": {
              "outlinewidth": 0,
              "ticks": ""
             }
            }
           }
          ],
          "bar": [
           {
            "error_x": {
             "color": "#f2f5fa"
            },
            "error_y": {
             "color": "#f2f5fa"
            },
            "marker": {
             "line": {
              "color": "rgb(17,17,17)",
              "width": 0.5
             },
             "pattern": {
              "fillmode": "overlay",
              "size": 10,
              "solidity": 0.2
             }
            },
            "type": "bar"
           }
          ],
          "scattergeo": [
           {
            "type": "scattergeo",
            "marker": {
             "colorbar": {
              "outlinewidth": 0,
              "ticks": ""
             }
            }
           }
          ],
          "scatterpolar": [
           {
            "type": "scatterpolar",
            "marker": {
             "colorbar": {
              "outlinewidth": 0,
              "ticks": ""
             }
            }
           }
          ],
          "histogram": [
           {
            "marker": {
             "pattern": {
              "fillmode": "overlay",
              "size": 10,
              "solidity": 0.2
             }
            },
            "type": "histogram"
           }
          ],
          "scattergl": [
           {
            "marker": {
             "line": {
              "color": "#283442"
             }
            },
            "type": "scattergl"
           }
          ],
          "scatter3d": [
           {
            "type": "scatter3d",
            "line": {
             "colorbar": {
              "outlinewidth": 0,
              "ticks": ""
             }
            },
            "marker": {
             "colorbar": {
              "outlinewidth": 0,
              "ticks": ""
             }
            }
           }
          ],
          "scattermapbox": [
           {
            "type": "scattermapbox",
            "marker": {
             "colorbar": {
              "outlinewidth": 0,
              "ticks": ""
             }
            }
           }
          ],
          "scatterternary": [
           {
            "type": "scatterternary",
            "marker": {
             "colorbar": {
              "outlinewidth": 0,
              "ticks": ""
             }
            }
           }
          ],
          "scattercarpet": [
           {
            "type": "scattercarpet",
            "marker": {
             "colorbar": {
              "outlinewidth": 0,
              "ticks": ""
             }
            }
           }
          ],
          "carpet": [
           {
            "aaxis": {
             "endlinecolor": "#A2B1C6",
             "gridcolor": "#506784",
             "linecolor": "#506784",
             "minorgridcolor": "#506784",
             "startlinecolor": "#A2B1C6"
            },
            "baxis": {
             "endlinecolor": "#A2B1C6",
             "gridcolor": "#506784",
             "linecolor": "#506784",
             "minorgridcolor": "#506784",
             "startlinecolor": "#A2B1C6"
            },
            "type": "carpet"
           }
          ],
          "table": [
           {
            "cells": {
             "fill": {
              "color": "#506784"
             },
             "line": {
              "color": "rgb(17,17,17)"
             }
            },
            "header": {
             "fill": {
              "color": "#2a3f5f"
             },
             "line": {
              "color": "rgb(17,17,17)"
             }
            },
            "type": "table"
           }
          ],
          "barpolar": [
           {
            "marker": {
             "line": {
              "color": "rgb(17,17,17)",
              "width": 0.5
             },
             "pattern": {
              "fillmode": "overlay",
              "size": 10,
              "solidity": 0.2
             }
            },
            "type": "barpolar"
           }
          ],
          "pie": [
           {
            "automargin": true,
            "type": "pie"
           }
          ]
         },
         "layout": {
          "autotypenumbers": "strict",
          "colorway": [
           "#636efa",
           "#EF553B",
           "#00cc96",
           "#ab63fa",
           "#FFA15A",
           "#19d3f3",
           "#FF6692",
           "#B6E880",
           "#FF97FF",
           "#FECB52"
          ],
          "font": {
           "color": "#f2f5fa"
          },
          "hovermode": "closest",
          "hoverlabel": {
           "align": "left"
          },
          "paper_bgcolor": "rgb(17,17,17)",
          "plot_bgcolor": "rgb(17,17,17)",
          "polar": {
           "bgcolor": "rgb(17,17,17)",
           "angularaxis": {
            "gridcolor": "#506784",
            "linecolor": "#506784",
            "ticks": ""
           },
           "radialaxis": {
            "gridcolor": "#506784",
            "linecolor": "#506784",
            "ticks": ""
           }
          },
          "ternary": {
           "bgcolor": "rgb(17,17,17)",
           "aaxis": {
            "gridcolor": "#506784",
            "linecolor": "#506784",
            "ticks": ""
           },
           "baxis": {
            "gridcolor": "#506784",
            "linecolor": "#506784",
            "ticks": ""
           },
           "caxis": {
            "gridcolor": "#506784",
            "linecolor": "#506784",
            "ticks": ""
           }
          },
          "coloraxis": {
           "colorbar": {
            "outlinewidth": 0,
            "ticks": ""
           }
          },
          "colorscale": {
           "sequential": [
            [
             0.0,
             "#0d0887"
            ],
            [
             0.1111111111111111,
             "#46039f"
            ],
            [
             0.2222222222222222,
             "#7201a8"
            ],
            [
             0.3333333333333333,
             "#9c179e"
            ],
            [
             0.4444444444444444,
             "#bd3786"
            ],
            [
             0.5555555555555556,
             "#d8576b"
            ],
            [
             0.6666666666666666,
             "#ed7953"
            ],
            [
             0.7777777777777778,
             "#fb9f3a"
            ],
            [
             0.8888888888888888,
             "#fdca26"
            ],
            [
             1.0,
             "#f0f921"
            ]
           ],
           "sequentialminus": [
            [
             0.0,
             "#0d0887"
            ],
            [
             0.1111111111111111,
             "#46039f"
            ],
            [
             0.2222222222222222,
             "#7201a8"
            ],
            [
             0.3333333333333333,
             "#9c179e"
            ],
            [
             0.4444444444444444,
             "#bd3786"
            ],
            [
             0.5555555555555556,
             "#d8576b"
            ],
            [
             0.6666666666666666,
             "#ed7953"
            ],
            [
             0.7777777777777778,
             "#fb9f3a"
            ],
            [
             0.8888888888888888,
             "#fdca26"
            ],
            [
             1.0,
             "#f0f921"
            ]
           ],
           "diverging": [
            [
             0,
             "#8e0152"
            ],
            [
             0.1,
             "#c51b7d"
            ],
            [
             0.2,
             "#de77ae"
            ],
            [
             0.3,
             "#f1b6da"
            ],
            [
             0.4,
             "#fde0ef"
            ],
            [
             0.5,
             "#f7f7f7"
            ],
            [
             0.6,
             "#e6f5d0"
            ],
            [
             0.7,
             "#b8e186"
            ],
            [
             0.8,
             "#7fbc41"
            ],
            [
             0.9,
             "#4d9221"
            ],
            [
             1,
             "#276419"
            ]
           ]
          },
          "xaxis": {
           "gridcolor": "#283442",
           "linecolor": "#506784",
           "ticks": "",
           "title": {
            "standoff": 15
           },
           "zerolinecolor": "#283442",
           "automargin": true,
           "zerolinewidth": 2
          },
          "yaxis": {
           "gridcolor": "#283442",
           "linecolor": "#506784",
           "ticks": "",
           "title": {
            "standoff": 15
           },
           "zerolinecolor": "#283442",
           "automargin": true,
           "zerolinewidth": 2
          },
          "scene": {
           "xaxis": {
            "backgroundcolor": "rgb(17,17,17)",
            "gridcolor": "#506784",
            "linecolor": "#506784",
            "showbackground": true,
            "ticks": "",
            "zerolinecolor": "#C8D4E3",
            "gridwidth": 2
           },
           "yaxis": {
            "backgroundcolor": "rgb(17,17,17)",
            "gridcolor": "#506784",
            "linecolor": "#506784",
            "showbackground": true,
            "ticks": "",
            "zerolinecolor": "#C8D4E3",
            "gridwidth": 2
           },
           "zaxis": {
            "backgroundcolor": "rgb(17,17,17)",
            "gridcolor": "#506784",
            "linecolor": "#506784",
            "showbackground": true,
            "ticks": "",
            "zerolinecolor": "#C8D4E3",
            "gridwidth": 2
           }
          },
          "shapedefaults": {
           "line": {
            "color": "#f2f5fa"
           }
          },
          "annotationdefaults": {
           "arrowcolor": "#f2f5fa",
           "arrowhead": 0,
           "arrowwidth": 1
          },
          "geo": {
           "bgcolor": "rgb(17,17,17)",
           "landcolor": "rgb(17,17,17)",
           "subunitcolor": "#506784",
           "showland": true,
           "showlakes": true,
           "lakecolor": "rgb(17,17,17)"
          },
          "title": {
           "x": 0.05
          },
          "updatemenudefaults": {
           "bgcolor": "#506784",
           "borderwidth": 0
          },
          "sliderdefaults": {
           "bgcolor": "#C8D4E3",
           "borderwidth": 1,
           "bordercolor": "rgb(17,17,17)",
           "tickwidth": 0
          },
          "mapbox": {
           "style": "dark"
          }
         }
        },
        "title": {
         "text": "Inputs",
         "y": 0.9,
         "x": 0.5,
         "xanchor": "center",
         "yanchor": "top"
        },
        "font": {
         "size": 20
        },
        "legend": {
         "font": {
          "size": 30
         },
         "yanchor": "top",
         "y": 1.05,
         "xanchor": "left",
         "x": 0.01
        },
        "paper_bgcolor": "#1E1F22",
        "xaxis": {
         "title": {
          "text": "1st component"
         }
        },
        "yaxis": {
         "title": {
          "text": "2nd component"
         },
         "scaleanchor": "x",
         "scaleratio": 1
        },
        "autosize": false,
        "width": 1300,
        "height": 1300,
        "showlegend": true,
        "plot_bgcolor": "#1E1F22"
       },
       "config": {
        "plotlyServerURL": "https://plot.ly"
       }
      },
      "text/html": "<div>                            <div id=\"2fcf8735-2e90-4545-91a8-4300f2edd6f1\" class=\"plotly-graph-div\" style=\"height:1300px; width:1300px;\"></div>            <script type=\"text/javascript\">                require([\"plotly\"], function(Plotly) {                    window.PLOTLYENV=window.PLOTLYENV || {};                                    if (document.getElementById(\"2fcf8735-2e90-4545-91a8-4300f2edd6f1\")) {                    Plotly.newPlot(                        \"2fcf8735-2e90-4545-91a8-4300f2edd6f1\",                        [{\"fill\":\"toself\",\"mode\":\"none\",\"name\":\"$\\\\Large{x^{(0)}}$\",\"x\":[-5.1606377858191035,-5.1606377858191035,-5.1606377858191035,-5.1606377858191035,-5.1606377858191035,-5.1606377858191035,-5.1606377858191035,-5.1606377858191035,-5.1606377858191035,-5.1606377858191035,-5.1606377858191035,-5.1606377858191035,-5.1606377858191035,-5.1606377858191035,-5.1606377858191035,-5.1606377858191035,-5.1606377858191035,-5.1606377858191035,-5.1606377858191035,-5.1606377858191035,-4.674573064426724,-4.1885083430343455,-3.7024436216419665,-3.2163789002495875,-2.7303141788572085,-2.2442494574648295,-1.7581847360724505,-1.2721200146800715,-0.7860552932876921,-0.29999057189531353,0.18607414949706502,0.6721388708894445,1.158203592281824,1.6442683136742025,2.130333035066581,2.6163977564589604,3.10246247785134,3.5885271992437193,4.074591920636097,4.074591920636097,4.074591920636097,4.074591920636097,4.074591920636097,4.074591920636097,4.074591920636097,4.074591920636097,4.074591920636097,4.074591920636097,4.074591920636097,4.074591920636097,4.074591920636097,4.074591920636097,4.074591920636097,4.074591920636097,4.074591920636097,4.074591920636097,4.074591920636097,4.074591920636097,-4.674573064426724,-4.1885083430343455,-3.7024436216419665,-3.2163789002495875,-2.7303141788572085,-2.2442494574648295,-1.7581847360724505,-1.2721200146800715,-0.7860552932876921,-0.29999057189531353,0.18607414949706502,0.6721388708894445,1.158203592281824,1.6442683136742025,2.130333035066581,2.6163977564589604,3.10246247785134,3.5885271992437193,-5.1606377858191035],\"y\":[-1.393796995951563,-1.283666891906257,-1.1735367878609508,-1.0634066838156448,-0.9532765797703386,-0.8431464757250327,-0.7330163716797266,-0.6228862676344205,-0.5127561635891144,-0.40262605954380826,-0.29249595549850227,-0.18236585145319606,-0.07223574740789007,0.03789435663741614,0.14802446068272213,0.25815456472802834,0.3682846687733343,0.4784147728186403,0.5885448768639465,0.6986749809092526,0.6986749809092526,0.6986749809092526,0.6986749809092526,0.6986749809092526,0.6986749809092526,0.6986749809092526,0.6986749809092526,0.6986749809092526,0.6986749809092526,0.6986749809092526,0.6986749809092526,0.6986749809092526,0.6986749809092526,0.6986749809092526,0.6986749809092526,0.6986749809092526,0.6986749809092526,0.6986749809092526,0.6986749809092526,0.5885448768639465,0.4784147728186403,0.3682846687733343,0.25815456472802834,0.14802446068272213,0.03789435663741614,-0.07223574740789007,-0.18236585145319606,-0.29249595549850227,-0.40262605954380826,-0.5127561635891144,-0.6228862676344205,-0.7330163716797266,-0.8431464757250327,-0.9532765797703386,-1.0634066838156448,-1.1735367878609508,-1.283666891906257,-1.393796995951563,-1.393796995951563,-1.393796995951563,-1.393796995951563,-1.393796995951563,-1.393796995951563,-1.393796995951563,-1.393796995951563,-1.393796995951563,-1.393796995951563,-1.393796995951563,-1.393796995951563,-1.393796995951563,-1.393796995951563,-1.393796995951563,-1.393796995951563,-1.393796995951563,-1.393796995951563,-1.393796995951563,-1.393796995951563],\"type\":\"scatter\"}],                        {\"template\":{\"data\":{\"histogram2dcontour\":[{\"type\":\"histogram2dcontour\",\"colorbar\":{\"outlinewidth\":0,\"ticks\":\"\"},\"colorscale\":[[0.0,\"#0d0887\"],[0.1111111111111111,\"#46039f\"],[0.2222222222222222,\"#7201a8\"],[0.3333333333333333,\"#9c179e\"],[0.4444444444444444,\"#bd3786\"],[0.5555555555555556,\"#d8576b\"],[0.6666666666666666,\"#ed7953\"],[0.7777777777777778,\"#fb9f3a\"],[0.8888888888888888,\"#fdca26\"],[1.0,\"#f0f921\"]]}],\"choropleth\":[{\"type\":\"choropleth\",\"colorbar\":{\"outlinewidth\":0,\"ticks\":\"\"}}],\"histogram2d\":[{\"type\":\"histogram2d\",\"colorbar\":{\"outlinewidth\":0,\"ticks\":\"\"},\"colorscale\":[[0.0,\"#0d0887\"],[0.1111111111111111,\"#46039f\"],[0.2222222222222222,\"#7201a8\"],[0.3333333333333333,\"#9c179e\"],[0.4444444444444444,\"#bd3786\"],[0.5555555555555556,\"#d8576b\"],[0.6666666666666666,\"#ed7953\"],[0.7777777777777778,\"#fb9f3a\"],[0.8888888888888888,\"#fdca26\"],[1.0,\"#f0f921\"]]}],\"heatmap\":[{\"type\":\"heatmap\",\"colorbar\":{\"outlinewidth\":0,\"ticks\":\"\"},\"colorscale\":[[0.0,\"#0d0887\"],[0.1111111111111111,\"#46039f\"],[0.2222222222222222,\"#7201a8\"],[0.3333333333333333,\"#9c179e\"],[0.4444444444444444,\"#bd3786\"],[0.5555555555555556,\"#d8576b\"],[0.6666666666666666,\"#ed7953\"],[0.7777777777777778,\"#fb9f3a\"],[0.8888888888888888,\"#fdca26\"],[1.0,\"#f0f921\"]]}],\"heatmapgl\":[{\"type\":\"heatmapgl\",\"colorbar\":{\"outlinewidth\":0,\"ticks\":\"\"},\"colorscale\":[[0.0,\"#0d0887\"],[0.1111111111111111,\"#46039f\"],[0.2222222222222222,\"#7201a8\"],[0.3333333333333333,\"#9c179e\"],[0.4444444444444444,\"#bd3786\"],[0.5555555555555556,\"#d8576b\"],[0.6666666666666666,\"#ed7953\"],[0.7777777777777778,\"#fb9f3a\"],[0.8888888888888888,\"#fdca26\"],[1.0,\"#f0f921\"]]}],\"contourcarpet\":[{\"type\":\"contourcarpet\",\"colorbar\":{\"outlinewidth\":0,\"ticks\":\"\"}}],\"contour\":[{\"type\":\"contour\",\"colorbar\":{\"outlinewidth\":0,\"ticks\":\"\"},\"colorscale\":[[0.0,\"#0d0887\"],[0.1111111111111111,\"#46039f\"],[0.2222222222222222,\"#7201a8\"],[0.3333333333333333,\"#9c179e\"],[0.4444444444444444,\"#bd3786\"],[0.5555555555555556,\"#d8576b\"],[0.6666666666666666,\"#ed7953\"],[0.7777777777777778,\"#fb9f3a\"],[0.8888888888888888,\"#fdca26\"],[1.0,\"#f0f921\"]]}],\"surface\":[{\"type\":\"surface\",\"colorbar\":{\"outlinewidth\":0,\"ticks\":\"\"},\"colorscale\":[[0.0,\"#0d0887\"],[0.1111111111111111,\"#46039f\"],[0.2222222222222222,\"#7201a8\"],[0.3333333333333333,\"#9c179e\"],[0.4444444444444444,\"#bd3786\"],[0.5555555555555556,\"#d8576b\"],[0.6666666666666666,\"#ed7953\"],[0.7777777777777778,\"#fb9f3a\"],[0.8888888888888888,\"#fdca26\"],[1.0,\"#f0f921\"]]}],\"mesh3d\":[{\"type\":\"mesh3d\",\"colorbar\":{\"outlinewidth\":0,\"ticks\":\"\"}}],\"scatter\":[{\"marker\":{\"line\":{\"color\":\"#283442\"}},\"type\":\"scatter\"}],\"parcoords\":[{\"type\":\"parcoords\",\"line\":{\"colorbar\":{\"outlinewidth\":0,\"ticks\":\"\"}}}],\"scatterpolargl\":[{\"type\":\"scatterpolargl\",\"marker\":{\"colorbar\":{\"outlinewidth\":0,\"ticks\":\"\"}}}],\"bar\":[{\"error_x\":{\"color\":\"#f2f5fa\"},\"error_y\":{\"color\":\"#f2f5fa\"},\"marker\":{\"line\":{\"color\":\"rgb(17,17,17)\",\"width\":0.5},\"pattern\":{\"fillmode\":\"overlay\",\"size\":10,\"solidity\":0.2}},\"type\":\"bar\"}],\"scattergeo\":[{\"type\":\"scattergeo\",\"marker\":{\"colorbar\":{\"outlinewidth\":0,\"ticks\":\"\"}}}],\"scatterpolar\":[{\"type\":\"scatterpolar\",\"marker\":{\"colorbar\":{\"outlinewidth\":0,\"ticks\":\"\"}}}],\"histogram\":[{\"marker\":{\"pattern\":{\"fillmode\":\"overlay\",\"size\":10,\"solidity\":0.2}},\"type\":\"histogram\"}],\"scattergl\":[{\"marker\":{\"line\":{\"color\":\"#283442\"}},\"type\":\"scattergl\"}],\"scatter3d\":[{\"type\":\"scatter3d\",\"line\":{\"colorbar\":{\"outlinewidth\":0,\"ticks\":\"\"}},\"marker\":{\"colorbar\":{\"outlinewidth\":0,\"ticks\":\"\"}}}],\"scattermapbox\":[{\"type\":\"scattermapbox\",\"marker\":{\"colorbar\":{\"outlinewidth\":0,\"ticks\":\"\"}}}],\"scatterternary\":[{\"type\":\"scatterternary\",\"marker\":{\"colorbar\":{\"outlinewidth\":0,\"ticks\":\"\"}}}],\"scattercarpet\":[{\"type\":\"scattercarpet\",\"marker\":{\"colorbar\":{\"outlinewidth\":0,\"ticks\":\"\"}}}],\"carpet\":[{\"aaxis\":{\"endlinecolor\":\"#A2B1C6\",\"gridcolor\":\"#506784\",\"linecolor\":\"#506784\",\"minorgridcolor\":\"#506784\",\"startlinecolor\":\"#A2B1C6\"},\"baxis\":{\"endlinecolor\":\"#A2B1C6\",\"gridcolor\":\"#506784\",\"linecolor\":\"#506784\",\"minorgridcolor\":\"#506784\",\"startlinecolor\":\"#A2B1C6\"},\"type\":\"carpet\"}],\"table\":[{\"cells\":{\"fill\":{\"color\":\"#506784\"},\"line\":{\"color\":\"rgb(17,17,17)\"}},\"header\":{\"fill\":{\"color\":\"#2a3f5f\"},\"line\":{\"color\":\"rgb(17,17,17)\"}},\"type\":\"table\"}],\"barpolar\":[{\"marker\":{\"line\":{\"color\":\"rgb(17,17,17)\",\"width\":0.5},\"pattern\":{\"fillmode\":\"overlay\",\"size\":10,\"solidity\":0.2}},\"type\":\"barpolar\"}],\"pie\":[{\"automargin\":true,\"type\":\"pie\"}]},\"layout\":{\"autotypenumbers\":\"strict\",\"colorway\":[\"#636efa\",\"#EF553B\",\"#00cc96\",\"#ab63fa\",\"#FFA15A\",\"#19d3f3\",\"#FF6692\",\"#B6E880\",\"#FF97FF\",\"#FECB52\"],\"font\":{\"color\":\"#f2f5fa\"},\"hovermode\":\"closest\",\"hoverlabel\":{\"align\":\"left\"},\"paper_bgcolor\":\"rgb(17,17,17)\",\"plot_bgcolor\":\"rgb(17,17,17)\",\"polar\":{\"bgcolor\":\"rgb(17,17,17)\",\"angularaxis\":{\"gridcolor\":\"#506784\",\"linecolor\":\"#506784\",\"ticks\":\"\"},\"radialaxis\":{\"gridcolor\":\"#506784\",\"linecolor\":\"#506784\",\"ticks\":\"\"}},\"ternary\":{\"bgcolor\":\"rgb(17,17,17)\",\"aaxis\":{\"gridcolor\":\"#506784\",\"linecolor\":\"#506784\",\"ticks\":\"\"},\"baxis\":{\"gridcolor\":\"#506784\",\"linecolor\":\"#506784\",\"ticks\":\"\"},\"caxis\":{\"gridcolor\":\"#506784\",\"linecolor\":\"#506784\",\"ticks\":\"\"}},\"coloraxis\":{\"colorbar\":{\"outlinewidth\":0,\"ticks\":\"\"}},\"colorscale\":{\"sequential\":[[0.0,\"#0d0887\"],[0.1111111111111111,\"#46039f\"],[0.2222222222222222,\"#7201a8\"],[0.3333333333333333,\"#9c179e\"],[0.4444444444444444,\"#bd3786\"],[0.5555555555555556,\"#d8576b\"],[0.6666666666666666,\"#ed7953\"],[0.7777777777777778,\"#fb9f3a\"],[0.8888888888888888,\"#fdca26\"],[1.0,\"#f0f921\"]],\"sequentialminus\":[[0.0,\"#0d0887\"],[0.1111111111111111,\"#46039f\"],[0.2222222222222222,\"#7201a8\"],[0.3333333333333333,\"#9c179e\"],[0.4444444444444444,\"#bd3786\"],[0.5555555555555556,\"#d8576b\"],[0.6666666666666666,\"#ed7953\"],[0.7777777777777778,\"#fb9f3a\"],[0.8888888888888888,\"#fdca26\"],[1.0,\"#f0f921\"]],\"diverging\":[[0,\"#8e0152\"],[0.1,\"#c51b7d\"],[0.2,\"#de77ae\"],[0.3,\"#f1b6da\"],[0.4,\"#fde0ef\"],[0.5,\"#f7f7f7\"],[0.6,\"#e6f5d0\"],[0.7,\"#b8e186\"],[0.8,\"#7fbc41\"],[0.9,\"#4d9221\"],[1,\"#276419\"]]},\"xaxis\":{\"gridcolor\":\"#283442\",\"linecolor\":\"#506784\",\"ticks\":\"\",\"title\":{\"standoff\":15},\"zerolinecolor\":\"#283442\",\"automargin\":true,\"zerolinewidth\":2},\"yaxis\":{\"gridcolor\":\"#283442\",\"linecolor\":\"#506784\",\"ticks\":\"\",\"title\":{\"standoff\":15},\"zerolinecolor\":\"#283442\",\"automargin\":true,\"zerolinewidth\":2},\"scene\":{\"xaxis\":{\"backgroundcolor\":\"rgb(17,17,17)\",\"gridcolor\":\"#506784\",\"linecolor\":\"#506784\",\"showbackground\":true,\"ticks\":\"\",\"zerolinecolor\":\"#C8D4E3\",\"gridwidth\":2},\"yaxis\":{\"backgroundcolor\":\"rgb(17,17,17)\",\"gridcolor\":\"#506784\",\"linecolor\":\"#506784\",\"showbackground\":true,\"ticks\":\"\",\"zerolinecolor\":\"#C8D4E3\",\"gridwidth\":2},\"zaxis\":{\"backgroundcolor\":\"rgb(17,17,17)\",\"gridcolor\":\"#506784\",\"linecolor\":\"#506784\",\"showbackground\":true,\"ticks\":\"\",\"zerolinecolor\":\"#C8D4E3\",\"gridwidth\":2}},\"shapedefaults\":{\"line\":{\"color\":\"#f2f5fa\"}},\"annotationdefaults\":{\"arrowcolor\":\"#f2f5fa\",\"arrowhead\":0,\"arrowwidth\":1},\"geo\":{\"bgcolor\":\"rgb(17,17,17)\",\"landcolor\":\"rgb(17,17,17)\",\"subunitcolor\":\"#506784\",\"showland\":true,\"showlakes\":true,\"lakecolor\":\"rgb(17,17,17)\"},\"title\":{\"x\":0.05},\"updatemenudefaults\":{\"bgcolor\":\"#506784\",\"borderwidth\":0},\"sliderdefaults\":{\"bgcolor\":\"#C8D4E3\",\"borderwidth\":1,\"bordercolor\":\"rgb(17,17,17)\",\"tickwidth\":0},\"mapbox\":{\"style\":\"dark\"}}},\"title\":{\"text\":\"Inputs\",\"y\":0.9,\"x\":0.5,\"xanchor\":\"center\",\"yanchor\":\"top\"},\"font\":{\"size\":20},\"legend\":{\"font\":{\"size\":30},\"yanchor\":\"top\",\"y\":1.05,\"xanchor\":\"left\",\"x\":0.01},\"paper_bgcolor\":\"#1E1F22\",\"xaxis\":{\"title\":{\"text\":\"1st component\"}},\"yaxis\":{\"title\":{\"text\":\"2nd component\"},\"scaleanchor\":\"x\",\"scaleratio\":1},\"autosize\":false,\"width\":1300,\"height\":1300,\"showlegend\":true,\"plot_bgcolor\":\"#1E1F22\"},                        {\"responsive\": true}                    ).then(function(){\n                            \nvar gd = document.getElementById('2fcf8735-2e90-4545-91a8-4300f2edd6f1');\nvar x = new MutationObserver(function (mutations, observer) {{\n        var display = window.getComputedStyle(gd).display;\n        if (!display || display === 'none') {{\n            console.log([gd, 'removed!']);\n            Plotly.purge(gd);\n            observer.disconnect();\n        }}\n}});\n\n// Listen for the removal of the full notebook cells\nvar notebookContainer = gd.closest('#notebook-container');\nif (notebookContainer) {{\n    x.observe(notebookContainer, {childList: true});\n}}\n\n// Listen for the clearing of the current output cell\nvar outputEl = gd.closest('.output');\nif (outputEl) {{\n    x.observe(outputEl, {childList: true});\n}}\n\n                        })                };                });            </script>        </div>"
     },
     "metadata": {},
     "output_type": "display_data"
    }
   ],
   "source": [
    "fig_edge = go.Figure()\n",
    "fig_edge.add_trace(\n",
    "    go.Scatter(x=x_0[0], y=x_0[1], mode=\"none\", name=\"$\\Large{x^{(0)}}$\", fill=\"toself\")\n",
    ")\n",
    "fig_edge.update_layout(\n",
    "    title=dict(text=\"Inputs\", **shared_title_params), **shared_layout\n",
    ")\n",
    "fig_edge.update_yaxes(**shared_ratio)\n",
    "fig_edge.show()"
   ],
   "metadata": {
    "collapsed": false
   }
  },
  {
   "cell_type": "code",
   "execution_count": 87,
   "outputs": [
    {
     "data": {
      "text/plain": "(2, 2)"
     },
     "execution_count": 87,
     "metadata": {},
     "output_type": "execute_result"
    }
   ],
   "source": [
    "linear_inclusion.nn_params.weights[0].shape"
   ],
   "metadata": {
    "collapsed": false
   }
  },
  {
   "cell_type": "code",
   "execution_count": 88,
   "outputs": [
    {
     "data": {
      "text/plain": "(2, 77)"
     },
     "execution_count": 88,
     "metadata": {},
     "output_type": "execute_result"
    }
   ],
   "source": [
    "x_0.shape"
   ],
   "metadata": {
    "collapsed": false
   }
  },
  {
   "cell_type": "code",
   "execution_count": 89,
   "outputs": [
    {
     "data": {
      "text/plain": "array([[ 2.13701227,  2.10562777,  2.07424327,  2.04285877,  2.01147428,\n         1.98008978,  1.94870528,  1.91732078,  1.88593628,  1.85455179,\n         1.82316729,  1.79178279,  1.76039829,  1.72901379,  1.6976293 ,\n         1.6662448 ,  1.6348603 ,  1.6034758 ,  1.57209131,  1.54070681,\n         1.37683915,  1.21297149,  1.04910384,  0.88523618,  0.72136852,\n         0.55750086,  0.39363321,  0.22976555,  0.06589789, -0.09796976,\n        -0.26183742, -0.42570508, -0.58957274, -0.75344039, -0.91730805,\n        -1.08117571, -1.24504336, -1.40891102, -1.57277868, -1.54139418,\n        -1.51000968, -1.47862518, -1.44724069, -1.41585619, -1.38447169,\n        -1.35308719, -1.32170269, -1.2903182 , -1.2589337 , -1.2275492 ,\n        -1.1961647 , -1.1647802 , -1.13339571, -1.10201121, -1.07062671,\n        -1.03924221, -1.00785771, -0.97647322,  1.97314461,  1.80927695,\n         1.6454093 ,  1.48154164,  1.31767398,  1.15380633,  0.98993867,\n         0.82607101,  0.66220335,  0.4983357 ,  0.33446804,  0.17060038,\n         0.00673273, -0.15713493, -0.32100259, -0.48487024, -0.6487379 ,\n        -0.81260556,  2.13701227],\n       [-1.48891076, -1.55246883, -1.61602689, -1.67958496, -1.74314303,\n        -1.80670109, -1.87025916, -1.93381723, -1.99737529, -2.06093336,\n        -2.12449143, -2.18804949, -2.25160756, -2.31516563, -2.37872369,\n        -2.44228176, -2.50583982, -2.56939789, -2.63295596, -2.69651402,\n        -2.48051546, -2.2645169 , -2.04851834, -1.83251978, -1.61652122,\n        -1.40052266, -1.1845241 , -0.96852554, -0.75252698, -0.53652842,\n        -0.32052985, -0.10453129,  0.11146727,  0.32746583,  0.54346439,\n         0.75946295,  0.97546151,  1.19146007,  1.40745863,  1.4710167 ,\n         1.53457476,  1.59813283,  1.6616909 ,  1.72524896,  1.78880703,\n         1.8523651 ,  1.91592316,  1.97948123,  2.0430393 ,  2.10659736,\n         2.17015543,  2.23371349,  2.29727156,  2.36082963,  2.42438769,\n         2.48794576,  2.55150383,  2.61506189, -1.2729122 , -1.05691364,\n        -0.84091508, -0.62491652, -0.40891796, -0.1929194 ,  0.02307916,\n         0.23907772,  0.45507629,  0.67107485,  0.88707341,  1.10307197,\n         1.31907053,  1.53506909,  1.75106765,  1.96706621,  2.18306477,\n         2.39906333, -1.48891076]])"
     },
     "execution_count": 89,
     "metadata": {},
     "output_type": "execute_result"
    }
   ],
   "source": [
    "linear_inclusion.nn_params.weights[0] @ x_0"
   ],
   "metadata": {
    "collapsed": false
   }
  },
  {
   "cell_type": "code",
   "execution_count": 90,
   "outputs": [],
   "source": [
    "z_1 = (\n",
    "    (linear_inclusion.nn_params.weights[0] @ x_0).transpose()\n",
    "    + linear_inclusion.nn_params.biases[0]\n",
    ").transpose()\n",
    "z_1 = np.concatenate((z_1[:,:58],np.flip(z_1[:,58:-1],axis=1),z_1[:,-1:]), axis=1)\n",
    "assert z_1.shape == x_0.shape"
   ],
   "metadata": {
    "collapsed": false
   }
  },
  {
   "cell_type": "code",
   "execution_count": 91,
   "outputs": [
    {
     "data": {
      "text/plain": "array([[0.85813444, 0.85427059, 0.85031985, 0.84628129, 0.84215399,\n        0.83793709, 0.83362979, 0.82923134, 0.82474106, 0.82015831,\n        0.81548254, 0.81071326, 0.80585006, 0.80089259, 0.79584061,\n        0.79069395, 0.78545252, 0.78011634, 0.7746855 , 0.76916023,\n        0.73879362, 0.70595945, 0.67083686, 0.63369578, 0.59489465,\n        0.5548705 , 0.51412171, 0.4731843 , 0.43260431, 0.39290889,\n        0.35457966, 0.31803076, 0.28359386, 0.25151063, 0.2219326 ,\n        0.19492712, 0.17048771, 0.14854707, 0.12899096, 0.13255833,\n        0.13620892, 0.13994383, 0.14376411, 0.14767078, 0.1516648 ,\n        0.1557471 , 0.15991857, 0.16418005, 0.1685323 , 0.17297604,\n        0.17751195, 0.18214059, 0.18686252, 0.19167816, 0.19658791,\n        0.20159205, 0.20669081, 0.21188429, 0.24053714, 0.27172875,\n        0.30533894, 0.34115892, 0.37888906, 0.41814363, 0.45846321,\n        0.49933417, 0.54021404, 0.58055984, 0.61985661, 0.65764281,\n        0.69353007, 0.72721587, 0.75848845, 0.78722485, 0.81338329,\n        0.83699173, 0.85813444],\n       [0.14505957, 0.1373537 , 0.12999495, 0.12297423, 0.11628202,\n        0.10990834, 0.10384298, 0.09807545, 0.09259516, 0.08739142,\n        0.08245356, 0.07777092, 0.07333296, 0.06912927, 0.06514961,\n        0.06138394, 0.05782246, 0.05445564, 0.05127418, 0.04826911,\n        0.05921766, 0.07246052, 0.08838666, 0.10740786, 0.12993905,\n        0.15636865, 0.18701852, 0.2220945 , 0.26163198, 0.30544429,\n        0.35308493, 0.40383578, 0.45673118, 0.51062072, 0.56426453,\n        0.61644507, 0.6660748 , 0.71228004, 0.75444883, 0.7660321 ,\n        0.7772303 , 0.78804084, 0.79846279, 0.80849683, 0.81814508,\n        0.82741101, 0.83629927, 0.84481565, 0.85296687, 0.8607605 ,\n        0.86820485, 0.87530885, 0.88208194, 0.88853398, 0.89467513,\n        0.90051583, 0.90606664, 0.91133823, 0.89226482, 0.869675  ,\n        0.84318104, 0.81246252, 0.77731588, 0.73770883, 0.6938319 ,\n        0.64613589, 0.59534309, 0.54242269, 0.48852731, 0.43489734,\n        0.38274909, 0.33316728, 0.28702172, 0.24492008, 0.20719939,\n        0.17394981, 0.14505957]])"
     },
     "execution_count": 91,
     "metadata": {},
     "output_type": "execute_result"
    }
   ],
   "source": [
    "h_of_z_1 = np.apply_along_axis(linear_inclusion.activation.func, 1, z_1)\n",
    "assert h_of_z_1.shape == z_1.shape\n",
    "h_of_z_1"
   ],
   "metadata": {
    "collapsed": false
   }
  },
  {
   "cell_type": "code",
   "execution_count": 92,
   "outputs": [
    {
     "data": {
      "text/plain": "((2, 77), (2, 77))"
     },
     "execution_count": 92,
     "metadata": {},
     "output_type": "execute_result"
    }
   ],
   "source": [
    "taylor_approx_1 = linear_inclusion.activation.func(\n",
    "    xi_1\n",
    ") + linear_inclusion.activation.deriv(xi_1) * (z_1 - xi_1)\n",
    "assert taylor_approx_1.shape == z_1.shape\n",
    "taylor_approx_1.shape, x_1.shape"
   ],
   "metadata": {
    "collapsed": false
   }
  },
  {
   "cell_type": "code",
   "execution_count": 93,
   "outputs": [],
   "source": [
    "taylor_plus_lower_r_1 = taylor_approx_1 + lower_r_1\n",
    "assert taylor_plus_lower_r_1.shape == taylor_approx_1.shape\n",
    "lower_linear_1 = np.array(\n",
    "    [x - taylor for taylor in taylor_plus_lower_r_1.T for x in x_1.T]\n",
    ").T\n",
    "assert_equal(lower_linear_1.shape, (2, np.square(points_per_edges)))"
   ],
   "metadata": {
    "collapsed": false
   }
  },
  {
   "cell_type": "code",
   "execution_count": 94,
   "outputs": [
    {
     "data": {
      "text/plain": "(array([[1., 1., 1.],\n        [1., 2., 3.]]),\n array([[2., 3.],\n        [1., 2.]]),\n (2, 3),\n (2, 2))"
     },
     "execution_count": 94,
     "metadata": {},
     "output_type": "execute_result"
    }
   ],
   "source": [
    "a, b = np.array([[1.0, 1.0, 1.0], [1.0, 2.0, 3.0]]), np.array([[2.0, 3.0], [1.0, 2.0]])\n",
    "a, b, a.shape, b.shape"
   ],
   "metadata": {
    "collapsed": false
   }
  },
  {
   "cell_type": "code",
   "execution_count": 95,
   "outputs": [
    {
     "data": {
      "text/plain": "array([[-1., -2., -1., -2., -1., -2.],\n       [ 0., -1.,  1.,  0.,  2.,  1.]])"
     },
     "execution_count": 95,
     "metadata": {},
     "output_type": "execute_result"
    }
   ],
   "source": [
    "np.array([taylor - x for taylor in a.T for x in b.T]).T"
   ],
   "metadata": {
    "collapsed": false
   }
  },
  {
   "cell_type": "code",
   "execution_count": 96,
   "outputs": [],
   "source": [
    "taylor_plus_upper_r_1 = taylor_approx_1 + upper_r_1\n",
    "assert taylor_plus_upper_r_1.shape == taylor_approx_1.shape\n",
    "upper_linear_1 = np.array(\n",
    "    [x - taylor for taylor in taylor_plus_upper_r_1.T for x in x_1.T]\n",
    ").T\n",
    "assert lower_linear_1.shape == (2, np.square(points_per_edges))"
   ],
   "metadata": {
    "collapsed": false
   }
  },
  {
   "cell_type": "markdown",
   "source": [
    "## Visualize input region and discretization"
   ],
   "metadata": {
    "collapsed": false
   }
  },
  {
   "cell_type": "code",
   "execution_count": 97,
   "outputs": [
    {
     "data": {
      "application/vnd.plotly.v1+json": {
       "data": [
        {
         "fill": "toself",
         "mode": "none",
         "name": "$\\Large{x^{(0)}}$",
         "x": [
          -5.1606377858191035,
          -5.1606377858191035,
          -5.1606377858191035,
          -5.1606377858191035,
          -5.1606377858191035,
          -5.1606377858191035,
          -5.1606377858191035,
          -5.1606377858191035,
          -5.1606377858191035,
          -5.1606377858191035,
          -5.1606377858191035,
          -5.1606377858191035,
          -5.1606377858191035,
          -5.1606377858191035,
          -5.1606377858191035,
          -5.1606377858191035,
          -5.1606377858191035,
          -5.1606377858191035,
          -5.1606377858191035,
          -5.1606377858191035,
          -4.674573064426724,
          -4.1885083430343455,
          -3.7024436216419665,
          -3.2163789002495875,
          -2.7303141788572085,
          -2.2442494574648295,
          -1.7581847360724505,
          -1.2721200146800715,
          -0.7860552932876921,
          -0.29999057189531353,
          0.18607414949706502,
          0.6721388708894445,
          1.158203592281824,
          1.6442683136742025,
          2.130333035066581,
          2.6163977564589604,
          3.10246247785134,
          3.5885271992437193,
          4.074591920636097,
          4.074591920636097,
          4.074591920636097,
          4.074591920636097,
          4.074591920636097,
          4.074591920636097,
          4.074591920636097,
          4.074591920636097,
          4.074591920636097,
          4.074591920636097,
          4.074591920636097,
          4.074591920636097,
          4.074591920636097,
          4.074591920636097,
          4.074591920636097,
          4.074591920636097,
          4.074591920636097,
          4.074591920636097,
          4.074591920636097,
          4.074591920636097,
          -4.674573064426724,
          -4.1885083430343455,
          -3.7024436216419665,
          -3.2163789002495875,
          -2.7303141788572085,
          -2.2442494574648295,
          -1.7581847360724505,
          -1.2721200146800715,
          -0.7860552932876921,
          -0.29999057189531353,
          0.18607414949706502,
          0.6721388708894445,
          1.158203592281824,
          1.6442683136742025,
          2.130333035066581,
          2.6163977564589604,
          3.10246247785134,
          3.5885271992437193,
          -5.1606377858191035
         ],
         "y": [
          -1.393796995951563,
          -1.283666891906257,
          -1.1735367878609508,
          -1.0634066838156448,
          -0.9532765797703386,
          -0.8431464757250327,
          -0.7330163716797266,
          -0.6228862676344205,
          -0.5127561635891144,
          -0.40262605954380826,
          -0.29249595549850227,
          -0.18236585145319606,
          -0.07223574740789007,
          0.03789435663741614,
          0.14802446068272213,
          0.25815456472802834,
          0.3682846687733343,
          0.4784147728186403,
          0.5885448768639465,
          0.6986749809092526,
          0.6986749809092526,
          0.6986749809092526,
          0.6986749809092526,
          0.6986749809092526,
          0.6986749809092526,
          0.6986749809092526,
          0.6986749809092526,
          0.6986749809092526,
          0.6986749809092526,
          0.6986749809092526,
          0.6986749809092526,
          0.6986749809092526,
          0.6986749809092526,
          0.6986749809092526,
          0.6986749809092526,
          0.6986749809092526,
          0.6986749809092526,
          0.6986749809092526,
          0.6986749809092526,
          0.5885448768639465,
          0.4784147728186403,
          0.3682846687733343,
          0.25815456472802834,
          0.14802446068272213,
          0.03789435663741614,
          -0.07223574740789007,
          -0.18236585145319606,
          -0.29249595549850227,
          -0.40262605954380826,
          -0.5127561635891144,
          -0.6228862676344205,
          -0.7330163716797266,
          -0.8431464757250327,
          -0.9532765797703386,
          -1.0634066838156448,
          -1.1735367878609508,
          -1.283666891906257,
          -1.393796995951563,
          -1.393796995951563,
          -1.393796995951563,
          -1.393796995951563,
          -1.393796995951563,
          -1.393796995951563,
          -1.393796995951563,
          -1.393796995951563,
          -1.393796995951563,
          -1.393796995951563,
          -1.393796995951563,
          -1.393796995951563,
          -1.393796995951563,
          -1.393796995951563,
          -1.393796995951563,
          -1.393796995951563,
          -1.393796995951563,
          -1.393796995951563,
          -1.393796995951563,
          -1.393796995951563
         ],
         "type": "scatter"
        },
        {
         "mode": "lines",
         "name": "$\\Large{\\Theta^{(0)}}$",
         "x": [
          -5.1606377858191035,
          -5.1606377858191035,
          4.074591920636097,
          4.074591920636097,
          -5.1606377858191035
         ],
         "y": [
          -1.393796995951563,
          0.6986749809092526,
          0.6986749809092526,
          -1.393796995951563,
          -1.393796995951563
         ],
         "type": "scatter"
        }
       ],
       "layout": {
        "template": {
         "data": {
          "histogram2dcontour": [
           {
            "type": "histogram2dcontour",
            "colorbar": {
             "outlinewidth": 0,
             "ticks": ""
            },
            "colorscale": [
             [
              0.0,
              "#0d0887"
             ],
             [
              0.1111111111111111,
              "#46039f"
             ],
             [
              0.2222222222222222,
              "#7201a8"
             ],
             [
              0.3333333333333333,
              "#9c179e"
             ],
             [
              0.4444444444444444,
              "#bd3786"
             ],
             [
              0.5555555555555556,
              "#d8576b"
             ],
             [
              0.6666666666666666,
              "#ed7953"
             ],
             [
              0.7777777777777778,
              "#fb9f3a"
             ],
             [
              0.8888888888888888,
              "#fdca26"
             ],
             [
              1.0,
              "#f0f921"
             ]
            ]
           }
          ],
          "choropleth": [
           {
            "type": "choropleth",
            "colorbar": {
             "outlinewidth": 0,
             "ticks": ""
            }
           }
          ],
          "histogram2d": [
           {
            "type": "histogram2d",
            "colorbar": {
             "outlinewidth": 0,
             "ticks": ""
            },
            "colorscale": [
             [
              0.0,
              "#0d0887"
             ],
             [
              0.1111111111111111,
              "#46039f"
             ],
             [
              0.2222222222222222,
              "#7201a8"
             ],
             [
              0.3333333333333333,
              "#9c179e"
             ],
             [
              0.4444444444444444,
              "#bd3786"
             ],
             [
              0.5555555555555556,
              "#d8576b"
             ],
             [
              0.6666666666666666,
              "#ed7953"
             ],
             [
              0.7777777777777778,
              "#fb9f3a"
             ],
             [
              0.8888888888888888,
              "#fdca26"
             ],
             [
              1.0,
              "#f0f921"
             ]
            ]
           }
          ],
          "heatmap": [
           {
            "type": "heatmap",
            "colorbar": {
             "outlinewidth": 0,
             "ticks": ""
            },
            "colorscale": [
             [
              0.0,
              "#0d0887"
             ],
             [
              0.1111111111111111,
              "#46039f"
             ],
             [
              0.2222222222222222,
              "#7201a8"
             ],
             [
              0.3333333333333333,
              "#9c179e"
             ],
             [
              0.4444444444444444,
              "#bd3786"
             ],
             [
              0.5555555555555556,
              "#d8576b"
             ],
             [
              0.6666666666666666,
              "#ed7953"
             ],
             [
              0.7777777777777778,
              "#fb9f3a"
             ],
             [
              0.8888888888888888,
              "#fdca26"
             ],
             [
              1.0,
              "#f0f921"
             ]
            ]
           }
          ],
          "heatmapgl": [
           {
            "type": "heatmapgl",
            "colorbar": {
             "outlinewidth": 0,
             "ticks": ""
            },
            "colorscale": [
             [
              0.0,
              "#0d0887"
             ],
             [
              0.1111111111111111,
              "#46039f"
             ],
             [
              0.2222222222222222,
              "#7201a8"
             ],
             [
              0.3333333333333333,
              "#9c179e"
             ],
             [
              0.4444444444444444,
              "#bd3786"
             ],
             [
              0.5555555555555556,
              "#d8576b"
             ],
             [
              0.6666666666666666,
              "#ed7953"
             ],
             [
              0.7777777777777778,
              "#fb9f3a"
             ],
             [
              0.8888888888888888,
              "#fdca26"
             ],
             [
              1.0,
              "#f0f921"
             ]
            ]
           }
          ],
          "contourcarpet": [
           {
            "type": "contourcarpet",
            "colorbar": {
             "outlinewidth": 0,
             "ticks": ""
            }
           }
          ],
          "contour": [
           {
            "type": "contour",
            "colorbar": {
             "outlinewidth": 0,
             "ticks": ""
            },
            "colorscale": [
             [
              0.0,
              "#0d0887"
             ],
             [
              0.1111111111111111,
              "#46039f"
             ],
             [
              0.2222222222222222,
              "#7201a8"
             ],
             [
              0.3333333333333333,
              "#9c179e"
             ],
             [
              0.4444444444444444,
              "#bd3786"
             ],
             [
              0.5555555555555556,
              "#d8576b"
             ],
             [
              0.6666666666666666,
              "#ed7953"
             ],
             [
              0.7777777777777778,
              "#fb9f3a"
             ],
             [
              0.8888888888888888,
              "#fdca26"
             ],
             [
              1.0,
              "#f0f921"
             ]
            ]
           }
          ],
          "surface": [
           {
            "type": "surface",
            "colorbar": {
             "outlinewidth": 0,
             "ticks": ""
            },
            "colorscale": [
             [
              0.0,
              "#0d0887"
             ],
             [
              0.1111111111111111,
              "#46039f"
             ],
             [
              0.2222222222222222,
              "#7201a8"
             ],
             [
              0.3333333333333333,
              "#9c179e"
             ],
             [
              0.4444444444444444,
              "#bd3786"
             ],
             [
              0.5555555555555556,
              "#d8576b"
             ],
             [
              0.6666666666666666,
              "#ed7953"
             ],
             [
              0.7777777777777778,
              "#fb9f3a"
             ],
             [
              0.8888888888888888,
              "#fdca26"
             ],
             [
              1.0,
              "#f0f921"
             ]
            ]
           }
          ],
          "mesh3d": [
           {
            "type": "mesh3d",
            "colorbar": {
             "outlinewidth": 0,
             "ticks": ""
            }
           }
          ],
          "scatter": [
           {
            "marker": {
             "line": {
              "color": "#283442"
             }
            },
            "type": "scatter"
           }
          ],
          "parcoords": [
           {
            "type": "parcoords",
            "line": {
             "colorbar": {
              "outlinewidth": 0,
              "ticks": ""
             }
            }
           }
          ],
          "scatterpolargl": [
           {
            "type": "scatterpolargl",
            "marker": {
             "colorbar": {
              "outlinewidth": 0,
              "ticks": ""
             }
            }
           }
          ],
          "bar": [
           {
            "error_x": {
             "color": "#f2f5fa"
            },
            "error_y": {
             "color": "#f2f5fa"
            },
            "marker": {
             "line": {
              "color": "rgb(17,17,17)",
              "width": 0.5
             },
             "pattern": {
              "fillmode": "overlay",
              "size": 10,
              "solidity": 0.2
             }
            },
            "type": "bar"
           }
          ],
          "scattergeo": [
           {
            "type": "scattergeo",
            "marker": {
             "colorbar": {
              "outlinewidth": 0,
              "ticks": ""
             }
            }
           }
          ],
          "scatterpolar": [
           {
            "type": "scatterpolar",
            "marker": {
             "colorbar": {
              "outlinewidth": 0,
              "ticks": ""
             }
            }
           }
          ],
          "histogram": [
           {
            "marker": {
             "pattern": {
              "fillmode": "overlay",
              "size": 10,
              "solidity": 0.2
             }
            },
            "type": "histogram"
           }
          ],
          "scattergl": [
           {
            "marker": {
             "line": {
              "color": "#283442"
             }
            },
            "type": "scattergl"
           }
          ],
          "scatter3d": [
           {
            "type": "scatter3d",
            "line": {
             "colorbar": {
              "outlinewidth": 0,
              "ticks": ""
             }
            },
            "marker": {
             "colorbar": {
              "outlinewidth": 0,
              "ticks": ""
             }
            }
           }
          ],
          "scattermapbox": [
           {
            "type": "scattermapbox",
            "marker": {
             "colorbar": {
              "outlinewidth": 0,
              "ticks": ""
             }
            }
           }
          ],
          "scatterternary": [
           {
            "type": "scatterternary",
            "marker": {
             "colorbar": {
              "outlinewidth": 0,
              "ticks": ""
             }
            }
           }
          ],
          "scattercarpet": [
           {
            "type": "scattercarpet",
            "marker": {
             "colorbar": {
              "outlinewidth": 0,
              "ticks": ""
             }
            }
           }
          ],
          "carpet": [
           {
            "aaxis": {
             "endlinecolor": "#A2B1C6",
             "gridcolor": "#506784",
             "linecolor": "#506784",
             "minorgridcolor": "#506784",
             "startlinecolor": "#A2B1C6"
            },
            "baxis": {
             "endlinecolor": "#A2B1C6",
             "gridcolor": "#506784",
             "linecolor": "#506784",
             "minorgridcolor": "#506784",
             "startlinecolor": "#A2B1C6"
            },
            "type": "carpet"
           }
          ],
          "table": [
           {
            "cells": {
             "fill": {
              "color": "#506784"
             },
             "line": {
              "color": "rgb(17,17,17)"
             }
            },
            "header": {
             "fill": {
              "color": "#2a3f5f"
             },
             "line": {
              "color": "rgb(17,17,17)"
             }
            },
            "type": "table"
           }
          ],
          "barpolar": [
           {
            "marker": {
             "line": {
              "color": "rgb(17,17,17)",
              "width": 0.5
             },
             "pattern": {
              "fillmode": "overlay",
              "size": 10,
              "solidity": 0.2
             }
            },
            "type": "barpolar"
           }
          ],
          "pie": [
           {
            "automargin": true,
            "type": "pie"
           }
          ]
         },
         "layout": {
          "autotypenumbers": "strict",
          "colorway": [
           "#636efa",
           "#EF553B",
           "#00cc96",
           "#ab63fa",
           "#FFA15A",
           "#19d3f3",
           "#FF6692",
           "#B6E880",
           "#FF97FF",
           "#FECB52"
          ],
          "font": {
           "color": "#f2f5fa"
          },
          "hovermode": "closest",
          "hoverlabel": {
           "align": "left"
          },
          "paper_bgcolor": "rgb(17,17,17)",
          "plot_bgcolor": "rgb(17,17,17)",
          "polar": {
           "bgcolor": "rgb(17,17,17)",
           "angularaxis": {
            "gridcolor": "#506784",
            "linecolor": "#506784",
            "ticks": ""
           },
           "radialaxis": {
            "gridcolor": "#506784",
            "linecolor": "#506784",
            "ticks": ""
           }
          },
          "ternary": {
           "bgcolor": "rgb(17,17,17)",
           "aaxis": {
            "gridcolor": "#506784",
            "linecolor": "#506784",
            "ticks": ""
           },
           "baxis": {
            "gridcolor": "#506784",
            "linecolor": "#506784",
            "ticks": ""
           },
           "caxis": {
            "gridcolor": "#506784",
            "linecolor": "#506784",
            "ticks": ""
           }
          },
          "coloraxis": {
           "colorbar": {
            "outlinewidth": 0,
            "ticks": ""
           }
          },
          "colorscale": {
           "sequential": [
            [
             0.0,
             "#0d0887"
            ],
            [
             0.1111111111111111,
             "#46039f"
            ],
            [
             0.2222222222222222,
             "#7201a8"
            ],
            [
             0.3333333333333333,
             "#9c179e"
            ],
            [
             0.4444444444444444,
             "#bd3786"
            ],
            [
             0.5555555555555556,
             "#d8576b"
            ],
            [
             0.6666666666666666,
             "#ed7953"
            ],
            [
             0.7777777777777778,
             "#fb9f3a"
            ],
            [
             0.8888888888888888,
             "#fdca26"
            ],
            [
             1.0,
             "#f0f921"
            ]
           ],
           "sequentialminus": [
            [
             0.0,
             "#0d0887"
            ],
            [
             0.1111111111111111,
             "#46039f"
            ],
            [
             0.2222222222222222,
             "#7201a8"
            ],
            [
             0.3333333333333333,
             "#9c179e"
            ],
            [
             0.4444444444444444,
             "#bd3786"
            ],
            [
             0.5555555555555556,
             "#d8576b"
            ],
            [
             0.6666666666666666,
             "#ed7953"
            ],
            [
             0.7777777777777778,
             "#fb9f3a"
            ],
            [
             0.8888888888888888,
             "#fdca26"
            ],
            [
             1.0,
             "#f0f921"
            ]
           ],
           "diverging": [
            [
             0,
             "#8e0152"
            ],
            [
             0.1,
             "#c51b7d"
            ],
            [
             0.2,
             "#de77ae"
            ],
            [
             0.3,
             "#f1b6da"
            ],
            [
             0.4,
             "#fde0ef"
            ],
            [
             0.5,
             "#f7f7f7"
            ],
            [
             0.6,
             "#e6f5d0"
            ],
            [
             0.7,
             "#b8e186"
            ],
            [
             0.8,
             "#7fbc41"
            ],
            [
             0.9,
             "#4d9221"
            ],
            [
             1,
             "#276419"
            ]
           ]
          },
          "xaxis": {
           "gridcolor": "#283442",
           "linecolor": "#506784",
           "ticks": "",
           "title": {
            "standoff": 15
           },
           "zerolinecolor": "#283442",
           "automargin": true,
           "zerolinewidth": 2
          },
          "yaxis": {
           "gridcolor": "#283442",
           "linecolor": "#506784",
           "ticks": "",
           "title": {
            "standoff": 15
           },
           "zerolinecolor": "#283442",
           "automargin": true,
           "zerolinewidth": 2
          },
          "scene": {
           "xaxis": {
            "backgroundcolor": "rgb(17,17,17)",
            "gridcolor": "#506784",
            "linecolor": "#506784",
            "showbackground": true,
            "ticks": "",
            "zerolinecolor": "#C8D4E3",
            "gridwidth": 2
           },
           "yaxis": {
            "backgroundcolor": "rgb(17,17,17)",
            "gridcolor": "#506784",
            "linecolor": "#506784",
            "showbackground": true,
            "ticks": "",
            "zerolinecolor": "#C8D4E3",
            "gridwidth": 2
           },
           "zaxis": {
            "backgroundcolor": "rgb(17,17,17)",
            "gridcolor": "#506784",
            "linecolor": "#506784",
            "showbackground": true,
            "ticks": "",
            "zerolinecolor": "#C8D4E3",
            "gridwidth": 2
           }
          },
          "shapedefaults": {
           "line": {
            "color": "#f2f5fa"
           }
          },
          "annotationdefaults": {
           "arrowcolor": "#f2f5fa",
           "arrowhead": 0,
           "arrowwidth": 1
          },
          "geo": {
           "bgcolor": "rgb(17,17,17)",
           "landcolor": "rgb(17,17,17)",
           "subunitcolor": "#506784",
           "showland": true,
           "showlakes": true,
           "lakecolor": "rgb(17,17,17)"
          },
          "title": {
           "x": 0.05
          },
          "updatemenudefaults": {
           "bgcolor": "#506784",
           "borderwidth": 0
          },
          "sliderdefaults": {
           "bgcolor": "#C8D4E3",
           "borderwidth": 1,
           "bordercolor": "rgb(17,17,17)",
           "tickwidth": 0
          },
          "mapbox": {
           "style": "dark"
          }
         }
        },
        "title": {
         "text": "Inputs",
         "y": 0.9,
         "x": 0.5,
         "xanchor": "center",
         "yanchor": "top"
        },
        "font": {
         "size": 20
        },
        "legend": {
         "font": {
          "size": 30
         },
         "yanchor": "top",
         "y": 1.05,
         "xanchor": "left",
         "x": 0.01
        },
        "paper_bgcolor": "#1E1F22",
        "xaxis": {
         "title": {
          "text": "1st component"
         }
        },
        "yaxis": {
         "title": {
          "text": "2nd component"
         },
         "scaleanchor": "x",
         "scaleratio": 1
        },
        "autosize": false,
        "width": 1300,
        "height": 1300,
        "showlegend": true,
        "plot_bgcolor": "#1E1F22"
       },
       "config": {
        "plotlyServerURL": "https://plot.ly"
       }
      },
      "text/html": "<div>                            <div id=\"7d50d57d-6e06-4cd9-8cab-9adbc8953519\" class=\"plotly-graph-div\" style=\"height:1300px; width:1300px;\"></div>            <script type=\"text/javascript\">                require([\"plotly\"], function(Plotly) {                    window.PLOTLYENV=window.PLOTLYENV || {};                                    if (document.getElementById(\"7d50d57d-6e06-4cd9-8cab-9adbc8953519\")) {                    Plotly.newPlot(                        \"7d50d57d-6e06-4cd9-8cab-9adbc8953519\",                        [{\"fill\":\"toself\",\"mode\":\"none\",\"name\":\"$\\\\Large{x^{(0)}}$\",\"x\":[-5.1606377858191035,-5.1606377858191035,-5.1606377858191035,-5.1606377858191035,-5.1606377858191035,-5.1606377858191035,-5.1606377858191035,-5.1606377858191035,-5.1606377858191035,-5.1606377858191035,-5.1606377858191035,-5.1606377858191035,-5.1606377858191035,-5.1606377858191035,-5.1606377858191035,-5.1606377858191035,-5.1606377858191035,-5.1606377858191035,-5.1606377858191035,-5.1606377858191035,-4.674573064426724,-4.1885083430343455,-3.7024436216419665,-3.2163789002495875,-2.7303141788572085,-2.2442494574648295,-1.7581847360724505,-1.2721200146800715,-0.7860552932876921,-0.29999057189531353,0.18607414949706502,0.6721388708894445,1.158203592281824,1.6442683136742025,2.130333035066581,2.6163977564589604,3.10246247785134,3.5885271992437193,4.074591920636097,4.074591920636097,4.074591920636097,4.074591920636097,4.074591920636097,4.074591920636097,4.074591920636097,4.074591920636097,4.074591920636097,4.074591920636097,4.074591920636097,4.074591920636097,4.074591920636097,4.074591920636097,4.074591920636097,4.074591920636097,4.074591920636097,4.074591920636097,4.074591920636097,4.074591920636097,-4.674573064426724,-4.1885083430343455,-3.7024436216419665,-3.2163789002495875,-2.7303141788572085,-2.2442494574648295,-1.7581847360724505,-1.2721200146800715,-0.7860552932876921,-0.29999057189531353,0.18607414949706502,0.6721388708894445,1.158203592281824,1.6442683136742025,2.130333035066581,2.6163977564589604,3.10246247785134,3.5885271992437193,-5.1606377858191035],\"y\":[-1.393796995951563,-1.283666891906257,-1.1735367878609508,-1.0634066838156448,-0.9532765797703386,-0.8431464757250327,-0.7330163716797266,-0.6228862676344205,-0.5127561635891144,-0.40262605954380826,-0.29249595549850227,-0.18236585145319606,-0.07223574740789007,0.03789435663741614,0.14802446068272213,0.25815456472802834,0.3682846687733343,0.4784147728186403,0.5885448768639465,0.6986749809092526,0.6986749809092526,0.6986749809092526,0.6986749809092526,0.6986749809092526,0.6986749809092526,0.6986749809092526,0.6986749809092526,0.6986749809092526,0.6986749809092526,0.6986749809092526,0.6986749809092526,0.6986749809092526,0.6986749809092526,0.6986749809092526,0.6986749809092526,0.6986749809092526,0.6986749809092526,0.6986749809092526,0.6986749809092526,0.5885448768639465,0.4784147728186403,0.3682846687733343,0.25815456472802834,0.14802446068272213,0.03789435663741614,-0.07223574740789007,-0.18236585145319606,-0.29249595549850227,-0.40262605954380826,-0.5127561635891144,-0.6228862676344205,-0.7330163716797266,-0.8431464757250327,-0.9532765797703386,-1.0634066838156448,-1.1735367878609508,-1.283666891906257,-1.393796995951563,-1.393796995951563,-1.393796995951563,-1.393796995951563,-1.393796995951563,-1.393796995951563,-1.393796995951563,-1.393796995951563,-1.393796995951563,-1.393796995951563,-1.393796995951563,-1.393796995951563,-1.393796995951563,-1.393796995951563,-1.393796995951563,-1.393796995951563,-1.393796995951563,-1.393796995951563,-1.393796995951563,-1.393796995951563],\"type\":\"scatter\"},{\"mode\":\"lines\",\"name\":\"$\\\\Large{\\\\Theta^{(0)}}$\",\"x\":[-5.1606377858191035,-5.1606377858191035,4.074591920636097,4.074591920636097,-5.1606377858191035],\"y\":[-1.393796995951563,0.6986749809092526,0.6986749809092526,-1.393796995951563,-1.393796995951563],\"type\":\"scatter\"}],                        {\"template\":{\"data\":{\"histogram2dcontour\":[{\"type\":\"histogram2dcontour\",\"colorbar\":{\"outlinewidth\":0,\"ticks\":\"\"},\"colorscale\":[[0.0,\"#0d0887\"],[0.1111111111111111,\"#46039f\"],[0.2222222222222222,\"#7201a8\"],[0.3333333333333333,\"#9c179e\"],[0.4444444444444444,\"#bd3786\"],[0.5555555555555556,\"#d8576b\"],[0.6666666666666666,\"#ed7953\"],[0.7777777777777778,\"#fb9f3a\"],[0.8888888888888888,\"#fdca26\"],[1.0,\"#f0f921\"]]}],\"choropleth\":[{\"type\":\"choropleth\",\"colorbar\":{\"outlinewidth\":0,\"ticks\":\"\"}}],\"histogram2d\":[{\"type\":\"histogram2d\",\"colorbar\":{\"outlinewidth\":0,\"ticks\":\"\"},\"colorscale\":[[0.0,\"#0d0887\"],[0.1111111111111111,\"#46039f\"],[0.2222222222222222,\"#7201a8\"],[0.3333333333333333,\"#9c179e\"],[0.4444444444444444,\"#bd3786\"],[0.5555555555555556,\"#d8576b\"],[0.6666666666666666,\"#ed7953\"],[0.7777777777777778,\"#fb9f3a\"],[0.8888888888888888,\"#fdca26\"],[1.0,\"#f0f921\"]]}],\"heatmap\":[{\"type\":\"heatmap\",\"colorbar\":{\"outlinewidth\":0,\"ticks\":\"\"},\"colorscale\":[[0.0,\"#0d0887\"],[0.1111111111111111,\"#46039f\"],[0.2222222222222222,\"#7201a8\"],[0.3333333333333333,\"#9c179e\"],[0.4444444444444444,\"#bd3786\"],[0.5555555555555556,\"#d8576b\"],[0.6666666666666666,\"#ed7953\"],[0.7777777777777778,\"#fb9f3a\"],[0.8888888888888888,\"#fdca26\"],[1.0,\"#f0f921\"]]}],\"heatmapgl\":[{\"type\":\"heatmapgl\",\"colorbar\":{\"outlinewidth\":0,\"ticks\":\"\"},\"colorscale\":[[0.0,\"#0d0887\"],[0.1111111111111111,\"#46039f\"],[0.2222222222222222,\"#7201a8\"],[0.3333333333333333,\"#9c179e\"],[0.4444444444444444,\"#bd3786\"],[0.5555555555555556,\"#d8576b\"],[0.6666666666666666,\"#ed7953\"],[0.7777777777777778,\"#fb9f3a\"],[0.8888888888888888,\"#fdca26\"],[1.0,\"#f0f921\"]]}],\"contourcarpet\":[{\"type\":\"contourcarpet\",\"colorbar\":{\"outlinewidth\":0,\"ticks\":\"\"}}],\"contour\":[{\"type\":\"contour\",\"colorbar\":{\"outlinewidth\":0,\"ticks\":\"\"},\"colorscale\":[[0.0,\"#0d0887\"],[0.1111111111111111,\"#46039f\"],[0.2222222222222222,\"#7201a8\"],[0.3333333333333333,\"#9c179e\"],[0.4444444444444444,\"#bd3786\"],[0.5555555555555556,\"#d8576b\"],[0.6666666666666666,\"#ed7953\"],[0.7777777777777778,\"#fb9f3a\"],[0.8888888888888888,\"#fdca26\"],[1.0,\"#f0f921\"]]}],\"surface\":[{\"type\":\"surface\",\"colorbar\":{\"outlinewidth\":0,\"ticks\":\"\"},\"colorscale\":[[0.0,\"#0d0887\"],[0.1111111111111111,\"#46039f\"],[0.2222222222222222,\"#7201a8\"],[0.3333333333333333,\"#9c179e\"],[0.4444444444444444,\"#bd3786\"],[0.5555555555555556,\"#d8576b\"],[0.6666666666666666,\"#ed7953\"],[0.7777777777777778,\"#fb9f3a\"],[0.8888888888888888,\"#fdca26\"],[1.0,\"#f0f921\"]]}],\"mesh3d\":[{\"type\":\"mesh3d\",\"colorbar\":{\"outlinewidth\":0,\"ticks\":\"\"}}],\"scatter\":[{\"marker\":{\"line\":{\"color\":\"#283442\"}},\"type\":\"scatter\"}],\"parcoords\":[{\"type\":\"parcoords\",\"line\":{\"colorbar\":{\"outlinewidth\":0,\"ticks\":\"\"}}}],\"scatterpolargl\":[{\"type\":\"scatterpolargl\",\"marker\":{\"colorbar\":{\"outlinewidth\":0,\"ticks\":\"\"}}}],\"bar\":[{\"error_x\":{\"color\":\"#f2f5fa\"},\"error_y\":{\"color\":\"#f2f5fa\"},\"marker\":{\"line\":{\"color\":\"rgb(17,17,17)\",\"width\":0.5},\"pattern\":{\"fillmode\":\"overlay\",\"size\":10,\"solidity\":0.2}},\"type\":\"bar\"}],\"scattergeo\":[{\"type\":\"scattergeo\",\"marker\":{\"colorbar\":{\"outlinewidth\":0,\"ticks\":\"\"}}}],\"scatterpolar\":[{\"type\":\"scatterpolar\",\"marker\":{\"colorbar\":{\"outlinewidth\":0,\"ticks\":\"\"}}}],\"histogram\":[{\"marker\":{\"pattern\":{\"fillmode\":\"overlay\",\"size\":10,\"solidity\":0.2}},\"type\":\"histogram\"}],\"scattergl\":[{\"marker\":{\"line\":{\"color\":\"#283442\"}},\"type\":\"scattergl\"}],\"scatter3d\":[{\"type\":\"scatter3d\",\"line\":{\"colorbar\":{\"outlinewidth\":0,\"ticks\":\"\"}},\"marker\":{\"colorbar\":{\"outlinewidth\":0,\"ticks\":\"\"}}}],\"scattermapbox\":[{\"type\":\"scattermapbox\",\"marker\":{\"colorbar\":{\"outlinewidth\":0,\"ticks\":\"\"}}}],\"scatterternary\":[{\"type\":\"scatterternary\",\"marker\":{\"colorbar\":{\"outlinewidth\":0,\"ticks\":\"\"}}}],\"scattercarpet\":[{\"type\":\"scattercarpet\",\"marker\":{\"colorbar\":{\"outlinewidth\":0,\"ticks\":\"\"}}}],\"carpet\":[{\"aaxis\":{\"endlinecolor\":\"#A2B1C6\",\"gridcolor\":\"#506784\",\"linecolor\":\"#506784\",\"minorgridcolor\":\"#506784\",\"startlinecolor\":\"#A2B1C6\"},\"baxis\":{\"endlinecolor\":\"#A2B1C6\",\"gridcolor\":\"#506784\",\"linecolor\":\"#506784\",\"minorgridcolor\":\"#506784\",\"startlinecolor\":\"#A2B1C6\"},\"type\":\"carpet\"}],\"table\":[{\"cells\":{\"fill\":{\"color\":\"#506784\"},\"line\":{\"color\":\"rgb(17,17,17)\"}},\"header\":{\"fill\":{\"color\":\"#2a3f5f\"},\"line\":{\"color\":\"rgb(17,17,17)\"}},\"type\":\"table\"}],\"barpolar\":[{\"marker\":{\"line\":{\"color\":\"rgb(17,17,17)\",\"width\":0.5},\"pattern\":{\"fillmode\":\"overlay\",\"size\":10,\"solidity\":0.2}},\"type\":\"barpolar\"}],\"pie\":[{\"automargin\":true,\"type\":\"pie\"}]},\"layout\":{\"autotypenumbers\":\"strict\",\"colorway\":[\"#636efa\",\"#EF553B\",\"#00cc96\",\"#ab63fa\",\"#FFA15A\",\"#19d3f3\",\"#FF6692\",\"#B6E880\",\"#FF97FF\",\"#FECB52\"],\"font\":{\"color\":\"#f2f5fa\"},\"hovermode\":\"closest\",\"hoverlabel\":{\"align\":\"left\"},\"paper_bgcolor\":\"rgb(17,17,17)\",\"plot_bgcolor\":\"rgb(17,17,17)\",\"polar\":{\"bgcolor\":\"rgb(17,17,17)\",\"angularaxis\":{\"gridcolor\":\"#506784\",\"linecolor\":\"#506784\",\"ticks\":\"\"},\"radialaxis\":{\"gridcolor\":\"#506784\",\"linecolor\":\"#506784\",\"ticks\":\"\"}},\"ternary\":{\"bgcolor\":\"rgb(17,17,17)\",\"aaxis\":{\"gridcolor\":\"#506784\",\"linecolor\":\"#506784\",\"ticks\":\"\"},\"baxis\":{\"gridcolor\":\"#506784\",\"linecolor\":\"#506784\",\"ticks\":\"\"},\"caxis\":{\"gridcolor\":\"#506784\",\"linecolor\":\"#506784\",\"ticks\":\"\"}},\"coloraxis\":{\"colorbar\":{\"outlinewidth\":0,\"ticks\":\"\"}},\"colorscale\":{\"sequential\":[[0.0,\"#0d0887\"],[0.1111111111111111,\"#46039f\"],[0.2222222222222222,\"#7201a8\"],[0.3333333333333333,\"#9c179e\"],[0.4444444444444444,\"#bd3786\"],[0.5555555555555556,\"#d8576b\"],[0.6666666666666666,\"#ed7953\"],[0.7777777777777778,\"#fb9f3a\"],[0.8888888888888888,\"#fdca26\"],[1.0,\"#f0f921\"]],\"sequentialminus\":[[0.0,\"#0d0887\"],[0.1111111111111111,\"#46039f\"],[0.2222222222222222,\"#7201a8\"],[0.3333333333333333,\"#9c179e\"],[0.4444444444444444,\"#bd3786\"],[0.5555555555555556,\"#d8576b\"],[0.6666666666666666,\"#ed7953\"],[0.7777777777777778,\"#fb9f3a\"],[0.8888888888888888,\"#fdca26\"],[1.0,\"#f0f921\"]],\"diverging\":[[0,\"#8e0152\"],[0.1,\"#c51b7d\"],[0.2,\"#de77ae\"],[0.3,\"#f1b6da\"],[0.4,\"#fde0ef\"],[0.5,\"#f7f7f7\"],[0.6,\"#e6f5d0\"],[0.7,\"#b8e186\"],[0.8,\"#7fbc41\"],[0.9,\"#4d9221\"],[1,\"#276419\"]]},\"xaxis\":{\"gridcolor\":\"#283442\",\"linecolor\":\"#506784\",\"ticks\":\"\",\"title\":{\"standoff\":15},\"zerolinecolor\":\"#283442\",\"automargin\":true,\"zerolinewidth\":2},\"yaxis\":{\"gridcolor\":\"#283442\",\"linecolor\":\"#506784\",\"ticks\":\"\",\"title\":{\"standoff\":15},\"zerolinecolor\":\"#283442\",\"automargin\":true,\"zerolinewidth\":2},\"scene\":{\"xaxis\":{\"backgroundcolor\":\"rgb(17,17,17)\",\"gridcolor\":\"#506784\",\"linecolor\":\"#506784\",\"showbackground\":true,\"ticks\":\"\",\"zerolinecolor\":\"#C8D4E3\",\"gridwidth\":2},\"yaxis\":{\"backgroundcolor\":\"rgb(17,17,17)\",\"gridcolor\":\"#506784\",\"linecolor\":\"#506784\",\"showbackground\":true,\"ticks\":\"\",\"zerolinecolor\":\"#C8D4E3\",\"gridwidth\":2},\"zaxis\":{\"backgroundcolor\":\"rgb(17,17,17)\",\"gridcolor\":\"#506784\",\"linecolor\":\"#506784\",\"showbackground\":true,\"ticks\":\"\",\"zerolinecolor\":\"#C8D4E3\",\"gridwidth\":2}},\"shapedefaults\":{\"line\":{\"color\":\"#f2f5fa\"}},\"annotationdefaults\":{\"arrowcolor\":\"#f2f5fa\",\"arrowhead\":0,\"arrowwidth\":1},\"geo\":{\"bgcolor\":\"rgb(17,17,17)\",\"landcolor\":\"rgb(17,17,17)\",\"subunitcolor\":\"#506784\",\"showland\":true,\"showlakes\":true,\"lakecolor\":\"rgb(17,17,17)\"},\"title\":{\"x\":0.05},\"updatemenudefaults\":{\"bgcolor\":\"#506784\",\"borderwidth\":0},\"sliderdefaults\":{\"bgcolor\":\"#C8D4E3\",\"borderwidth\":1,\"bordercolor\":\"rgb(17,17,17)\",\"tickwidth\":0},\"mapbox\":{\"style\":\"dark\"}}},\"title\":{\"text\":\"Inputs\",\"y\":0.9,\"x\":0.5,\"xanchor\":\"center\",\"yanchor\":\"top\"},\"font\":{\"size\":20},\"legend\":{\"font\":{\"size\":30},\"yanchor\":\"top\",\"y\":1.05,\"xanchor\":\"left\",\"x\":0.01},\"paper_bgcolor\":\"#1E1F22\",\"xaxis\":{\"title\":{\"text\":\"1st component\"}},\"yaxis\":{\"title\":{\"text\":\"2nd component\"},\"scaleanchor\":\"x\",\"scaleratio\":1},\"autosize\":false,\"width\":1300,\"height\":1300,\"showlegend\":true,\"plot_bgcolor\":\"#1E1F22\"},                        {\"responsive\": true}                    ).then(function(){\n                            \nvar gd = document.getElementById('7d50d57d-6e06-4cd9-8cab-9adbc8953519');\nvar x = new MutationObserver(function (mutations, observer) {{\n        var display = window.getComputedStyle(gd).display;\n        if (!display || display === 'none') {{\n            console.log([gd, 'removed!']);\n            Plotly.purge(gd);\n            observer.disconnect();\n        }}\n}});\n\n// Listen for the removal of the full notebook cells\nvar notebookContainer = gd.closest('#notebook-container');\nif (notebookContainer) {{\n    x.observe(notebookContainer, {childList: true});\n}}\n\n// Listen for the clearing of the current output cell\nvar outputEl = gd.closest('.output');\nif (outputEl) {{\n    x.observe(outputEl, {childList: true});\n}}\n\n                        })                };                });            </script>        </div>"
     },
     "metadata": {},
     "output_type": "display_data"
    }
   ],
   "source": [
    "fig_inputs = go.Figure()\n",
    "fig_inputs.add_trace(\n",
    "    go.Scatter(\n",
    "        x=x_0[0], y=x_0[1], mode=\"none\", name=r\"$\\Large{x^{(0)}}$\", fill=\"toself\"\n",
    "    )\n",
    ")\n",
    "fig_inputs.add_trace(\n",
    "    go.Scatter(x=theta_0[0], y=theta_0[1], mode=\"lines\", name=r\"$\\Large{\\Theta^{(0)}}$\")\n",
    ")\n",
    "fig_inputs.update_layout(\n",
    "    title=dict(text=\"Inputs\", **shared_title_params), **shared_layout\n",
    ")\n",
    "fig_inputs.update_yaxes(**shared_ratio)\n",
    "fig_inputs.show()"
   ],
   "metadata": {
    "collapsed": false
   }
  },
  {
   "cell_type": "markdown",
   "source": [
    "## Visualize first layer's transformations with discretizations"
   ],
   "metadata": {
    "collapsed": false
   }
  },
  {
   "cell_type": "code",
   "execution_count": 100,
   "outputs": [
    {
     "data": {
      "application/vnd.plotly.v1+json": {
       "data": [
        {
         "mode": "lines",
         "name": "$\\Large{\\Theta^{(0)}}$",
         "x": [
          -5.1606377858191035,
          -5.1606377858191035,
          4.074591920636097,
          4.074591920636097,
          -5.1606377858191035
         ],
         "y": [
          -1.393796995951563,
          0.6986749809092526,
          0.6986749809092526,
          -1.393796995951563,
          -1.393796995951563
         ],
         "type": "scatter"
        },
        {
         "mode": "lines",
         "name": "$\\Large{\\Theta^{(1)}}$",
         "x": [
          0.12899096008497263,
          0.12899096008497263,
          0.8581344384400857,
          0.8581344384400857,
          0.12899096008497263
         ],
         "y": [
          0.048269106479496726,
          0.9113382321424661,
          0.9113382321424661,
          0.048269106479496726,
          0.048269106479496726
         ],
         "type": "scatter"
        },
        {
         "fill": "toself",
         "mode": "none",
         "name": "$\\Large{z^{(1)}}$",
         "x": [
          1.7998809157995215,
          1.768496417825094,
          1.7371119198506664,
          1.7057274218762388,
          1.6743429239018108,
          1.6429584259273833,
          1.6115739279529557,
          1.5801894299785277,
          1.5488049320041002,
          1.5174204340296726,
          1.486035936055245,
          1.454651438080817,
          1.4232669401063895,
          1.391882442131962,
          1.3604979441575344,
          1.3291134461831065,
          1.297728948208679,
          1.2663444502342514,
          1.2349599522598238,
          1.2035754542853958,
          1.0397077971898252,
          0.8758401400942547,
          0.7119724829986841,
          0.5481048259031135,
          0.3842371688075429,
          0.22036951171197228,
          0.056501854616401725,
          -0.10736580247916896,
          -0.27123345957473965,
          -0.43510111667031015,
          -0.5989687737658806,
          -0.7628364308614515,
          -0.9267040879570222,
          -1.0905717450525927,
          -1.2544394021481633,
          -1.418307059243734,
          -1.5821747163393045,
          -1.7460423734348756,
          -1.9099100305304457,
          -1.8785255325560177,
          -1.8471410345815902,
          -1.8157565366071626,
          -1.784372038632735,
          -1.752987540658307,
          -1.7216030426838795,
          -1.690218544709452,
          -1.6588340467350244,
          -1.6274495487605964,
          -1.596065050786169,
          -1.5646805528117413,
          -1.5332960548373138,
          -1.5019115568628858,
          -1.4705270588884582,
          -1.4391425609140307,
          -1.4077580629396031,
          -1.3763735649651752,
          -1.3449890669907476,
          -1.31360456901632,
          -1.14973691192075,
          -0.9858692548251791,
          -0.8220015977296083,
          -0.6581339406340376,
          -0.49426628353846713,
          -0.33039862644289664,
          -0.1665309693473259,
          -0.00266331225175509,
          0.16120434484381535,
          0.3250720019393859,
          0.4889396590349566,
          0.6528073161305272,
          0.8166749732260979,
          0.9805426303216686,
          1.144410287417239,
          1.3082779445128097,
          1.4721456016083803,
          1.6360132587039509,
          1.7998809157995215
         ],
         "y": [
          -1.7738873197073342,
          -1.83744538610924,
          -1.9010034525111459,
          -1.9645615189130516,
          -2.0281195853149576,
          -2.0916776517168634,
          -2.155235718118769,
          -2.218793784520675,
          -2.2823518509225806,
          -2.345909917324487,
          -2.4094679837263926,
          -2.4730260501282983,
          -2.536584116530204,
          -2.60014218293211,
          -2.6637002493340156,
          -2.727258315735922,
          -2.7908163821378276,
          -2.8543744485397333,
          -2.917932514941639,
          -2.981490581343545,
          -2.7654920205604334,
          -2.549493459777322,
          -2.3334948989942106,
          -2.117496338211099,
          -1.901497777427988,
          -1.6854992166448763,
          -1.469500655861765,
          -1.2535020950786535,
          -1.0375035342955417,
          -0.8215049735124306,
          -0.6055064127293193,
          -0.38950785194620763,
          -0.173509291163096,
          0.0424892696200152,
          0.2584878304031265,
          0.47448639118623814,
          0.6904849519693498,
          0.9064835127524613,
          1.1224820735355723,
          1.1860401399374783,
          1.2495982063393842,
          1.31315627274129,
          1.3767143391431957,
          1.4402724055451015,
          1.5038304719470073,
          1.5673885383489132,
          1.630946604750819,
          1.694504671152725,
          1.7580627375546305,
          1.8216208039565367,
          1.8851788703584424,
          1.9487369367603482,
          2.012295003162254,
          2.0758530695641597,
          2.139411135966066,
          2.2029692023679717,
          2.2665272687698774,
          2.330085335171783,
          2.114086774388672,
          1.8980882136055603,
          1.682089652822449,
          1.4660910920393373,
          1.2500925312562259,
          1.0340939704731147,
          0.818095409690003,
          0.6020968489068915,
          0.3860982881237802,
          0.17009972734066903,
          -0.04589883344244264,
          -0.26189739422555414,
          -0.47789595500866555,
          -0.6938945157917771,
          -0.9098930765748885,
          -1.125891637358,
          -1.3418901981411113,
          -1.5578887589242227,
          -1.7738873197073342
         ],
         "type": "scatter"
        },
        {
         "mode": "lines",
         "name": "$\\Large{Z^{(1)}}$",
         "x": [
          -1.9099100305304457,
          -1.9099100305304457,
          1.799880915799522,
          1.799880915799522,
          -1.9099100305304457
         ],
         "y": [
          -2.9814905813435457,
          2.330085335171783,
          2.330085335171783,
          -2.9814905813435457,
          -2.9814905813435457
         ],
         "type": "scatter"
        },
        {
         "fill": "toself",
         "mode": "none",
         "name": "$\\Large{h (z^{(1)}})$",
         "x": [
          0.8581344384400857,
          0.8542705862727289,
          0.850319853962453,
          0.8462812896388956,
          0.842153987064626,
          0.8379370890556845,
          0.8336297909633134,
          0.8292313442089037,
          0.8247410598633961,
          0.8201583122615675,
          0.8154825426408489,
          0.8107132627935081,
          0.8058500587202464,
          0.8008925942724736,
          0.7958406147697723,
          0.7906939505783295,
          0.7854525206354206,
          0.78011633590438,
          0.7746855027438952,
          0.7691602261749269,
          0.7387936214200742,
          0.7059594548800373,
          0.6708368598610543,
          0.6336957844633664,
          0.5948946486743576,
          0.5548705023691126,
          0.514121706939104,
          0.4731843040716991,
          0.43260430760318624,
          0.3929088921566311,
          0.3545796575068447,
          0.31803076339724223,
          0.2835938617496255,
          0.25151063036168164,
          0.22193260319400585,
          0.19492712049023367,
          0.17048770962122362,
          0.1485470660164779,
          0.12899096008497263,
          0.13255832572722434,
          0.1362089218745764,
          0.1399438344106255,
          0.14376411499691477,
          0.1476707779189188,
          0.15166479684884063,
          0.1557471015305764,
          0.15991857439292428,
          0.16418004709785908,
          0.16853229703145753,
          0.17297604374584027,
          0.1775119453612871,
          0.18214059493848245,
          0.18686251683164892,
          0.1916781630341233,
          0.19658790952871508,
          0.2015920526559595,
          0.20669080551411995,
          0.21188429440550932,
          0.24053714044381577,
          0.2717287488239234,
          0.30533894151504826,
          0.34115892039289614,
          0.3788890565237504,
          0.41814363436633595,
          0.45846320680380287,
          0.49933417233063376,
          0.5402140375898824,
          0.5805598381227121,
          0.6198566113165919,
          0.6576428058094657,
          0.6935300737276585,
          0.7272158727880299,
          0.7584884526017746,
          0.7872248510091193,
          0.8133832878730269,
          0.8369917306146495,
          0.8581344384400857
         ],
         "y": [
          0.14505956859207253,
          0.13735370248154702,
          0.12999494549550406,
          0.12297423388971118,
          0.11628201505440038,
          0.10990834477109036,
          0.1038429776267241,
          0.09807545037000037,
          0.09259515813024065,
          0.08739142353532975,
          0.08245355886277626,
          0.0777709214377382,
          0.07333296255523815,
          0.06912927025222504,
          0.06514960629021913,
          0.06138393773262643,
          0.05782246351403764,
          0.05445563640347698,
          0.051274180761090866,
          0.04826910647949677,
          0.0592176587149882,
          0.07246052255544115,
          0.08838665827591295,
          0.10740786426194314,
          0.12993904942104395,
          0.1563686543510124,
          0.1870185236816999,
          0.2220944981777817,
          0.26163197580377223,
          0.30544428920594563,
          0.35308492608757364,
          0.40383578093975736,
          0.4567311751551077,
          0.5106207196206566,
          0.564264530756422,
          0.6164450738386907,
          0.666074798047845,
          0.712280042056904,
          0.7544488253062286,
          0.7660320984819933,
          0.7772303010193846,
          0.7880408352262214,
          0.7984627902895532,
          0.8084968314531057,
          0.8181450826765769,
          0.8274110050266437,
          0.8362992728749968,
          0.844815649778885,
          0.8529668657036873,
          0.8607604970232384,
          0.8682048505092362,
          0.8753088523021164,
          0.8820819426471661,
          0.8885339769850917,
          0.8946751338083915,
          0.900515829535392,
          0.9060666405135271,
          0.9113382321424661,
          0.8922648182103582,
          0.8696749961035398,
          0.8431810373594683,
          0.8124625240983704,
          0.7773158783670953,
          0.7377088272101047,
          0.6938318989517145,
          0.6461358855618251,
          0.5953430898057475,
          0.5424226932364288,
          0.48852730569854724,
          0.4348973440045249,
          0.3827490877538747,
          0.3331672795280758,
          0.2870217175860065,
          0.24492008135862292,
          0.2071993880178862,
          0.17394980513363348,
          0.14505956859207253
         ],
         "type": "scatter"
        }
       ],
       "layout": {
        "template": {
         "data": {
          "histogram2dcontour": [
           {
            "type": "histogram2dcontour",
            "colorbar": {
             "outlinewidth": 0,
             "ticks": ""
            },
            "colorscale": [
             [
              0.0,
              "#0d0887"
             ],
             [
              0.1111111111111111,
              "#46039f"
             ],
             [
              0.2222222222222222,
              "#7201a8"
             ],
             [
              0.3333333333333333,
              "#9c179e"
             ],
             [
              0.4444444444444444,
              "#bd3786"
             ],
             [
              0.5555555555555556,
              "#d8576b"
             ],
             [
              0.6666666666666666,
              "#ed7953"
             ],
             [
              0.7777777777777778,
              "#fb9f3a"
             ],
             [
              0.8888888888888888,
              "#fdca26"
             ],
             [
              1.0,
              "#f0f921"
             ]
            ]
           }
          ],
          "choropleth": [
           {
            "type": "choropleth",
            "colorbar": {
             "outlinewidth": 0,
             "ticks": ""
            }
           }
          ],
          "histogram2d": [
           {
            "type": "histogram2d",
            "colorbar": {
             "outlinewidth": 0,
             "ticks": ""
            },
            "colorscale": [
             [
              0.0,
              "#0d0887"
             ],
             [
              0.1111111111111111,
              "#46039f"
             ],
             [
              0.2222222222222222,
              "#7201a8"
             ],
             [
              0.3333333333333333,
              "#9c179e"
             ],
             [
              0.4444444444444444,
              "#bd3786"
             ],
             [
              0.5555555555555556,
              "#d8576b"
             ],
             [
              0.6666666666666666,
              "#ed7953"
             ],
             [
              0.7777777777777778,
              "#fb9f3a"
             ],
             [
              0.8888888888888888,
              "#fdca26"
             ],
             [
              1.0,
              "#f0f921"
             ]
            ]
           }
          ],
          "heatmap": [
           {
            "type": "heatmap",
            "colorbar": {
             "outlinewidth": 0,
             "ticks": ""
            },
            "colorscale": [
             [
              0.0,
              "#0d0887"
             ],
             [
              0.1111111111111111,
              "#46039f"
             ],
             [
              0.2222222222222222,
              "#7201a8"
             ],
             [
              0.3333333333333333,
              "#9c179e"
             ],
             [
              0.4444444444444444,
              "#bd3786"
             ],
             [
              0.5555555555555556,
              "#d8576b"
             ],
             [
              0.6666666666666666,
              "#ed7953"
             ],
             [
              0.7777777777777778,
              "#fb9f3a"
             ],
             [
              0.8888888888888888,
              "#fdca26"
             ],
             [
              1.0,
              "#f0f921"
             ]
            ]
           }
          ],
          "heatmapgl": [
           {
            "type": "heatmapgl",
            "colorbar": {
             "outlinewidth": 0,
             "ticks": ""
            },
            "colorscale": [
             [
              0.0,
              "#0d0887"
             ],
             [
              0.1111111111111111,
              "#46039f"
             ],
             [
              0.2222222222222222,
              "#7201a8"
             ],
             [
              0.3333333333333333,
              "#9c179e"
             ],
             [
              0.4444444444444444,
              "#bd3786"
             ],
             [
              0.5555555555555556,
              "#d8576b"
             ],
             [
              0.6666666666666666,
              "#ed7953"
             ],
             [
              0.7777777777777778,
              "#fb9f3a"
             ],
             [
              0.8888888888888888,
              "#fdca26"
             ],
             [
              1.0,
              "#f0f921"
             ]
            ]
           }
          ],
          "contourcarpet": [
           {
            "type": "contourcarpet",
            "colorbar": {
             "outlinewidth": 0,
             "ticks": ""
            }
           }
          ],
          "contour": [
           {
            "type": "contour",
            "colorbar": {
             "outlinewidth": 0,
             "ticks": ""
            },
            "colorscale": [
             [
              0.0,
              "#0d0887"
             ],
             [
              0.1111111111111111,
              "#46039f"
             ],
             [
              0.2222222222222222,
              "#7201a8"
             ],
             [
              0.3333333333333333,
              "#9c179e"
             ],
             [
              0.4444444444444444,
              "#bd3786"
             ],
             [
              0.5555555555555556,
              "#d8576b"
             ],
             [
              0.6666666666666666,
              "#ed7953"
             ],
             [
              0.7777777777777778,
              "#fb9f3a"
             ],
             [
              0.8888888888888888,
              "#fdca26"
             ],
             [
              1.0,
              "#f0f921"
             ]
            ]
           }
          ],
          "surface": [
           {
            "type": "surface",
            "colorbar": {
             "outlinewidth": 0,
             "ticks": ""
            },
            "colorscale": [
             [
              0.0,
              "#0d0887"
             ],
             [
              0.1111111111111111,
              "#46039f"
             ],
             [
              0.2222222222222222,
              "#7201a8"
             ],
             [
              0.3333333333333333,
              "#9c179e"
             ],
             [
              0.4444444444444444,
              "#bd3786"
             ],
             [
              0.5555555555555556,
              "#d8576b"
             ],
             [
              0.6666666666666666,
              "#ed7953"
             ],
             [
              0.7777777777777778,
              "#fb9f3a"
             ],
             [
              0.8888888888888888,
              "#fdca26"
             ],
             [
              1.0,
              "#f0f921"
             ]
            ]
           }
          ],
          "mesh3d": [
           {
            "type": "mesh3d",
            "colorbar": {
             "outlinewidth": 0,
             "ticks": ""
            }
           }
          ],
          "scatter": [
           {
            "marker": {
             "line": {
              "color": "#283442"
             }
            },
            "type": "scatter"
           }
          ],
          "parcoords": [
           {
            "type": "parcoords",
            "line": {
             "colorbar": {
              "outlinewidth": 0,
              "ticks": ""
             }
            }
           }
          ],
          "scatterpolargl": [
           {
            "type": "scatterpolargl",
            "marker": {
             "colorbar": {
              "outlinewidth": 0,
              "ticks": ""
             }
            }
           }
          ],
          "bar": [
           {
            "error_x": {
             "color": "#f2f5fa"
            },
            "error_y": {
             "color": "#f2f5fa"
            },
            "marker": {
             "line": {
              "color": "rgb(17,17,17)",
              "width": 0.5
             },
             "pattern": {
              "fillmode": "overlay",
              "size": 10,
              "solidity": 0.2
             }
            },
            "type": "bar"
           }
          ],
          "scattergeo": [
           {
            "type": "scattergeo",
            "marker": {
             "colorbar": {
              "outlinewidth": 0,
              "ticks": ""
             }
            }
           }
          ],
          "scatterpolar": [
           {
            "type": "scatterpolar",
            "marker": {
             "colorbar": {
              "outlinewidth": 0,
              "ticks": ""
             }
            }
           }
          ],
          "histogram": [
           {
            "marker": {
             "pattern": {
              "fillmode": "overlay",
              "size": 10,
              "solidity": 0.2
             }
            },
            "type": "histogram"
           }
          ],
          "scattergl": [
           {
            "marker": {
             "line": {
              "color": "#283442"
             }
            },
            "type": "scattergl"
           }
          ],
          "scatter3d": [
           {
            "type": "scatter3d",
            "line": {
             "colorbar": {
              "outlinewidth": 0,
              "ticks": ""
             }
            },
            "marker": {
             "colorbar": {
              "outlinewidth": 0,
              "ticks": ""
             }
            }
           }
          ],
          "scattermapbox": [
           {
            "type": "scattermapbox",
            "marker": {
             "colorbar": {
              "outlinewidth": 0,
              "ticks": ""
             }
            }
           }
          ],
          "scatterternary": [
           {
            "type": "scatterternary",
            "marker": {
             "colorbar": {
              "outlinewidth": 0,
              "ticks": ""
             }
            }
           }
          ],
          "scattercarpet": [
           {
            "type": "scattercarpet",
            "marker": {
             "colorbar": {
              "outlinewidth": 0,
              "ticks": ""
             }
            }
           }
          ],
          "carpet": [
           {
            "aaxis": {
             "endlinecolor": "#A2B1C6",
             "gridcolor": "#506784",
             "linecolor": "#506784",
             "minorgridcolor": "#506784",
             "startlinecolor": "#A2B1C6"
            },
            "baxis": {
             "endlinecolor": "#A2B1C6",
             "gridcolor": "#506784",
             "linecolor": "#506784",
             "minorgridcolor": "#506784",
             "startlinecolor": "#A2B1C6"
            },
            "type": "carpet"
           }
          ],
          "table": [
           {
            "cells": {
             "fill": {
              "color": "#506784"
             },
             "line": {
              "color": "rgb(17,17,17)"
             }
            },
            "header": {
             "fill": {
              "color": "#2a3f5f"
             },
             "line": {
              "color": "rgb(17,17,17)"
             }
            },
            "type": "table"
           }
          ],
          "barpolar": [
           {
            "marker": {
             "line": {
              "color": "rgb(17,17,17)",
              "width": 0.5
             },
             "pattern": {
              "fillmode": "overlay",
              "size": 10,
              "solidity": 0.2
             }
            },
            "type": "barpolar"
           }
          ],
          "pie": [
           {
            "automargin": true,
            "type": "pie"
           }
          ]
         },
         "layout": {
          "autotypenumbers": "strict",
          "colorway": [
           "#636efa",
           "#EF553B",
           "#00cc96",
           "#ab63fa",
           "#FFA15A",
           "#19d3f3",
           "#FF6692",
           "#B6E880",
           "#FF97FF",
           "#FECB52"
          ],
          "font": {
           "color": "#f2f5fa"
          },
          "hovermode": "closest",
          "hoverlabel": {
           "align": "left"
          },
          "paper_bgcolor": "rgb(17,17,17)",
          "plot_bgcolor": "rgb(17,17,17)",
          "polar": {
           "bgcolor": "rgb(17,17,17)",
           "angularaxis": {
            "gridcolor": "#506784",
            "linecolor": "#506784",
            "ticks": ""
           },
           "radialaxis": {
            "gridcolor": "#506784",
            "linecolor": "#506784",
            "ticks": ""
           }
          },
          "ternary": {
           "bgcolor": "rgb(17,17,17)",
           "aaxis": {
            "gridcolor": "#506784",
            "linecolor": "#506784",
            "ticks": ""
           },
           "baxis": {
            "gridcolor": "#506784",
            "linecolor": "#506784",
            "ticks": ""
           },
           "caxis": {
            "gridcolor": "#506784",
            "linecolor": "#506784",
            "ticks": ""
           }
          },
          "coloraxis": {
           "colorbar": {
            "outlinewidth": 0,
            "ticks": ""
           }
          },
          "colorscale": {
           "sequential": [
            [
             0.0,
             "#0d0887"
            ],
            [
             0.1111111111111111,
             "#46039f"
            ],
            [
             0.2222222222222222,
             "#7201a8"
            ],
            [
             0.3333333333333333,
             "#9c179e"
            ],
            [
             0.4444444444444444,
             "#bd3786"
            ],
            [
             0.5555555555555556,
             "#d8576b"
            ],
            [
             0.6666666666666666,
             "#ed7953"
            ],
            [
             0.7777777777777778,
             "#fb9f3a"
            ],
            [
             0.8888888888888888,
             "#fdca26"
            ],
            [
             1.0,
             "#f0f921"
            ]
           ],
           "sequentialminus": [
            [
             0.0,
             "#0d0887"
            ],
            [
             0.1111111111111111,
             "#46039f"
            ],
            [
             0.2222222222222222,
             "#7201a8"
            ],
            [
             0.3333333333333333,
             "#9c179e"
            ],
            [
             0.4444444444444444,
             "#bd3786"
            ],
            [
             0.5555555555555556,
             "#d8576b"
            ],
            [
             0.6666666666666666,
             "#ed7953"
            ],
            [
             0.7777777777777778,
             "#fb9f3a"
            ],
            [
             0.8888888888888888,
             "#fdca26"
            ],
            [
             1.0,
             "#f0f921"
            ]
           ],
           "diverging": [
            [
             0,
             "#8e0152"
            ],
            [
             0.1,
             "#c51b7d"
            ],
            [
             0.2,
             "#de77ae"
            ],
            [
             0.3,
             "#f1b6da"
            ],
            [
             0.4,
             "#fde0ef"
            ],
            [
             0.5,
             "#f7f7f7"
            ],
            [
             0.6,
             "#e6f5d0"
            ],
            [
             0.7,
             "#b8e186"
            ],
            [
             0.8,
             "#7fbc41"
            ],
            [
             0.9,
             "#4d9221"
            ],
            [
             1,
             "#276419"
            ]
           ]
          },
          "xaxis": {
           "gridcolor": "#283442",
           "linecolor": "#506784",
           "ticks": "",
           "title": {
            "standoff": 15
           },
           "zerolinecolor": "#283442",
           "automargin": true,
           "zerolinewidth": 2
          },
          "yaxis": {
           "gridcolor": "#283442",
           "linecolor": "#506784",
           "ticks": "",
           "title": {
            "standoff": 15
           },
           "zerolinecolor": "#283442",
           "automargin": true,
           "zerolinewidth": 2
          },
          "scene": {
           "xaxis": {
            "backgroundcolor": "rgb(17,17,17)",
            "gridcolor": "#506784",
            "linecolor": "#506784",
            "showbackground": true,
            "ticks": "",
            "zerolinecolor": "#C8D4E3",
            "gridwidth": 2
           },
           "yaxis": {
            "backgroundcolor": "rgb(17,17,17)",
            "gridcolor": "#506784",
            "linecolor": "#506784",
            "showbackground": true,
            "ticks": "",
            "zerolinecolor": "#C8D4E3",
            "gridwidth": 2
           },
           "zaxis": {
            "backgroundcolor": "rgb(17,17,17)",
            "gridcolor": "#506784",
            "linecolor": "#506784",
            "showbackground": true,
            "ticks": "",
            "zerolinecolor": "#C8D4E3",
            "gridwidth": 2
           }
          },
          "shapedefaults": {
           "line": {
            "color": "#f2f5fa"
           }
          },
          "annotationdefaults": {
           "arrowcolor": "#f2f5fa",
           "arrowhead": 0,
           "arrowwidth": 1
          },
          "geo": {
           "bgcolor": "rgb(17,17,17)",
           "landcolor": "rgb(17,17,17)",
           "subunitcolor": "#506784",
           "showland": true,
           "showlakes": true,
           "lakecolor": "rgb(17,17,17)"
          },
          "title": {
           "x": 0.05
          },
          "updatemenudefaults": {
           "bgcolor": "#506784",
           "borderwidth": 0
          },
          "sliderdefaults": {
           "bgcolor": "#C8D4E3",
           "borderwidth": 1,
           "bordercolor": "rgb(17,17,17)",
           "tickwidth": 0
          },
          "mapbox": {
           "style": "dark"
          }
         }
        },
        "title": {
         "text": "First layer's transformations",
         "y": 0.9,
         "x": 0.5,
         "xanchor": "center",
         "yanchor": "top"
        },
        "font": {
         "size": 20
        },
        "legend": {
         "font": {
          "size": 30
         },
         "yanchor": "top",
         "y": 1.05,
         "xanchor": "left",
         "x": 0.01
        },
        "paper_bgcolor": "#1E1F22",
        "xaxis": {
         "title": {
          "text": "1st component"
         },
         "scaleanchor": "x",
         "scaleratio": 1,
         "tickvals": [
          -1.9099100305304457,
          -1.4461861622391998,
          -0.9824622939479539,
          -0.518738425656708,
          -0.055014557365462124,
          0.4087093109257838,
          0.8724331792170297,
          1.3361570475082756,
          1.7998809157995215
         ],
         "ticktext": [
          -1.9,
          -1.4,
          -1.0,
          -0.5,
          "$\\Large{\\xi_0^{(1)}}$",
          0.4,
          0.9,
          1.3,
          1.8
         ]
        },
        "yaxis": {
         "title": {
          "text": "2nd component"
         },
         "scaleanchor": "x",
         "scaleratio": 1,
         "tickvals": [
          -2.981490581343545,
          -2.317543591779129,
          -1.6535966022147128,
          -0.9896496126502967,
          -0.3257026230858808,
          0.33824436647853506,
          1.0021913560429514,
          1.6661383456073668,
          2.330085335171783
         ],
         "ticktext": [
          -3.0,
          -2.3,
          -1.7,
          -1.0,
          "$\\Large{\\xi_1^{(1)}}$",
          0.3,
          1.0,
          1.7,
          2.3
         ]
        },
        "autosize": false,
        "width": 1300,
        "height": 1300,
        "showlegend": true,
        "plot_bgcolor": "#1E1F22"
       },
       "config": {
        "plotlyServerURL": "https://plot.ly"
       }
      },
      "text/html": "<div>                            <div id=\"c6cab51c-53ba-4614-aefc-0d13fab3528e\" class=\"plotly-graph-div\" style=\"height:1300px; width:1300px;\"></div>            <script type=\"text/javascript\">                require([\"plotly\"], function(Plotly) {                    window.PLOTLYENV=window.PLOTLYENV || {};                                    if (document.getElementById(\"c6cab51c-53ba-4614-aefc-0d13fab3528e\")) {                    Plotly.newPlot(                        \"c6cab51c-53ba-4614-aefc-0d13fab3528e\",                        [{\"mode\":\"lines\",\"name\":\"$\\\\Large{\\\\Theta^{(0)}}$\",\"x\":[-5.1606377858191035,-5.1606377858191035,4.074591920636097,4.074591920636097,-5.1606377858191035],\"y\":[-1.393796995951563,0.6986749809092526,0.6986749809092526,-1.393796995951563,-1.393796995951563],\"type\":\"scatter\"},{\"mode\":\"lines\",\"name\":\"$\\\\Large{\\\\Theta^{(1)}}$\",\"x\":[0.12899096008497263,0.12899096008497263,0.8581344384400857,0.8581344384400857,0.12899096008497263],\"y\":[0.048269106479496726,0.9113382321424661,0.9113382321424661,0.048269106479496726,0.048269106479496726],\"type\":\"scatter\"},{\"fill\":\"toself\",\"mode\":\"none\",\"name\":\"$\\\\Large{z^{(1)}}$\",\"x\":[1.7998809157995215,1.768496417825094,1.7371119198506664,1.7057274218762388,1.6743429239018108,1.6429584259273833,1.6115739279529557,1.5801894299785277,1.5488049320041002,1.5174204340296726,1.486035936055245,1.454651438080817,1.4232669401063895,1.391882442131962,1.3604979441575344,1.3291134461831065,1.297728948208679,1.2663444502342514,1.2349599522598238,1.2035754542853958,1.0397077971898252,0.8758401400942547,0.7119724829986841,0.5481048259031135,0.3842371688075429,0.22036951171197228,0.056501854616401725,-0.10736580247916896,-0.27123345957473965,-0.43510111667031015,-0.5989687737658806,-0.7628364308614515,-0.9267040879570222,-1.0905717450525927,-1.2544394021481633,-1.418307059243734,-1.5821747163393045,-1.7460423734348756,-1.9099100305304457,-1.8785255325560177,-1.8471410345815902,-1.8157565366071626,-1.784372038632735,-1.752987540658307,-1.7216030426838795,-1.690218544709452,-1.6588340467350244,-1.6274495487605964,-1.596065050786169,-1.5646805528117413,-1.5332960548373138,-1.5019115568628858,-1.4705270588884582,-1.4391425609140307,-1.4077580629396031,-1.3763735649651752,-1.3449890669907476,-1.31360456901632,-1.14973691192075,-0.9858692548251791,-0.8220015977296083,-0.6581339406340376,-0.49426628353846713,-0.33039862644289664,-0.1665309693473259,-0.00266331225175509,0.16120434484381535,0.3250720019393859,0.4889396590349566,0.6528073161305272,0.8166749732260979,0.9805426303216686,1.144410287417239,1.3082779445128097,1.4721456016083803,1.6360132587039509,1.7998809157995215],\"y\":[-1.7738873197073342,-1.83744538610924,-1.9010034525111459,-1.9645615189130516,-2.0281195853149576,-2.0916776517168634,-2.155235718118769,-2.218793784520675,-2.2823518509225806,-2.345909917324487,-2.4094679837263926,-2.4730260501282983,-2.536584116530204,-2.60014218293211,-2.6637002493340156,-2.727258315735922,-2.7908163821378276,-2.8543744485397333,-2.917932514941639,-2.981490581343545,-2.7654920205604334,-2.549493459777322,-2.3334948989942106,-2.117496338211099,-1.901497777427988,-1.6854992166448763,-1.469500655861765,-1.2535020950786535,-1.0375035342955417,-0.8215049735124306,-0.6055064127293193,-0.38950785194620763,-0.173509291163096,0.0424892696200152,0.2584878304031265,0.47448639118623814,0.6904849519693498,0.9064835127524613,1.1224820735355723,1.1860401399374783,1.2495982063393842,1.31315627274129,1.3767143391431957,1.4402724055451015,1.5038304719470073,1.5673885383489132,1.630946604750819,1.694504671152725,1.7580627375546305,1.8216208039565367,1.8851788703584424,1.9487369367603482,2.012295003162254,2.0758530695641597,2.139411135966066,2.2029692023679717,2.2665272687698774,2.330085335171783,2.114086774388672,1.8980882136055603,1.682089652822449,1.4660910920393373,1.2500925312562259,1.0340939704731147,0.818095409690003,0.6020968489068915,0.3860982881237802,0.17009972734066903,-0.04589883344244264,-0.26189739422555414,-0.47789595500866555,-0.6938945157917771,-0.9098930765748885,-1.125891637358,-1.3418901981411113,-1.5578887589242227,-1.7738873197073342],\"type\":\"scatter\"},{\"mode\":\"lines\",\"name\":\"$\\\\Large{Z^{(1)}}$\",\"x\":[-1.9099100305304457,-1.9099100305304457,1.799880915799522,1.799880915799522,-1.9099100305304457],\"y\":[-2.9814905813435457,2.330085335171783,2.330085335171783,-2.9814905813435457,-2.9814905813435457],\"type\":\"scatter\"},{\"fill\":\"toself\",\"mode\":\"none\",\"name\":\"$\\\\Large{h (z^{(1)}})$\",\"x\":[0.8581344384400857,0.8542705862727289,0.850319853962453,0.8462812896388956,0.842153987064626,0.8379370890556845,0.8336297909633134,0.8292313442089037,0.8247410598633961,0.8201583122615675,0.8154825426408489,0.8107132627935081,0.8058500587202464,0.8008925942724736,0.7958406147697723,0.7906939505783295,0.7854525206354206,0.78011633590438,0.7746855027438952,0.7691602261749269,0.7387936214200742,0.7059594548800373,0.6708368598610543,0.6336957844633664,0.5948946486743576,0.5548705023691126,0.514121706939104,0.4731843040716991,0.43260430760318624,0.3929088921566311,0.3545796575068447,0.31803076339724223,0.2835938617496255,0.25151063036168164,0.22193260319400585,0.19492712049023367,0.17048770962122362,0.1485470660164779,0.12899096008497263,0.13255832572722434,0.1362089218745764,0.1399438344106255,0.14376411499691477,0.1476707779189188,0.15166479684884063,0.1557471015305764,0.15991857439292428,0.16418004709785908,0.16853229703145753,0.17297604374584027,0.1775119453612871,0.18214059493848245,0.18686251683164892,0.1916781630341233,0.19658790952871508,0.2015920526559595,0.20669080551411995,0.21188429440550932,0.24053714044381577,0.2717287488239234,0.30533894151504826,0.34115892039289614,0.3788890565237504,0.41814363436633595,0.45846320680380287,0.49933417233063376,0.5402140375898824,0.5805598381227121,0.6198566113165919,0.6576428058094657,0.6935300737276585,0.7272158727880299,0.7584884526017746,0.7872248510091193,0.8133832878730269,0.8369917306146495,0.8581344384400857],\"y\":[0.14505956859207253,0.13735370248154702,0.12999494549550406,0.12297423388971118,0.11628201505440038,0.10990834477109036,0.1038429776267241,0.09807545037000037,0.09259515813024065,0.08739142353532975,0.08245355886277626,0.0777709214377382,0.07333296255523815,0.06912927025222504,0.06514960629021913,0.06138393773262643,0.05782246351403764,0.05445563640347698,0.051274180761090866,0.04826910647949677,0.0592176587149882,0.07246052255544115,0.08838665827591295,0.10740786426194314,0.12993904942104395,0.1563686543510124,0.1870185236816999,0.2220944981777817,0.26163197580377223,0.30544428920594563,0.35308492608757364,0.40383578093975736,0.4567311751551077,0.5106207196206566,0.564264530756422,0.6164450738386907,0.666074798047845,0.712280042056904,0.7544488253062286,0.7660320984819933,0.7772303010193846,0.7880408352262214,0.7984627902895532,0.8084968314531057,0.8181450826765769,0.8274110050266437,0.8362992728749968,0.844815649778885,0.8529668657036873,0.8607604970232384,0.8682048505092362,0.8753088523021164,0.8820819426471661,0.8885339769850917,0.8946751338083915,0.900515829535392,0.9060666405135271,0.9113382321424661,0.8922648182103582,0.8696749961035398,0.8431810373594683,0.8124625240983704,0.7773158783670953,0.7377088272101047,0.6938318989517145,0.6461358855618251,0.5953430898057475,0.5424226932364288,0.48852730569854724,0.4348973440045249,0.3827490877538747,0.3331672795280758,0.2870217175860065,0.24492008135862292,0.2071993880178862,0.17394980513363348,0.14505956859207253],\"type\":\"scatter\"}],                        {\"template\":{\"data\":{\"histogram2dcontour\":[{\"type\":\"histogram2dcontour\",\"colorbar\":{\"outlinewidth\":0,\"ticks\":\"\"},\"colorscale\":[[0.0,\"#0d0887\"],[0.1111111111111111,\"#46039f\"],[0.2222222222222222,\"#7201a8\"],[0.3333333333333333,\"#9c179e\"],[0.4444444444444444,\"#bd3786\"],[0.5555555555555556,\"#d8576b\"],[0.6666666666666666,\"#ed7953\"],[0.7777777777777778,\"#fb9f3a\"],[0.8888888888888888,\"#fdca26\"],[1.0,\"#f0f921\"]]}],\"choropleth\":[{\"type\":\"choropleth\",\"colorbar\":{\"outlinewidth\":0,\"ticks\":\"\"}}],\"histogram2d\":[{\"type\":\"histogram2d\",\"colorbar\":{\"outlinewidth\":0,\"ticks\":\"\"},\"colorscale\":[[0.0,\"#0d0887\"],[0.1111111111111111,\"#46039f\"],[0.2222222222222222,\"#7201a8\"],[0.3333333333333333,\"#9c179e\"],[0.4444444444444444,\"#bd3786\"],[0.5555555555555556,\"#d8576b\"],[0.6666666666666666,\"#ed7953\"],[0.7777777777777778,\"#fb9f3a\"],[0.8888888888888888,\"#fdca26\"],[1.0,\"#f0f921\"]]}],\"heatmap\":[{\"type\":\"heatmap\",\"colorbar\":{\"outlinewidth\":0,\"ticks\":\"\"},\"colorscale\":[[0.0,\"#0d0887\"],[0.1111111111111111,\"#46039f\"],[0.2222222222222222,\"#7201a8\"],[0.3333333333333333,\"#9c179e\"],[0.4444444444444444,\"#bd3786\"],[0.5555555555555556,\"#d8576b\"],[0.6666666666666666,\"#ed7953\"],[0.7777777777777778,\"#fb9f3a\"],[0.8888888888888888,\"#fdca26\"],[1.0,\"#f0f921\"]]}],\"heatmapgl\":[{\"type\":\"heatmapgl\",\"colorbar\":{\"outlinewidth\":0,\"ticks\":\"\"},\"colorscale\":[[0.0,\"#0d0887\"],[0.1111111111111111,\"#46039f\"],[0.2222222222222222,\"#7201a8\"],[0.3333333333333333,\"#9c179e\"],[0.4444444444444444,\"#bd3786\"],[0.5555555555555556,\"#d8576b\"],[0.6666666666666666,\"#ed7953\"],[0.7777777777777778,\"#fb9f3a\"],[0.8888888888888888,\"#fdca26\"],[1.0,\"#f0f921\"]]}],\"contourcarpet\":[{\"type\":\"contourcarpet\",\"colorbar\":{\"outlinewidth\":0,\"ticks\":\"\"}}],\"contour\":[{\"type\":\"contour\",\"colorbar\":{\"outlinewidth\":0,\"ticks\":\"\"},\"colorscale\":[[0.0,\"#0d0887\"],[0.1111111111111111,\"#46039f\"],[0.2222222222222222,\"#7201a8\"],[0.3333333333333333,\"#9c179e\"],[0.4444444444444444,\"#bd3786\"],[0.5555555555555556,\"#d8576b\"],[0.6666666666666666,\"#ed7953\"],[0.7777777777777778,\"#fb9f3a\"],[0.8888888888888888,\"#fdca26\"],[1.0,\"#f0f921\"]]}],\"surface\":[{\"type\":\"surface\",\"colorbar\":{\"outlinewidth\":0,\"ticks\":\"\"},\"colorscale\":[[0.0,\"#0d0887\"],[0.1111111111111111,\"#46039f\"],[0.2222222222222222,\"#7201a8\"],[0.3333333333333333,\"#9c179e\"],[0.4444444444444444,\"#bd3786\"],[0.5555555555555556,\"#d8576b\"],[0.6666666666666666,\"#ed7953\"],[0.7777777777777778,\"#fb9f3a\"],[0.8888888888888888,\"#fdca26\"],[1.0,\"#f0f921\"]]}],\"mesh3d\":[{\"type\":\"mesh3d\",\"colorbar\":{\"outlinewidth\":0,\"ticks\":\"\"}}],\"scatter\":[{\"marker\":{\"line\":{\"color\":\"#283442\"}},\"type\":\"scatter\"}],\"parcoords\":[{\"type\":\"parcoords\",\"line\":{\"colorbar\":{\"outlinewidth\":0,\"ticks\":\"\"}}}],\"scatterpolargl\":[{\"type\":\"scatterpolargl\",\"marker\":{\"colorbar\":{\"outlinewidth\":0,\"ticks\":\"\"}}}],\"bar\":[{\"error_x\":{\"color\":\"#f2f5fa\"},\"error_y\":{\"color\":\"#f2f5fa\"},\"marker\":{\"line\":{\"color\":\"rgb(17,17,17)\",\"width\":0.5},\"pattern\":{\"fillmode\":\"overlay\",\"size\":10,\"solidity\":0.2}},\"type\":\"bar\"}],\"scattergeo\":[{\"type\":\"scattergeo\",\"marker\":{\"colorbar\":{\"outlinewidth\":0,\"ticks\":\"\"}}}],\"scatterpolar\":[{\"type\":\"scatterpolar\",\"marker\":{\"colorbar\":{\"outlinewidth\":0,\"ticks\":\"\"}}}],\"histogram\":[{\"marker\":{\"pattern\":{\"fillmode\":\"overlay\",\"size\":10,\"solidity\":0.2}},\"type\":\"histogram\"}],\"scattergl\":[{\"marker\":{\"line\":{\"color\":\"#283442\"}},\"type\":\"scattergl\"}],\"scatter3d\":[{\"type\":\"scatter3d\",\"line\":{\"colorbar\":{\"outlinewidth\":0,\"ticks\":\"\"}},\"marker\":{\"colorbar\":{\"outlinewidth\":0,\"ticks\":\"\"}}}],\"scattermapbox\":[{\"type\":\"scattermapbox\",\"marker\":{\"colorbar\":{\"outlinewidth\":0,\"ticks\":\"\"}}}],\"scatterternary\":[{\"type\":\"scatterternary\",\"marker\":{\"colorbar\":{\"outlinewidth\":0,\"ticks\":\"\"}}}],\"scattercarpet\":[{\"type\":\"scattercarpet\",\"marker\":{\"colorbar\":{\"outlinewidth\":0,\"ticks\":\"\"}}}],\"carpet\":[{\"aaxis\":{\"endlinecolor\":\"#A2B1C6\",\"gridcolor\":\"#506784\",\"linecolor\":\"#506784\",\"minorgridcolor\":\"#506784\",\"startlinecolor\":\"#A2B1C6\"},\"baxis\":{\"endlinecolor\":\"#A2B1C6\",\"gridcolor\":\"#506784\",\"linecolor\":\"#506784\",\"minorgridcolor\":\"#506784\",\"startlinecolor\":\"#A2B1C6\"},\"type\":\"carpet\"}],\"table\":[{\"cells\":{\"fill\":{\"color\":\"#506784\"},\"line\":{\"color\":\"rgb(17,17,17)\"}},\"header\":{\"fill\":{\"color\":\"#2a3f5f\"},\"line\":{\"color\":\"rgb(17,17,17)\"}},\"type\":\"table\"}],\"barpolar\":[{\"marker\":{\"line\":{\"color\":\"rgb(17,17,17)\",\"width\":0.5},\"pattern\":{\"fillmode\":\"overlay\",\"size\":10,\"solidity\":0.2}},\"type\":\"barpolar\"}],\"pie\":[{\"automargin\":true,\"type\":\"pie\"}]},\"layout\":{\"autotypenumbers\":\"strict\",\"colorway\":[\"#636efa\",\"#EF553B\",\"#00cc96\",\"#ab63fa\",\"#FFA15A\",\"#19d3f3\",\"#FF6692\",\"#B6E880\",\"#FF97FF\",\"#FECB52\"],\"font\":{\"color\":\"#f2f5fa\"},\"hovermode\":\"closest\",\"hoverlabel\":{\"align\":\"left\"},\"paper_bgcolor\":\"rgb(17,17,17)\",\"plot_bgcolor\":\"rgb(17,17,17)\",\"polar\":{\"bgcolor\":\"rgb(17,17,17)\",\"angularaxis\":{\"gridcolor\":\"#506784\",\"linecolor\":\"#506784\",\"ticks\":\"\"},\"radialaxis\":{\"gridcolor\":\"#506784\",\"linecolor\":\"#506784\",\"ticks\":\"\"}},\"ternary\":{\"bgcolor\":\"rgb(17,17,17)\",\"aaxis\":{\"gridcolor\":\"#506784\",\"linecolor\":\"#506784\",\"ticks\":\"\"},\"baxis\":{\"gridcolor\":\"#506784\",\"linecolor\":\"#506784\",\"ticks\":\"\"},\"caxis\":{\"gridcolor\":\"#506784\",\"linecolor\":\"#506784\",\"ticks\":\"\"}},\"coloraxis\":{\"colorbar\":{\"outlinewidth\":0,\"ticks\":\"\"}},\"colorscale\":{\"sequential\":[[0.0,\"#0d0887\"],[0.1111111111111111,\"#46039f\"],[0.2222222222222222,\"#7201a8\"],[0.3333333333333333,\"#9c179e\"],[0.4444444444444444,\"#bd3786\"],[0.5555555555555556,\"#d8576b\"],[0.6666666666666666,\"#ed7953\"],[0.7777777777777778,\"#fb9f3a\"],[0.8888888888888888,\"#fdca26\"],[1.0,\"#f0f921\"]],\"sequentialminus\":[[0.0,\"#0d0887\"],[0.1111111111111111,\"#46039f\"],[0.2222222222222222,\"#7201a8\"],[0.3333333333333333,\"#9c179e\"],[0.4444444444444444,\"#bd3786\"],[0.5555555555555556,\"#d8576b\"],[0.6666666666666666,\"#ed7953\"],[0.7777777777777778,\"#fb9f3a\"],[0.8888888888888888,\"#fdca26\"],[1.0,\"#f0f921\"]],\"diverging\":[[0,\"#8e0152\"],[0.1,\"#c51b7d\"],[0.2,\"#de77ae\"],[0.3,\"#f1b6da\"],[0.4,\"#fde0ef\"],[0.5,\"#f7f7f7\"],[0.6,\"#e6f5d0\"],[0.7,\"#b8e186\"],[0.8,\"#7fbc41\"],[0.9,\"#4d9221\"],[1,\"#276419\"]]},\"xaxis\":{\"gridcolor\":\"#283442\",\"linecolor\":\"#506784\",\"ticks\":\"\",\"title\":{\"standoff\":15},\"zerolinecolor\":\"#283442\",\"automargin\":true,\"zerolinewidth\":2},\"yaxis\":{\"gridcolor\":\"#283442\",\"linecolor\":\"#506784\",\"ticks\":\"\",\"title\":{\"standoff\":15},\"zerolinecolor\":\"#283442\",\"automargin\":true,\"zerolinewidth\":2},\"scene\":{\"xaxis\":{\"backgroundcolor\":\"rgb(17,17,17)\",\"gridcolor\":\"#506784\",\"linecolor\":\"#506784\",\"showbackground\":true,\"ticks\":\"\",\"zerolinecolor\":\"#C8D4E3\",\"gridwidth\":2},\"yaxis\":{\"backgroundcolor\":\"rgb(17,17,17)\",\"gridcolor\":\"#506784\",\"linecolor\":\"#506784\",\"showbackground\":true,\"ticks\":\"\",\"zerolinecolor\":\"#C8D4E3\",\"gridwidth\":2},\"zaxis\":{\"backgroundcolor\":\"rgb(17,17,17)\",\"gridcolor\":\"#506784\",\"linecolor\":\"#506784\",\"showbackground\":true,\"ticks\":\"\",\"zerolinecolor\":\"#C8D4E3\",\"gridwidth\":2}},\"shapedefaults\":{\"line\":{\"color\":\"#f2f5fa\"}},\"annotationdefaults\":{\"arrowcolor\":\"#f2f5fa\",\"arrowhead\":0,\"arrowwidth\":1},\"geo\":{\"bgcolor\":\"rgb(17,17,17)\",\"landcolor\":\"rgb(17,17,17)\",\"subunitcolor\":\"#506784\",\"showland\":true,\"showlakes\":true,\"lakecolor\":\"rgb(17,17,17)\"},\"title\":{\"x\":0.05},\"updatemenudefaults\":{\"bgcolor\":\"#506784\",\"borderwidth\":0},\"sliderdefaults\":{\"bgcolor\":\"#C8D4E3\",\"borderwidth\":1,\"bordercolor\":\"rgb(17,17,17)\",\"tickwidth\":0},\"mapbox\":{\"style\":\"dark\"}}},\"title\":{\"text\":\"First layer's transformations\",\"y\":0.9,\"x\":0.5,\"xanchor\":\"center\",\"yanchor\":\"top\"},\"font\":{\"size\":20},\"legend\":{\"font\":{\"size\":30},\"yanchor\":\"top\",\"y\":1.05,\"xanchor\":\"left\",\"x\":0.01},\"paper_bgcolor\":\"#1E1F22\",\"xaxis\":{\"title\":{\"text\":\"1st component\"},\"scaleanchor\":\"x\",\"scaleratio\":1,\"tickvals\":[-1.9099100305304457,-1.4461861622391998,-0.9824622939479539,-0.518738425656708,-0.055014557365462124,0.4087093109257838,0.8724331792170297,1.3361570475082756,1.7998809157995215],\"ticktext\":[-1.9,-1.4,-1.0,-0.5,\"$\\\\Large{\\\\xi_0^{(1)}}$\",0.4,0.9,1.3,1.8]},\"yaxis\":{\"title\":{\"text\":\"2nd component\"},\"scaleanchor\":\"x\",\"scaleratio\":1,\"tickvals\":[-2.981490581343545,-2.317543591779129,-1.6535966022147128,-0.9896496126502967,-0.3257026230858808,0.33824436647853506,1.0021913560429514,1.6661383456073668,2.330085335171783],\"ticktext\":[-3.0,-2.3,-1.7,-1.0,\"$\\\\Large{\\\\xi_1^{(1)}}$\",0.3,1.0,1.7,2.3]},\"autosize\":false,\"width\":1300,\"height\":1300,\"showlegend\":true,\"plot_bgcolor\":\"#1E1F22\"},                        {\"responsive\": true}                    ).then(function(){\n                            \nvar gd = document.getElementById('c6cab51c-53ba-4614-aefc-0d13fab3528e');\nvar x = new MutationObserver(function (mutations, observer) {{\n        var display = window.getComputedStyle(gd).display;\n        if (!display || display === 'none') {{\n            console.log([gd, 'removed!']);\n            Plotly.purge(gd);\n            observer.disconnect();\n        }}\n}});\n\n// Listen for the removal of the full notebook cells\nvar notebookContainer = gd.closest('#notebook-container');\nif (notebookContainer) {{\n    x.observe(notebookContainer, {childList: true});\n}}\n\n// Listen for the clearing of the current output cell\nvar outputEl = gd.closest('.output');\nif (outputEl) {{\n    x.observe(outputEl, {childList: true});\n}}\n\n                        })                };                });            </script>        </div>"
     },
     "metadata": {},
     "output_type": "display_data"
    }
   ],
   "source": [
    "fig_1st_transforms = go.Figure()\n",
    "fig_1st_transforms.add_trace(\n",
    "    go.Scatter(\n",
    "        x=theta_0[0],\n",
    "        y=theta_0[1],\n",
    "        mode=\"lines\",\n",
    "        name=r\"$\\Large{\\Theta^{(0)}}$\",\n",
    "    )\n",
    ")\n",
    "fig_1st_transforms.add_trace(\n",
    "    go.Scatter(x=theta_1[0], y=theta_1[1], mode=\"lines\", name=r\"$\\Large{\\Theta^{(1)}}$\")\n",
    ")\n",
    "fig_1st_transforms.add_trace(\n",
    "    go.Scatter(x=z_1[0], y=z_1[1], mode=\"none\", name=r\"$\\Large{z^{(1)}}$\",\n",
    "        fill=\"toself\",)\n",
    ")\n",
    "fig_1st_transforms.add_trace(\n",
    "    go.Scatter(\n",
    "        x=(z_0_1.inf, z_0_1.inf, z_0_1.sup, z_0_1.sup, z_0_1.inf),\n",
    "        y=(z_1_1.inf, z_1_1.sup, z_1_1.sup, z_1_1.inf, z_1_1.inf),\n",
    "        mode=\"lines\",\n",
    "        name=r\"$\\Large{Z^{(1)}}$\",\n",
    "    )\n",
    ")\n",
    "fig_1st_transforms.add_trace(\n",
    "    go.Scatter(\n",
    "        x=h_of_z_1[0],\n",
    "        y=h_of_z_1[1],\n",
    "        mode=\"none\",\n",
    "        name=r\"$\\Large{h (z^{(1)}})$\",\n",
    "        fill=\"toself\",\n",
    "    )\n",
    ")\n",
    "fig_1st_transforms.update_layout(\n",
    "    title=dict(text=\"First layer's transformations\", **shared_title_params),\n",
    "    **shared_layout,\n",
    ")\n",
    "ytick_vals = np.linspace(z_1[1].min(), z_1[1].max(), 9)\n",
    "assert isclose(ytick_vals[len(ytick_vals) // 2], xi_1_1)\n",
    "ytick_labels = list(ytick_vals.round(1))\n",
    "ytick_labels[len(ytick_labels) // 2] = r\"$\\Large{\\xi_1^{(1)}}$\"\n",
    "xtick_vals = np.linspace(z_1[0].min(), z_1[0].max(), 9)\n",
    "assert isclose(xtick_vals[len(xtick_vals) // 2], xi_0_1)\n",
    "xtick_labels = list(xtick_vals.round(1))\n",
    "xtick_labels[len(xtick_labels) // 2] = r\"$\\Large{\\xi_0^{(1)}}$\"\n",
    "fig_1st_transforms.update_yaxes(\n",
    "    **shared_ratio, tickvals=ytick_vals, ticktext=ytick_labels\n",
    ")\n",
    "fig_1st_transforms.update_xaxes(\n",
    "    **shared_ratio, tickvals=xtick_vals, ticktext=xtick_labels\n",
    ")\n",
    "fig_1st_transforms.show()"
   ],
   "metadata": {
    "collapsed": false
   }
  },
  {
   "cell_type": "code",
   "execution_count": 105,
   "outputs": [
    {
     "data": {
      "application/vnd.plotly.v1+json": {
       "data": [
        {
         "mode": "lines",
         "name": "$\\Large{\\Theta^{(0)}}$",
         "x": [
          -5.1606377858191035,
          -5.1606377858191035,
          4.074591920636097,
          4.074591920636097,
          -5.1606377858191035
         ],
         "y": [
          -1.393796995951563,
          0.6986749809092526,
          0.6986749809092526,
          -1.393796995951563,
          -1.393796995951563
         ],
         "type": "scatter"
        },
        {
         "mode": "lines",
         "name": "$\\Large{\\Theta^{(1)}}$",
         "x": [
          0.12899096008497263,
          0.12899096008497263,
          0.8581344384400857,
          0.8581344384400857,
          0.12899096008497263
         ],
         "y": [
          0.048269106479496726,
          0.9113382321424661,
          0.9113382321424661,
          0.048269106479496726,
          0.048269106479496726
         ],
         "type": "scatter"
        },
        {
         "mode": "lines",
         "name": "$\\Large{z^{(1)}}$",
         "x": [
          1.7998809157995215,
          1.768496417825094,
          1.7371119198506664,
          1.7057274218762388,
          1.6743429239018108,
          1.6429584259273833,
          1.6115739279529557,
          1.5801894299785277,
          1.5488049320041002,
          1.5174204340296726,
          1.486035936055245,
          1.454651438080817,
          1.4232669401063895,
          1.391882442131962,
          1.3604979441575344,
          1.3291134461831065,
          1.297728948208679,
          1.2663444502342514,
          1.2349599522598238,
          1.2035754542853958,
          1.0397077971898252,
          0.8758401400942547,
          0.7119724829986841,
          0.5481048259031135,
          0.3842371688075429,
          0.22036951171197228,
          0.056501854616401725,
          -0.10736580247916896,
          -0.27123345957473965,
          -0.43510111667031015,
          -0.5989687737658806,
          -0.7628364308614515,
          -0.9267040879570222,
          -1.0905717450525927,
          -1.2544394021481633,
          -1.418307059243734,
          -1.5821747163393045,
          -1.7460423734348756,
          -1.9099100305304457,
          -1.8785255325560177,
          -1.8471410345815902,
          -1.8157565366071626,
          -1.784372038632735,
          -1.752987540658307,
          -1.7216030426838795,
          -1.690218544709452,
          -1.6588340467350244,
          -1.6274495487605964,
          -1.596065050786169,
          -1.5646805528117413,
          -1.5332960548373138,
          -1.5019115568628858,
          -1.4705270588884582,
          -1.4391425609140307,
          -1.4077580629396031,
          -1.3763735649651752,
          -1.3449890669907476,
          -1.31360456901632,
          -1.14973691192075,
          -0.9858692548251791,
          -0.8220015977296083,
          -0.6581339406340376,
          -0.49426628353846713,
          -0.33039862644289664,
          -0.1665309693473259,
          -0.00266331225175509,
          0.16120434484381535,
          0.3250720019393859,
          0.4889396590349566,
          0.6528073161305272,
          0.8166749732260979,
          0.9805426303216686,
          1.144410287417239,
          1.3082779445128097,
          1.4721456016083803,
          1.6360132587039509,
          1.7998809157995215
         ],
         "y": [
          -1.7738873197073342,
          -1.83744538610924,
          -1.9010034525111459,
          -1.9645615189130516,
          -2.0281195853149576,
          -2.0916776517168634,
          -2.155235718118769,
          -2.218793784520675,
          -2.2823518509225806,
          -2.345909917324487,
          -2.4094679837263926,
          -2.4730260501282983,
          -2.536584116530204,
          -2.60014218293211,
          -2.6637002493340156,
          -2.727258315735922,
          -2.7908163821378276,
          -2.8543744485397333,
          -2.917932514941639,
          -2.981490581343545,
          -2.7654920205604334,
          -2.549493459777322,
          -2.3334948989942106,
          -2.117496338211099,
          -1.901497777427988,
          -1.6854992166448763,
          -1.469500655861765,
          -1.2535020950786535,
          -1.0375035342955417,
          -0.8215049735124306,
          -0.6055064127293193,
          -0.38950785194620763,
          -0.173509291163096,
          0.0424892696200152,
          0.2584878304031265,
          0.47448639118623814,
          0.6904849519693498,
          0.9064835127524613,
          1.1224820735355723,
          1.1860401399374783,
          1.2495982063393842,
          1.31315627274129,
          1.3767143391431957,
          1.4402724055451015,
          1.5038304719470073,
          1.5673885383489132,
          1.630946604750819,
          1.694504671152725,
          1.7580627375546305,
          1.8216208039565367,
          1.8851788703584424,
          1.9487369367603482,
          2.012295003162254,
          2.0758530695641597,
          2.139411135966066,
          2.2029692023679717,
          2.2665272687698774,
          2.330085335171783,
          2.114086774388672,
          1.8980882136055603,
          1.682089652822449,
          1.4660910920393373,
          1.2500925312562259,
          1.0340939704731147,
          0.818095409690003,
          0.6020968489068915,
          0.3860982881237802,
          0.17009972734066903,
          -0.04589883344244264,
          -0.26189739422555414,
          -0.47789595500866555,
          -0.6938945157917771,
          -0.9098930765748885,
          -1.125891637358,
          -1.3418901981411113,
          -1.5578887589242227,
          -1.7738873197073342
         ],
         "type": "scatter"
        },
        {
         "fill": "none",
         "mode": "markers",
         "name": "lower bound",
         "x": [
          -0.8206320367909465,
          -0.8206320367909465,
          -0.8206320367909465,
          -0.8206320367909465,
          -0.8206320367909465,
          -0.8206320367909465,
          -0.8206320367909465,
          -0.8206320367909465,
          -0.8206320367909465,
          -0.8206320367909465,
          -0.8206320367909465,
          -0.8206320367909465,
          -0.8206320367909465,
          -0.8206320367909465,
          -0.8206320367909465,
          -0.8206320367909465,
          -0.8206320367909465,
          -0.8206320367909465,
          -0.8206320367909465,
          -0.8206320367909465,
          -0.7822560642459405,
          -0.7438800917009345,
          -0.7055041191559286,
          -0.6671281466109227,
          -0.6287521740659167,
          -0.5903762015209107,
          -0.5520002289759047,
          -0.5136242564308988,
          -0.47524828388589285,
          -0.4368723113408869,
          -0.39849633879588087,
          -0.36012036625087496,
          -0.32174439370586905,
          -0.28336842116086314,
          -0.244992448615857,
          -0.2066164760708511,
          -0.1682405035258452,
          -0.12986453098083928,
          -0.09148855843583337,
          -0.09148855843583337,
          -0.09148855843583337,
          -0.09148855843583337,
          -0.09148855843583337,
          -0.09148855843583337,
          -0.09148855843583337,
          -0.09148855843583337,
          -0.09148855843583337,
          -0.09148855843583337,
          -0.09148855843583337,
          -0.09148855843583337,
          -0.09148855843583337,
          -0.09148855843583337,
          -0.09148855843583337,
          -0.09148855843583337,
          -0.09148855843583337,
          -0.09148855843583337,
          -0.09148855843583337,
          -0.09148855843583337,
          -0.7822560642459405,
          -0.7438800917009345,
          -0.7055041191559286,
          -0.6671281466109227,
          -0.6287521740659167,
          -0.5903762015209107,
          -0.5520002289759047,
          -0.5136242564308988,
          -0.47524828388589285,
          -0.4368723113408869,
          -0.39849633879588087,
          -0.36012036625087496,
          -0.32174439370586905,
          -0.28336842116086314,
          -0.244992448615857,
          -0.2066164760708511,
          -0.1682405035258452,
          -0.12986453098083928,
          -0.8206320367909465,
          -0.8127918460769992,
          -0.8127918460769992,
          -0.8127918460769992,
          -0.8127918460769992,
          -0.8127918460769992,
          -0.8127918460769992,
          -0.8127918460769992,
          -0.8127918460769992,
          -0.8127918460769992,
          -0.8127918460769992,
          -0.8127918460769992,
          -0.8127918460769992,
          -0.8127918460769992,
          -0.8127918460769992,
          -0.8127918460769992,
          -0.8127918460769992,
          -0.8127918460769992,
          -0.8127918460769992,
          -0.8127918460769992,
          -0.8127918460769992,
          -0.7744158735319933,
          -0.7360399009869873,
          -0.6976639284419813,
          -0.6592879558969754,
          -0.6209119833519694,
          -0.5825360108069635,
          -0.5441600382619576,
          -0.5057840657169516,
          -0.4674080931719456,
          -0.42903212062693963,
          -0.3906561480819336,
          -0.3522801755369277,
          -0.3139042029919218,
          -0.2755282304469159,
          -0.23715225790190975,
          -0.19877628535690384,
          -0.16040031281189793,
          -0.12202434026689202,
          -0.08364836772188611,
          -0.08364836772188611,
          -0.08364836772188611,
          -0.08364836772188611,
          -0.08364836772188611,
          -0.08364836772188611,
          -0.08364836772188611,
          -0.08364836772188611,
          -0.08364836772188611,
          -0.08364836772188611,
          -0.08364836772188611,
          -0.08364836772188611,
          -0.08364836772188611,
          -0.08364836772188611,
          -0.08364836772188611,
          -0.08364836772188611,
          -0.08364836772188611,
          -0.08364836772188611,
          -0.08364836772188611,
          -0.08364836772188611,
          -0.7744158735319933,
          -0.7360399009869873,
          -0.6976639284419813,
          -0.6592879558969754,
          -0.6209119833519694,
          -0.5825360108069635,
          -0.5441600382619576,
          -0.5057840657169516,
          -0.4674080931719456,
          -0.42903212062693963,
          -0.3906561480819336,
          -0.3522801755369277,
          -0.3139042029919218,
          -0.2755282304469159,
          -0.23715225790190975,
          -0.19877628535690384,
          -0.16040031281189793,
          -0.12202434026689202,
          -0.8127918460769992,
          -0.8049516553630518,
          -0.8049516553630518,
          -0.8049516553630518,
          -0.8049516553630518,
          -0.8049516553630518,
          -0.8049516553630518,
          -0.8049516553630518,
          -0.8049516553630518,
          -0.8049516553630518,
          -0.8049516553630518,
          -0.8049516553630518,
          -0.8049516553630518,
          -0.8049516553630518,
          -0.8049516553630518,
          -0.8049516553630518,
          -0.8049516553630518,
          -0.8049516553630518,
          -0.8049516553630518,
          -0.8049516553630518,
          -0.8049516553630518,
          -0.7665756828180459,
          -0.72819971027304,
          -0.689823737728034,
          -0.651447765183028,
          -0.613071792638022,
          -0.5746958200930161,
          -0.5363198475480102,
          -0.4979438750030042,
          -0.4595679024579982,
          -0.42119192991299226,
          -0.38281595736798624,
          -0.3444399848229803,
          -0.3060640122779744,
          -0.2676880397329685,
          -0.22931206718796238,
          -0.19093609464295647,
          -0.15256012209795056,
          -0.11418414955294465,
          -0.07580817700793874,
          -0.07580817700793874,
          -0.07580817700793874,
          -0.07580817700793874,
          -0.07580817700793874,
          -0.07580817700793874,
          -0.07580817700793874,
          -0.07580817700793874,
          -0.07580817700793874,
          -0.07580817700793874,
          -0.07580817700793874,
          -0.07580817700793874,
          -0.07580817700793874,
          -0.07580817700793874,
          -0.07580817700793874,
          -0.07580817700793874,
          -0.07580817700793874,
          -0.07580817700793874,
          -0.07580817700793874,
          -0.07580817700793874,
          -0.7665756828180459,
          -0.72819971027304,
          -0.689823737728034,
          -0.651447765183028,
          -0.613071792638022,
          -0.5746958200930161,
          -0.5363198475480102,
          -0.4979438750030042,
          -0.4595679024579982,
          -0.42119192991299226,
          -0.38281595736798624,
          -0.3444399848229803,
          -0.3060640122779744,
          -0.2676880397329685,
          -0.22931206718796238,
          -0.19093609464295647,
          -0.15256012209795056,
          -0.11418414955294465,
          -0.8049516553630518,
          -0.7971114646491047,
          -0.7971114646491047,
          -0.7971114646491047,
          -0.7971114646491047,
          -0.7971114646491047,
          -0.7971114646491047,
          -0.7971114646491047,
          -0.7971114646491047,
          -0.7971114646491047,
          -0.7971114646491047,
          -0.7971114646491047,
          -0.7971114646491047,
          -0.7971114646491047,
          -0.7971114646491047,
          -0.7971114646491047,
          -0.7971114646491047,
          -0.7971114646491047,
          -0.7971114646491047,
          -0.7971114646491047,
          -0.7971114646491047,
          -0.7587354921040986,
          -0.7203595195590926,
          -0.6819835470140867,
          -0.6436075744690808,
          -0.6052316019240748,
          -0.5668556293790689,
          -0.5284796568340628,
          -0.49010368428905693,
          -0.45172771174405096,
          -0.413351739199045,
          -0.374975766654039,
          -0.33659979410903307,
          -0.29822382156402716,
          -0.25984784901902125,
          -0.22147187647401512,
          -0.1830959039290092,
          -0.1447199313840033,
          -0.10634395883899739,
          -0.06796798629399148,
          -0.06796798629399148,
          -0.06796798629399148,
          -0.06796798629399148,
          -0.06796798629399148,
          -0.06796798629399148,
          -0.06796798629399148,
          -0.06796798629399148,
          -0.06796798629399148,
          -0.06796798629399148,
          -0.06796798629399148,
          -0.06796798629399148,
          -0.06796798629399148,
          -0.06796798629399148,
          -0.06796798629399148,
          -0.06796798629399148,
          -0.06796798629399148,
          -0.06796798629399148,
          -0.06796798629399148,
          -0.06796798629399148,
          -0.7587354921040986,
          -0.7203595195590926,
          -0.6819835470140867,
          -0.6436075744690808,
          -0.6052316019240748,
          -0.5668556293790689,
          -0.5284796568340628,
          -0.49010368428905693,
          -0.45172771174405096,
          -0.413351739199045,
          -0.374975766654039,
          -0.33659979410903307,
          -0.29822382156402716,
          -0.25984784901902125,
          -0.22147187647401512,
          -0.1830959039290092,
          -0.1447199313840033,
          -0.10634395883899739,
          -0.7971114646491047,
          -0.7892712739351571,
          -0.7892712739351571,
          -0.7892712739351571,
          -0.7892712739351571,
          -0.7892712739351571,
          -0.7892712739351571,
          -0.7892712739351571,
          -0.7892712739351571,
          -0.7892712739351571,
          -0.7892712739351571,
          -0.7892712739351571,
          -0.7892712739351571,
          -0.7892712739351571,
          -0.7892712739351571,
          -0.7892712739351571,
          -0.7892712739351571,
          -0.7892712739351571,
          -0.7892712739351571,
          -0.7892712739351571,
          -0.7892712739351571,
          -0.7508953013901511,
          -0.7125193288451452,
          -0.6741433563001392,
          -0.6357673837551333,
          -0.5973914112101273,
          -0.5590154386651214,
          -0.5206394661201155,
          -0.48226349357510945,
          -0.4438875210301035,
          -0.4055115484850975,
          -0.3671355759400915,
          -0.3287596033950856,
          -0.2903836308500797,
          -0.25200765830507377,
          -0.21363168576006764,
          -0.17525571321506173,
          -0.13687974067005582,
          -0.0985037681250499,
          -0.060127795580044,
          -0.060127795580044,
          -0.060127795580044,
          -0.060127795580044,
          -0.060127795580044,
          -0.060127795580044,
          -0.060127795580044,
          -0.060127795580044,
          -0.060127795580044,
          -0.060127795580044,
          -0.060127795580044,
          -0.060127795580044,
          -0.060127795580044,
          -0.060127795580044,
          -0.060127795580044,
          -0.060127795580044,
          -0.060127795580044,
          -0.060127795580044,
          -0.060127795580044,
          -0.060127795580044,
          -0.7508953013901511,
          -0.7125193288451452,
          -0.6741433563001392,
          -0.6357673837551333,
          -0.5973914112101273,
          -0.5590154386651214,
          -0.5206394661201155,
          -0.48226349357510945,
          -0.4438875210301035,
          -0.4055115484850975,
          -0.3671355759400915,
          -0.3287596033950856,
          -0.2903836308500797,
          -0.25200765830507377,
          -0.21363168576006764,
          -0.17525571321506173,
          -0.13687974067005582,
          -0.0985037681250499,
          -0.7892712739351571,
          -0.7814310832212097,
          -0.7814310832212097,
          -0.7814310832212097,
          -0.7814310832212097,
          -0.7814310832212097,
          -0.7814310832212097,
          -0.7814310832212097,
          -0.7814310832212097,
          -0.7814310832212097,
          -0.7814310832212097,
          -0.7814310832212097,
          -0.7814310832212097,
          -0.7814310832212097,
          -0.7814310832212097,
          -0.7814310832212097,
          -0.7814310832212097,
          -0.7814310832212097,
          -0.7814310832212097,
          -0.7814310832212097,
          -0.7814310832212097,
          -0.7430551106762038,
          -0.7046791381311979,
          -0.6663031655861918,
          -0.6279271930411859,
          -0.5895512204961799,
          -0.551175247951174,
          -0.5127992754061681,
          -0.4744233028611621,
          -0.4360473303161561,
          -0.39767135777115015,
          -0.3592953852261441,
          -0.3209194126811382,
          -0.2825434401361323,
          -0.2441674675911264,
          -0.20579149504612027,
          -0.16741552250111436,
          -0.12903954995610845,
          -0.09066357741110254,
          -0.052287604866096626,
          -0.052287604866096626,
          -0.052287604866096626,
          -0.052287604866096626,
          -0.052287604866096626,
          -0.052287604866096626,
          -0.052287604866096626,
          -0.052287604866096626,
          -0.052287604866096626,
          -0.052287604866096626,
          -0.052287604866096626,
          -0.052287604866096626,
          -0.052287604866096626,
          -0.052287604866096626,
          -0.052287604866096626,
          -0.052287604866096626,
          -0.052287604866096626,
          -0.052287604866096626,
          -0.052287604866096626,
          -0.052287604866096626,
          -0.7430551106762038,
          -0.7046791381311979,
          -0.6663031655861918,
          -0.6279271930411859,
          -0.5895512204961799,
          -0.551175247951174,
          -0.5127992754061681,
          -0.4744233028611621,
          -0.4360473303161561,
          -0.39767135777115015,
          -0.3592953852261441,
          -0.3209194126811382,
          -0.2825434401361323,
          -0.2441674675911264,
          -0.20579149504612027,
          -0.16741552250111436,
          -0.12903954995610845,
          -0.09066357741110254,
          -0.7814310832212097,
          -0.7735908925072625,
          -0.7735908925072625,
          -0.7735908925072625,
          -0.7735908925072625,
          -0.7735908925072625,
          -0.7735908925072625,
          -0.7735908925072625,
          -0.7735908925072625,
          -0.7735908925072625,
          -0.7735908925072625,
          -0.7735908925072625,
          -0.7735908925072625,
          -0.7735908925072625,
          -0.7735908925072625,
          -0.7735908925072625,
          -0.7735908925072625,
          -0.7735908925072625,
          -0.7735908925072625,
          -0.7735908925072625,
          -0.7735908925072625,
          -0.7352149199622565,
          -0.6968389474172505,
          -0.6584629748722446,
          -0.6200870023272387,
          -0.5817110297822327,
          -0.5433350572372267,
          -0.5049590846922207,
          -0.4665831121472148,
          -0.42820713960220885,
          -0.3898311670572029,
          -0.35145519451219687,
          -0.31307922196719096,
          -0.27470324942218505,
          -0.23632727687717914,
          -0.197951304332173,
          -0.1595753317871671,
          -0.12119935924216119,
          -0.08282338669715528,
          -0.04444741415214937,
          -0.04444741415214937,
          -0.04444741415214937,
          -0.04444741415214937,
          -0.04444741415214937,
          -0.04444741415214937,
          -0.04444741415214937,
          -0.04444741415214937,
          -0.04444741415214937,
          -0.04444741415214937,
          -0.04444741415214937,
          -0.04444741415214937,
          -0.04444741415214937,
          -0.04444741415214937,
          -0.04444741415214937,
          -0.04444741415214937,
          -0.04444741415214937,
          -0.04444741415214937,
          -0.04444741415214937,
          -0.04444741415214937,
          -0.7352149199622565,
          -0.6968389474172505,
          -0.6584629748722446,
          -0.6200870023272387,
          -0.5817110297822327,
          -0.5433350572372267,
          -0.5049590846922207,
          -0.4665831121472148,
          -0.42820713960220885,
          -0.3898311670572029,
          -0.35145519451219687,
          -0.31307922196719096,
          -0.27470324942218505,
          -0.23632727687717914,
          -0.197951304332173,
          -0.1595753317871671,
          -0.12119935924216119,
          -0.08282338669715528,
          -0.7735908925072625,
          -0.765750701793315,
          -0.765750701793315,
          -0.765750701793315,
          -0.765750701793315,
          -0.765750701793315,
          -0.765750701793315,
          -0.765750701793315,
          -0.765750701793315,
          -0.765750701793315,
          -0.765750701793315,
          -0.765750701793315,
          -0.765750701793315,
          -0.765750701793315,
          -0.765750701793315,
          -0.765750701793315,
          -0.765750701793315,
          -0.765750701793315,
          -0.765750701793315,
          -0.765750701793315,
          -0.765750701793315,
          -0.727374729248309,
          -0.6889987567033031,
          -0.6506227841582971,
          -0.6122468116132912,
          -0.5738708390682852,
          -0.5354948665232793,
          -0.4971188939782733,
          -0.45874292143326734,
          -0.42036694888826137,
          -0.3819909763432554,
          -0.3436150037982494,
          -0.3052390312532435,
          -0.26686305870823757,
          -0.22848708616323166,
          -0.19011111361822552,
          -0.15173514107321961,
          -0.1133591685282137,
          -0.0749831959832078,
          -0.036607223438201886,
          -0.036607223438201886,
          -0.036607223438201886,
          -0.036607223438201886,
          -0.036607223438201886,
          -0.036607223438201886,
          -0.036607223438201886,
          -0.036607223438201886,
          -0.036607223438201886,
          -0.036607223438201886,
          -0.036607223438201886,
          -0.036607223438201886,
          -0.036607223438201886,
          -0.036607223438201886,
          -0.036607223438201886,
          -0.036607223438201886,
          -0.036607223438201886,
          -0.036607223438201886,
          -0.036607223438201886,
          -0.036607223438201886,
          -0.727374729248309,
          -0.6889987567033031,
          -0.6506227841582971,
          -0.6122468116132912,
          -0.5738708390682852,
          -0.5354948665232793,
          -0.4971188939782733,
          -0.45874292143326734,
          -0.42036694888826137,
          -0.3819909763432554,
          -0.3436150037982494,
          -0.3052390312532435,
          -0.26686305870823757,
          -0.22848708616323166,
          -0.19011111361822552,
          -0.15173514107321961,
          -0.1133591685282137,
          -0.0749831959832078,
          -0.765750701793315,
          -0.7579105110793678,
          -0.7579105110793678,
          -0.7579105110793678,
          -0.7579105110793678,
          -0.7579105110793678,
          -0.7579105110793678,
          -0.7579105110793678,
          -0.7579105110793678,
          -0.7579105110793678,
          -0.7579105110793678,
          -0.7579105110793678,
          -0.7579105110793678,
          -0.7579105110793678,
          -0.7579105110793678,
          -0.7579105110793678,
          -0.7579105110793678,
          -0.7579105110793678,
          -0.7579105110793678,
          -0.7579105110793678,
          -0.7579105110793678,
          -0.7195345385343618,
          -0.6811585659893558,
          -0.6427825934443498,
          -0.6044066208993439,
          -0.5660306483543379,
          -0.527654675809332,
          -0.48927870326432604,
          -0.4509027307193201,
          -0.4125267581743141,
          -0.37415078562930815,
          -0.3357748130843021,
          -0.2973988405392962,
          -0.2590228679942903,
          -0.2206468954492844,
          -0.18227092290427827,
          -0.14389495035927236,
          -0.10551897781426645,
          -0.06714300526926054,
          -0.028767032724254626,
          -0.028767032724254626,
          -0.028767032724254626,
          -0.028767032724254626,
          -0.028767032724254626,
          -0.028767032724254626,
          -0.028767032724254626,
          -0.028767032724254626,
          -0.028767032724254626,
          -0.028767032724254626,
          -0.028767032724254626,
          -0.028767032724254626,
          -0.028767032724254626,
          -0.028767032724254626,
          -0.028767032724254626,
          -0.028767032724254626,
          -0.028767032724254626,
          -0.028767032724254626,
          -0.028767032724254626,
          -0.028767032724254626,
          -0.7195345385343618,
          -0.6811585659893558,
          -0.6427825934443498,
          -0.6044066208993439,
          -0.5660306483543379,
          -0.527654675809332,
          -0.48927870326432604,
          -0.4509027307193201,
          -0.4125267581743141,
          -0.37415078562930815,
          -0.3357748130843021,
          -0.2973988405392962,
          -0.2590228679942903,
          -0.2206468954492844,
          -0.18227092290427827,
          -0.14389495035927236,
          -0.10551897781426645,
          -0.06714300526926054,
          -0.7579105110793678,
          -0.7500703203654204,
          -0.7500703203654204,
          -0.7500703203654204,
          -0.7500703203654204,
          -0.7500703203654204,
          -0.7500703203654204,
          -0.7500703203654204,
          -0.7500703203654204,
          -0.7500703203654204,
          -0.7500703203654204,
          -0.7500703203654204,
          -0.7500703203654204,
          -0.7500703203654204,
          -0.7500703203654204,
          -0.7500703203654204,
          -0.7500703203654204,
          -0.7500703203654204,
          -0.7500703203654204,
          -0.7500703203654204,
          -0.7500703203654204,
          -0.7116943478204144,
          -0.6733183752754084,
          -0.6349424027304025,
          -0.5965664301853966,
          -0.5581904576403905,
          -0.5198144850953846,
          -0.48143851255037867,
          -0.4430625400053727,
          -0.40468656746036674,
          -0.3663105949153608,
          -0.32793462237035476,
          -0.28955864982534885,
          -0.25118267728034294,
          -0.21280670473533703,
          -0.1744307321903309,
          -0.13605475964532499,
          -0.09767878710031908,
          -0.059302814555313166,
          -0.020926842010307256,
          -0.020926842010307256,
          -0.020926842010307256,
          -0.020926842010307256,
          -0.020926842010307256,
          -0.020926842010307256,
          -0.020926842010307256,
          -0.020926842010307256,
          -0.020926842010307256,
          -0.020926842010307256,
          -0.020926842010307256,
          -0.020926842010307256,
          -0.020926842010307256,
          -0.020926842010307256,
          -0.020926842010307256,
          -0.020926842010307256,
          -0.020926842010307256,
          -0.020926842010307256,
          -0.020926842010307256,
          -0.020926842010307256,
          -0.7116943478204144,
          -0.6733183752754084,
          -0.6349424027304025,
          -0.5965664301853966,
          -0.5581904576403905,
          -0.5198144850953846,
          -0.48143851255037867,
          -0.4430625400053727,
          -0.40468656746036674,
          -0.3663105949153608,
          -0.32793462237035476,
          -0.28955864982534885,
          -0.25118267728034294,
          -0.21280670473533703,
          -0.1744307321903309,
          -0.13605475964532499,
          -0.09767878710031908,
          -0.059302814555313166,
          -0.7500703203654204,
          -0.7422301296514731,
          -0.7422301296514731,
          -0.7422301296514731,
          -0.7422301296514731,
          -0.7422301296514731,
          -0.7422301296514731,
          -0.7422301296514731,
          -0.7422301296514731,
          -0.7422301296514731,
          -0.7422301296514731,
          -0.7422301296514731,
          -0.7422301296514731,
          -0.7422301296514731,
          -0.7422301296514731,
          -0.7422301296514731,
          -0.7422301296514731,
          -0.7422301296514731,
          -0.7422301296514731,
          -0.7422301296514731,
          -0.7422301296514731,
          -0.703854157106467,
          -0.665478184561461,
          -0.6271022120164551,
          -0.5887262394714492,
          -0.5503502669264432,
          -0.5119742943814373,
          -0.4735983218364313,
          -0.43522234929142534,
          -0.39684637674641937,
          -0.3584704042014134,
          -0.3200944316564074,
          -0.2817184591114015,
          -0.24334248656639557,
          -0.20496651402138966,
          -0.16659054147638352,
          -0.12821456893137761,
          -0.0898385963863717,
          -0.051462623841365795,
          -0.013086651296359886,
          -0.013086651296359886,
          -0.013086651296359886,
          -0.013086651296359886,
          -0.013086651296359886,
          -0.013086651296359886,
          -0.013086651296359886,
          -0.013086651296359886,
          -0.013086651296359886,
          -0.013086651296359886,
          -0.013086651296359886,
          -0.013086651296359886,
          -0.013086651296359886,
          -0.013086651296359886,
          -0.013086651296359886,
          -0.013086651296359886,
          -0.013086651296359886,
          -0.013086651296359886,
          -0.013086651296359886,
          -0.013086651296359886,
          -0.703854157106467,
          -0.665478184561461,
          -0.6271022120164551,
          -0.5887262394714492,
          -0.5503502669264432,
          -0.5119742943814373,
          -0.4735983218364313,
          -0.43522234929142534,
          -0.39684637674641937,
          -0.3584704042014134,
          -0.3200944316564074,
          -0.2817184591114015,
          -0.24334248656639557,
          -0.20496651402138966,
          -0.16659054147638352,
          -0.12821456893137761,
          -0.0898385963863717,
          -0.051462623841365795,
          -0.7422301296514731,
          -0.7343899389375257,
          -0.7343899389375257,
          -0.7343899389375257,
          -0.7343899389375257,
          -0.7343899389375257,
          -0.7343899389375257,
          -0.7343899389375257,
          -0.7343899389375257,
          -0.7343899389375257,
          -0.7343899389375257,
          -0.7343899389375257,
          -0.7343899389375257,
          -0.7343899389375257,
          -0.7343899389375257,
          -0.7343899389375257,
          -0.7343899389375257,
          -0.7343899389375257,
          -0.7343899389375257,
          -0.7343899389375257,
          -0.7343899389375257,
          -0.6960139663925197,
          -0.6576379938475136,
          -0.6192620213025077,
          -0.5808860487575018,
          -0.5425100762124958,
          -0.5041341036674899,
          -0.46575813112248393,
          -0.42738215857747797,
          -0.389006186032472,
          -0.35063021348746604,
          -0.31225424094246,
          -0.2738782683974541,
          -0.2355022958524482,
          -0.19712632330744229,
          -0.15875035076243615,
          -0.12037437821743024,
          -0.08199840567242433,
          -0.043622433127418425,
          -0.0052464605824125154,
          -0.0052464605824125154,
          -0.0052464605824125154,
          -0.0052464605824125154,
          -0.0052464605824125154,
          -0.0052464605824125154,
          -0.0052464605824125154,
          -0.0052464605824125154,
          -0.0052464605824125154,
          -0.0052464605824125154,
          -0.0052464605824125154,
          -0.0052464605824125154,
          -0.0052464605824125154,
          -0.0052464605824125154,
          -0.0052464605824125154,
          -0.0052464605824125154,
          -0.0052464605824125154,
          -0.0052464605824125154,
          -0.0052464605824125154,
          -0.0052464605824125154,
          -0.6960139663925197,
          -0.6576379938475136,
          -0.6192620213025077,
          -0.5808860487575018,
          -0.5425100762124958,
          -0.5041341036674899,
          -0.46575813112248393,
          -0.42738215857747797,
          -0.389006186032472,
          -0.35063021348746604,
          -0.31225424094246,
          -0.2738782683974541,
          -0.2355022958524482,
          -0.19712632330744229,
          -0.15875035076243615,
          -0.12037437821743024,
          -0.08199840567242433,
          -0.043622433127418425,
          -0.7343899389375257,
          -0.7265497482235783,
          -0.7265497482235783,
          -0.7265497482235783,
          -0.7265497482235783,
          -0.7265497482235783,
          -0.7265497482235783,
          -0.7265497482235783,
          -0.7265497482235783,
          -0.7265497482235783,
          -0.7265497482235783,
          -0.7265497482235783,
          -0.7265497482235783,
          -0.7265497482235783,
          -0.7265497482235783,
          -0.7265497482235783,
          -0.7265497482235783,
          -0.7265497482235783,
          -0.7265497482235783,
          -0.7265497482235783,
          -0.7265497482235783,
          -0.6881737756785723,
          -0.6497978031335663,
          -0.6114218305885604,
          -0.5730458580435545,
          -0.5346698854985484,
          -0.4962939129535425,
          -0.45791794040853656,
          -0.4195419678635306,
          -0.38116599531852463,
          -0.34279002277351867,
          -0.30441405022851264,
          -0.26603807768350674,
          -0.22766210513850083,
          -0.18928613259349492,
          -0.15091016004848878,
          -0.11253418750348287,
          -0.07415821495847696,
          -0.035782242413471055,
          -0.6881737756785723,
          -0.6497978031335663,
          -0.6114218305885604,
          -0.5730458580435545,
          -0.5346698854985484,
          -0.4962939129535425,
          -0.45791794040853656,
          -0.4195419678635306,
          -0.38116599531852463,
          -0.34279002277351867,
          -0.30441405022851264,
          -0.26603807768350674,
          -0.22766210513850083,
          -0.18928613259349492,
          -0.15091016004848878,
          -0.11253418750348287,
          -0.07415821495847696,
          -0.035782242413471055,
          -0.7265497482235783,
          -0.718709557509631,
          -0.718709557509631,
          -0.718709557509631,
          -0.718709557509631,
          -0.718709557509631,
          -0.718709557509631,
          -0.718709557509631,
          -0.718709557509631,
          -0.718709557509631,
          -0.718709557509631,
          -0.718709557509631,
          -0.718709557509631,
          -0.718709557509631,
          -0.718709557509631,
          -0.718709557509631,
          -0.718709557509631,
          -0.718709557509631,
          -0.718709557509631,
          -0.718709557509631,
          -0.718709557509631,
          -0.6803335849646249,
          -0.6419576124196189,
          -0.603581639874613,
          -0.5652056673296071,
          -0.5268296947846011,
          -0.48845372223959516,
          -0.4500777496945892,
          -0.4117017771495832,
          -0.37332580460457726,
          -0.3349498320595713,
          -0.2965738595145653,
          -0.25819788696955936,
          -0.21982191442455346,
          -0.18144594187954755,
          -0.1430699693345414,
          -0.1046939967895355,
          -0.0663180242445296,
          -0.027942051699523685,
          -0.6803335849646249,
          -0.6419576124196189,
          -0.603581639874613,
          -0.5652056673296071,
          -0.5268296947846011,
          -0.48845372223959516,
          -0.4500777496945892,
          -0.4117017771495832,
          -0.37332580460457726,
          -0.3349498320595713,
          -0.2965738595145653,
          -0.25819788696955936,
          -0.21982191442455346,
          -0.18144594187954755,
          -0.1430699693345414,
          -0.1046939967895355,
          -0.0663180242445296,
          -0.027942051699523685,
          -0.718709557509631,
          -0.7108693667956836,
          -0.7108693667956836,
          -0.7108693667956836,
          -0.7108693667956836,
          -0.7108693667956836,
          -0.7108693667956836,
          -0.7108693667956836,
          -0.7108693667956836,
          -0.7108693667956836,
          -0.7108693667956836,
          -0.7108693667956836,
          -0.7108693667956836,
          -0.7108693667956836,
          -0.7108693667956836,
          -0.7108693667956836,
          -0.7108693667956836,
          -0.7108693667956836,
          -0.7108693667956836,
          -0.7108693667956836,
          -0.7108693667956836,
          -0.6724933942506776,
          -0.6341174217056715,
          -0.5957414491606656,
          -0.5573654766156597,
          -0.5189895040706537,
          -0.4806135315256478,
          -0.4422375589806418,
          -0.40386158643563586,
          -0.3654856138906299,
          -0.3271096413456239,
          -0.2887336688006179,
          -0.250357696255612,
          -0.21198172371060608,
          -0.17360575116560018,
          -0.13522977862059404,
          -0.09685380607558813,
          -0.058477833530582224,
          -0.020101860985576314,
          -0.6724933942506776,
          -0.6341174217056715,
          -0.5957414491606656,
          -0.5573654766156597,
          -0.5189895040706537,
          -0.4806135315256478,
          -0.4422375589806418,
          -0.40386158643563586,
          -0.3654856138906299,
          -0.3271096413456239,
          -0.2887336688006179,
          -0.250357696255612,
          -0.21198172371060608,
          -0.17360575116560018,
          -0.13522977862059404,
          -0.09685380607558813,
          -0.058477833530582224,
          -0.020101860985576314,
          -0.7108693667956836,
          -0.7030291760817362,
          -0.7030291760817362,
          -0.7030291760817362,
          -0.7030291760817362,
          -0.7030291760817362,
          -0.7030291760817362,
          -0.7030291760817362,
          -0.7030291760817362,
          -0.7030291760817362,
          -0.7030291760817362,
          -0.7030291760817362,
          -0.7030291760817362,
          -0.7030291760817362,
          -0.7030291760817362,
          -0.7030291760817362,
          -0.7030291760817362,
          -0.7030291760817362,
          -0.7030291760817362,
          -0.7030291760817362,
          -0.7030291760817362,
          -0.6646532035367302,
          -0.6262772309917242,
          -0.5879012584467183,
          -0.5495252859017123,
          -0.5111493133567063,
          -0.4727733408117004,
          -0.43439736826669445,
          -0.3960213957216885,
          -0.3576454231766825,
          -0.31926945063167655,
          -0.28089347808667053,
          -0.24251750554166462,
          -0.20414153299665871,
          -0.1657655604516528,
          -0.12738958790664667,
          -0.08901361536164076,
          -0.050637642816634854,
          -0.012261670271628944,
          -0.6646532035367302,
          -0.6262772309917242,
          -0.5879012584467183,
          -0.5495252859017123,
          -0.5111493133567063,
          -0.4727733408117004,
          -0.43439736826669445,
          -0.3960213957216885,
          -0.3576454231766825,
          -0.31926945063167655,
          -0.28089347808667053,
          -0.24251750554166462,
          -0.20414153299665871,
          -0.1657655604516528,
          -0.12738958790664667,
          -0.08901361536164076,
          -0.050637642816634854,
          -0.012261670271628944,
          -0.7030291760817362,
          -0.6951889853677888,
          -0.6951889853677888,
          -0.6951889853677888,
          -0.6951889853677888,
          -0.6951889853677888,
          -0.6951889853677888,
          -0.6951889853677888,
          -0.6951889853677888,
          -0.6951889853677888,
          -0.6951889853677888,
          -0.6951889853677888,
          -0.6951889853677888,
          -0.6951889853677888,
          -0.6951889853677888,
          -0.6951889853677888,
          -0.6951889853677888,
          -0.6951889853677888,
          -0.6951889853677888,
          -0.6951889853677888,
          -0.6951889853677888,
          -0.6568130128227828,
          -0.6184370402777768,
          -0.5800610677327709,
          -0.541685095187765,
          -0.503309122642759,
          -0.46493315009775305,
          -0.4265571775527471,
          -0.3881812050077411,
          -0.34980523246273515,
          -0.3114292599177292,
          -0.27305328737272316,
          -0.23467731482771725,
          -0.19630134228271134,
          -0.15792536973770543,
          -0.1195493971926993,
          -0.08117342464769339,
          -0.04279745210268748,
          -0.0044214795576815735,
          -0.6568130128227828,
          -0.6184370402777768,
          -0.5800610677327709,
          -0.541685095187765,
          -0.503309122642759,
          -0.46493315009775305,
          -0.4265571775527471,
          -0.3881812050077411,
          -0.34980523246273515,
          -0.3114292599177292,
          -0.27305328737272316,
          -0.23467731482771725,
          -0.19630134228271134,
          -0.15792536973770543,
          -0.1195493971926993,
          -0.08117342464769339,
          -0.04279745210268748,
          -0.0044214795576815735,
          -0.6951889853677888,
          -0.6873487946538415,
          -0.6873487946538415,
          -0.6873487946538415,
          -0.6873487946538415,
          -0.6873487946538415,
          -0.6873487946538415,
          -0.6873487946538415,
          -0.6873487946538415,
          -0.6873487946538415,
          -0.6873487946538415,
          -0.6873487946538415,
          -0.6873487946538415,
          -0.6873487946538415,
          -0.6873487946538415,
          -0.6873487946538415,
          -0.6873487946538415,
          -0.6873487946538415,
          -0.6873487946538415,
          -0.6873487946538415,
          -0.6873487946538415,
          -0.6489728221088354,
          -0.6105968495638294,
          -0.5722208770188235,
          -0.5338449044738176,
          -0.4954689319288116,
          -0.4570929593838057,
          -0.4187169868387997,
          -0.38034101429379374,
          -0.3419650417487878,
          -0.3035890692037818,
          -0.2652130966587758,
          -0.22683712411376988,
          -0.18846115156876397,
          -0.15008517902375806,
          -0.11170920647875193,
          -0.07333323393374602,
          -0.03495726138874011,
          -0.6489728221088354,
          -0.6105968495638294,
          -0.5722208770188235,
          -0.5338449044738176,
          -0.4954689319288116,
          -0.4570929593838057,
          -0.4187169868387997,
          -0.38034101429379374,
          -0.3419650417487878,
          -0.3035890692037818,
          -0.2652130966587758,
          -0.22683712411376988,
          -0.18846115156876397,
          -0.15008517902375806,
          -0.11170920647875193,
          -0.07333323393374602,
          -0.03495726138874011,
          -0.6873487946538415,
          -0.6795086039398941,
          -0.6795086039398941,
          -0.6795086039398941,
          -0.6795086039398941,
          -0.6795086039398941,
          -0.6795086039398941,
          -0.6795086039398941,
          -0.6795086039398941,
          -0.6795086039398941,
          -0.6795086039398941,
          -0.6795086039398941,
          -0.6795086039398941,
          -0.6795086039398941,
          -0.6795086039398941,
          -0.6795086039398941,
          -0.6795086039398941,
          -0.6795086039398941,
          -0.6795086039398941,
          -0.6795086039398941,
          -0.6795086039398941,
          -0.6411326313948882,
          -0.6027566588498823,
          -0.5643806863048763,
          -0.5260047137598703,
          -0.4876287412148643,
          -0.4492527686698584,
          -0.41087679612485245,
          -0.3725008235798465,
          -0.3341248510348405,
          -0.29574887848983455,
          -0.25737290594482853,
          -0.21899693339982262,
          -0.18062096085481671,
          -0.1422449883098108,
          -0.10386901576480467,
          -0.06549304321979876,
          -0.027117070674792854,
          -0.6411326313948882,
          -0.6027566588498823,
          -0.5643806863048763,
          -0.5260047137598703,
          -0.4876287412148643,
          -0.4492527686698584,
          -0.41087679612485245,
          -0.3725008235798465,
          -0.3341248510348405,
          -0.29574887848983455,
          -0.25737290594482853,
          -0.21899693339982262,
          -0.18062096085481671,
          -0.1422449883098108,
          -0.10386901576480467,
          -0.06549304321979876,
          -0.027117070674792854,
          -0.6795086039398941,
          -0.6716684132259467,
          -0.6716684132259467,
          -0.6716684132259467,
          -0.6716684132259467,
          -0.6716684132259467,
          -0.6716684132259467,
          -0.6716684132259467,
          -0.6716684132259467,
          -0.6716684132259467,
          -0.6716684132259467,
          -0.6716684132259467,
          -0.6716684132259467,
          -0.6716684132259467,
          -0.6716684132259467,
          -0.6716684132259467,
          -0.6716684132259467,
          -0.6716684132259467,
          -0.6716684132259467,
          -0.6716684132259467,
          -0.6716684132259467,
          -0.6332924406809407,
          -0.5949164681359347,
          -0.5565404955909288,
          -0.5181645230459229,
          -0.47978855050091684,
          -0.44141257795591093,
          -0.40303660541090497,
          -0.364660632865899,
          -0.32628466032089304,
          -0.2879086877758871,
          -0.24953271523088105,
          -0.21115674268587514,
          -0.17278077014086923,
          -0.13440479759586332,
          -0.09602882505085719,
          -0.05765285250585128,
          -0.019276879960845372,
          -0.6332924406809407,
          -0.5949164681359347,
          -0.5565404955909288,
          -0.5181645230459229,
          -0.47978855050091684,
          -0.44141257795591093,
          -0.40303660541090497,
          -0.364660632865899,
          -0.32628466032089304,
          -0.2879086877758871,
          -0.24953271523088105,
          -0.21115674268587514,
          -0.17278077014086923,
          -0.13440479759586332,
          -0.09602882505085719,
          -0.05765285250585128,
          -0.019276879960845372,
          -0.6716684132259467,
          -0.630732480953784,
          -0.630732480953784,
          -0.630732480953784,
          -0.630732480953784,
          -0.630732480953784,
          -0.630732480953784,
          -0.630732480953784,
          -0.630732480953784,
          -0.630732480953784,
          -0.630732480953784,
          -0.630732480953784,
          -0.630732480953784,
          -0.630732480953784,
          -0.630732480953784,
          -0.630732480953784,
          -0.630732480953784,
          -0.630732480953784,
          -0.630732480953784,
          -0.630732480953784,
          -0.630732480953784,
          -0.592356508408778,
          -0.5539805358637719,
          -0.515604563318766,
          -0.4772285907737601,
          -0.4388526182287541,
          -0.4004766456837482,
          -0.3621006731387422,
          -0.32372470059373626,
          -0.2853487280487303,
          -0.24697275550372433,
          -0.2085967829587183,
          -0.1702208104137124,
          -0.1318448378687065,
          -0.09346886532370058,
          -0.05509289277869445,
          -0.016716920233688537,
          -0.592356508408778,
          -0.5539805358637719,
          -0.515604563318766,
          -0.4772285907737601,
          -0.4388526182287541,
          -0.4004766456837482,
          -0.3621006731387422,
          -0.32372470059373626,
          -0.2853487280487303,
          -0.24697275550372433,
          -0.2085967829587183,
          -0.1702208104137124,
          -0.1318448378687065,
          -0.09346886532370058,
          -0.05509289277869445,
          -0.016716920233688537,
          -0.630732480953784,
          -0.589796548681621,
          -0.589796548681621,
          -0.589796548681621,
          -0.589796548681621,
          -0.589796548681621,
          -0.589796548681621,
          -0.589796548681621,
          -0.589796548681621,
          -0.589796548681621,
          -0.589796548681621,
          -0.589796548681621,
          -0.589796548681621,
          -0.589796548681621,
          -0.589796548681621,
          -0.589796548681621,
          -0.589796548681621,
          -0.589796548681621,
          -0.589796548681621,
          -0.589796548681621,
          -0.589796548681621,
          -0.5514205761366151,
          -0.5130446035916092,
          -0.4746686310466032,
          -0.43629265850159726,
          -0.39791668595659124,
          -0.35954071341158533,
          -0.32116474086657937,
          -0.2827887683215734,
          -0.24441279577656744,
          -0.20603682323156147,
          -0.16766085068655545,
          -0.12928487814154954,
          -0.09090890559654363,
          -0.05253293305153772,
          -0.01415696050653159,
          -0.5514205761366151,
          -0.5130446035916092,
          -0.4746686310466032,
          -0.43629265850159726,
          -0.39791668595659124,
          -0.35954071341158533,
          -0.32116474086657937,
          -0.2827887683215734,
          -0.24441279577656744,
          -0.20603682323156147,
          -0.16766085068655545,
          -0.12928487814154954,
          -0.09090890559654363,
          -0.05253293305153772,
          -0.01415696050653159,
          -0.589796548681621,
          -0.5488606164094583,
          -0.5488606164094583,
          -0.5488606164094583,
          -0.5488606164094583,
          -0.5488606164094583,
          -0.5488606164094583,
          -0.5488606164094583,
          -0.5488606164094583,
          -0.5488606164094583,
          -0.5488606164094583,
          -0.5488606164094583,
          -0.5488606164094583,
          -0.5488606164094583,
          -0.5488606164094583,
          -0.5488606164094583,
          -0.5488606164094583,
          -0.5488606164094583,
          -0.5488606164094583,
          -0.5488606164094583,
          -0.5488606164094583,
          -0.5104846438644522,
          -0.4721086713194463,
          -0.4337326987744403,
          -0.3953567262294344,
          -0.3569807536844284,
          -0.3186047811394225,
          -0.2802288085944165,
          -0.24185283604941055,
          -0.20347686350440458,
          -0.16510089095939862,
          -0.1267249184143926,
          -0.08834894586938669,
          -0.049972973324380776,
          -0.011597000779374866,
          -0.5104846438644522,
          -0.4721086713194463,
          -0.4337326987744403,
          -0.3953567262294344,
          -0.3569807536844284,
          -0.3186047811394225,
          -0.2802288085944165,
          -0.24185283604941055,
          -0.20347686350440458,
          -0.16510089095939862,
          -0.1267249184143926,
          -0.08834894586938669,
          -0.049972973324380776,
          -0.011597000779374866,
          -0.5488606164094583,
          -0.5079246841372953,
          -0.5079246841372953,
          -0.5079246841372953,
          -0.5079246841372953,
          -0.5079246841372953,
          -0.5079246841372953,
          -0.5079246841372953,
          -0.5079246841372953,
          -0.5079246841372953,
          -0.5079246841372953,
          -0.5079246841372953,
          -0.5079246841372953,
          -0.5079246841372953,
          -0.5079246841372953,
          -0.5079246841372953,
          -0.5079246841372953,
          -0.5079246841372953,
          -0.5079246841372953,
          -0.5079246841372953,
          -0.5079246841372953,
          -0.4695487115922894,
          -0.4311727390472834,
          -0.39279676650227746,
          -0.35442079395727155,
          -0.31604482141226553,
          -0.2776688488672596,
          -0.23929287632225366,
          -0.2009169037772477,
          -0.16254093123224173,
          -0.12416495868723576,
          -0.08578898614222974,
          -0.04741301359722383,
          -0.00903704105221792,
          -0.4695487115922894,
          -0.4311727390472834,
          -0.39279676650227746,
          -0.35442079395727155,
          -0.31604482141226553,
          -0.2776688488672596,
          -0.23929287632225366,
          -0.2009169037772477,
          -0.16254093123224173,
          -0.12416495868723576,
          -0.08578898614222974,
          -0.04741301359722383,
          -0.00903704105221792,
          -0.5079246841372953,
          -0.4669887518651325,
          -0.4669887518651325,
          -0.4669887518651325,
          -0.4669887518651325,
          -0.4669887518651325,
          -0.4669887518651325,
          -0.4669887518651325,
          -0.4669887518651325,
          -0.4669887518651325,
          -0.4669887518651325,
          -0.4669887518651325,
          -0.4669887518651325,
          -0.4669887518651325,
          -0.4669887518651325,
          -0.4669887518651325,
          -0.4669887518651325,
          -0.4669887518651325,
          -0.4669887518651325,
          -0.4669887518651325,
          -0.4669887518651325,
          -0.42861277932012654,
          -0.39023680677512057,
          -0.3518608342301146,
          -0.3134848616851087,
          -0.2751088891401027,
          -0.23673291659509677,
          -0.1983569440500908,
          -0.15998097150508483,
          -0.12160499896007887,
          -0.0832290264150729,
          -0.044853053870066883,
          -0.006477081325060974,
          -0.42861277932012654,
          -0.39023680677512057,
          -0.3518608342301146,
          -0.3134848616851087,
          -0.2751088891401027,
          -0.23673291659509677,
          -0.1983569440500908,
          -0.15998097150508483,
          -0.12160499896007887,
          -0.0832290264150729,
          -0.044853053870066883,
          -0.006477081325060974,
          -0.4669887518651325,
          -0.42605281959296976,
          -0.42605281959296976,
          -0.42605281959296976,
          -0.42605281959296976,
          -0.42605281959296976,
          -0.42605281959296976,
          -0.42605281959296976,
          -0.42605281959296976,
          -0.42605281959296976,
          -0.42605281959296976,
          -0.42605281959296976,
          -0.42605281959296976,
          -0.42605281959296976,
          -0.42605281959296976,
          -0.42605281959296976,
          -0.42605281959296976,
          -0.42605281959296976,
          -0.42605281959296976,
          -0.42605281959296976,
          -0.42605281959296976,
          -0.3876768470479638,
          -0.3493008745029578,
          -0.31092490195795186,
          -0.27254892941294595,
          -0.23417295686793993,
          -0.19579698432293402,
          -0.15742101177792805,
          -0.11904503923292209,
          -0.08066906668791612,
          -0.04229309414291016,
          -0.0039171215979041385,
          -0.3876768470479638,
          -0.3493008745029578,
          -0.31092490195795186,
          -0.27254892941294595,
          -0.23417295686793993,
          -0.19579698432293402,
          -0.15742101177792805,
          -0.11904503923292209,
          -0.08066906668791612,
          -0.04229309414291016,
          -0.0039171215979041385,
          -0.42605281959296976,
          -0.3851168873208069,
          -0.3851168873208069,
          -0.3851168873208069,
          -0.3851168873208069,
          -0.3851168873208069,
          -0.3851168873208069,
          -0.3851168873208069,
          -0.3851168873208069,
          -0.3851168873208069,
          -0.3851168873208069,
          -0.3851168873208069,
          -0.3851168873208069,
          -0.3851168873208069,
          -0.3851168873208069,
          -0.3851168873208069,
          -0.3851168873208069,
          -0.3851168873208069,
          -0.3851168873208069,
          -0.3851168873208069,
          -0.3851168873208069,
          -0.34674091477580093,
          -0.30836494223079497,
          -0.269988969685789,
          -0.2316129971407831,
          -0.19323702459577707,
          -0.15486105205077116,
          -0.1164850795057652,
          -0.07810910696075923,
          -0.03973313441575327,
          -0.0013571618707473032,
          -0.34674091477580093,
          -0.30836494223079497,
          -0.269988969685789,
          -0.2316129971407831,
          -0.19323702459577707,
          -0.15486105205077116,
          -0.1164850795057652,
          -0.07810910696075923,
          -0.03973313441575327,
          -0.0013571618707473032,
          -0.3851168873208069,
          -0.34418095504864404,
          -0.34418095504864404,
          -0.34418095504864404,
          -0.34418095504864404,
          -0.34418095504864404,
          -0.34418095504864404,
          -0.34418095504864404,
          -0.34418095504864404,
          -0.34418095504864404,
          -0.34418095504864404,
          -0.34418095504864404,
          -0.34418095504864404,
          -0.34418095504864404,
          -0.34418095504864404,
          -0.34418095504864404,
          -0.34418095504864404,
          -0.34418095504864404,
          -0.34418095504864404,
          -0.34418095504864404,
          -0.34418095504864404,
          -0.3058049825036381,
          -0.2674290099586321,
          -0.22905303741362618,
          -0.19067706486862024,
          -0.15230109232361422,
          -0.11392511977860831,
          -0.07554914723360234,
          -0.03717317468859638,
          -0.3058049825036381,
          -0.2674290099586321,
          -0.22905303741362618,
          -0.19067706486862024,
          -0.15230109232361422,
          -0.11392511977860831,
          -0.07554914723360234,
          -0.03717317468859638,
          -0.34418095504864404,
          -0.3032450227764812,
          -0.3032450227764812,
          -0.3032450227764812,
          -0.3032450227764812,
          -0.3032450227764812,
          -0.3032450227764812,
          -0.3032450227764812,
          -0.3032450227764812,
          -0.3032450227764812,
          -0.3032450227764812,
          -0.3032450227764812,
          -0.3032450227764812,
          -0.3032450227764812,
          -0.3032450227764812,
          -0.3032450227764812,
          -0.3032450227764812,
          -0.3032450227764812,
          -0.3032450227764812,
          -0.3032450227764812,
          -0.3032450227764812,
          -0.2648690502314752,
          -0.22649307768646926,
          -0.18811710514146332,
          -0.14974113259645738,
          -0.11136516005145136,
          -0.07298918750644545,
          -0.03461321496143949,
          -0.2648690502314752,
          -0.22649307768646926,
          -0.18811710514146332,
          -0.14974113259645738,
          -0.11136516005145136,
          -0.07298918750644545,
          -0.03461321496143949,
          -0.3032450227764812,
          -0.2623090905043184,
          -0.2623090905043184,
          -0.2623090905043184,
          -0.2623090905043184,
          -0.2623090905043184,
          -0.2623090905043184,
          -0.2623090905043184,
          -0.2623090905043184,
          -0.2623090905043184,
          -0.2623090905043184,
          -0.2623090905043184,
          -0.2623090905043184,
          -0.2623090905043184,
          -0.2623090905043184,
          -0.2623090905043184,
          -0.2623090905043184,
          -0.2623090905043184,
          -0.2623090905043184,
          -0.2623090905043184,
          -0.2623090905043184,
          -0.22393311795931242,
          -0.18555714541430646,
          -0.14718117286930052,
          -0.10880520032429458,
          -0.07042922777928856,
          -0.03205325523428265,
          -0.22393311795931242,
          -0.18555714541430646,
          -0.14718117286930052,
          -0.10880520032429458,
          -0.07042922777928856,
          -0.03205325523428265,
          -0.2623090905043184,
          -0.2213731582321556,
          -0.2213731582321556,
          -0.2213731582321556,
          -0.2213731582321556,
          -0.2213731582321556,
          -0.2213731582321556,
          -0.2213731582321556,
          -0.2213731582321556,
          -0.2213731582321556,
          -0.2213731582321556,
          -0.2213731582321556,
          -0.2213731582321556,
          -0.2213731582321556,
          -0.2213731582321556,
          -0.2213731582321556,
          -0.2213731582321556,
          -0.2213731582321556,
          -0.2213731582321556,
          -0.2213731582321556,
          -0.2213731582321556,
          -0.18299718568714962,
          -0.14462121314214366,
          -0.10624524059713772,
          -0.06786926805213178,
          -0.02949329550712576,
          -0.18299718568714962,
          -0.14462121314214366,
          -0.10624524059713772,
          -0.06786926805213178,
          -0.02949329550712576,
          -0.2213731582321556,
          -0.18043722595999268,
          -0.18043722595999268,
          -0.18043722595999268,
          -0.18043722595999268,
          -0.18043722595999268,
          -0.18043722595999268,
          -0.18043722595999268,
          -0.18043722595999268,
          -0.18043722595999268,
          -0.18043722595999268,
          -0.18043722595999268,
          -0.18043722595999268,
          -0.18043722595999268,
          -0.18043722595999268,
          -0.18043722595999268,
          -0.18043722595999268,
          -0.18043722595999268,
          -0.18043722595999268,
          -0.18043722595999268,
          -0.18043722595999268,
          -0.1420612534149867,
          -0.10368528086998074,
          -0.06530930832497481,
          -0.02693333577996887,
          -0.1420612534149867,
          -0.10368528086998074,
          -0.06530930832497481,
          -0.02693333577996887,
          -0.18043722595999268,
          -0.13950129368782976,
          -0.13950129368782976,
          -0.13950129368782976,
          -0.13950129368782976,
          -0.13950129368782976,
          -0.13950129368782976,
          -0.13950129368782976,
          -0.13950129368782976,
          -0.13950129368782976,
          -0.13950129368782976,
          -0.13950129368782976,
          -0.13950129368782976,
          -0.13950129368782976,
          -0.13950129368782976,
          -0.13950129368782976,
          -0.13950129368782976,
          -0.13950129368782976,
          -0.13950129368782976,
          -0.13950129368782976,
          -0.13950129368782976,
          -0.1011253211428238,
          -0.06274934859781783,
          -0.024373376052811896,
          -0.1011253211428238,
          -0.06274934859781783,
          -0.024373376052811896,
          -0.13950129368782976,
          -0.09856536141566702,
          -0.09856536141566702,
          -0.09856536141566702,
          -0.09856536141566702,
          -0.09856536141566702,
          -0.09856536141566702,
          -0.09856536141566702,
          -0.09856536141566702,
          -0.09856536141566702,
          -0.09856536141566702,
          -0.09856536141566702,
          -0.09856536141566702,
          -0.09856536141566702,
          -0.09856536141566702,
          -0.09856536141566702,
          -0.09856536141566702,
          -0.09856536141566702,
          -0.09856536141566702,
          -0.09856536141566702,
          -0.09856536141566702,
          -0.060189388870661054,
          -0.02181341632565509,
          -0.060189388870661054,
          -0.02181341632565509,
          -0.09856536141566702,
          -0.05762942914350416,
          -0.05762942914350416,
          -0.05762942914350416,
          -0.05762942914350416,
          -0.05762942914350416,
          -0.05762942914350416,
          -0.05762942914350416,
          -0.05762942914350416,
          -0.05762942914350416,
          -0.05762942914350416,
          -0.05762942914350416,
          -0.05762942914350416,
          -0.05762942914350416,
          -0.05762942914350416,
          -0.05762942914350416,
          -0.05762942914350416,
          -0.05762942914350416,
          -0.05762942914350416,
          -0.05762942914350416,
          -0.05762942914350416,
          -0.019253456598498198,
          -0.019253456598498198,
          -0.05762942914350416,
          -0.016693496871341307,
          -0.016693496871341307,
          -0.016693496871341307,
          -0.016693496871341307,
          -0.016693496871341307,
          -0.016693496871341307,
          -0.016693496871341307,
          -0.016693496871341307,
          -0.016693496871341307,
          -0.016693496871341307,
          -0.016693496871341307,
          -0.016693496871341307,
          -0.016693496871341307,
          -0.016693496871341307,
          -0.016693496871341307,
          -0.016693496871341307,
          -0.016693496871341307,
          -0.016693496871341307,
          -0.016693496871341307,
          -0.016693496871341307,
          -0.016693496871341307,
          -0.003648370050115868,
          -0.003648370050115868,
          -0.003648370050115868,
          -0.003648370050115868,
          -0.003648370050115868,
          -0.003648370050115868,
          -0.003648370050115868,
          -0.003648370050115868,
          -0.003648370050115868,
          -0.003648370050115868,
          -0.003648370050115868,
          -0.003648370050115868,
          -0.003648370050115868,
          -0.003648370050115868,
          -0.003648370050115868,
          -0.003648370050115868,
          -0.003648370050115868,
          -0.003648370050115868,
          -0.003648370050115868,
          -0.003648370050115868,
          -0.003648370050115868,
          -0.011488560764063183,
          -0.011488560764063183,
          -0.011488560764063183,
          -0.011488560764063183,
          -0.011488560764063183,
          -0.011488560764063183,
          -0.011488560764063183,
          -0.011488560764063183,
          -0.011488560764063183,
          -0.011488560764063183,
          -0.011488560764063183,
          -0.011488560764063183,
          -0.011488560764063183,
          -0.011488560764063183,
          -0.011488560764063183,
          -0.011488560764063183,
          -0.011488560764063183,
          -0.011488560764063183,
          -0.011488560764063183,
          -0.011488560764063183,
          -0.011488560764063183,
          -0.019328751478010553,
          -0.019328751478010553,
          -0.019328751478010553,
          -0.019328751478010553,
          -0.019328751478010553,
          -0.019328751478010553,
          -0.019328751478010553,
          -0.019328751478010553,
          -0.019328751478010553,
          -0.019328751478010553,
          -0.019328751478010553,
          -0.019328751478010553,
          -0.019328751478010553,
          -0.019328751478010553,
          -0.019328751478010553,
          -0.019328751478010553,
          -0.019328751478010553,
          -0.019328751478010553,
          -0.019328751478010553,
          -0.019328751478010553,
          -0.019328751478010553,
          -0.02716894219195798,
          -0.02716894219195798,
          -0.02716894219195798,
          -0.02716894219195798,
          -0.02716894219195798,
          -0.02716894219195798,
          -0.02716894219195798,
          -0.02716894219195798,
          -0.02716894219195798,
          -0.02716894219195798,
          -0.02716894219195798,
          -0.02716894219195798,
          -0.02716894219195798,
          -0.02716894219195798,
          -0.02716894219195798,
          -0.02716894219195798,
          -0.02716894219195798,
          -0.02716894219195798,
          -0.02716894219195798,
          -0.02716894219195798,
          -0.02716894219195798,
          -0.035009132905905294,
          -0.035009132905905294,
          -0.035009132905905294,
          -0.035009132905905294,
          -0.035009132905905294,
          -0.035009132905905294,
          -0.035009132905905294,
          -0.035009132905905294,
          -0.035009132905905294,
          -0.035009132905905294,
          -0.035009132905905294,
          -0.035009132905905294,
          -0.035009132905905294,
          -0.035009132905905294,
          -0.035009132905905294,
          -0.035009132905905294,
          -0.035009132905905294,
          -0.035009132905905294,
          -0.035009132905905294,
          -0.035009132905905294,
          -0.035009132905905294,
          -0.04284932361985261,
          -0.04284932361985261,
          -0.04284932361985261,
          -0.04284932361985261,
          -0.04284932361985261,
          -0.04284932361985261,
          -0.04284932361985261,
          -0.04284932361985261,
          -0.04284932361985261,
          -0.04284932361985261,
          -0.04284932361985261,
          -0.04284932361985261,
          -0.04284932361985261,
          -0.04284932361985261,
          -0.04284932361985261,
          -0.04284932361985261,
          -0.04284932361985261,
          -0.04284932361985261,
          -0.04284932361985261,
          -0.04284932361985261,
          -0.004473351074846643,
          -0.004473351074846643,
          -0.04284932361985261,
          -0.08378525589201535,
          -0.08378525589201535,
          -0.08378525589201535,
          -0.08378525589201535,
          -0.08378525589201535,
          -0.08378525589201535,
          -0.08378525589201535,
          -0.08378525589201535,
          -0.08378525589201535,
          -0.08378525589201535,
          -0.08378525589201535,
          -0.08378525589201535,
          -0.08378525589201535,
          -0.08378525589201535,
          -0.08378525589201535,
          -0.08378525589201535,
          -0.08378525589201535,
          -0.08378525589201535,
          -0.08378525589201535,
          -0.08378525589201535,
          -0.04540928334700939,
          -0.007033310802003423,
          -0.04540928334700939,
          -0.007033310802003423,
          -0.08378525589201535,
          -0.12472118816417826,
          -0.12472118816417826,
          -0.12472118816417826,
          -0.12472118816417826,
          -0.12472118816417826,
          -0.12472118816417826,
          -0.12472118816417826,
          -0.12472118816417826,
          -0.12472118816417826,
          -0.12472118816417826,
          -0.12472118816417826,
          -0.12472118816417826,
          -0.12472118816417826,
          -0.12472118816417826,
          -0.12472118816417826,
          -0.12472118816417826,
          -0.12472118816417826,
          -0.12472118816417826,
          -0.12472118816417826,
          -0.12472118816417826,
          -0.0863452156191723,
          -0.047969243074166334,
          -0.009593270529160397,
          -0.0863452156191723,
          -0.047969243074166334,
          -0.009593270529160397,
          -0.12472118816417826,
          -0.16565712043634112,
          -0.16565712043634112,
          -0.16565712043634112,
          -0.16565712043634112,
          -0.16565712043634112,
          -0.16565712043634112,
          -0.16565712043634112,
          -0.16565712043634112,
          -0.16565712043634112,
          -0.16565712043634112,
          -0.16565712043634112,
          -0.16565712043634112,
          -0.16565712043634112,
          -0.16565712043634112,
          -0.16565712043634112,
          -0.16565712043634112,
          -0.16565712043634112,
          -0.16565712043634112,
          -0.16565712043634112,
          -0.16565712043634112,
          -0.12728114789133516,
          -0.08890517534632919,
          -0.05052920280132325,
          -0.012153230256317316,
          -0.12728114789133516,
          -0.08890517534632919,
          -0.05052920280132325,
          -0.012153230256317316,
          -0.16565712043634112,
          -0.20659305270850398,
          -0.20659305270850398,
          -0.20659305270850398,
          -0.20659305270850398,
          -0.20659305270850398,
          -0.20659305270850398,
          -0.20659305270850398,
          -0.20659305270850398,
          -0.20659305270850398,
          -0.20659305270850398,
          -0.20659305270850398,
          -0.20659305270850398,
          -0.20659305270850398,
          -0.20659305270850398,
          -0.20659305270850398,
          -0.20659305270850398,
          -0.20659305270850398,
          -0.20659305270850398,
          -0.20659305270850398,
          -0.20659305270850398,
          -0.168217080163498,
          -0.12984110761849205,
          -0.09146513507348611,
          -0.05308916252848017,
          -0.01471318998347415,
          -0.168217080163498,
          -0.12984110761849205,
          -0.09146513507348611,
          -0.05308916252848017,
          -0.01471318998347415,
          -0.20659305270850398,
          -0.24752898498066678,
          -0.24752898498066678,
          -0.24752898498066678,
          -0.24752898498066678,
          -0.24752898498066678,
          -0.24752898498066678,
          -0.24752898498066678,
          -0.24752898498066678,
          -0.24752898498066678,
          -0.24752898498066678,
          -0.24752898498066678,
          -0.24752898498066678,
          -0.24752898498066678,
          -0.24752898498066678,
          -0.24752898498066678,
          -0.24752898498066678,
          -0.24752898498066678,
          -0.24752898498066678,
          -0.24752898498066678,
          -0.24752898498066678,
          -0.2091530124356608,
          -0.17077703989065485,
          -0.1324010673456489,
          -0.09402509480064297,
          -0.05564912225563695,
          -0.01727314971063104,
          -0.2091530124356608,
          -0.17077703989065485,
          -0.1324010673456489,
          -0.09402509480064297,
          -0.05564912225563695,
          -0.01727314971063104,
          -0.24752898498066678,
          -0.2884649172528296,
          -0.2884649172528296,
          -0.2884649172528296,
          -0.2884649172528296,
          -0.2884649172528296,
          -0.2884649172528296,
          -0.2884649172528296,
          -0.2884649172528296,
          -0.2884649172528296,
          -0.2884649172528296,
          -0.2884649172528296,
          -0.2884649172528296,
          -0.2884649172528296,
          -0.2884649172528296,
          -0.2884649172528296,
          -0.2884649172528296,
          -0.2884649172528296,
          -0.2884649172528296,
          -0.2884649172528296,
          -0.2884649172528296,
          -0.2500889447078236,
          -0.21171297216281765,
          -0.1733369996178117,
          -0.13496102707280577,
          -0.09658505452779975,
          -0.05820908198279384,
          -0.019833109437787877,
          -0.2500889447078236,
          -0.21171297216281765,
          -0.1733369996178117,
          -0.13496102707280577,
          -0.09658505452779975,
          -0.05820908198279384,
          -0.019833109437787877,
          -0.2884649172528296,
          -0.32940084952499243,
          -0.32940084952499243,
          -0.32940084952499243,
          -0.32940084952499243,
          -0.32940084952499243,
          -0.32940084952499243,
          -0.32940084952499243,
          -0.32940084952499243,
          -0.32940084952499243,
          -0.32940084952499243,
          -0.32940084952499243,
          -0.32940084952499243,
          -0.32940084952499243,
          -0.32940084952499243,
          -0.32940084952499243,
          -0.32940084952499243,
          -0.32940084952499243,
          -0.32940084952499243,
          -0.32940084952499243,
          -0.32940084952499243,
          -0.29102487697998647,
          -0.2526489044349805,
          -0.21427293188997457,
          -0.17589695934496863,
          -0.1375209867999626,
          -0.0991450142549567,
          -0.06076904170995073,
          -0.022393069164944768,
          -0.29102487697998647,
          -0.2526489044349805,
          -0.21427293188997457,
          -0.17589695934496863,
          -0.1375209867999626,
          -0.0991450142549567,
          -0.06076904170995073,
          -0.022393069164944768,
          -0.32940084952499243,
          -0.37033678179715535,
          -0.37033678179715535,
          -0.37033678179715535,
          -0.37033678179715535,
          -0.37033678179715535,
          -0.37033678179715535,
          -0.37033678179715535,
          -0.37033678179715535,
          -0.37033678179715535,
          -0.37033678179715535,
          -0.37033678179715535,
          -0.37033678179715535,
          -0.37033678179715535,
          -0.37033678179715535,
          -0.37033678179715535,
          -0.37033678179715535,
          -0.37033678179715535,
          -0.37033678179715535,
          -0.37033678179715535,
          -0.37033678179715535,
          -0.3319608092521494,
          -0.2935848367071434,
          -0.2552088641621375,
          -0.21683289161713154,
          -0.17845691907212552,
          -0.1400809465271196,
          -0.10170497398211364,
          -0.06332900143710768,
          -0.024953028892101714,
          -0.3319608092521494,
          -0.2935848367071434,
          -0.2552088641621375,
          -0.21683289161713154,
          -0.17845691907212552,
          -0.1400809465271196,
          -0.10170497398211364,
          -0.06332900143710768,
          -0.024953028892101714,
          -0.37033678179715535,
          -0.41127271406931815,
          -0.41127271406931815,
          -0.41127271406931815,
          -0.41127271406931815,
          -0.41127271406931815,
          -0.41127271406931815,
          -0.41127271406931815,
          -0.41127271406931815,
          -0.41127271406931815,
          -0.41127271406931815,
          -0.41127271406931815,
          -0.41127271406931815,
          -0.41127271406931815,
          -0.41127271406931815,
          -0.41127271406931815,
          -0.41127271406931815,
          -0.41127271406931815,
          -0.41127271406931815,
          -0.41127271406931815,
          -0.41127271406931815,
          -0.3728967415243122,
          -0.3345207689793062,
          -0.29614479643430025,
          -0.25776882388929434,
          -0.21939285134428832,
          -0.1810168787992824,
          -0.14264090625427644,
          -0.10426493370927048,
          -0.06588896116426451,
          -0.02751298861925855,
          -0.3728967415243122,
          -0.3345207689793062,
          -0.29614479643430025,
          -0.25776882388929434,
          -0.21939285134428832,
          -0.1810168787992824,
          -0.14264090625427644,
          -0.10426493370927048,
          -0.06588896116426451,
          -0.02751298861925855,
          -0.41127271406931815,
          -0.452208646341481,
          -0.452208646341481,
          -0.452208646341481,
          -0.452208646341481,
          -0.452208646341481,
          -0.452208646341481,
          -0.452208646341481,
          -0.452208646341481,
          -0.452208646341481,
          -0.452208646341481,
          -0.452208646341481,
          -0.452208646341481,
          -0.452208646341481,
          -0.452208646341481,
          -0.452208646341481,
          -0.452208646341481,
          -0.452208646341481,
          -0.452208646341481,
          -0.452208646341481,
          -0.452208646341481,
          -0.41383267379647504,
          -0.37545670125146907,
          -0.3370807287064631,
          -0.2987047561614572,
          -0.2603287836164512,
          -0.22195281107144527,
          -0.1835768385264393,
          -0.14520086598143334,
          -0.10682489343642737,
          -0.0684489208914214,
          -0.030072948346415385,
          -0.41383267379647504,
          -0.37545670125146907,
          -0.3370807287064631,
          -0.2987047561614572,
          -0.2603287836164512,
          -0.22195281107144527,
          -0.1835768385264393,
          -0.14520086598143334,
          -0.10682489343642737,
          -0.0684489208914214,
          -0.030072948346415385,
          -0.452208646341481,
          -0.49314457861364386,
          -0.49314457861364386,
          -0.49314457861364386,
          -0.49314457861364386,
          -0.49314457861364386,
          -0.49314457861364386,
          -0.49314457861364386,
          -0.49314457861364386,
          -0.49314457861364386,
          -0.49314457861364386,
          -0.49314457861364386,
          -0.49314457861364386,
          -0.49314457861364386,
          -0.49314457861364386,
          -0.49314457861364386,
          -0.49314457861364386,
          -0.49314457861364386,
          -0.49314457861364386,
          -0.49314457861364386,
          -0.49314457861364386,
          -0.4547686060686379,
          -0.4163926335236319,
          -0.37801666097862596,
          -0.33964068843362005,
          -0.30126471588861403,
          -0.2628887433436081,
          -0.22451277079860216,
          -0.1861367982535962,
          -0.14776082570859023,
          -0.10938485316358426,
          -0.07100888061857824,
          -0.03263290807357233,
          -0.4547686060686379,
          -0.4163926335236319,
          -0.37801666097862596,
          -0.33964068843362005,
          -0.30126471588861403,
          -0.2628887433436081,
          -0.22451277079860216,
          -0.1861367982535962,
          -0.14776082570859023,
          -0.10938485316358426,
          -0.07100888061857824,
          -0.03263290807357233,
          -0.49314457861364386,
          -0.5340805108858067,
          -0.5340805108858067,
          -0.5340805108858067,
          -0.5340805108858067,
          -0.5340805108858067,
          -0.5340805108858067,
          -0.5340805108858067,
          -0.5340805108858067,
          -0.5340805108858067,
          -0.5340805108858067,
          -0.5340805108858067,
          -0.5340805108858067,
          -0.5340805108858067,
          -0.5340805108858067,
          -0.5340805108858067,
          -0.5340805108858067,
          -0.5340805108858067,
          -0.5340805108858067,
          -0.5340805108858067,
          -0.5340805108858067,
          -0.49570453834080064,
          -0.4573285657957947,
          -0.4189525932507887,
          -0.3805766207057828,
          -0.3422006481607768,
          -0.30382467561577087,
          -0.2654487030707649,
          -0.22707273052575894,
          -0.18869675798075297,
          -0.150320785435747,
          -0.11194481289074099,
          -0.07356884034573508,
          -0.035192867800729166,
          -0.49570453834080064,
          -0.4573285657957947,
          -0.4189525932507887,
          -0.3805766207057828,
          -0.3422006481607768,
          -0.30382467561577087,
          -0.2654487030707649,
          -0.22707273052575894,
          -0.18869675798075297,
          -0.150320785435747,
          -0.11194481289074099,
          -0.07356884034573508,
          -0.035192867800729166,
          -0.5340805108858067,
          -0.5750164431579696,
          -0.5750164431579696,
          -0.5750164431579696,
          -0.5750164431579696,
          -0.5750164431579696,
          -0.5750164431579696,
          -0.5750164431579696,
          -0.5750164431579696,
          -0.5750164431579696,
          -0.5750164431579696,
          -0.5750164431579696,
          -0.5750164431579696,
          -0.5750164431579696,
          -0.5750164431579696,
          -0.5750164431579696,
          -0.5750164431579696,
          -0.5750164431579696,
          -0.5750164431579696,
          -0.5750164431579696,
          -0.5750164431579696,
          -0.5366404706129636,
          -0.49826449806795764,
          -0.4598885255229517,
          -0.42151255297794576,
          -0.38313658043293974,
          -0.34476060788793383,
          -0.30638463534292787,
          -0.2680086627979219,
          -0.22963269025291594,
          -0.19125671770790997,
          -0.15288074516290395,
          -0.11450477261789804,
          -0.07612880007289213,
          -0.037752827527886224,
          -0.5366404706129636,
          -0.49826449806795764,
          -0.4598885255229517,
          -0.42151255297794576,
          -0.38313658043293974,
          -0.34476060788793383,
          -0.30638463534292787,
          -0.2680086627979219,
          -0.22963269025291594,
          -0.19125671770790997,
          -0.15288074516290395,
          -0.11450477261789804,
          -0.07612880007289213,
          -0.037752827527886224,
          -0.5750164431579696,
          -0.6159523754301324,
          -0.6159523754301324,
          -0.6159523754301324,
          -0.6159523754301324,
          -0.6159523754301324,
          -0.6159523754301324,
          -0.6159523754301324,
          -0.6159523754301324,
          -0.6159523754301324,
          -0.6159523754301324,
          -0.6159523754301324,
          -0.6159523754301324,
          -0.6159523754301324,
          -0.6159523754301324,
          -0.6159523754301324,
          -0.6159523754301324,
          -0.6159523754301324,
          -0.6159523754301324,
          -0.6159523754301324,
          -0.6159523754301324,
          -0.5775764028851263,
          -0.5392004303401203,
          -0.5008244577951144,
          -0.4624484852501085,
          -0.4240725127051025,
          -0.3856965401600966,
          -0.3473205676150906,
          -0.30894459507008465,
          -0.2705686225250787,
          -0.23219264998007272,
          -0.1938166774350667,
          -0.1554407048900608,
          -0.11706473234505488,
          -0.07868875980004897,
          -0.04031278725504284,
          -0.001936814710036927,
          -0.5775764028851263,
          -0.5392004303401203,
          -0.5008244577951144,
          -0.4624484852501085,
          -0.4240725127051025,
          -0.3856965401600966,
          -0.3473205676150906,
          -0.30894459507008465,
          -0.2705686225250787,
          -0.23219264998007272,
          -0.1938166774350667,
          -0.1554407048900608,
          -0.11706473234505488,
          -0.07868875980004897,
          -0.04031278725504284,
          -0.001936814710036927,
          -0.6159523754301324,
          -0.6568883077022951,
          -0.6568883077022951,
          -0.6568883077022951,
          -0.6568883077022951,
          -0.6568883077022951,
          -0.6568883077022951,
          -0.6568883077022951,
          -0.6568883077022951,
          -0.6568883077022951,
          -0.6568883077022951,
          -0.6568883077022951,
          -0.6568883077022951,
          -0.6568883077022951,
          -0.6568883077022951,
          -0.6568883077022951,
          -0.6568883077022951,
          -0.6568883077022951,
          -0.6568883077022951,
          -0.6568883077022951,
          -0.6568883077022951,
          -0.6185123351572892,
          -0.5801363626122833,
          -0.5417603900672773,
          -0.5033844175222714,
          -0.46500844497726534,
          -0.42663247243225944,
          -0.38825649988725347,
          -0.3498805273422475,
          -0.31150455479724154,
          -0.2731285822522356,
          -0.23475260970722955,
          -0.19637663716222364,
          -0.15800066461721773,
          -0.11962469207221182,
          -0.08124871952720569,
          -0.04287274698219978,
          -0.004496774437193873,
          -0.6185123351572892,
          -0.5801363626122833,
          -0.5417603900672773,
          -0.5033844175222714,
          -0.46500844497726534,
          -0.42663247243225944,
          -0.38825649988725347,
          -0.3498805273422475,
          -0.31150455479724154,
          -0.2731285822522356,
          -0.23475260970722955,
          -0.19637663716222364,
          -0.15800066461721773,
          -0.11962469207221182,
          -0.08124871952720569,
          -0.04287274698219978,
          -0.004496774437193873,
          -0.6568883077022951,
          -0.6978242399744581,
          -0.6978242399744581,
          -0.6978242399744581,
          -0.6978242399744581,
          -0.6978242399744581,
          -0.6978242399744581,
          -0.6978242399744581,
          -0.6978242399744581,
          -0.6978242399744581,
          -0.6978242399744581,
          -0.6978242399744581,
          -0.6978242399744581,
          -0.6978242399744581,
          -0.6978242399744581,
          -0.6978242399744581,
          -0.6978242399744581,
          -0.6978242399744581,
          -0.6978242399744581,
          -0.6978242399744581,
          -0.6978242399744581,
          -0.6594482674294521,
          -0.621072294884446,
          -0.5826963223394401,
          -0.5443203497944342,
          -0.5059443772494282,
          -0.4675684047044223,
          -0.4291924321594163,
          -0.39081645961441036,
          -0.3524404870694044,
          -0.31406451452439843,
          -0.2756885419793924,
          -0.2373125694343865,
          -0.1989365968893806,
          -0.16056062434437468,
          -0.12218465179936855,
          -0.08380867925436264,
          -0.04543270670935673,
          -0.00705673416435082,
          -0.6594482674294521,
          -0.621072294884446,
          -0.5826963223394401,
          -0.5443203497944342,
          -0.5059443772494282,
          -0.4675684047044223,
          -0.4291924321594163,
          -0.39081645961441036,
          -0.3524404870694044,
          -0.31406451452439843,
          -0.2756885419793924,
          -0.2373125694343865,
          -0.1989365968893806,
          -0.16056062434437468,
          -0.12218465179936855,
          -0.08380867925436264,
          -0.04543270670935673,
          -0.00705673416435082,
          -0.6978242399744581,
          -0.7387601722466208,
          -0.7387601722466208,
          -0.7387601722466208,
          -0.7387601722466208,
          -0.7387601722466208,
          -0.7387601722466208,
          -0.7387601722466208,
          -0.7387601722466208,
          -0.7387601722466208,
          -0.7387601722466208,
          -0.7387601722466208,
          -0.7387601722466208,
          -0.7387601722466208,
          -0.7387601722466208,
          -0.7387601722466208,
          -0.7387601722466208,
          -0.7387601722466208,
          -0.7387601722466208,
          -0.7387601722466208,
          -0.7387601722466208,
          -0.7003841997016148,
          -0.6620082271566088,
          -0.6236322546116029,
          -0.585256282066597,
          -0.546880309521591,
          -0.508504336976585,
          -0.47012836443157907,
          -0.4317523918865731,
          -0.39337641934156714,
          -0.3550004467965612,
          -0.31662447425155515,
          -0.27824850170654924,
          -0.23987252916154334,
          -0.20149655661653743,
          -0.1631205840715313,
          -0.12474461152652538,
          -0.08636863898151947,
          -0.047992666436513565,
          -0.009616693891507655,
          -0.009616693891507655,
          -0.009616693891507655,
          -0.009616693891507655,
          -0.009616693891507655,
          -0.009616693891507655,
          -0.009616693891507655,
          -0.009616693891507655,
          -0.009616693891507655,
          -0.009616693891507655,
          -0.009616693891507655,
          -0.009616693891507655,
          -0.009616693891507655,
          -0.009616693891507655,
          -0.009616693891507655,
          -0.009616693891507655,
          -0.009616693891507655,
          -0.009616693891507655,
          -0.009616693891507655,
          -0.009616693891507655,
          -0.7003841997016148,
          -0.6620082271566088,
          -0.6236322546116029,
          -0.585256282066597,
          -0.546880309521591,
          -0.508504336976585,
          -0.47012836443157907,
          -0.4317523918865731,
          -0.39337641934156714,
          -0.3550004467965612,
          -0.31662447425155515,
          -0.27824850170654924,
          -0.23987252916154334,
          -0.20149655661653743,
          -0.1631205840715313,
          -0.12474461152652538,
          -0.08636863898151947,
          -0.047992666436513565,
          -0.7387601722466208,
          -0.7796961045187838,
          -0.7796961045187838,
          -0.7796961045187838,
          -0.7796961045187838,
          -0.7796961045187838,
          -0.7796961045187838,
          -0.7796961045187838,
          -0.7796961045187838,
          -0.7796961045187838,
          -0.7796961045187838,
          -0.7796961045187838,
          -0.7796961045187838,
          -0.7796961045187838,
          -0.7796961045187838,
          -0.7796961045187838,
          -0.7796961045187838,
          -0.7796961045187838,
          -0.7796961045187838,
          -0.7796961045187838,
          -0.7796961045187838,
          -0.7413201319737778,
          -0.7029441594287718,
          -0.6645681868837658,
          -0.6261922143387599,
          -0.5878162417937539,
          -0.549440269248748,
          -0.511064296703742,
          -0.4726883241587361,
          -0.4343123516137301,
          -0.39593637906872414,
          -0.3575604065237181,
          -0.3191844339787122,
          -0.2808084614337063,
          -0.2424324888887004,
          -0.20405651634369426,
          -0.16568054379868835,
          -0.12730457125368244,
          -0.08892859870867653,
          -0.05055262616367062,
          -0.05055262616367062,
          -0.05055262616367062,
          -0.05055262616367062,
          -0.05055262616367062,
          -0.05055262616367062,
          -0.05055262616367062,
          -0.05055262616367062,
          -0.05055262616367062,
          -0.05055262616367062,
          -0.05055262616367062,
          -0.05055262616367062,
          -0.05055262616367062,
          -0.05055262616367062,
          -0.05055262616367062,
          -0.05055262616367062,
          -0.05055262616367062,
          -0.05055262616367062,
          -0.05055262616367062,
          -0.05055262616367062,
          -0.7413201319737778,
          -0.7029441594287718,
          -0.6645681868837658,
          -0.6261922143387599,
          -0.5878162417937539,
          -0.549440269248748,
          -0.511064296703742,
          -0.4726883241587361,
          -0.4343123516137301,
          -0.39593637906872414,
          -0.3575604065237181,
          -0.3191844339787122,
          -0.2808084614337063,
          -0.2424324888887004,
          -0.20405651634369426,
          -0.16568054379868835,
          -0.12730457125368244,
          -0.08892859870867653,
          -0.7796961045187838,
          -0.8206320367909465,
          -0.8206320367909465,
          -0.8206320367909465,
          -0.8206320367909465,
          -0.8206320367909465,
          -0.8206320367909465,
          -0.8206320367909465,
          -0.8206320367909465,
          -0.8206320367909465,
          -0.8206320367909465,
          -0.8206320367909465,
          -0.8206320367909465,
          -0.8206320367909465,
          -0.8206320367909465,
          -0.8206320367909465,
          -0.8206320367909465,
          -0.8206320367909465,
          -0.8206320367909465,
          -0.8206320367909465,
          -0.8206320367909465,
          -0.7822560642459405,
          -0.7438800917009345,
          -0.7055041191559286,
          -0.6671281466109227,
          -0.6287521740659167,
          -0.5903762015209107,
          -0.5520002289759047,
          -0.5136242564308988,
          -0.47524828388589285,
          -0.4368723113408869,
          -0.39849633879588087,
          -0.36012036625087496,
          -0.32174439370586905,
          -0.28336842116086314,
          -0.244992448615857,
          -0.2066164760708511,
          -0.1682405035258452,
          -0.12986453098083928,
          -0.09148855843583337,
          -0.09148855843583337,
          -0.09148855843583337,
          -0.09148855843583337,
          -0.09148855843583337,
          -0.09148855843583337,
          -0.09148855843583337,
          -0.09148855843583337,
          -0.09148855843583337,
          -0.09148855843583337,
          -0.09148855843583337,
          -0.09148855843583337,
          -0.09148855843583337,
          -0.09148855843583337,
          -0.09148855843583337,
          -0.09148855843583337,
          -0.09148855843583337,
          -0.09148855843583337,
          -0.09148855843583337,
          -0.09148855843583337,
          -0.7822560642459405,
          -0.7438800917009345,
          -0.7055041191559286,
          -0.6671281466109227,
          -0.6287521740659167,
          -0.5903762015209107,
          -0.5520002289759047,
          -0.5136242564308988,
          -0.47524828388589285,
          -0.4368723113408869,
          -0.39849633879588087,
          -0.36012036625087496,
          -0.32174439370586905,
          -0.28336842116086314,
          -0.244992448615857,
          -0.2066164760708511,
          -0.1682405035258452,
          -0.12986453098083928,
          -0.8206320367909465
         ],
         "y": [
          -0.0184057454633052,
          -0.0184057454633052,
          -0.0184057454633052,
          -0.0184057454633052,
          -0.0184057454633052,
          -0.0184057454633052,
          -0.0184057454633052,
          -0.0184057454633052,
          -0.0184057454633052,
          -0.0184057454633052,
          -0.0184057454633052,
          -0.0184057454633052,
          -0.0184057454633052,
          -0.0184057454633052,
          -0.0184057454633052,
          -0.0184057454633052,
          -0.0184057454633052,
          -0.0184057454633052,
          -0.0184057454633052,
          -0.0184057454633052,
          -0.0184057454633052,
          -0.002930287534541387,
          -0.002930287534541387,
          -0.002930287534541387,
          -0.002930287534541387,
          -0.002930287534541387,
          -0.002930287534541387,
          -0.002930287534541387,
          -0.002930287534541387,
          -0.002930287534541387,
          -0.002930287534541387,
          -0.002930287534541387,
          -0.002930287534541387,
          -0.002930287534541387,
          -0.002930287534541387,
          -0.002930287534541387,
          -0.002930287534541387,
          -0.002930287534541387,
          -0.002930287534541387,
          -0.002930287534541387,
          -0.002930287534541387,
          -0.002930287534541387,
          -0.03992695351417336,
          -0.03992695351417336,
          -0.03992695351417336,
          -0.03992695351417336,
          -0.03992695351417336,
          -0.03992695351417336,
          -0.03992695351417336,
          -0.03992695351417336,
          -0.03992695351417336,
          -0.03992695351417336,
          -0.03992695351417336,
          -0.03992695351417336,
          -0.03992695351417336,
          -0.03992695351417336,
          -0.03992695351417336,
          -0.03992695351417336,
          -0.03992695351417336,
          -0.03992695351417336,
          -0.03992695351417336,
          -0.03992695351417336,
          -0.03992695351417336,
          -0.09251943829707027,
          -0.04709474747270345,
          -0.0016700566483366375,
          -0.0016700566483366375,
          -0.04709474747270345,
          -0.09251943829707027,
          -0.09251943829707027,
          -0.09251943829707027,
          -0.09251943829707027,
          -0.09251943829707027,
          -0.09251943829707027,
          -0.09251943829707027,
          -0.09251943829707027,
          -0.09251943829707027,
          -0.09251943829707027,
          -0.09251943829707027,
          -0.09251943829707027,
          -0.09251943829707027,
          -0.09251943829707027,
          -0.09251943829707027,
          -0.09251943829707027,
          -0.09251943829707027,
          -0.09251943829707027,
          -0.09251943829707027,
          -0.09251943829707027,
          -0.14511192307996712,
          -0.0996872322556003,
          -0.05426254143123349,
          -0.008837850606866676,
          -0.008837850606866676,
          -0.05426254143123349,
          -0.0996872322556003,
          -0.14511192307996712,
          -0.14511192307996712,
          -0.14511192307996712,
          -0.14511192307996712,
          -0.14511192307996712,
          -0.14511192307996712,
          -0.14511192307996712,
          -0.14511192307996712,
          -0.14511192307996712,
          -0.14511192307996712,
          -0.14511192307996712,
          -0.14511192307996712,
          -0.14511192307996712,
          -0.14511192307996712,
          -0.14511192307996712,
          -0.14511192307996712,
          -0.14511192307996712,
          -0.14511192307996712,
          -0.14511192307996712,
          -0.14511192307996712,
          -0.1977044078628641,
          -0.1522797170384973,
          -0.10685502621413048,
          -0.06143033538976367,
          -0.016005644565396854,
          -0.016005644565396854,
          -0.06143033538976367,
          -0.10685502621413048,
          -0.1522797170384973,
          -0.1977044078628641,
          -0.1977044078628641,
          -0.1977044078628641,
          -0.1977044078628641,
          -0.1977044078628641,
          -0.1977044078628641,
          -0.1977044078628641,
          -0.1977044078628641,
          -0.1977044078628641,
          -0.1977044078628641,
          -0.1977044078628641,
          -0.1977044078628641,
          -0.1977044078628641,
          -0.1977044078628641,
          -0.1977044078628641,
          -0.1977044078628641,
          -0.1977044078628641,
          -0.1977044078628641,
          -0.1977044078628641,
          -0.1977044078628641,
          -0.2502968926457609,
          -0.20487220182139407,
          -0.15944751099702725,
          -0.11402282017266044,
          -0.06859812934829362,
          -0.023173438523926837,
          -0.023173438523926837,
          -0.06859812934829362,
          -0.11402282017266044,
          -0.15944751099702725,
          -0.20487220182139407,
          -0.2502968926457609,
          -0.2502968926457609,
          -0.2502968926457609,
          -0.2502968926457609,
          -0.2502968926457609,
          -0.2502968926457609,
          -0.2502968926457609,
          -0.2502968926457609,
          -0.2502968926457609,
          -0.2502968926457609,
          -0.2502968926457609,
          -0.2502968926457609,
          -0.2502968926457609,
          -0.2502968926457609,
          -0.2502968926457609,
          -0.2502968926457609,
          -0.2502968926457609,
          -0.2502968926457609,
          -0.2502968926457609,
          -0.2502968926457609,
          -0.30288937742865774,
          -0.2574646866042909,
          -0.2120399957799241,
          -0.1666153049555573,
          -0.12119061413119048,
          -0.07576592330682369,
          -0.030341232482456848,
          -0.030341232482456848,
          -0.07576592330682369,
          -0.12119061413119048,
          -0.1666153049555573,
          -0.2120399957799241,
          -0.2574646866042909,
          -0.30288937742865774,
          -0.30288937742865774,
          -0.30288937742865774,
          -0.30288937742865774,
          -0.30288937742865774,
          -0.30288937742865774,
          -0.30288937742865774,
          -0.30288937742865774,
          -0.30288937742865774,
          -0.30288937742865774,
          -0.30288937742865774,
          -0.30288937742865774,
          -0.30288937742865774,
          -0.30288937742865774,
          -0.30288937742865774,
          -0.30288937742865774,
          -0.30288937742865774,
          -0.30288937742865774,
          -0.30288937742865774,
          -0.30288937742865774,
          -0.3554818622115547,
          -0.3100571713871879,
          -0.26463248056282107,
          -0.21920778973845426,
          -0.17378309891408744,
          -0.12835840808972065,
          -0.08293371726535381,
          -0.037509026440987026,
          -0.037509026440987026,
          -0.08293371726535381,
          -0.12835840808972065,
          -0.17378309891408744,
          -0.21920778973845426,
          -0.26463248056282107,
          -0.3100571713871879,
          -0.3554818622115547,
          -0.3554818622115547,
          -0.3554818622115547,
          -0.3554818622115547,
          -0.3554818622115547,
          -0.3554818622115547,
          -0.3554818622115547,
          -0.3554818622115547,
          -0.3554818622115547,
          -0.3554818622115547,
          -0.3554818622115547,
          -0.3554818622115547,
          -0.3554818622115547,
          -0.3554818622115547,
          -0.3554818622115547,
          -0.3554818622115547,
          -0.3554818622115547,
          -0.3554818622115547,
          -0.3554818622115547,
          -0.3554818622115547,
          -0.4080743469944516,
          -0.3626496561700848,
          -0.317224965345718,
          -0.27180027452135114,
          -0.22637558369698435,
          -0.18095089287261756,
          -0.13552620204825072,
          -0.09010151122388393,
          -0.04467682039951709,
          -0.04467682039951709,
          -0.09010151122388393,
          -0.13552620204825072,
          -0.18095089287261756,
          -0.22637558369698435,
          -0.27180027452135114,
          -0.317224965345718,
          -0.3626496561700848,
          -0.4080743469944516,
          -0.4080743469944516,
          -0.4080743469944516,
          -0.4080743469944516,
          -0.4080743469944516,
          -0.4080743469944516,
          -0.4080743469944516,
          -0.4080743469944516,
          -0.4080743469944516,
          -0.4080743469944516,
          -0.4080743469944516,
          -0.4080743469944516,
          -0.4080743469944516,
          -0.4080743469944516,
          -0.4080743469944516,
          -0.4080743469944516,
          -0.4080743469944516,
          -0.4080743469944516,
          -0.4080743469944516,
          -0.4080743469944516,
          -0.4606668317773484,
          -0.4152421409529816,
          -0.3698174501286148,
          -0.32439275930424794,
          -0.27896806847988115,
          -0.23354337765551436,
          -0.18811868683114752,
          -0.14269399600678073,
          -0.09726930518241389,
          -0.05184461435804705,
          -0.006419923533680261,
          -0.006419923533680261,
          -0.05184461435804705,
          -0.09726930518241389,
          -0.14269399600678073,
          -0.18811868683114752,
          -0.23354337765551436,
          -0.27896806847988115,
          -0.32439275930424794,
          -0.3698174501286148,
          -0.4152421409529816,
          -0.4606668317773484,
          -0.4606668317773484,
          -0.4606668317773484,
          -0.4606668317773484,
          -0.4606668317773484,
          -0.4606668317773484,
          -0.4606668317773484,
          -0.4606668317773484,
          -0.4606668317773484,
          -0.4606668317773484,
          -0.4606668317773484,
          -0.4606668317773484,
          -0.4606668317773484,
          -0.4606668317773484,
          -0.4606668317773484,
          -0.4606668317773484,
          -0.4606668317773484,
          -0.4606668317773484,
          -0.4606668317773484,
          -0.4606668317773484,
          -0.5132593165602453,
          -0.46783462573587853,
          -0.4224099349115117,
          -0.37698524408714484,
          -0.33156055326277806,
          -0.28613586243841127,
          -0.24071117161404443,
          -0.19528648078967764,
          -0.1498617899653108,
          -0.10443709914094396,
          -0.05901240831657717,
          -0.013587717492210438,
          -0.013587717492210438,
          -0.05901240831657717,
          -0.10443709914094396,
          -0.1498617899653108,
          -0.19528648078967764,
          -0.24071117161404443,
          -0.28613586243841127,
          -0.33156055326277806,
          -0.37698524408714484,
          -0.4224099349115117,
          -0.46783462573587853,
          -0.5132593165602453,
          -0.5132593165602453,
          -0.5132593165602453,
          -0.5132593165602453,
          -0.5132593165602453,
          -0.5132593165602453,
          -0.5132593165602453,
          -0.5132593165602453,
          -0.5132593165602453,
          -0.5132593165602453,
          -0.5132593165602453,
          -0.5132593165602453,
          -0.5132593165602453,
          -0.5132593165602453,
          -0.5132593165602453,
          -0.5132593165602453,
          -0.5132593165602453,
          -0.5132593165602453,
          -0.5132593165602453,
          -0.5132593165602453,
          -0.5658518013431422,
          -0.5204271105187754,
          -0.4750024196944086,
          -0.42957772887004175,
          -0.38415303804567497,
          -0.3387283472213082,
          -0.29330365639694134,
          -0.24787896557257455,
          -0.2024542747482077,
          -0.15702958392384087,
          -0.11160489309947408,
          -0.06618020227510735,
          -0.020755511450740394,
          -0.020755511450740394,
          -0.06618020227510735,
          -0.11160489309947408,
          -0.15702958392384087,
          -0.2024542747482077,
          -0.24787896557257455,
          -0.29330365639694134,
          -0.3387283472213082,
          -0.38415303804567497,
          -0.42957772887004175,
          -0.4750024196944086,
          -0.5204271105187754,
          -0.5658518013431422,
          -0.5658518013431422,
          -0.5658518013431422,
          -0.5658518013431422,
          -0.5658518013431422,
          -0.5658518013431422,
          -0.5658518013431422,
          -0.5658518013431422,
          -0.5658518013431422,
          -0.5658518013431422,
          -0.5658518013431422,
          -0.5658518013431422,
          -0.5658518013431422,
          -0.5658518013431422,
          -0.5658518013431422,
          -0.5658518013431422,
          -0.5658518013431422,
          -0.5658518013431422,
          -0.5658518013431422,
          -0.5658518013431422,
          -0.6184442861260391,
          -0.5730195953016723,
          -0.5275949044773055,
          -0.48217021365293866,
          -0.4367455228285719,
          -0.3913208320042051,
          -0.34589614117983825,
          -0.30047145035547146,
          -0.2550467595311046,
          -0.20962206870673777,
          -0.164197377882371,
          -0.11877268705800426,
          -0.0733479962336373,
          -0.02792330540927057,
          -0.02792330540927057,
          -0.0733479962336373,
          -0.11877268705800426,
          -0.164197377882371,
          -0.20962206870673777,
          -0.2550467595311046,
          -0.30047145035547146,
          -0.34589614117983825,
          -0.3913208320042051,
          -0.4367455228285719,
          -0.48217021365293866,
          -0.5275949044773055,
          -0.5730195953016723,
          -0.6184442861260391,
          -0.6184442861260391,
          -0.6184442861260391,
          -0.6184442861260391,
          -0.6184442861260391,
          -0.6184442861260391,
          -0.6184442861260391,
          -0.6184442861260391,
          -0.6184442861260391,
          -0.6184442861260391,
          -0.6184442861260391,
          -0.6184442861260391,
          -0.6184442861260391,
          -0.6184442861260391,
          -0.6184442861260391,
          -0.6184442861260391,
          -0.6184442861260391,
          -0.6184442861260391,
          -0.6184442861260391,
          -0.6184442861260391,
          -0.671036770908936,
          -0.6256120800845693,
          -0.5801873892602024,
          -0.5347626984358356,
          -0.4893380076114688,
          -0.443913316787102,
          -0.39848862596273515,
          -0.35306393513836837,
          -0.3076392443140015,
          -0.2622145534896347,
          -0.2167898626652679,
          -0.17136517184090116,
          -0.1259404810165342,
          -0.08051579019216748,
          -0.03509109936780075,
          -0.03509109936780075,
          -0.08051579019216748,
          -0.1259404810165342,
          -0.17136517184090116,
          -0.2167898626652679,
          -0.2622145534896347,
          -0.3076392443140015,
          -0.35306393513836837,
          -0.39848862596273515,
          -0.443913316787102,
          -0.4893380076114688,
          -0.5347626984358356,
          -0.5801873892602024,
          -0.6256120800845693,
          -0.671036770908936,
          -0.671036770908936,
          -0.671036770908936,
          -0.671036770908936,
          -0.671036770908936,
          -0.671036770908936,
          -0.671036770908936,
          -0.671036770908936,
          -0.671036770908936,
          -0.671036770908936,
          -0.671036770908936,
          -0.671036770908936,
          -0.671036770908936,
          -0.671036770908936,
          -0.671036770908936,
          -0.671036770908936,
          -0.671036770908936,
          -0.671036770908936,
          -0.671036770908936,
          -0.671036770908936,
          -0.7236292556918329,
          -0.678204564867466,
          -0.6327798740430992,
          -0.5873551832187324,
          -0.5419304923943655,
          -0.4965058015699988,
          -0.45108111074563195,
          -0.40565641992126517,
          -0.3602317290968983,
          -0.3148070382725315,
          -0.2693823474481647,
          -0.22395765662379796,
          -0.178532965799431,
          -0.13310827497506428,
          -0.08768358415069755,
          -0.04225889332633059,
          -0.04225889332633059,
          -0.08768358415069755,
          -0.13310827497506428,
          -0.178532965799431,
          -0.22395765662379796,
          -0.2693823474481647,
          -0.3148070382725315,
          -0.3602317290968983,
          -0.40565641992126517,
          -0.45108111074563195,
          -0.4965058015699988,
          -0.5419304923943655,
          -0.5873551832187324,
          -0.6327798740430992,
          -0.678204564867466,
          -0.7236292556918329,
          -0.7236292556918329,
          -0.7236292556918329,
          -0.7236292556918329,
          -0.7236292556918329,
          -0.7236292556918329,
          -0.7236292556918329,
          -0.7236292556918329,
          -0.7236292556918329,
          -0.7236292556918329,
          -0.7236292556918329,
          -0.7236292556918329,
          -0.7236292556918329,
          -0.7236292556918329,
          -0.7236292556918329,
          -0.7236292556918329,
          -0.7236292556918329,
          -0.7236292556918329,
          -0.7236292556918329,
          -0.7236292556918329,
          -0.7391047136205968,
          -0.69368002279623,
          -0.6482553319718631,
          -0.6028306411474963,
          -0.5574059503231295,
          -0.5119812594987627,
          -0.4665565686743959,
          -0.4211318778500291,
          -0.37570718702566225,
          -0.3302824962012954,
          -0.2848578053769286,
          -0.2394331145525619,
          -0.19400842372819493,
          -0.1485837329038282,
          -0.10315904207946147,
          -0.05773435125509452,
          -0.012309660430727787,
          -0.012309660430727787,
          -0.05773435125509452,
          -0.10315904207946147,
          -0.1485837329038282,
          -0.19400842372819493,
          -0.2394331145525619,
          -0.2848578053769286,
          -0.3302824962012954,
          -0.37570718702566225,
          -0.4211318778500291,
          -0.4665565686743959,
          -0.5119812594987627,
          -0.5574059503231295,
          -0.6028306411474963,
          -0.6482553319718631,
          -0.69368002279623,
          -0.7391047136205968,
          -0.7391047136205968,
          -0.7391047136205968,
          -0.7391047136205968,
          -0.7391047136205968,
          -0.7391047136205968,
          -0.7391047136205968,
          -0.7391047136205968,
          -0.7391047136205968,
          -0.7391047136205968,
          -0.7391047136205968,
          -0.7391047136205968,
          -0.7391047136205968,
          -0.7391047136205968,
          -0.7391047136205968,
          -0.7391047136205968,
          -0.7391047136205968,
          -0.7391047136205968,
          -0.7391047136205968,
          -0.7391047136205968,
          -0.7545801715493605,
          -0.7091554807249938,
          -0.663730789900627,
          -0.6183060990762601,
          -0.5728814082518934,
          -0.5274567174275265,
          -0.4820320266031597,
          -0.4366073357787929,
          -0.39118264495442606,
          -0.3457579541300592,
          -0.30033326330569243,
          -0.2549085724813257,
          -0.20948388165695875,
          -0.16405919083259202,
          -0.11863450000822529,
          -0.07320980918385833,
          -0.0277851183594916,
          -0.0277851183594916,
          -0.07320980918385833,
          -0.11863450000822529,
          -0.16405919083259202,
          -0.20948388165695875,
          -0.2549085724813257,
          -0.30033326330569243,
          -0.3457579541300592,
          -0.39118264495442606,
          -0.4366073357787929,
          -0.4820320266031597,
          -0.5274567174275265,
          -0.5728814082518934,
          -0.6183060990762601,
          -0.663730789900627,
          -0.7091554807249938,
          -0.7545801715493605,
          -0.7545801715493605,
          -0.7545801715493605,
          -0.7545801715493605,
          -0.7545801715493605,
          -0.7545801715493605,
          -0.7545801715493605,
          -0.7545801715493605,
          -0.7545801715493605,
          -0.7545801715493605,
          -0.7545801715493605,
          -0.7545801715493605,
          -0.7545801715493605,
          -0.7545801715493605,
          -0.7545801715493605,
          -0.7545801715493605,
          -0.7545801715493605,
          -0.7545801715493605,
          -0.7545801715493605,
          -0.7545801715493605,
          -0.7700556294781244,
          -0.7246309386537576,
          -0.6792062478293908,
          -0.6337815570050239,
          -0.5883568661806571,
          -0.5429321753562903,
          -0.4975074845319235,
          -0.4520827937075567,
          -0.4066581028831899,
          -0.36123341205882303,
          -0.31580872123445625,
          -0.2703840304100895,
          -0.22495933958572256,
          -0.17953464876135583,
          -0.1341099579369891,
          -0.08868526711262215,
          -0.043260576288255415,
          -0.043260576288255415,
          -0.08868526711262215,
          -0.1341099579369891,
          -0.17953464876135583,
          -0.22495933958572256,
          -0.2703840304100895,
          -0.31580872123445625,
          -0.36123341205882303,
          -0.4066581028831899,
          -0.4520827937075567,
          -0.4975074845319235,
          -0.5429321753562903,
          -0.5883568661806571,
          -0.6337815570050239,
          -0.6792062478293908,
          -0.7246309386537576,
          -0.7700556294781244,
          -0.7700556294781244,
          -0.7700556294781244,
          -0.7700556294781244,
          -0.7700556294781244,
          -0.7700556294781244,
          -0.7700556294781244,
          -0.7700556294781244,
          -0.7700556294781244,
          -0.7700556294781244,
          -0.7700556294781244,
          -0.7700556294781244,
          -0.7700556294781244,
          -0.7700556294781244,
          -0.7700556294781244,
          -0.7700556294781244,
          -0.7700556294781244,
          -0.7700556294781244,
          -0.7700556294781244,
          -0.7700556294781244,
          -0.7855310874068884,
          -0.7401063965825215,
          -0.6946817057581547,
          -0.6492570149337878,
          -0.603832324109421,
          -0.5584076332850543,
          -0.5129829424606874,
          -0.46755825163632064,
          -0.4221335608119538,
          -0.37670886998758696,
          -0.33128417916322017,
          -0.28585948833885344,
          -0.2404347975144865,
          -0.19501010669011976,
          -0.14958541586575302,
          -0.10416072504138607,
          -0.05873603421701934,
          -0.013311343392652386,
          -0.013311343392652386,
          -0.05873603421701934,
          -0.10416072504138607,
          -0.14958541586575302,
          -0.19501010669011976,
          -0.2404347975144865,
          -0.28585948833885344,
          -0.33128417916322017,
          -0.37670886998758696,
          -0.4221335608119538,
          -0.46755825163632064,
          -0.5129829424606874,
          -0.5584076332850543,
          -0.603832324109421,
          -0.6492570149337878,
          -0.6946817057581547,
          -0.7401063965825215,
          -0.7855310874068884,
          -0.7855310874068884,
          -0.7855310874068884,
          -0.7855310874068884,
          -0.7855310874068884,
          -0.7855310874068884,
          -0.7855310874068884,
          -0.7855310874068884,
          -0.7855310874068884,
          -0.7855310874068884,
          -0.7855310874068884,
          -0.7855310874068884,
          -0.7855310874068884,
          -0.7855310874068884,
          -0.7855310874068884,
          -0.7855310874068884,
          -0.7855310874068884,
          -0.7855310874068884,
          -0.7855310874068884,
          -0.7855310874068884,
          -0.8010065453356521,
          -0.7555818545112852,
          -0.7101571636869184,
          -0.6647324728625515,
          -0.6193077820381847,
          -0.573883091213818,
          -0.5284584003894511,
          -0.48303370956508435,
          -0.4376090187407175,
          -0.39218432791635066,
          -0.3467596370919839,
          -0.30133494626761714,
          -0.2559102554432502,
          -0.21048556461888346,
          -0.16506087379451673,
          -0.11963618297014977,
          -0.07421149214578304,
          -0.02878680132141609,
          -0.02878680132141609,
          -0.07421149214578304,
          -0.11963618297014977,
          -0.16506087379451673,
          -0.21048556461888346,
          -0.2559102554432502,
          -0.30133494626761714,
          -0.3467596370919839,
          -0.39218432791635066,
          -0.4376090187407175,
          -0.48303370956508435,
          -0.5284584003894511,
          -0.573883091213818,
          -0.6193077820381847,
          -0.6647324728625515,
          -0.7101571636869184,
          -0.7555818545112852,
          -0.8010065453356521,
          -0.8010065453356521,
          -0.8010065453356521,
          -0.8010065453356521,
          -0.8010065453356521,
          -0.8010065453356521,
          -0.8010065453356521,
          -0.8010065453356521,
          -0.8010065453356521,
          -0.8010065453356521,
          -0.8010065453356521,
          -0.8010065453356521,
          -0.8010065453356521,
          -0.8010065453356521,
          -0.8010065453356521,
          -0.8010065453356521,
          -0.8010065453356521,
          -0.8010065453356521,
          -0.8010065453356521,
          -0.8010065453356521,
          -0.816482003264416,
          -0.7710573124400492,
          -0.7256326216156823,
          -0.6802079307913155,
          -0.6347832399669486,
          -0.5893585491425819,
          -0.5439338583182151,
          -0.49850916749384827,
          -0.45308447666948143,
          -0.4076597858451146,
          -0.3622350950207478,
          -0.31681040419638107,
          -0.2713857133720141,
          -0.22596102254764738,
          -0.18053633172328065,
          -0.1351116408989137,
          -0.08968695007454697,
          -0.044262259250180014,
          -0.044262259250180014,
          -0.08968695007454697,
          -0.1351116408989137,
          -0.18053633172328065,
          -0.22596102254764738,
          -0.2713857133720141,
          -0.31681040419638107,
          -0.3622350950207478,
          -0.4076597858451146,
          -0.45308447666948143,
          -0.49850916749384827,
          -0.5439338583182151,
          -0.5893585491425819,
          -0.6347832399669486,
          -0.6802079307913155,
          -0.7256326216156823,
          -0.7710573124400492,
          -0.816482003264416,
          -0.816482003264416,
          -0.816482003264416,
          -0.816482003264416,
          -0.816482003264416,
          -0.816482003264416,
          -0.816482003264416,
          -0.816482003264416,
          -0.816482003264416,
          -0.816482003264416,
          -0.816482003264416,
          -0.816482003264416,
          -0.816482003264416,
          -0.816482003264416,
          -0.816482003264416,
          -0.816482003264416,
          -0.816482003264416,
          -0.816482003264416,
          -0.816482003264416,
          -0.816482003264416,
          -0.8319574611931799,
          -0.7865327703688131,
          -0.7411080795444462,
          -0.6956833887200794,
          -0.6502586978957126,
          -0.6048340070713458,
          -0.559409316246979,
          -0.5139846254226121,
          -0.46855993459824535,
          -0.4231352437738785,
          -0.3777105529495117,
          -0.332285862125145,
          -0.28686117130077804,
          -0.2414364804764113,
          -0.19601178965204458,
          -0.15058709882767762,
          -0.10516240800331089,
          -0.05973771717894394,
          -0.014313026354577207,
          -0.014313026354577207,
          -0.05973771717894394,
          -0.10516240800331089,
          -0.15058709882767762,
          -0.19601178965204458,
          -0.2414364804764113,
          -0.28686117130077804,
          -0.332285862125145,
          -0.3777105529495117,
          -0.4231352437738785,
          -0.46855993459824535,
          -0.5139846254226121,
          -0.559409316246979,
          -0.6048340070713458,
          -0.6502586978957126,
          -0.6956833887200794,
          -0.7411080795444462,
          -0.7865327703688131,
          -0.8319574611931799,
          -0.8319574611931799,
          -0.8319574611931799,
          -0.8319574611931799,
          -0.8319574611931799,
          -0.8319574611931799,
          -0.8319574611931799,
          -0.8319574611931799,
          -0.8319574611931799,
          -0.8319574611931799,
          -0.8319574611931799,
          -0.8319574611931799,
          -0.8319574611931799,
          -0.8319574611931799,
          -0.8319574611931799,
          -0.8319574611931799,
          -0.8319574611931799,
          -0.8319574611931799,
          -0.8319574611931799,
          -0.8319574611931799,
          -0.8474329191219436,
          -0.8020082282975768,
          -0.7565835374732099,
          -0.7111588466488431,
          -0.6657341558244763,
          -0.6203094650001095,
          -0.5748847741757427,
          -0.5294600833513758,
          -0.48403539252700906,
          -0.4386107017026422,
          -0.3931860108782754,
          -0.3477613200539087,
          -0.30233662922954174,
          -0.256911938405175,
          -0.21148724758080828,
          -0.16606255675644133,
          -0.1206378659320746,
          -0.07521317510770764,
          -0.02978848428334091,
          -0.02978848428334091,
          -0.07521317510770764,
          -0.1206378659320746,
          -0.16606255675644133,
          -0.21148724758080828,
          -0.256911938405175,
          -0.30233662922954174,
          -0.3477613200539087,
          -0.3931860108782754,
          -0.4386107017026422,
          -0.48403539252700906,
          -0.5294600833513758,
          -0.5748847741757427,
          -0.6203094650001095,
          -0.6657341558244763,
          -0.7111588466488431,
          -0.7565835374732099,
          -0.8020082282975768,
          -0.8474329191219436,
          -0.8474329191219436,
          -0.8474329191219436,
          -0.8474329191219436,
          -0.8474329191219436,
          -0.8474329191219436,
          -0.8474329191219436,
          -0.8474329191219436,
          -0.8474329191219436,
          -0.8474329191219436,
          -0.8474329191219436,
          -0.8474329191219436,
          -0.8474329191219436,
          -0.8474329191219436,
          -0.8474329191219436,
          -0.8474329191219436,
          -0.8474329191219436,
          -0.8474329191219436,
          -0.8474329191219436,
          -0.8474329191219436,
          -0.8629083770507076,
          -0.8174836862263407,
          -0.7720589954019739,
          -0.726634304577607,
          -0.6812096137532402,
          -0.6357849229288735,
          -0.5903602321045066,
          -0.5449355412801398,
          -0.499510850455773,
          -0.45408615963140614,
          -0.40866146880703935,
          -0.3632367779826726,
          -0.31781208715830567,
          -0.27238739633393894,
          -0.2269627055095722,
          -0.18153801468520525,
          -0.13611332386083852,
          -0.09068863303647157,
          -0.045263942212104835,
          -0.045263942212104835,
          -0.09068863303647157,
          -0.13611332386083852,
          -0.18153801468520525,
          -0.2269627055095722,
          -0.27238739633393894,
          -0.31781208715830567,
          -0.3632367779826726,
          -0.40866146880703935,
          -0.45408615963140614,
          -0.499510850455773,
          -0.5449355412801398,
          -0.5903602321045066,
          -0.6357849229288735,
          -0.6812096137532402,
          -0.726634304577607,
          -0.7720589954019739,
          -0.8174836862263407,
          -0.8629083770507076,
          -0.8629083770507076,
          -0.8629083770507076,
          -0.8629083770507076,
          -0.8629083770507076,
          -0.8629083770507076,
          -0.8629083770507076,
          -0.8629083770507076,
          -0.8629083770507076,
          -0.8629083770507076,
          -0.8629083770507076,
          -0.8629083770507076,
          -0.8629083770507076,
          -0.8629083770507076,
          -0.8629083770507076,
          -0.8629083770507076,
          -0.8629083770507076,
          -0.8629083770507076,
          -0.8629083770507076,
          -0.8629083770507076,
          -0.8783838349794713,
          -0.8329591441551045,
          -0.7875344533307377,
          -0.7421097625063708,
          -0.6966850716820041,
          -0.6512603808576373,
          -0.6058356900332704,
          -0.5604109992089037,
          -0.5149863083845367,
          -0.46956161756016995,
          -0.42413692673580317,
          -0.37871223591143643,
          -0.3332875450870695,
          -0.28786285426270275,
          -0.24243816343833602,
          -0.19701347261396907,
          -0.15158878178960233,
          -0.10616409096523538,
          -0.06073940014086865,
          -0.015314709316501918,
          -0.015314709316501918,
          -0.015314709316501918,
          -0.015314709316501918,
          -0.015314709316501918,
          -0.015314709316501918,
          -0.015314709316501918,
          -0.015314709316501918,
          -0.015314709316501918,
          -0.015314709316501918,
          -0.015314709316501918,
          -0.015314709316501918,
          -0.015314709316501918,
          -0.015314709316501918,
          -0.015314709316501918,
          -0.015314709316501918,
          -0.015314709316501918,
          -0.015314709316501918,
          -0.015314709316501918,
          -0.015314709316501918,
          -0.06073940014086865,
          -0.10616409096523538,
          -0.15158878178960233,
          -0.19701347261396907,
          -0.24243816343833602,
          -0.28786285426270275,
          -0.3332875450870695,
          -0.37871223591143643,
          -0.42413692673580317,
          -0.46956161756016995,
          -0.5149863083845367,
          -0.5604109992089037,
          -0.6058356900332704,
          -0.6512603808576373,
          -0.6966850716820041,
          -0.7421097625063708,
          -0.7875344533307377,
          -0.8329591441551045,
          -0.8783838349794713,
          -0.8783838349794713,
          -0.8783838349794713,
          -0.8783838349794713,
          -0.8783838349794713,
          -0.8783838349794713,
          -0.8783838349794713,
          -0.8783838349794713,
          -0.8783838349794713,
          -0.8783838349794713,
          -0.8783838349794713,
          -0.8783838349794713,
          -0.8783838349794713,
          -0.8783838349794713,
          -0.8783838349794713,
          -0.8783838349794713,
          -0.8783838349794713,
          -0.8783838349794713,
          -0.8783838349794713,
          -0.8783838349794713,
          -0.8938592929082352,
          -0.8484346020838684,
          -0.8030099112595016,
          -0.7575852204351348,
          -0.712160529610768,
          -0.6667358387864012,
          -0.6213111479620343,
          -0.5758864571376676,
          -0.5304617663133007,
          -0.4850370754889339,
          -0.4396123846645671,
          -0.39418769384020036,
          -0.3487630030158334,
          -0.3033383121914667,
          -0.25791362136709994,
          -0.212488930542733,
          -0.16706423971836626,
          -0.1216395488939993,
          -0.07621485806963257,
          -0.030790167245265843,
          -0.030790167245265843,
          -0.030790167245265843,
          -0.030790167245265843,
          -0.030790167245265843,
          -0.030790167245265843,
          -0.030790167245265843,
          -0.030790167245265843,
          -0.030790167245265843,
          -0.030790167245265843,
          -0.030790167245265843,
          -0.030790167245265843,
          -0.030790167245265843,
          -0.030790167245265843,
          -0.030790167245265843,
          -0.030790167245265843,
          -0.030790167245265843,
          -0.030790167245265843,
          -0.030790167245265843,
          -0.030790167245265843,
          -0.07621485806963257,
          -0.1216395488939993,
          -0.16706423971836626,
          -0.212488930542733,
          -0.25791362136709994,
          -0.3033383121914667,
          -0.3487630030158334,
          -0.39418769384020036,
          -0.4396123846645671,
          -0.4850370754889339,
          -0.5304617663133007,
          -0.5758864571376676,
          -0.6213111479620343,
          -0.6667358387864012,
          -0.712160529610768,
          -0.7575852204351348,
          -0.8030099112595016,
          -0.8484346020838684,
          -0.8938592929082352,
          -0.8938592929082352,
          -0.8938592929082352,
          -0.8938592929082352,
          -0.8938592929082352,
          -0.8938592929082352,
          -0.8938592929082352,
          -0.8938592929082352,
          -0.8938592929082352,
          -0.8938592929082352,
          -0.8938592929082352,
          -0.8938592929082352,
          -0.8938592929082352,
          -0.8938592929082352,
          -0.8938592929082352,
          -0.8938592929082352,
          -0.8938592929082352,
          -0.8938592929082352,
          -0.8938592929082352,
          -0.8938592929082352,
          -0.9093347508369991,
          -0.8639100600126323,
          -0.8184853691882654,
          -0.7730606783638986,
          -0.7276359875395317,
          -0.682211296715165,
          -0.6367866058907982,
          -0.5913619150664313,
          -0.5459372242420646,
          -0.5005125334176976,
          -0.4550878425933309,
          -0.4096631517689642,
          -0.3642384609445972,
          -0.3188137701202305,
          -0.27338907929586376,
          -0.2279643884714968,
          -0.18253969764713007,
          -0.13711500682276312,
          -0.09169031599839639,
          -0.046265625174029656,
          -0.046265625174029656,
          -0.046265625174029656,
          -0.046265625174029656,
          -0.046265625174029656,
          -0.046265625174029656,
          -0.046265625174029656,
          -0.046265625174029656,
          -0.046265625174029656,
          -0.046265625174029656,
          -0.046265625174029656,
          -0.046265625174029656,
          -0.046265625174029656,
          -0.046265625174029656,
          -0.046265625174029656,
          -0.046265625174029656,
          -0.046265625174029656,
          -0.046265625174029656,
          -0.046265625174029656,
          -0.046265625174029656,
          -0.09169031599839639,
          -0.13711500682276312,
          -0.18253969764713007,
          -0.2279643884714968,
          -0.27338907929586376,
          -0.3188137701202305,
          -0.3642384609445972,
          -0.4096631517689642,
          -0.4550878425933309,
          -0.5005125334176976,
          -0.5459372242420646,
          -0.5913619150664313,
          -0.6367866058907982,
          -0.682211296715165,
          -0.7276359875395317,
          -0.7730606783638986,
          -0.8184853691882654,
          -0.8639100600126323,
          -0.9093347508369991,
          -0.9093347508369991,
          -0.9093347508369991,
          -0.9093347508369991,
          -0.9093347508369991,
          -0.9093347508369991,
          -0.9093347508369991,
          -0.9093347508369991,
          -0.9093347508369991,
          -0.9093347508369991,
          -0.9093347508369991,
          -0.9093347508369991,
          -0.9093347508369991,
          -0.9093347508369991,
          -0.9093347508369991,
          -0.9093347508369991,
          -0.9093347508369991,
          -0.9093347508369991,
          -0.9093347508369991,
          -0.9093347508369991,
          -0.9248102087657628,
          -0.8793855179413961,
          -0.8339608271170292,
          -0.7885361362926624,
          -0.7431114454682957,
          -0.6976867546439288,
          -0.652262063819562,
          -0.6068373729951952,
          -0.5614126821708283,
          -0.5159879913464616,
          -0.4705633005220947,
          -0.425138609697728,
          -0.37971391887336103,
          -0.3342892280489943,
          -0.28886453722462757,
          -0.24343984640026062,
          -0.1980151555758939,
          -0.15259046475152693,
          -0.1071657739271602,
          -0.06174108310279347,
          -0.06174108310279347,
          -0.06174108310279347,
          -0.06174108310279347,
          -0.06174108310279347,
          -0.06174108310279347,
          -0.06174108310279347,
          -0.06174108310279347,
          -0.06174108310279347,
          -0.06174108310279347,
          -0.06174108310279347,
          -0.06174108310279347,
          -0.06174108310279347,
          -0.06174108310279347,
          -0.06174108310279347,
          -0.06174108310279347,
          -0.06174108310279347,
          -0.06174108310279347,
          -0.06174108310279347,
          -0.06174108310279347,
          -0.1071657739271602,
          -0.15259046475152693,
          -0.1980151555758939,
          -0.24343984640026062,
          -0.28886453722462757,
          -0.3342892280489943,
          -0.37971391887336103,
          -0.425138609697728,
          -0.4705633005220947,
          -0.5159879913464616,
          -0.5614126821708283,
          -0.6068373729951952,
          -0.652262063819562,
          -0.6976867546439288,
          -0.7431114454682957,
          -0.7885361362926624,
          -0.8339608271170292,
          -0.8793855179413961,
          -0.9248102087657628,
          -0.9248102087657628,
          -0.9248102087657628,
          -0.9248102087657628,
          -0.9248102087657628,
          -0.9248102087657628,
          -0.9248102087657628,
          -0.9248102087657628,
          -0.9248102087657628,
          -0.9248102087657628,
          -0.9248102087657628,
          -0.9248102087657628,
          -0.9248102087657628,
          -0.9248102087657628,
          -0.9248102087657628,
          -0.9248102087657628,
          -0.9248102087657628,
          -0.9248102087657628,
          -0.9248102087657628,
          -0.9248102087657628,
          -0.9402856666945267,
          -0.8948609758701599,
          -0.849436285045793,
          -0.8040115942214262,
          -0.7585869033970594,
          -0.7131622125726926,
          -0.6677375217483258,
          -0.622312830923959,
          -0.5768881400995922,
          -0.5314634492752253,
          -0.48603875845085853,
          -0.4406140676264918,
          -0.39518937680212485,
          -0.3497646859777581,
          -0.3043399951533914,
          -0.25891530432902443,
          -0.2134906135046577,
          -0.16806592268029075,
          -0.12264123185592402,
          -0.07721654103155728,
          -0.07721654103155728,
          -0.07721654103155728,
          -0.07721654103155728,
          -0.07721654103155728,
          -0.07721654103155728,
          -0.07721654103155728,
          -0.07721654103155728,
          -0.07721654103155728,
          -0.07721654103155728,
          -0.07721654103155728,
          -0.07721654103155728,
          -0.07721654103155728,
          -0.07721654103155728,
          -0.07721654103155728,
          -0.07721654103155728,
          -0.07721654103155728,
          -0.07721654103155728,
          -0.07721654103155728,
          -0.07721654103155728,
          -0.12264123185592402,
          -0.16806592268029075,
          -0.2134906135046577,
          -0.25891530432902443,
          -0.3043399951533914,
          -0.3497646859777581,
          -0.39518937680212485,
          -0.4406140676264918,
          -0.48603875845085853,
          -0.5314634492752253,
          -0.5768881400995922,
          -0.622312830923959,
          -0.6677375217483258,
          -0.7131622125726926,
          -0.7585869033970594,
          -0.8040115942214262,
          -0.849436285045793,
          -0.8948609758701599,
          -0.9402856666945267,
          -0.9402856666945267,
          -0.9402856666945267,
          -0.9402856666945267,
          -0.9402856666945267,
          -0.9402856666945267,
          -0.9402856666945267,
          -0.9402856666945267,
          -0.9402856666945267,
          -0.9402856666945267,
          -0.9402856666945267,
          -0.9402856666945267,
          -0.9402856666945267,
          -0.9402856666945267,
          -0.9402856666945267,
          -0.9402856666945267,
          -0.9402856666945267,
          -0.9402856666945267,
          -0.9402856666945267,
          -0.9402856666945267,
          -0.9557611246232907,
          -0.9103364337989238,
          -0.864911742974557,
          -0.8194870521501901,
          -0.7740623613258233,
          -0.7286376705014566,
          -0.6832129796770897,
          -0.6377882888527229,
          -0.5923635980283561,
          -0.5469389072039892,
          -0.5015142163796225,
          -0.4560895255552557,
          -0.4106648347308888,
          -0.36524014390652204,
          -0.3198154530821553,
          -0.27439076225778836,
          -0.22896607143342163,
          -0.18354138060905467,
          -0.13811668978468794,
          -0.09269199896032121,
          -0.09269199896032121,
          -0.09269199896032121,
          -0.09269199896032121,
          -0.09269199896032121,
          -0.09269199896032121,
          -0.09269199896032121,
          -0.09269199896032121,
          -0.09269199896032121,
          -0.09269199896032121,
          -0.09269199896032121,
          -0.09269199896032121,
          -0.09269199896032121,
          -0.09269199896032121,
          -0.09269199896032121,
          -0.09269199896032121,
          -0.09269199896032121,
          -0.09269199896032121,
          -0.09269199896032121,
          -0.09269199896032121,
          -0.13811668978468794,
          -0.18354138060905467,
          -0.22896607143342163,
          -0.27439076225778836,
          -0.3198154530821553,
          -0.36524014390652204,
          -0.4106648347308888,
          -0.4560895255552557,
          -0.5015142163796225,
          -0.5469389072039892,
          -0.5923635980283561,
          -0.6377882888527229,
          -0.6832129796770897,
          -0.7286376705014566,
          -0.7740623613258233,
          -0.8194870521501901,
          -0.864911742974557,
          -0.9103364337989238,
          -0.9557611246232907,
          -0.9557611246232907,
          -0.9557611246232907,
          -0.9557611246232907,
          -0.9557611246232907,
          -0.9557611246232907,
          -0.9557611246232907,
          -0.9557611246232907,
          -0.9557611246232907,
          -0.9557611246232907,
          -0.9557611246232907,
          -0.9557611246232907,
          -0.9557611246232907,
          -0.9557611246232907,
          -0.9557611246232907,
          -0.9557611246232907,
          -0.9557611246232907,
          -0.9557611246232907,
          -0.9557611246232907,
          -0.9557611246232907,
          -0.9712365825520546,
          -0.9258118917276877,
          -0.8803872009033209,
          -0.8349625100789541,
          -0.7895378192545872,
          -0.7441131284302205,
          -0.6986884376058536,
          -0.6532637467814868,
          -0.6078390559571201,
          -0.5624143651327531,
          -0.5169896743083864,
          -0.47156498348401965,
          -0.4261402926596527,
          -0.38071560183528597,
          -0.33529091101091923,
          -0.2898662201865523,
          -0.24444152936218555,
          -0.1990168385378186,
          -0.15359214771345187,
          -0.10816745688908513,
          -0.10816745688908513,
          -0.10816745688908513,
          -0.10816745688908513,
          -0.10816745688908513,
          -0.10816745688908513,
          -0.10816745688908513,
          -0.10816745688908513,
          -0.10816745688908513,
          -0.10816745688908513,
          -0.10816745688908513,
          -0.10816745688908513,
          -0.10816745688908513,
          -0.10816745688908513,
          -0.10816745688908513,
          -0.10816745688908513,
          -0.10816745688908513,
          -0.10816745688908513,
          -0.10816745688908513,
          -0.10816745688908513,
          -0.15359214771345187,
          -0.1990168385378186,
          -0.24444152936218555,
          -0.2898662201865523,
          -0.33529091101091923,
          -0.38071560183528597,
          -0.4261402926596527,
          -0.47156498348401965,
          -0.5169896743083864,
          -0.5624143651327531,
          -0.6078390559571201,
          -0.6532637467814868,
          -0.6986884376058536,
          -0.7441131284302205,
          -0.7895378192545872,
          -0.8349625100789541,
          -0.8803872009033209,
          -0.9258118917276877,
          -0.9712365825520546,
          -0.9712365825520546,
          -0.9712365825520546,
          -0.9712365825520546,
          -0.9712365825520546,
          -0.9712365825520546,
          -0.9712365825520546,
          -0.9712365825520546,
          -0.9712365825520546,
          -0.9712365825520546,
          -0.9712365825520546,
          -0.9712365825520546,
          -0.9712365825520546,
          -0.9712365825520546,
          -0.9712365825520546,
          -0.9712365825520546,
          -0.9712365825520546,
          -0.9712365825520546,
          -0.9712365825520546,
          -0.9712365825520546,
          -0.9867120404808185,
          -0.9412873496564517,
          -0.8958626588320848,
          -0.850437968007718,
          -0.8050132771833511,
          -0.7595885863589844,
          -0.7141638955346176,
          -0.6687392047102507,
          -0.623314513885884,
          -0.577889823061517,
          -0.5324651322371503,
          -0.4870404414127836,
          -0.4416157505884166,
          -0.3961910597640499,
          -0.35076636893968316,
          -0.3053416781153162,
          -0.2599169872909495,
          -0.21449229646658252,
          -0.1690676056422158,
          -0.12364291481784906,
          -0.12364291481784906,
          -0.12364291481784906,
          -0.12364291481784906,
          -0.12364291481784906,
          -0.12364291481784906,
          -0.12364291481784906,
          -0.12364291481784906,
          -0.12364291481784906,
          -0.12364291481784906,
          -0.12364291481784906,
          -0.12364291481784906,
          -0.12364291481784906,
          -0.12364291481784906,
          -0.12364291481784906,
          -0.12364291481784906,
          -0.12364291481784906,
          -0.12364291481784906,
          -0.12364291481784906,
          -0.12364291481784906,
          -0.1690676056422158,
          -0.21449229646658252,
          -0.2599169872909495,
          -0.3053416781153162,
          -0.35076636893968316,
          -0.3961910597640499,
          -0.4416157505884166,
          -0.4870404414127836,
          -0.5324651322371503,
          -0.577889823061517,
          -0.623314513885884,
          -0.6687392047102507,
          -0.7141638955346176,
          -0.7595885863589844,
          -0.8050132771833511,
          -0.850437968007718,
          -0.8958626588320848,
          -0.9412873496564517,
          -0.9867120404808185,
          -0.9867120404808185,
          -0.9867120404808185,
          -0.9867120404808185,
          -0.9867120404808185,
          -0.9867120404808185,
          -0.9867120404808185,
          -0.9867120404808185,
          -0.9867120404808185,
          -0.9867120404808185,
          -0.9867120404808185,
          -0.9867120404808185,
          -0.9867120404808185,
          -0.9867120404808185,
          -0.9867120404808185,
          -0.9867120404808185,
          -0.9867120404808185,
          -0.9867120404808185,
          -0.9867120404808185,
          -0.9867120404808185,
          -1.0021874984095822,
          -0.9567628075852154,
          -0.9113381167608485,
          -0.8659134259364817,
          -0.8204887351121148,
          -0.7750640442877481,
          -0.7296393534633813,
          -0.6842146626390144,
          -0.6387899718146477,
          -0.5933652809902807,
          -0.547940590165914,
          -0.5025158993415473,
          -0.4570912085171803,
          -0.4116665176928136,
          -0.36624182686844686,
          -0.3208171360440799,
          -0.2753924452197132,
          -0.22996775439534622,
          -0.1845430635709795,
          -0.13911837274661276,
          -0.13911837274661276,
          -0.13911837274661276,
          -0.13911837274661276,
          -0.13911837274661276,
          -0.13911837274661276,
          -0.13911837274661276,
          -0.13911837274661276,
          -0.13911837274661276,
          -0.13911837274661276,
          -0.13911837274661276,
          -0.13911837274661276,
          -0.13911837274661276,
          -0.13911837274661276,
          -0.13911837274661276,
          -0.13911837274661276,
          -0.13911837274661276,
          -0.13911837274661276,
          -0.13911837274661276,
          -0.13911837274661276,
          -0.1845430635709795,
          -0.22996775439534622,
          -0.2753924452197132,
          -0.3208171360440799,
          -0.36624182686844686,
          -0.4116665176928136,
          -0.4570912085171803,
          -0.5025158993415473,
          -0.547940590165914,
          -0.5933652809902807,
          -0.6387899718146477,
          -0.6842146626390144,
          -0.7296393534633813,
          -0.7750640442877481,
          -0.8204887351121148,
          -0.8659134259364817,
          -0.9113381167608485,
          -0.9567628075852154,
          -1.0021874984095822,
          -1.0021874984095822,
          -1.0021874984095822,
          -1.0021874984095822,
          -1.0021874984095822,
          -1.0021874984095822,
          -1.0021874984095822,
          -1.0021874984095822,
          -1.0021874984095822,
          -1.0021874984095822,
          -1.0021874984095822,
          -1.0021874984095822,
          -1.0021874984095822,
          -1.0021874984095822,
          -1.0021874984095822,
          -1.0021874984095822,
          -1.0021874984095822,
          -1.0021874984095822,
          -1.0021874984095822,
          -1.0021874984095822,
          -1.017662956338346,
          -0.9722382655139791,
          -0.9268135746896122,
          -0.8813888838652454,
          -0.8359641930408785,
          -0.7905395022165118,
          -0.745114811392145,
          -0.6996901205677781,
          -0.6542654297434114,
          -0.6088407389190444,
          -0.5634160480946777,
          -0.517991357270311,
          -0.47256666644594403,
          -0.4271419756215773,
          -0.38171728479721057,
          -0.3362925939728436,
          -0.2908679031484769,
          -0.24544321232410993,
          -0.2000185214997432,
          -0.15459383067537646,
          -0.15459383067537646,
          -0.15459383067537646,
          -0.15459383067537646,
          -0.15459383067537646,
          -0.15459383067537646,
          -0.15459383067537646,
          -0.15459383067537646,
          -0.15459383067537646,
          -0.15459383067537646,
          -0.15459383067537646,
          -0.15459383067537646,
          -0.15459383067537646,
          -0.15459383067537646,
          -0.15459383067537646,
          -0.15459383067537646,
          -0.15459383067537646,
          -0.15459383067537646,
          -0.15459383067537646,
          -0.15459383067537646,
          -0.2000185214997432,
          -0.24544321232410993,
          -0.2908679031484769,
          -0.3362925939728436,
          -0.38171728479721057,
          -0.4271419756215773,
          -0.47256666644594403,
          -0.517991357270311,
          -0.5634160480946777,
          -0.6088407389190444,
          -0.6542654297434114,
          -0.6996901205677781,
          -0.745114811392145,
          -0.7905395022165118,
          -0.8359641930408785,
          -0.8813888838652454,
          -0.9268135746896122,
          -0.9722382655139791,
          -1.017662956338346,
          -1.017662956338346,
          -1.017662956338346,
          -1.017662956338346,
          -1.017662956338346,
          -1.017662956338346,
          -1.017662956338346,
          -1.017662956338346,
          -1.017662956338346,
          -1.017662956338346,
          -1.017662956338346,
          -1.017662956338346,
          -1.017662956338346,
          -1.017662956338346,
          -1.017662956338346,
          -1.017662956338346,
          -1.017662956338346,
          -1.017662956338346,
          -1.017662956338346,
          -1.017662956338346,
          -0.9650704715554492,
          -0.9196457807310824,
          -0.8742210899067155,
          -0.8287963990823487,
          -0.7833717082579819,
          -0.7379470174336151,
          -0.6925223266092483,
          -0.6470976357848814,
          -0.6016729449605147,
          -0.5562482541361478,
          -0.510823563311781,
          -0.4653988724874143,
          -0.41997418166304734,
          -0.3745494908386806,
          -0.3291248000143139,
          -0.2837001091899469,
          -0.2382754183655802,
          -0.19285072754121324,
          -0.1474260367168465,
          -0.10200134589247978,
          -0.10200134589247978,
          -0.10200134589247978,
          -0.10200134589247978,
          -0.10200134589247978,
          -0.10200134589247978,
          -0.10200134589247978,
          -0.10200134589247978,
          -0.10200134589247978,
          -0.10200134589247978,
          -0.10200134589247978,
          -0.10200134589247978,
          -0.10200134589247978,
          -0.10200134589247978,
          -0.10200134589247978,
          -0.10200134589247978,
          -0.10200134589247978,
          -0.10200134589247978,
          -0.10200134589247978,
          -0.10200134589247978,
          -0.1474260367168465,
          -0.19285072754121324,
          -0.2382754183655802,
          -0.2837001091899469,
          -0.3291248000143139,
          -0.3745494908386806,
          -0.41997418166304734,
          -0.4653988724874143,
          -0.510823563311781,
          -0.5562482541361478,
          -0.6016729449605147,
          -0.6470976357848814,
          -0.6925223266092483,
          -0.7379470174336151,
          -0.7833717082579819,
          -0.8287963990823487,
          -0.8742210899067155,
          -0.9196457807310824,
          -0.9650704715554492,
          -0.9650704715554492,
          -0.9650704715554492,
          -0.9650704715554492,
          -0.9650704715554492,
          -0.9650704715554492,
          -0.9650704715554492,
          -0.9650704715554492,
          -0.9650704715554492,
          -0.9650704715554492,
          -0.9650704715554492,
          -0.9650704715554492,
          -0.9650704715554492,
          -0.9650704715554492,
          -0.9650704715554492,
          -0.9650704715554492,
          -0.9650704715554492,
          -0.9650704715554492,
          -0.9650704715554492,
          -0.9650704715554492,
          -0.9124779867725523,
          -0.8670532959481855,
          -0.8216286051238186,
          -0.7762039142994518,
          -0.730779223475085,
          -0.6853545326507182,
          -0.6399298418263514,
          -0.5945051510019845,
          -0.5490804601776178,
          -0.5036557693532508,
          -0.4582310785288841,
          -0.4128063877045174,
          -0.36738169688015043,
          -0.3219570060557837,
          -0.27653231523141697,
          -0.23110762440705002,
          -0.18568293358268328,
          -0.14025824275831633,
          -0.0948335519339496,
          -0.04940886110958287,
          -0.04940886110958287,
          -0.04940886110958287,
          -0.04940886110958287,
          -0.04940886110958287,
          -0.04940886110958287,
          -0.04940886110958287,
          -0.04940886110958287,
          -0.04940886110958287,
          -0.04940886110958287,
          -0.04940886110958287,
          -0.04940886110958287,
          -0.04940886110958287,
          -0.04940886110958287,
          -0.04940886110958287,
          -0.04940886110958287,
          -0.04940886110958287,
          -0.04940886110958287,
          -0.04940886110958287,
          -0.04940886110958287,
          -0.0948335519339496,
          -0.14025824275831633,
          -0.18568293358268328,
          -0.23110762440705002,
          -0.27653231523141697,
          -0.3219570060557837,
          -0.36738169688015043,
          -0.4128063877045174,
          -0.4582310785288841,
          -0.5036557693532508,
          -0.5490804601776178,
          -0.5945051510019845,
          -0.6399298418263514,
          -0.6853545326507182,
          -0.730779223475085,
          -0.7762039142994518,
          -0.8216286051238186,
          -0.8670532959481855,
          -0.9124779867725523,
          -0.9124779867725523,
          -0.9124779867725523,
          -0.9124779867725523,
          -0.9124779867725523,
          -0.9124779867725523,
          -0.9124779867725523,
          -0.9124779867725523,
          -0.9124779867725523,
          -0.9124779867725523,
          -0.9124779867725523,
          -0.9124779867725523,
          -0.9124779867725523,
          -0.9124779867725523,
          -0.9124779867725523,
          -0.9124779867725523,
          -0.9124779867725523,
          -0.9124779867725523,
          -0.9124779867725523,
          -0.9124779867725523,
          -0.8598855019896554,
          -0.8144608111652886,
          -0.7690361203409217,
          -0.7236114295165549,
          -0.678186738692188,
          -0.6327620478678213,
          -0.5873373570434545,
          -0.5419126662190876,
          -0.49648797539472084,
          -0.451063284570354,
          -0.4056385937459872,
          -0.3602139029216205,
          -0.3147892120972535,
          -0.2693645212728868,
          -0.22393983044852006,
          -0.1785151396241531,
          -0.13309044879978638,
          -0.08766575797541942,
          -0.04224106715105269,
          -0.04224106715105269,
          -0.08766575797541942,
          -0.13309044879978638,
          -0.1785151396241531,
          -0.22393983044852006,
          -0.2693645212728868,
          -0.3147892120972535,
          -0.3602139029216205,
          -0.4056385937459872,
          -0.451063284570354,
          -0.49648797539472084,
          -0.5419126662190876,
          -0.5873373570434545,
          -0.6327620478678213,
          -0.678186738692188,
          -0.7236114295165549,
          -0.7690361203409217,
          -0.8144608111652886,
          -0.8598855019896554,
          -0.8598855019896554,
          -0.8598855019896554,
          -0.8598855019896554,
          -0.8598855019896554,
          -0.8598855019896554,
          -0.8598855019896554,
          -0.8598855019896554,
          -0.8598855019896554,
          -0.8598855019896554,
          -0.8598855019896554,
          -0.8598855019896554,
          -0.8598855019896554,
          -0.8598855019896554,
          -0.8598855019896554,
          -0.8598855019896554,
          -0.8598855019896554,
          -0.8598855019896554,
          -0.8598855019896554,
          -0.8598855019896554,
          -0.8072930172067585,
          -0.7618683263823917,
          -0.7164436355580248,
          -0.671018944733658,
          -0.6255942539092911,
          -0.5801695630849244,
          -0.5347448722605576,
          -0.48932018143619077,
          -0.44389549061182393,
          -0.3984707997874571,
          -0.3530461089630903,
          -0.30762141813872357,
          -0.2621967273143566,
          -0.21677203648998988,
          -0.17134734566562315,
          -0.1259226548412562,
          -0.08049796401688947,
          -0.035073273192522514,
          -0.035073273192522514,
          -0.08049796401688947,
          -0.1259226548412562,
          -0.17134734566562315,
          -0.21677203648998988,
          -0.2621967273143566,
          -0.30762141813872357,
          -0.3530461089630903,
          -0.3984707997874571,
          -0.44389549061182393,
          -0.48932018143619077,
          -0.5347448722605576,
          -0.5801695630849244,
          -0.6255942539092911,
          -0.671018944733658,
          -0.7164436355580248,
          -0.7618683263823917,
          -0.8072930172067585,
          -0.8072930172067585,
          -0.8072930172067585,
          -0.8072930172067585,
          -0.8072930172067585,
          -0.8072930172067585,
          -0.8072930172067585,
          -0.8072930172067585,
          -0.8072930172067585,
          -0.8072930172067585,
          -0.8072930172067585,
          -0.8072930172067585,
          -0.8072930172067585,
          -0.8072930172067585,
          -0.8072930172067585,
          -0.8072930172067585,
          -0.8072930172067585,
          -0.8072930172067585,
          -0.8072930172067585,
          -0.8072930172067585,
          -0.7547005324238616,
          -0.7092758415994947,
          -0.6638511507751279,
          -0.6184264599507611,
          -0.5730017691263942,
          -0.5275770783020275,
          -0.48215238747766065,
          -0.43672769665329386,
          -0.391303005828927,
          -0.3458783150045602,
          -0.3004536241801934,
          -0.25502893335582666,
          -0.2096042425314597,
          -0.16417955170709297,
          -0.11875486088272624,
          -0.07333017005835929,
          -0.02790547923399256,
          -0.02790547923399256,
          -0.07333017005835929,
          -0.11875486088272624,
          -0.16417955170709297,
          -0.2096042425314597,
          -0.25502893335582666,
          -0.3004536241801934,
          -0.3458783150045602,
          -0.391303005828927,
          -0.43672769665329386,
          -0.48215238747766065,
          -0.5275770783020275,
          -0.5730017691263942,
          -0.6184264599507611,
          -0.6638511507751279,
          -0.7092758415994947,
          -0.7547005324238616,
          -0.7547005324238616,
          -0.7547005324238616,
          -0.7547005324238616,
          -0.7547005324238616,
          -0.7547005324238616,
          -0.7547005324238616,
          -0.7547005324238616,
          -0.7547005324238616,
          -0.7547005324238616,
          -0.7547005324238616,
          -0.7547005324238616,
          -0.7547005324238616,
          -0.7547005324238616,
          -0.7547005324238616,
          -0.7547005324238616,
          -0.7547005324238616,
          -0.7547005324238616,
          -0.7547005324238616,
          -0.7547005324238616,
          -0.7021080476409647,
          -0.656683356816598,
          -0.6112586659922311,
          -0.5658339751678643,
          -0.5204092843434975,
          -0.4749845935191307,
          -0.42955990269476385,
          -0.38413521187039706,
          -0.3387105210460302,
          -0.2932858302216634,
          -0.2478611393972966,
          -0.20243644857292986,
          -0.1570117577485629,
          -0.11158706692419618,
          -0.06616237609982945,
          -0.020737685275462492,
          -0.020737685275462492,
          -0.06616237609982945,
          -0.11158706692419618,
          -0.1570117577485629,
          -0.20243644857292986,
          -0.2478611393972966,
          -0.2932858302216634,
          -0.3387105210460302,
          -0.38413521187039706,
          -0.42955990269476385,
          -0.4749845935191307,
          -0.5204092843434975,
          -0.5658339751678643,
          -0.6112586659922311,
          -0.656683356816598,
          -0.7021080476409647,
          -0.7021080476409647,
          -0.7021080476409647,
          -0.7021080476409647,
          -0.7021080476409647,
          -0.7021080476409647,
          -0.7021080476409647,
          -0.7021080476409647,
          -0.7021080476409647,
          -0.7021080476409647,
          -0.7021080476409647,
          -0.7021080476409647,
          -0.7021080476409647,
          -0.7021080476409647,
          -0.7021080476409647,
          -0.7021080476409647,
          -0.7021080476409647,
          -0.7021080476409647,
          -0.7021080476409647,
          -0.7021080476409647,
          -0.6495155628580678,
          -0.6040908720337009,
          -0.5586661812093341,
          -0.5132414903849672,
          -0.46781679956060046,
          -0.4223921087362337,
          -0.37696741791186683,
          -0.33154272708750004,
          -0.2861180362631332,
          -0.24069334543876636,
          -0.19526865461439957,
          -0.14984396379003284,
          -0.10441927296566589,
          -0.05899458214129916,
          -0.013569891316932425,
          -0.013569891316932425,
          -0.05899458214129916,
          -0.10441927296566589,
          -0.14984396379003284,
          -0.19526865461439957,
          -0.24069334543876636,
          -0.2861180362631332,
          -0.33154272708750004,
          -0.37696741791186683,
          -0.4223921087362337,
          -0.46781679956060046,
          -0.5132414903849672,
          -0.5586661812093341,
          -0.6040908720337009,
          -0.6495155628580678,
          -0.6495155628580678,
          -0.6495155628580678,
          -0.6495155628580678,
          -0.6495155628580678,
          -0.6495155628580678,
          -0.6495155628580678,
          -0.6495155628580678,
          -0.6495155628580678,
          -0.6495155628580678,
          -0.6495155628580678,
          -0.6495155628580678,
          -0.6495155628580678,
          -0.6495155628580678,
          -0.6495155628580678,
          -0.6495155628580678,
          -0.6495155628580678,
          -0.6495155628580678,
          -0.6495155628580678,
          -0.6495155628580678,
          -0.5969230780751709,
          -0.5514983872508041,
          -0.5060736964264373,
          -0.46064900560207045,
          -0.41522431477770366,
          -0.3697996239533369,
          -0.32437493312897003,
          -0.27895024230460325,
          -0.2335255514802364,
          -0.18810086065586956,
          -0.14267616983150277,
          -0.09725147900713604,
          -0.05182678818276909,
          -0.006402097358402359,
          -0.006402097358402359,
          -0.05182678818276909,
          -0.09725147900713604,
          -0.14267616983150277,
          -0.18810086065586956,
          -0.2335255514802364,
          -0.27895024230460325,
          -0.32437493312897003,
          -0.3697996239533369,
          -0.41522431477770366,
          -0.46064900560207045,
          -0.5060736964264373,
          -0.5514983872508041,
          -0.5969230780751709,
          -0.5969230780751709,
          -0.5969230780751709,
          -0.5969230780751709,
          -0.5969230780751709,
          -0.5969230780751709,
          -0.5969230780751709,
          -0.5969230780751709,
          -0.5969230780751709,
          -0.5969230780751709,
          -0.5969230780751709,
          -0.5969230780751709,
          -0.5969230780751709,
          -0.5969230780751709,
          -0.5969230780751709,
          -0.5969230780751709,
          -0.5969230780751709,
          -0.5969230780751709,
          -0.5969230780751709,
          -0.5969230780751709,
          -0.544330593292274,
          -0.4989059024679072,
          -0.4534812116435404,
          -0.40805652081917354,
          -0.36263182999480675,
          -0.31720713917043997,
          -0.2717824483460731,
          -0.22635775752170634,
          -0.1809330666973395,
          -0.13550837587297265,
          -0.09008368504860587,
          -0.044658994224239135,
          -0.044658994224239135,
          -0.09008368504860587,
          -0.13550837587297265,
          -0.1809330666973395,
          -0.22635775752170634,
          -0.2717824483460731,
          -0.31720713917043997,
          -0.36263182999480675,
          -0.40805652081917354,
          -0.4534812116435404,
          -0.4989059024679072,
          -0.544330593292274,
          -0.544330593292274,
          -0.544330593292274,
          -0.544330593292274,
          -0.544330593292274,
          -0.544330593292274,
          -0.544330593292274,
          -0.544330593292274,
          -0.544330593292274,
          -0.544330593292274,
          -0.544330593292274,
          -0.544330593292274,
          -0.544330593292274,
          -0.544330593292274,
          -0.544330593292274,
          -0.544330593292274,
          -0.544330593292274,
          -0.544330593292274,
          -0.544330593292274,
          -0.544330593292274,
          -0.4917381085093772,
          -0.4463134176850104,
          -0.4008887268606436,
          -0.35546403603627674,
          -0.31003934521190996,
          -0.26461465438754317,
          -0.21918996356317633,
          -0.17376527273880954,
          -0.1283405819144427,
          -0.08291589109007586,
          -0.03749120026570907,
          -0.03749120026570907,
          -0.08291589109007586,
          -0.1283405819144427,
          -0.17376527273880954,
          -0.21918996356317633,
          -0.26461465438754317,
          -0.31003934521190996,
          -0.35546403603627674,
          -0.4008887268606436,
          -0.4463134176850104,
          -0.4917381085093772,
          -0.4917381085093772,
          -0.4917381085093772,
          -0.4917381085093772,
          -0.4917381085093772,
          -0.4917381085093772,
          -0.4917381085093772,
          -0.4917381085093772,
          -0.4917381085093772,
          -0.4917381085093772,
          -0.4917381085093772,
          -0.4917381085093772,
          -0.4917381085093772,
          -0.4917381085093772,
          -0.4917381085093772,
          -0.4917381085093772,
          -0.4917381085093772,
          -0.4917381085093772,
          -0.4917381085093772,
          -0.4917381085093772,
          -0.4391456237264803,
          -0.3937209329021135,
          -0.3482962420777467,
          -0.30287155125337983,
          -0.25744686042901305,
          -0.21202216960464626,
          -0.16659747878027942,
          -0.12117278795591263,
          -0.07574809713154579,
          -0.030323406307178946,
          -0.030323406307178946,
          -0.07574809713154579,
          -0.12117278795591263,
          -0.16659747878027942,
          -0.21202216960464626,
          -0.25744686042901305,
          -0.30287155125337983,
          -0.3482962420777467,
          -0.3937209329021135,
          -0.4391456237264803,
          -0.4391456237264803,
          -0.4391456237264803,
          -0.4391456237264803,
          -0.4391456237264803,
          -0.4391456237264803,
          -0.4391456237264803,
          -0.4391456237264803,
          -0.4391456237264803,
          -0.4391456237264803,
          -0.4391456237264803,
          -0.4391456237264803,
          -0.4391456237264803,
          -0.4391456237264803,
          -0.4391456237264803,
          -0.4391456237264803,
          -0.4391456237264803,
          -0.4391456237264803,
          -0.4391456237264803,
          -0.4391456237264803,
          -0.3865531389435834,
          -0.3411284481192166,
          -0.29570375729484977,
          -0.2502790664704829,
          -0.20485437564611614,
          -0.15942968482174935,
          -0.11400499399738251,
          -0.06858030317301572,
          -0.02315561234864888,
          -0.02315561234864888,
          -0.06858030317301572,
          -0.11400499399738251,
          -0.15942968482174935,
          -0.20485437564611614,
          -0.2502790664704829,
          -0.29570375729484977,
          -0.3411284481192166,
          -0.3865531389435834,
          -0.3865531389435834,
          -0.3865531389435834,
          -0.3865531389435834,
          -0.3865531389435834,
          -0.3865531389435834,
          -0.3865531389435834,
          -0.3865531389435834,
          -0.3865531389435834,
          -0.3865531389435834,
          -0.3865531389435834,
          -0.3865531389435834,
          -0.3865531389435834,
          -0.3865531389435834,
          -0.3865531389435834,
          -0.3865531389435834,
          -0.3865531389435834,
          -0.3865531389435834,
          -0.3865531389435834,
          -0.3865531389435834,
          -0.3339606541606865,
          -0.2885359633363197,
          -0.24311127251195286,
          -0.19768658168758604,
          -0.15226189086321923,
          -0.10683720003885244,
          -0.0614125092144856,
          -0.015987818390118813,
          -0.015987818390118813,
          -0.0614125092144856,
          -0.10683720003885244,
          -0.15226189086321923,
          -0.19768658168758604,
          -0.24311127251195286,
          -0.2885359633363197,
          -0.3339606541606865,
          -0.3339606541606865,
          -0.3339606541606865,
          -0.3339606541606865,
          -0.3339606541606865,
          -0.3339606541606865,
          -0.3339606541606865,
          -0.3339606541606865,
          -0.3339606541606865,
          -0.3339606541606865,
          -0.3339606541606865,
          -0.3339606541606865,
          -0.3339606541606865,
          -0.3339606541606865,
          -0.3339606541606865,
          -0.3339606541606865,
          -0.3339606541606865,
          -0.3339606541606865,
          -0.3339606541606865,
          -0.3339606541606865,
          -0.2813681693777896,
          -0.23594347855342276,
          -0.19051878772905595,
          -0.14509409690468913,
          -0.09966940608032232,
          -0.05424471525595553,
          -0.008820024431588691,
          -0.008820024431588691,
          -0.05424471525595553,
          -0.09966940608032232,
          -0.14509409690468913,
          -0.19051878772905595,
          -0.23594347855342276,
          -0.2813681693777896,
          -0.2813681693777896,
          -0.2813681693777896,
          -0.2813681693777896,
          -0.2813681693777896,
          -0.2813681693777896,
          -0.2813681693777896,
          -0.2813681693777896,
          -0.2813681693777896,
          -0.2813681693777896,
          -0.2813681693777896,
          -0.2813681693777896,
          -0.2813681693777896,
          -0.2813681693777896,
          -0.2813681693777896,
          -0.2813681693777896,
          -0.2813681693777896,
          -0.2813681693777896,
          -0.2813681693777896,
          -0.2813681693777896,
          -0.22877568459489273,
          -0.1833509937705259,
          -0.1379263029461591,
          -0.09250161212179228,
          -0.04707692129742547,
          -0.00165223047305868,
          -0.00165223047305868,
          -0.04707692129742547,
          -0.09250161212179228,
          -0.1379263029461591,
          -0.1833509937705259,
          -0.22877568459489273,
          -0.22877568459489273,
          -0.22877568459489273,
          -0.22877568459489273,
          -0.22877568459489273,
          -0.22877568459489273,
          -0.22877568459489273,
          -0.22877568459489273,
          -0.22877568459489273,
          -0.22877568459489273,
          -0.22877568459489273,
          -0.22877568459489273,
          -0.22877568459489273,
          -0.22877568459489273,
          -0.22877568459489273,
          -0.22877568459489273,
          -0.22877568459489273,
          -0.22877568459489273,
          -0.22877568459489273,
          -0.22877568459489273,
          -0.17618319981199584,
          -0.13075850898762903,
          -0.08533381816326222,
          -0.0399091273388954,
          -0.0399091273388954,
          -0.08533381816326222,
          -0.13075850898762903,
          -0.17618319981199584,
          -0.17618319981199584,
          -0.17618319981199584,
          -0.17618319981199584,
          -0.17618319981199584,
          -0.17618319981199584,
          -0.17618319981199584,
          -0.17618319981199584,
          -0.17618319981199584,
          -0.17618319981199584,
          -0.17618319981199584,
          -0.17618319981199584,
          -0.17618319981199584,
          -0.17618319981199584,
          -0.17618319981199584,
          -0.17618319981199584,
          -0.17618319981199584,
          -0.17618319981199584,
          -0.17618319981199584,
          -0.17618319981199584,
          -0.12359071502909896,
          -0.07816602420473215,
          -0.032741333380365334,
          -0.032741333380365334,
          -0.07816602420473215,
          -0.12359071502909896,
          -0.12359071502909896,
          -0.12359071502909896,
          -0.12359071502909896,
          -0.12359071502909896,
          -0.12359071502909896,
          -0.12359071502909896,
          -0.12359071502909896,
          -0.12359071502909896,
          -0.12359071502909896,
          -0.12359071502909896,
          -0.12359071502909896,
          -0.12359071502909896,
          -0.12359071502909896,
          -0.12359071502909896,
          -0.12359071502909896,
          -0.12359071502909896,
          -0.12359071502909896,
          -0.12359071502909896,
          -0.12359071502909896,
          -0.07099823024620205,
          -0.02557353942183524,
          -0.02557353942183524,
          -0.07099823024620205,
          -0.07099823024620205,
          -0.07099823024620205,
          -0.07099823024620205,
          -0.07099823024620205,
          -0.07099823024620205,
          -0.07099823024620205,
          -0.07099823024620205,
          -0.07099823024620205,
          -0.07099823024620205,
          -0.07099823024620205,
          -0.07099823024620205,
          -0.07099823024620205,
          -0.07099823024620205,
          -0.07099823024620205,
          -0.07099823024620205,
          -0.07099823024620205,
          -0.07099823024620205,
          -0.07099823024620205,
          -0.07099823024620205,
          -0.0184057454633052,
          -0.0184057454633052,
          -0.0184057454633052,
          -0.0184057454633052,
          -0.0184057454633052,
          -0.0184057454633052,
          -0.0184057454633052,
          -0.0184057454633052,
          -0.0184057454633052,
          -0.0184057454633052,
          -0.0184057454633052,
          -0.0184057454633052,
          -0.0184057454633052,
          -0.0184057454633052,
          -0.0184057454633052,
          -0.0184057454633052,
          -0.0184057454633052,
          -0.0184057454633052,
          -0.0184057454633052,
          -0.0184057454633052,
          -0.0184057454633052
         ],
         "type": "scatter"
        },
        {
         "mode": "lines",
         "name": "$\\Large{Z^{(1)}}$",
         "x": [
          -1.9099100305304457,
          -1.9099100305304457,
          1.799880915799522,
          1.799880915799522,
          -1.9099100305304457
         ],
         "y": [
          -2.9814905813435457,
          2.330085335171783,
          2.330085335171783,
          -2.9814905813435457,
          -2.9814905813435457
         ],
         "type": "scatter"
        }
       ],
       "layout": {
        "template": {
         "data": {
          "histogram2dcontour": [
           {
            "type": "histogram2dcontour",
            "colorbar": {
             "outlinewidth": 0,
             "ticks": ""
            },
            "colorscale": [
             [
              0.0,
              "#0d0887"
             ],
             [
              0.1111111111111111,
              "#46039f"
             ],
             [
              0.2222222222222222,
              "#7201a8"
             ],
             [
              0.3333333333333333,
              "#9c179e"
             ],
             [
              0.4444444444444444,
              "#bd3786"
             ],
             [
              0.5555555555555556,
              "#d8576b"
             ],
             [
              0.6666666666666666,
              "#ed7953"
             ],
             [
              0.7777777777777778,
              "#fb9f3a"
             ],
             [
              0.8888888888888888,
              "#fdca26"
             ],
             [
              1.0,
              "#f0f921"
             ]
            ]
           }
          ],
          "choropleth": [
           {
            "type": "choropleth",
            "colorbar": {
             "outlinewidth": 0,
             "ticks": ""
            }
           }
          ],
          "histogram2d": [
           {
            "type": "histogram2d",
            "colorbar": {
             "outlinewidth": 0,
             "ticks": ""
            },
            "colorscale": [
             [
              0.0,
              "#0d0887"
             ],
             [
              0.1111111111111111,
              "#46039f"
             ],
             [
              0.2222222222222222,
              "#7201a8"
             ],
             [
              0.3333333333333333,
              "#9c179e"
             ],
             [
              0.4444444444444444,
              "#bd3786"
             ],
             [
              0.5555555555555556,
              "#d8576b"
             ],
             [
              0.6666666666666666,
              "#ed7953"
             ],
             [
              0.7777777777777778,
              "#fb9f3a"
             ],
             [
              0.8888888888888888,
              "#fdca26"
             ],
             [
              1.0,
              "#f0f921"
             ]
            ]
           }
          ],
          "heatmap": [
           {
            "type": "heatmap",
            "colorbar": {
             "outlinewidth": 0,
             "ticks": ""
            },
            "colorscale": [
             [
              0.0,
              "#0d0887"
             ],
             [
              0.1111111111111111,
              "#46039f"
             ],
             [
              0.2222222222222222,
              "#7201a8"
             ],
             [
              0.3333333333333333,
              "#9c179e"
             ],
             [
              0.4444444444444444,
              "#bd3786"
             ],
             [
              0.5555555555555556,
              "#d8576b"
             ],
             [
              0.6666666666666666,
              "#ed7953"
             ],
             [
              0.7777777777777778,
              "#fb9f3a"
             ],
             [
              0.8888888888888888,
              "#fdca26"
             ],
             [
              1.0,
              "#f0f921"
             ]
            ]
           }
          ],
          "heatmapgl": [
           {
            "type": "heatmapgl",
            "colorbar": {
             "outlinewidth": 0,
             "ticks": ""
            },
            "colorscale": [
             [
              0.0,
              "#0d0887"
             ],
             [
              0.1111111111111111,
              "#46039f"
             ],
             [
              0.2222222222222222,
              "#7201a8"
             ],
             [
              0.3333333333333333,
              "#9c179e"
             ],
             [
              0.4444444444444444,
              "#bd3786"
             ],
             [
              0.5555555555555556,
              "#d8576b"
             ],
             [
              0.6666666666666666,
              "#ed7953"
             ],
             [
              0.7777777777777778,
              "#fb9f3a"
             ],
             [
              0.8888888888888888,
              "#fdca26"
             ],
             [
              1.0,
              "#f0f921"
             ]
            ]
           }
          ],
          "contourcarpet": [
           {
            "type": "contourcarpet",
            "colorbar": {
             "outlinewidth": 0,
             "ticks": ""
            }
           }
          ],
          "contour": [
           {
            "type": "contour",
            "colorbar": {
             "outlinewidth": 0,
             "ticks": ""
            },
            "colorscale": [
             [
              0.0,
              "#0d0887"
             ],
             [
              0.1111111111111111,
              "#46039f"
             ],
             [
              0.2222222222222222,
              "#7201a8"
             ],
             [
              0.3333333333333333,
              "#9c179e"
             ],
             [
              0.4444444444444444,
              "#bd3786"
             ],
             [
              0.5555555555555556,
              "#d8576b"
             ],
             [
              0.6666666666666666,
              "#ed7953"
             ],
             [
              0.7777777777777778,
              "#fb9f3a"
             ],
             [
              0.8888888888888888,
              "#fdca26"
             ],
             [
              1.0,
              "#f0f921"
             ]
            ]
           }
          ],
          "surface": [
           {
            "type": "surface",
            "colorbar": {
             "outlinewidth": 0,
             "ticks": ""
            },
            "colorscale": [
             [
              0.0,
              "#0d0887"
             ],
             [
              0.1111111111111111,
              "#46039f"
             ],
             [
              0.2222222222222222,
              "#7201a8"
             ],
             [
              0.3333333333333333,
              "#9c179e"
             ],
             [
              0.4444444444444444,
              "#bd3786"
             ],
             [
              0.5555555555555556,
              "#d8576b"
             ],
             [
              0.6666666666666666,
              "#ed7953"
             ],
             [
              0.7777777777777778,
              "#fb9f3a"
             ],
             [
              0.8888888888888888,
              "#fdca26"
             ],
             [
              1.0,
              "#f0f921"
             ]
            ]
           }
          ],
          "mesh3d": [
           {
            "type": "mesh3d",
            "colorbar": {
             "outlinewidth": 0,
             "ticks": ""
            }
           }
          ],
          "scatter": [
           {
            "marker": {
             "line": {
              "color": "#283442"
             }
            },
            "type": "scatter"
           }
          ],
          "parcoords": [
           {
            "type": "parcoords",
            "line": {
             "colorbar": {
              "outlinewidth": 0,
              "ticks": ""
             }
            }
           }
          ],
          "scatterpolargl": [
           {
            "type": "scatterpolargl",
            "marker": {
             "colorbar": {
              "outlinewidth": 0,
              "ticks": ""
             }
            }
           }
          ],
          "bar": [
           {
            "error_x": {
             "color": "#f2f5fa"
            },
            "error_y": {
             "color": "#f2f5fa"
            },
            "marker": {
             "line": {
              "color": "rgb(17,17,17)",
              "width": 0.5
             },
             "pattern": {
              "fillmode": "overlay",
              "size": 10,
              "solidity": 0.2
             }
            },
            "type": "bar"
           }
          ],
          "scattergeo": [
           {
            "type": "scattergeo",
            "marker": {
             "colorbar": {
              "outlinewidth": 0,
              "ticks": ""
             }
            }
           }
          ],
          "scatterpolar": [
           {
            "type": "scatterpolar",
            "marker": {
             "colorbar": {
              "outlinewidth": 0,
              "ticks": ""
             }
            }
           }
          ],
          "histogram": [
           {
            "marker": {
             "pattern": {
              "fillmode": "overlay",
              "size": 10,
              "solidity": 0.2
             }
            },
            "type": "histogram"
           }
          ],
          "scattergl": [
           {
            "marker": {
             "line": {
              "color": "#283442"
             }
            },
            "type": "scattergl"
           }
          ],
          "scatter3d": [
           {
            "type": "scatter3d",
            "line": {
             "colorbar": {
              "outlinewidth": 0,
              "ticks": ""
             }
            },
            "marker": {
             "colorbar": {
              "outlinewidth": 0,
              "ticks": ""
             }
            }
           }
          ],
          "scattermapbox": [
           {
            "type": "scattermapbox",
            "marker": {
             "colorbar": {
              "outlinewidth": 0,
              "ticks": ""
             }
            }
           }
          ],
          "scatterternary": [
           {
            "type": "scatterternary",
            "marker": {
             "colorbar": {
              "outlinewidth": 0,
              "ticks": ""
             }
            }
           }
          ],
          "scattercarpet": [
           {
            "type": "scattercarpet",
            "marker": {
             "colorbar": {
              "outlinewidth": 0,
              "ticks": ""
             }
            }
           }
          ],
          "carpet": [
           {
            "aaxis": {
             "endlinecolor": "#A2B1C6",
             "gridcolor": "#506784",
             "linecolor": "#506784",
             "minorgridcolor": "#506784",
             "startlinecolor": "#A2B1C6"
            },
            "baxis": {
             "endlinecolor": "#A2B1C6",
             "gridcolor": "#506784",
             "linecolor": "#506784",
             "minorgridcolor": "#506784",
             "startlinecolor": "#A2B1C6"
            },
            "type": "carpet"
           }
          ],
          "table": [
           {
            "cells": {
             "fill": {
              "color": "#506784"
             },
             "line": {
              "color": "rgb(17,17,17)"
             }
            },
            "header": {
             "fill": {
              "color": "#2a3f5f"
             },
             "line": {
              "color": "rgb(17,17,17)"
             }
            },
            "type": "table"
           }
          ],
          "barpolar": [
           {
            "marker": {
             "line": {
              "color": "rgb(17,17,17)",
              "width": 0.5
             },
             "pattern": {
              "fillmode": "overlay",
              "size": 10,
              "solidity": 0.2
             }
            },
            "type": "barpolar"
           }
          ],
          "pie": [
           {
            "automargin": true,
            "type": "pie"
           }
          ]
         },
         "layout": {
          "autotypenumbers": "strict",
          "colorway": [
           "#636efa",
           "#EF553B",
           "#00cc96",
           "#ab63fa",
           "#FFA15A",
           "#19d3f3",
           "#FF6692",
           "#B6E880",
           "#FF97FF",
           "#FECB52"
          ],
          "font": {
           "color": "#f2f5fa"
          },
          "hovermode": "closest",
          "hoverlabel": {
           "align": "left"
          },
          "paper_bgcolor": "rgb(17,17,17)",
          "plot_bgcolor": "rgb(17,17,17)",
          "polar": {
           "bgcolor": "rgb(17,17,17)",
           "angularaxis": {
            "gridcolor": "#506784",
            "linecolor": "#506784",
            "ticks": ""
           },
           "radialaxis": {
            "gridcolor": "#506784",
            "linecolor": "#506784",
            "ticks": ""
           }
          },
          "ternary": {
           "bgcolor": "rgb(17,17,17)",
           "aaxis": {
            "gridcolor": "#506784",
            "linecolor": "#506784",
            "ticks": ""
           },
           "baxis": {
            "gridcolor": "#506784",
            "linecolor": "#506784",
            "ticks": ""
           },
           "caxis": {
            "gridcolor": "#506784",
            "linecolor": "#506784",
            "ticks": ""
           }
          },
          "coloraxis": {
           "colorbar": {
            "outlinewidth": 0,
            "ticks": ""
           }
          },
          "colorscale": {
           "sequential": [
            [
             0.0,
             "#0d0887"
            ],
            [
             0.1111111111111111,
             "#46039f"
            ],
            [
             0.2222222222222222,
             "#7201a8"
            ],
            [
             0.3333333333333333,
             "#9c179e"
            ],
            [
             0.4444444444444444,
             "#bd3786"
            ],
            [
             0.5555555555555556,
             "#d8576b"
            ],
            [
             0.6666666666666666,
             "#ed7953"
            ],
            [
             0.7777777777777778,
             "#fb9f3a"
            ],
            [
             0.8888888888888888,
             "#fdca26"
            ],
            [
             1.0,
             "#f0f921"
            ]
           ],
           "sequentialminus": [
            [
             0.0,
             "#0d0887"
            ],
            [
             0.1111111111111111,
             "#46039f"
            ],
            [
             0.2222222222222222,
             "#7201a8"
            ],
            [
             0.3333333333333333,
             "#9c179e"
            ],
            [
             0.4444444444444444,
             "#bd3786"
            ],
            [
             0.5555555555555556,
             "#d8576b"
            ],
            [
             0.6666666666666666,
             "#ed7953"
            ],
            [
             0.7777777777777778,
             "#fb9f3a"
            ],
            [
             0.8888888888888888,
             "#fdca26"
            ],
            [
             1.0,
             "#f0f921"
            ]
           ],
           "diverging": [
            [
             0,
             "#8e0152"
            ],
            [
             0.1,
             "#c51b7d"
            ],
            [
             0.2,
             "#de77ae"
            ],
            [
             0.3,
             "#f1b6da"
            ],
            [
             0.4,
             "#fde0ef"
            ],
            [
             0.5,
             "#f7f7f7"
            ],
            [
             0.6,
             "#e6f5d0"
            ],
            [
             0.7,
             "#b8e186"
            ],
            [
             0.8,
             "#7fbc41"
            ],
            [
             0.9,
             "#4d9221"
            ],
            [
             1,
             "#276419"
            ]
           ]
          },
          "xaxis": {
           "gridcolor": "#283442",
           "linecolor": "#506784",
           "ticks": "",
           "title": {
            "standoff": 15
           },
           "zerolinecolor": "#283442",
           "automargin": true,
           "zerolinewidth": 2
          },
          "yaxis": {
           "gridcolor": "#283442",
           "linecolor": "#506784",
           "ticks": "",
           "title": {
            "standoff": 15
           },
           "zerolinecolor": "#283442",
           "automargin": true,
           "zerolinewidth": 2
          },
          "scene": {
           "xaxis": {
            "backgroundcolor": "rgb(17,17,17)",
            "gridcolor": "#506784",
            "linecolor": "#506784",
            "showbackground": true,
            "ticks": "",
            "zerolinecolor": "#C8D4E3",
            "gridwidth": 2
           },
           "yaxis": {
            "backgroundcolor": "rgb(17,17,17)",
            "gridcolor": "#506784",
            "linecolor": "#506784",
            "showbackground": true,
            "ticks": "",
            "zerolinecolor": "#C8D4E3",
            "gridwidth": 2
           },
           "zaxis": {
            "backgroundcolor": "rgb(17,17,17)",
            "gridcolor": "#506784",
            "linecolor": "#506784",
            "showbackground": true,
            "ticks": "",
            "zerolinecolor": "#C8D4E3",
            "gridwidth": 2
           }
          },
          "shapedefaults": {
           "line": {
            "color": "#f2f5fa"
           }
          },
          "annotationdefaults": {
           "arrowcolor": "#f2f5fa",
           "arrowhead": 0,
           "arrowwidth": 1
          },
          "geo": {
           "bgcolor": "rgb(17,17,17)",
           "landcolor": "rgb(17,17,17)",
           "subunitcolor": "#506784",
           "showland": true,
           "showlakes": true,
           "lakecolor": "rgb(17,17,17)"
          },
          "title": {
           "x": 0.05
          },
          "updatemenudefaults": {
           "bgcolor": "#506784",
           "borderwidth": 0
          },
          "sliderdefaults": {
           "bgcolor": "#C8D4E3",
           "borderwidth": 1,
           "bordercolor": "rgb(17,17,17)",
           "tickwidth": 0
          },
          "mapbox": {
           "style": "dark"
          }
         }
        },
        "title": {
         "text": "First layer's linear inclusion",
         "y": 0.9,
         "x": 0.5,
         "xanchor": "center",
         "yanchor": "top"
        },
        "font": {
         "size": 20
        },
        "legend": {
         "font": {
          "size": 30
         },
         "yanchor": "top",
         "y": 1.05,
         "xanchor": "left",
         "x": 0.01
        },
        "paper_bgcolor": "#1E1F22",
        "xaxis": {
         "title": {
          "text": "1st component"
         }
        },
        "yaxis": {
         "title": {
          "text": "2nd component"
         },
         "scaleanchor": "x",
         "scaleratio": 1
        },
        "autosize": false,
        "width": 1300,
        "height": 1300,
        "showlegend": true,
        "plot_bgcolor": "#1E1F22"
       },
       "config": {
        "plotlyServerURL": "https://plot.ly"
       }
      },
      "text/html": "<div>                            <div id=\"ee033f17-0cec-46a1-abd6-08a9532a1507\" class=\"plotly-graph-div\" style=\"height:1300px; width:1300px;\"></div>            <script type=\"text/javascript\">                require([\"plotly\"], function(Plotly) {                    window.PLOTLYENV=window.PLOTLYENV || {};                                    if (document.getElementById(\"ee033f17-0cec-46a1-abd6-08a9532a1507\")) {                    Plotly.newPlot(                        \"ee033f17-0cec-46a1-abd6-08a9532a1507\",                        [{\"mode\":\"lines\",\"name\":\"$\\\\Large{\\\\Theta^{(0)}}$\",\"x\":[-5.1606377858191035,-5.1606377858191035,4.074591920636097,4.074591920636097,-5.1606377858191035],\"y\":[-1.393796995951563,0.6986749809092526,0.6986749809092526,-1.393796995951563,-1.393796995951563],\"type\":\"scatter\"},{\"mode\":\"lines\",\"name\":\"$\\\\Large{\\\\Theta^{(1)}}$\",\"x\":[0.12899096008497263,0.12899096008497263,0.8581344384400857,0.8581344384400857,0.12899096008497263],\"y\":[0.048269106479496726,0.9113382321424661,0.9113382321424661,0.048269106479496726,0.048269106479496726],\"type\":\"scatter\"},{\"mode\":\"lines\",\"name\":\"$\\\\Large{z^{(1)}}$\",\"x\":[1.7998809157995215,1.768496417825094,1.7371119198506664,1.7057274218762388,1.6743429239018108,1.6429584259273833,1.6115739279529557,1.5801894299785277,1.5488049320041002,1.5174204340296726,1.486035936055245,1.454651438080817,1.4232669401063895,1.391882442131962,1.3604979441575344,1.3291134461831065,1.297728948208679,1.2663444502342514,1.2349599522598238,1.2035754542853958,1.0397077971898252,0.8758401400942547,0.7119724829986841,0.5481048259031135,0.3842371688075429,0.22036951171197228,0.056501854616401725,-0.10736580247916896,-0.27123345957473965,-0.43510111667031015,-0.5989687737658806,-0.7628364308614515,-0.9267040879570222,-1.0905717450525927,-1.2544394021481633,-1.418307059243734,-1.5821747163393045,-1.7460423734348756,-1.9099100305304457,-1.8785255325560177,-1.8471410345815902,-1.8157565366071626,-1.784372038632735,-1.752987540658307,-1.7216030426838795,-1.690218544709452,-1.6588340467350244,-1.6274495487605964,-1.596065050786169,-1.5646805528117413,-1.5332960548373138,-1.5019115568628858,-1.4705270588884582,-1.4391425609140307,-1.4077580629396031,-1.3763735649651752,-1.3449890669907476,-1.31360456901632,-1.14973691192075,-0.9858692548251791,-0.8220015977296083,-0.6581339406340376,-0.49426628353846713,-0.33039862644289664,-0.1665309693473259,-0.00266331225175509,0.16120434484381535,0.3250720019393859,0.4889396590349566,0.6528073161305272,0.8166749732260979,0.9805426303216686,1.144410287417239,1.3082779445128097,1.4721456016083803,1.6360132587039509,1.7998809157995215],\"y\":[-1.7738873197073342,-1.83744538610924,-1.9010034525111459,-1.9645615189130516,-2.0281195853149576,-2.0916776517168634,-2.155235718118769,-2.218793784520675,-2.2823518509225806,-2.345909917324487,-2.4094679837263926,-2.4730260501282983,-2.536584116530204,-2.60014218293211,-2.6637002493340156,-2.727258315735922,-2.7908163821378276,-2.8543744485397333,-2.917932514941639,-2.981490581343545,-2.7654920205604334,-2.549493459777322,-2.3334948989942106,-2.117496338211099,-1.901497777427988,-1.6854992166448763,-1.469500655861765,-1.2535020950786535,-1.0375035342955417,-0.8215049735124306,-0.6055064127293193,-0.38950785194620763,-0.173509291163096,0.0424892696200152,0.2584878304031265,0.47448639118623814,0.6904849519693498,0.9064835127524613,1.1224820735355723,1.1860401399374783,1.2495982063393842,1.31315627274129,1.3767143391431957,1.4402724055451015,1.5038304719470073,1.5673885383489132,1.630946604750819,1.694504671152725,1.7580627375546305,1.8216208039565367,1.8851788703584424,1.9487369367603482,2.012295003162254,2.0758530695641597,2.139411135966066,2.2029692023679717,2.2665272687698774,2.330085335171783,2.114086774388672,1.8980882136055603,1.682089652822449,1.4660910920393373,1.2500925312562259,1.0340939704731147,0.818095409690003,0.6020968489068915,0.3860982881237802,0.17009972734066903,-0.04589883344244264,-0.26189739422555414,-0.47789595500866555,-0.6938945157917771,-0.9098930765748885,-1.125891637358,-1.3418901981411113,-1.5578887589242227,-1.7738873197073342],\"type\":\"scatter\"},{\"fill\":\"none\",\"mode\":\"markers\",\"name\":\"lower bound\",\"x\":[-0.8206320367909465,-0.8206320367909465,-0.8206320367909465,-0.8206320367909465,-0.8206320367909465,-0.8206320367909465,-0.8206320367909465,-0.8206320367909465,-0.8206320367909465,-0.8206320367909465,-0.8206320367909465,-0.8206320367909465,-0.8206320367909465,-0.8206320367909465,-0.8206320367909465,-0.8206320367909465,-0.8206320367909465,-0.8206320367909465,-0.8206320367909465,-0.8206320367909465,-0.7822560642459405,-0.7438800917009345,-0.7055041191559286,-0.6671281466109227,-0.6287521740659167,-0.5903762015209107,-0.5520002289759047,-0.5136242564308988,-0.47524828388589285,-0.4368723113408869,-0.39849633879588087,-0.36012036625087496,-0.32174439370586905,-0.28336842116086314,-0.244992448615857,-0.2066164760708511,-0.1682405035258452,-0.12986453098083928,-0.09148855843583337,-0.09148855843583337,-0.09148855843583337,-0.09148855843583337,-0.09148855843583337,-0.09148855843583337,-0.09148855843583337,-0.09148855843583337,-0.09148855843583337,-0.09148855843583337,-0.09148855843583337,-0.09148855843583337,-0.09148855843583337,-0.09148855843583337,-0.09148855843583337,-0.09148855843583337,-0.09148855843583337,-0.09148855843583337,-0.09148855843583337,-0.09148855843583337,-0.7822560642459405,-0.7438800917009345,-0.7055041191559286,-0.6671281466109227,-0.6287521740659167,-0.5903762015209107,-0.5520002289759047,-0.5136242564308988,-0.47524828388589285,-0.4368723113408869,-0.39849633879588087,-0.36012036625087496,-0.32174439370586905,-0.28336842116086314,-0.244992448615857,-0.2066164760708511,-0.1682405035258452,-0.12986453098083928,-0.8206320367909465,-0.8127918460769992,-0.8127918460769992,-0.8127918460769992,-0.8127918460769992,-0.8127918460769992,-0.8127918460769992,-0.8127918460769992,-0.8127918460769992,-0.8127918460769992,-0.8127918460769992,-0.8127918460769992,-0.8127918460769992,-0.8127918460769992,-0.8127918460769992,-0.8127918460769992,-0.8127918460769992,-0.8127918460769992,-0.8127918460769992,-0.8127918460769992,-0.8127918460769992,-0.7744158735319933,-0.7360399009869873,-0.6976639284419813,-0.6592879558969754,-0.6209119833519694,-0.5825360108069635,-0.5441600382619576,-0.5057840657169516,-0.4674080931719456,-0.42903212062693963,-0.3906561480819336,-0.3522801755369277,-0.3139042029919218,-0.2755282304469159,-0.23715225790190975,-0.19877628535690384,-0.16040031281189793,-0.12202434026689202,-0.08364836772188611,-0.08364836772188611,-0.08364836772188611,-0.08364836772188611,-0.08364836772188611,-0.08364836772188611,-0.08364836772188611,-0.08364836772188611,-0.08364836772188611,-0.08364836772188611,-0.08364836772188611,-0.08364836772188611,-0.08364836772188611,-0.08364836772188611,-0.08364836772188611,-0.08364836772188611,-0.08364836772188611,-0.08364836772188611,-0.08364836772188611,-0.08364836772188611,-0.7744158735319933,-0.7360399009869873,-0.6976639284419813,-0.6592879558969754,-0.6209119833519694,-0.5825360108069635,-0.5441600382619576,-0.5057840657169516,-0.4674080931719456,-0.42903212062693963,-0.3906561480819336,-0.3522801755369277,-0.3139042029919218,-0.2755282304469159,-0.23715225790190975,-0.19877628535690384,-0.16040031281189793,-0.12202434026689202,-0.8127918460769992,-0.8049516553630518,-0.8049516553630518,-0.8049516553630518,-0.8049516553630518,-0.8049516553630518,-0.8049516553630518,-0.8049516553630518,-0.8049516553630518,-0.8049516553630518,-0.8049516553630518,-0.8049516553630518,-0.8049516553630518,-0.8049516553630518,-0.8049516553630518,-0.8049516553630518,-0.8049516553630518,-0.8049516553630518,-0.8049516553630518,-0.8049516553630518,-0.8049516553630518,-0.7665756828180459,-0.72819971027304,-0.689823737728034,-0.651447765183028,-0.613071792638022,-0.5746958200930161,-0.5363198475480102,-0.4979438750030042,-0.4595679024579982,-0.42119192991299226,-0.38281595736798624,-0.3444399848229803,-0.3060640122779744,-0.2676880397329685,-0.22931206718796238,-0.19093609464295647,-0.15256012209795056,-0.11418414955294465,-0.07580817700793874,-0.07580817700793874,-0.07580817700793874,-0.07580817700793874,-0.07580817700793874,-0.07580817700793874,-0.07580817700793874,-0.07580817700793874,-0.07580817700793874,-0.07580817700793874,-0.07580817700793874,-0.07580817700793874,-0.07580817700793874,-0.07580817700793874,-0.07580817700793874,-0.07580817700793874,-0.07580817700793874,-0.07580817700793874,-0.07580817700793874,-0.07580817700793874,-0.7665756828180459,-0.72819971027304,-0.689823737728034,-0.651447765183028,-0.613071792638022,-0.5746958200930161,-0.5363198475480102,-0.4979438750030042,-0.4595679024579982,-0.42119192991299226,-0.38281595736798624,-0.3444399848229803,-0.3060640122779744,-0.2676880397329685,-0.22931206718796238,-0.19093609464295647,-0.15256012209795056,-0.11418414955294465,-0.8049516553630518,-0.7971114646491047,-0.7971114646491047,-0.7971114646491047,-0.7971114646491047,-0.7971114646491047,-0.7971114646491047,-0.7971114646491047,-0.7971114646491047,-0.7971114646491047,-0.7971114646491047,-0.7971114646491047,-0.7971114646491047,-0.7971114646491047,-0.7971114646491047,-0.7971114646491047,-0.7971114646491047,-0.7971114646491047,-0.7971114646491047,-0.7971114646491047,-0.7971114646491047,-0.7587354921040986,-0.7203595195590926,-0.6819835470140867,-0.6436075744690808,-0.6052316019240748,-0.5668556293790689,-0.5284796568340628,-0.49010368428905693,-0.45172771174405096,-0.413351739199045,-0.374975766654039,-0.33659979410903307,-0.29822382156402716,-0.25984784901902125,-0.22147187647401512,-0.1830959039290092,-0.1447199313840033,-0.10634395883899739,-0.06796798629399148,-0.06796798629399148,-0.06796798629399148,-0.06796798629399148,-0.06796798629399148,-0.06796798629399148,-0.06796798629399148,-0.06796798629399148,-0.06796798629399148,-0.06796798629399148,-0.06796798629399148,-0.06796798629399148,-0.06796798629399148,-0.06796798629399148,-0.06796798629399148,-0.06796798629399148,-0.06796798629399148,-0.06796798629399148,-0.06796798629399148,-0.06796798629399148,-0.7587354921040986,-0.7203595195590926,-0.6819835470140867,-0.6436075744690808,-0.6052316019240748,-0.5668556293790689,-0.5284796568340628,-0.49010368428905693,-0.45172771174405096,-0.413351739199045,-0.374975766654039,-0.33659979410903307,-0.29822382156402716,-0.25984784901902125,-0.22147187647401512,-0.1830959039290092,-0.1447199313840033,-0.10634395883899739,-0.7971114646491047,-0.7892712739351571,-0.7892712739351571,-0.7892712739351571,-0.7892712739351571,-0.7892712739351571,-0.7892712739351571,-0.7892712739351571,-0.7892712739351571,-0.7892712739351571,-0.7892712739351571,-0.7892712739351571,-0.7892712739351571,-0.7892712739351571,-0.7892712739351571,-0.7892712739351571,-0.7892712739351571,-0.7892712739351571,-0.7892712739351571,-0.7892712739351571,-0.7892712739351571,-0.7508953013901511,-0.7125193288451452,-0.6741433563001392,-0.6357673837551333,-0.5973914112101273,-0.5590154386651214,-0.5206394661201155,-0.48226349357510945,-0.4438875210301035,-0.4055115484850975,-0.3671355759400915,-0.3287596033950856,-0.2903836308500797,-0.25200765830507377,-0.21363168576006764,-0.17525571321506173,-0.13687974067005582,-0.0985037681250499,-0.060127795580044,-0.060127795580044,-0.060127795580044,-0.060127795580044,-0.060127795580044,-0.060127795580044,-0.060127795580044,-0.060127795580044,-0.060127795580044,-0.060127795580044,-0.060127795580044,-0.060127795580044,-0.060127795580044,-0.060127795580044,-0.060127795580044,-0.060127795580044,-0.060127795580044,-0.060127795580044,-0.060127795580044,-0.060127795580044,-0.7508953013901511,-0.7125193288451452,-0.6741433563001392,-0.6357673837551333,-0.5973914112101273,-0.5590154386651214,-0.5206394661201155,-0.48226349357510945,-0.4438875210301035,-0.4055115484850975,-0.3671355759400915,-0.3287596033950856,-0.2903836308500797,-0.25200765830507377,-0.21363168576006764,-0.17525571321506173,-0.13687974067005582,-0.0985037681250499,-0.7892712739351571,-0.7814310832212097,-0.7814310832212097,-0.7814310832212097,-0.7814310832212097,-0.7814310832212097,-0.7814310832212097,-0.7814310832212097,-0.7814310832212097,-0.7814310832212097,-0.7814310832212097,-0.7814310832212097,-0.7814310832212097,-0.7814310832212097,-0.7814310832212097,-0.7814310832212097,-0.7814310832212097,-0.7814310832212097,-0.7814310832212097,-0.7814310832212097,-0.7814310832212097,-0.7430551106762038,-0.7046791381311979,-0.6663031655861918,-0.6279271930411859,-0.5895512204961799,-0.551175247951174,-0.5127992754061681,-0.4744233028611621,-0.4360473303161561,-0.39767135777115015,-0.3592953852261441,-0.3209194126811382,-0.2825434401361323,-0.2441674675911264,-0.20579149504612027,-0.16741552250111436,-0.12903954995610845,-0.09066357741110254,-0.052287604866096626,-0.052287604866096626,-0.052287604866096626,-0.052287604866096626,-0.052287604866096626,-0.052287604866096626,-0.052287604866096626,-0.052287604866096626,-0.052287604866096626,-0.052287604866096626,-0.052287604866096626,-0.052287604866096626,-0.052287604866096626,-0.052287604866096626,-0.052287604866096626,-0.052287604866096626,-0.052287604866096626,-0.052287604866096626,-0.052287604866096626,-0.052287604866096626,-0.7430551106762038,-0.7046791381311979,-0.6663031655861918,-0.6279271930411859,-0.5895512204961799,-0.551175247951174,-0.5127992754061681,-0.4744233028611621,-0.4360473303161561,-0.39767135777115015,-0.3592953852261441,-0.3209194126811382,-0.2825434401361323,-0.2441674675911264,-0.20579149504612027,-0.16741552250111436,-0.12903954995610845,-0.09066357741110254,-0.7814310832212097,-0.7735908925072625,-0.7735908925072625,-0.7735908925072625,-0.7735908925072625,-0.7735908925072625,-0.7735908925072625,-0.7735908925072625,-0.7735908925072625,-0.7735908925072625,-0.7735908925072625,-0.7735908925072625,-0.7735908925072625,-0.7735908925072625,-0.7735908925072625,-0.7735908925072625,-0.7735908925072625,-0.7735908925072625,-0.7735908925072625,-0.7735908925072625,-0.7735908925072625,-0.7352149199622565,-0.6968389474172505,-0.6584629748722446,-0.6200870023272387,-0.5817110297822327,-0.5433350572372267,-0.5049590846922207,-0.4665831121472148,-0.42820713960220885,-0.3898311670572029,-0.35145519451219687,-0.31307922196719096,-0.27470324942218505,-0.23632727687717914,-0.197951304332173,-0.1595753317871671,-0.12119935924216119,-0.08282338669715528,-0.04444741415214937,-0.04444741415214937,-0.04444741415214937,-0.04444741415214937,-0.04444741415214937,-0.04444741415214937,-0.04444741415214937,-0.04444741415214937,-0.04444741415214937,-0.04444741415214937,-0.04444741415214937,-0.04444741415214937,-0.04444741415214937,-0.04444741415214937,-0.04444741415214937,-0.04444741415214937,-0.04444741415214937,-0.04444741415214937,-0.04444741415214937,-0.04444741415214937,-0.7352149199622565,-0.6968389474172505,-0.6584629748722446,-0.6200870023272387,-0.5817110297822327,-0.5433350572372267,-0.5049590846922207,-0.4665831121472148,-0.42820713960220885,-0.3898311670572029,-0.35145519451219687,-0.31307922196719096,-0.27470324942218505,-0.23632727687717914,-0.197951304332173,-0.1595753317871671,-0.12119935924216119,-0.08282338669715528,-0.7735908925072625,-0.765750701793315,-0.765750701793315,-0.765750701793315,-0.765750701793315,-0.765750701793315,-0.765750701793315,-0.765750701793315,-0.765750701793315,-0.765750701793315,-0.765750701793315,-0.765750701793315,-0.765750701793315,-0.765750701793315,-0.765750701793315,-0.765750701793315,-0.765750701793315,-0.765750701793315,-0.765750701793315,-0.765750701793315,-0.765750701793315,-0.727374729248309,-0.6889987567033031,-0.6506227841582971,-0.6122468116132912,-0.5738708390682852,-0.5354948665232793,-0.4971188939782733,-0.45874292143326734,-0.42036694888826137,-0.3819909763432554,-0.3436150037982494,-0.3052390312532435,-0.26686305870823757,-0.22848708616323166,-0.19011111361822552,-0.15173514107321961,-0.1133591685282137,-0.0749831959832078,-0.036607223438201886,-0.036607223438201886,-0.036607223438201886,-0.036607223438201886,-0.036607223438201886,-0.036607223438201886,-0.036607223438201886,-0.036607223438201886,-0.036607223438201886,-0.036607223438201886,-0.036607223438201886,-0.036607223438201886,-0.036607223438201886,-0.036607223438201886,-0.036607223438201886,-0.036607223438201886,-0.036607223438201886,-0.036607223438201886,-0.036607223438201886,-0.036607223438201886,-0.727374729248309,-0.6889987567033031,-0.6506227841582971,-0.6122468116132912,-0.5738708390682852,-0.5354948665232793,-0.4971188939782733,-0.45874292143326734,-0.42036694888826137,-0.3819909763432554,-0.3436150037982494,-0.3052390312532435,-0.26686305870823757,-0.22848708616323166,-0.19011111361822552,-0.15173514107321961,-0.1133591685282137,-0.0749831959832078,-0.765750701793315,-0.7579105110793678,-0.7579105110793678,-0.7579105110793678,-0.7579105110793678,-0.7579105110793678,-0.7579105110793678,-0.7579105110793678,-0.7579105110793678,-0.7579105110793678,-0.7579105110793678,-0.7579105110793678,-0.7579105110793678,-0.7579105110793678,-0.7579105110793678,-0.7579105110793678,-0.7579105110793678,-0.7579105110793678,-0.7579105110793678,-0.7579105110793678,-0.7579105110793678,-0.7195345385343618,-0.6811585659893558,-0.6427825934443498,-0.6044066208993439,-0.5660306483543379,-0.527654675809332,-0.48927870326432604,-0.4509027307193201,-0.4125267581743141,-0.37415078562930815,-0.3357748130843021,-0.2973988405392962,-0.2590228679942903,-0.2206468954492844,-0.18227092290427827,-0.14389495035927236,-0.10551897781426645,-0.06714300526926054,-0.028767032724254626,-0.028767032724254626,-0.028767032724254626,-0.028767032724254626,-0.028767032724254626,-0.028767032724254626,-0.028767032724254626,-0.028767032724254626,-0.028767032724254626,-0.028767032724254626,-0.028767032724254626,-0.028767032724254626,-0.028767032724254626,-0.028767032724254626,-0.028767032724254626,-0.028767032724254626,-0.028767032724254626,-0.028767032724254626,-0.028767032724254626,-0.028767032724254626,-0.7195345385343618,-0.6811585659893558,-0.6427825934443498,-0.6044066208993439,-0.5660306483543379,-0.527654675809332,-0.48927870326432604,-0.4509027307193201,-0.4125267581743141,-0.37415078562930815,-0.3357748130843021,-0.2973988405392962,-0.2590228679942903,-0.2206468954492844,-0.18227092290427827,-0.14389495035927236,-0.10551897781426645,-0.06714300526926054,-0.7579105110793678,-0.7500703203654204,-0.7500703203654204,-0.7500703203654204,-0.7500703203654204,-0.7500703203654204,-0.7500703203654204,-0.7500703203654204,-0.7500703203654204,-0.7500703203654204,-0.7500703203654204,-0.7500703203654204,-0.7500703203654204,-0.7500703203654204,-0.7500703203654204,-0.7500703203654204,-0.7500703203654204,-0.7500703203654204,-0.7500703203654204,-0.7500703203654204,-0.7500703203654204,-0.7116943478204144,-0.6733183752754084,-0.6349424027304025,-0.5965664301853966,-0.5581904576403905,-0.5198144850953846,-0.48143851255037867,-0.4430625400053727,-0.40468656746036674,-0.3663105949153608,-0.32793462237035476,-0.28955864982534885,-0.25118267728034294,-0.21280670473533703,-0.1744307321903309,-0.13605475964532499,-0.09767878710031908,-0.059302814555313166,-0.020926842010307256,-0.020926842010307256,-0.020926842010307256,-0.020926842010307256,-0.020926842010307256,-0.020926842010307256,-0.020926842010307256,-0.020926842010307256,-0.020926842010307256,-0.020926842010307256,-0.020926842010307256,-0.020926842010307256,-0.020926842010307256,-0.020926842010307256,-0.020926842010307256,-0.020926842010307256,-0.020926842010307256,-0.020926842010307256,-0.020926842010307256,-0.020926842010307256,-0.7116943478204144,-0.6733183752754084,-0.6349424027304025,-0.5965664301853966,-0.5581904576403905,-0.5198144850953846,-0.48143851255037867,-0.4430625400053727,-0.40468656746036674,-0.3663105949153608,-0.32793462237035476,-0.28955864982534885,-0.25118267728034294,-0.21280670473533703,-0.1744307321903309,-0.13605475964532499,-0.09767878710031908,-0.059302814555313166,-0.7500703203654204,-0.7422301296514731,-0.7422301296514731,-0.7422301296514731,-0.7422301296514731,-0.7422301296514731,-0.7422301296514731,-0.7422301296514731,-0.7422301296514731,-0.7422301296514731,-0.7422301296514731,-0.7422301296514731,-0.7422301296514731,-0.7422301296514731,-0.7422301296514731,-0.7422301296514731,-0.7422301296514731,-0.7422301296514731,-0.7422301296514731,-0.7422301296514731,-0.7422301296514731,-0.703854157106467,-0.665478184561461,-0.6271022120164551,-0.5887262394714492,-0.5503502669264432,-0.5119742943814373,-0.4735983218364313,-0.43522234929142534,-0.39684637674641937,-0.3584704042014134,-0.3200944316564074,-0.2817184591114015,-0.24334248656639557,-0.20496651402138966,-0.16659054147638352,-0.12821456893137761,-0.0898385963863717,-0.051462623841365795,-0.013086651296359886,-0.013086651296359886,-0.013086651296359886,-0.013086651296359886,-0.013086651296359886,-0.013086651296359886,-0.013086651296359886,-0.013086651296359886,-0.013086651296359886,-0.013086651296359886,-0.013086651296359886,-0.013086651296359886,-0.013086651296359886,-0.013086651296359886,-0.013086651296359886,-0.013086651296359886,-0.013086651296359886,-0.013086651296359886,-0.013086651296359886,-0.013086651296359886,-0.703854157106467,-0.665478184561461,-0.6271022120164551,-0.5887262394714492,-0.5503502669264432,-0.5119742943814373,-0.4735983218364313,-0.43522234929142534,-0.39684637674641937,-0.3584704042014134,-0.3200944316564074,-0.2817184591114015,-0.24334248656639557,-0.20496651402138966,-0.16659054147638352,-0.12821456893137761,-0.0898385963863717,-0.051462623841365795,-0.7422301296514731,-0.7343899389375257,-0.7343899389375257,-0.7343899389375257,-0.7343899389375257,-0.7343899389375257,-0.7343899389375257,-0.7343899389375257,-0.7343899389375257,-0.7343899389375257,-0.7343899389375257,-0.7343899389375257,-0.7343899389375257,-0.7343899389375257,-0.7343899389375257,-0.7343899389375257,-0.7343899389375257,-0.7343899389375257,-0.7343899389375257,-0.7343899389375257,-0.7343899389375257,-0.6960139663925197,-0.6576379938475136,-0.6192620213025077,-0.5808860487575018,-0.5425100762124958,-0.5041341036674899,-0.46575813112248393,-0.42738215857747797,-0.389006186032472,-0.35063021348746604,-0.31225424094246,-0.2738782683974541,-0.2355022958524482,-0.19712632330744229,-0.15875035076243615,-0.12037437821743024,-0.08199840567242433,-0.043622433127418425,-0.0052464605824125154,-0.0052464605824125154,-0.0052464605824125154,-0.0052464605824125154,-0.0052464605824125154,-0.0052464605824125154,-0.0052464605824125154,-0.0052464605824125154,-0.0052464605824125154,-0.0052464605824125154,-0.0052464605824125154,-0.0052464605824125154,-0.0052464605824125154,-0.0052464605824125154,-0.0052464605824125154,-0.0052464605824125154,-0.0052464605824125154,-0.0052464605824125154,-0.0052464605824125154,-0.0052464605824125154,-0.6960139663925197,-0.6576379938475136,-0.6192620213025077,-0.5808860487575018,-0.5425100762124958,-0.5041341036674899,-0.46575813112248393,-0.42738215857747797,-0.389006186032472,-0.35063021348746604,-0.31225424094246,-0.2738782683974541,-0.2355022958524482,-0.19712632330744229,-0.15875035076243615,-0.12037437821743024,-0.08199840567242433,-0.043622433127418425,-0.7343899389375257,-0.7265497482235783,-0.7265497482235783,-0.7265497482235783,-0.7265497482235783,-0.7265497482235783,-0.7265497482235783,-0.7265497482235783,-0.7265497482235783,-0.7265497482235783,-0.7265497482235783,-0.7265497482235783,-0.7265497482235783,-0.7265497482235783,-0.7265497482235783,-0.7265497482235783,-0.7265497482235783,-0.7265497482235783,-0.7265497482235783,-0.7265497482235783,-0.7265497482235783,-0.6881737756785723,-0.6497978031335663,-0.6114218305885604,-0.5730458580435545,-0.5346698854985484,-0.4962939129535425,-0.45791794040853656,-0.4195419678635306,-0.38116599531852463,-0.34279002277351867,-0.30441405022851264,-0.26603807768350674,-0.22766210513850083,-0.18928613259349492,-0.15091016004848878,-0.11253418750348287,-0.07415821495847696,-0.035782242413471055,-0.6881737756785723,-0.6497978031335663,-0.6114218305885604,-0.5730458580435545,-0.5346698854985484,-0.4962939129535425,-0.45791794040853656,-0.4195419678635306,-0.38116599531852463,-0.34279002277351867,-0.30441405022851264,-0.26603807768350674,-0.22766210513850083,-0.18928613259349492,-0.15091016004848878,-0.11253418750348287,-0.07415821495847696,-0.035782242413471055,-0.7265497482235783,-0.718709557509631,-0.718709557509631,-0.718709557509631,-0.718709557509631,-0.718709557509631,-0.718709557509631,-0.718709557509631,-0.718709557509631,-0.718709557509631,-0.718709557509631,-0.718709557509631,-0.718709557509631,-0.718709557509631,-0.718709557509631,-0.718709557509631,-0.718709557509631,-0.718709557509631,-0.718709557509631,-0.718709557509631,-0.718709557509631,-0.6803335849646249,-0.6419576124196189,-0.603581639874613,-0.5652056673296071,-0.5268296947846011,-0.48845372223959516,-0.4500777496945892,-0.4117017771495832,-0.37332580460457726,-0.3349498320595713,-0.2965738595145653,-0.25819788696955936,-0.21982191442455346,-0.18144594187954755,-0.1430699693345414,-0.1046939967895355,-0.0663180242445296,-0.027942051699523685,-0.6803335849646249,-0.6419576124196189,-0.603581639874613,-0.5652056673296071,-0.5268296947846011,-0.48845372223959516,-0.4500777496945892,-0.4117017771495832,-0.37332580460457726,-0.3349498320595713,-0.2965738595145653,-0.25819788696955936,-0.21982191442455346,-0.18144594187954755,-0.1430699693345414,-0.1046939967895355,-0.0663180242445296,-0.027942051699523685,-0.718709557509631,-0.7108693667956836,-0.7108693667956836,-0.7108693667956836,-0.7108693667956836,-0.7108693667956836,-0.7108693667956836,-0.7108693667956836,-0.7108693667956836,-0.7108693667956836,-0.7108693667956836,-0.7108693667956836,-0.7108693667956836,-0.7108693667956836,-0.7108693667956836,-0.7108693667956836,-0.7108693667956836,-0.7108693667956836,-0.7108693667956836,-0.7108693667956836,-0.7108693667956836,-0.6724933942506776,-0.6341174217056715,-0.5957414491606656,-0.5573654766156597,-0.5189895040706537,-0.4806135315256478,-0.4422375589806418,-0.40386158643563586,-0.3654856138906299,-0.3271096413456239,-0.2887336688006179,-0.250357696255612,-0.21198172371060608,-0.17360575116560018,-0.13522977862059404,-0.09685380607558813,-0.058477833530582224,-0.020101860985576314,-0.6724933942506776,-0.6341174217056715,-0.5957414491606656,-0.5573654766156597,-0.5189895040706537,-0.4806135315256478,-0.4422375589806418,-0.40386158643563586,-0.3654856138906299,-0.3271096413456239,-0.2887336688006179,-0.250357696255612,-0.21198172371060608,-0.17360575116560018,-0.13522977862059404,-0.09685380607558813,-0.058477833530582224,-0.020101860985576314,-0.7108693667956836,-0.7030291760817362,-0.7030291760817362,-0.7030291760817362,-0.7030291760817362,-0.7030291760817362,-0.7030291760817362,-0.7030291760817362,-0.7030291760817362,-0.7030291760817362,-0.7030291760817362,-0.7030291760817362,-0.7030291760817362,-0.7030291760817362,-0.7030291760817362,-0.7030291760817362,-0.7030291760817362,-0.7030291760817362,-0.7030291760817362,-0.7030291760817362,-0.7030291760817362,-0.6646532035367302,-0.6262772309917242,-0.5879012584467183,-0.5495252859017123,-0.5111493133567063,-0.4727733408117004,-0.43439736826669445,-0.3960213957216885,-0.3576454231766825,-0.31926945063167655,-0.28089347808667053,-0.24251750554166462,-0.20414153299665871,-0.1657655604516528,-0.12738958790664667,-0.08901361536164076,-0.050637642816634854,-0.012261670271628944,-0.6646532035367302,-0.6262772309917242,-0.5879012584467183,-0.5495252859017123,-0.5111493133567063,-0.4727733408117004,-0.43439736826669445,-0.3960213957216885,-0.3576454231766825,-0.31926945063167655,-0.28089347808667053,-0.24251750554166462,-0.20414153299665871,-0.1657655604516528,-0.12738958790664667,-0.08901361536164076,-0.050637642816634854,-0.012261670271628944,-0.7030291760817362,-0.6951889853677888,-0.6951889853677888,-0.6951889853677888,-0.6951889853677888,-0.6951889853677888,-0.6951889853677888,-0.6951889853677888,-0.6951889853677888,-0.6951889853677888,-0.6951889853677888,-0.6951889853677888,-0.6951889853677888,-0.6951889853677888,-0.6951889853677888,-0.6951889853677888,-0.6951889853677888,-0.6951889853677888,-0.6951889853677888,-0.6951889853677888,-0.6951889853677888,-0.6568130128227828,-0.6184370402777768,-0.5800610677327709,-0.541685095187765,-0.503309122642759,-0.46493315009775305,-0.4265571775527471,-0.3881812050077411,-0.34980523246273515,-0.3114292599177292,-0.27305328737272316,-0.23467731482771725,-0.19630134228271134,-0.15792536973770543,-0.1195493971926993,-0.08117342464769339,-0.04279745210268748,-0.0044214795576815735,-0.6568130128227828,-0.6184370402777768,-0.5800610677327709,-0.541685095187765,-0.503309122642759,-0.46493315009775305,-0.4265571775527471,-0.3881812050077411,-0.34980523246273515,-0.3114292599177292,-0.27305328737272316,-0.23467731482771725,-0.19630134228271134,-0.15792536973770543,-0.1195493971926993,-0.08117342464769339,-0.04279745210268748,-0.0044214795576815735,-0.6951889853677888,-0.6873487946538415,-0.6873487946538415,-0.6873487946538415,-0.6873487946538415,-0.6873487946538415,-0.6873487946538415,-0.6873487946538415,-0.6873487946538415,-0.6873487946538415,-0.6873487946538415,-0.6873487946538415,-0.6873487946538415,-0.6873487946538415,-0.6873487946538415,-0.6873487946538415,-0.6873487946538415,-0.6873487946538415,-0.6873487946538415,-0.6873487946538415,-0.6873487946538415,-0.6489728221088354,-0.6105968495638294,-0.5722208770188235,-0.5338449044738176,-0.4954689319288116,-0.4570929593838057,-0.4187169868387997,-0.38034101429379374,-0.3419650417487878,-0.3035890692037818,-0.2652130966587758,-0.22683712411376988,-0.18846115156876397,-0.15008517902375806,-0.11170920647875193,-0.07333323393374602,-0.03495726138874011,-0.6489728221088354,-0.6105968495638294,-0.5722208770188235,-0.5338449044738176,-0.4954689319288116,-0.4570929593838057,-0.4187169868387997,-0.38034101429379374,-0.3419650417487878,-0.3035890692037818,-0.2652130966587758,-0.22683712411376988,-0.18846115156876397,-0.15008517902375806,-0.11170920647875193,-0.07333323393374602,-0.03495726138874011,-0.6873487946538415,-0.6795086039398941,-0.6795086039398941,-0.6795086039398941,-0.6795086039398941,-0.6795086039398941,-0.6795086039398941,-0.6795086039398941,-0.6795086039398941,-0.6795086039398941,-0.6795086039398941,-0.6795086039398941,-0.6795086039398941,-0.6795086039398941,-0.6795086039398941,-0.6795086039398941,-0.6795086039398941,-0.6795086039398941,-0.6795086039398941,-0.6795086039398941,-0.6795086039398941,-0.6411326313948882,-0.6027566588498823,-0.5643806863048763,-0.5260047137598703,-0.4876287412148643,-0.4492527686698584,-0.41087679612485245,-0.3725008235798465,-0.3341248510348405,-0.29574887848983455,-0.25737290594482853,-0.21899693339982262,-0.18062096085481671,-0.1422449883098108,-0.10386901576480467,-0.06549304321979876,-0.027117070674792854,-0.6411326313948882,-0.6027566588498823,-0.5643806863048763,-0.5260047137598703,-0.4876287412148643,-0.4492527686698584,-0.41087679612485245,-0.3725008235798465,-0.3341248510348405,-0.29574887848983455,-0.25737290594482853,-0.21899693339982262,-0.18062096085481671,-0.1422449883098108,-0.10386901576480467,-0.06549304321979876,-0.027117070674792854,-0.6795086039398941,-0.6716684132259467,-0.6716684132259467,-0.6716684132259467,-0.6716684132259467,-0.6716684132259467,-0.6716684132259467,-0.6716684132259467,-0.6716684132259467,-0.6716684132259467,-0.6716684132259467,-0.6716684132259467,-0.6716684132259467,-0.6716684132259467,-0.6716684132259467,-0.6716684132259467,-0.6716684132259467,-0.6716684132259467,-0.6716684132259467,-0.6716684132259467,-0.6716684132259467,-0.6332924406809407,-0.5949164681359347,-0.5565404955909288,-0.5181645230459229,-0.47978855050091684,-0.44141257795591093,-0.40303660541090497,-0.364660632865899,-0.32628466032089304,-0.2879086877758871,-0.24953271523088105,-0.21115674268587514,-0.17278077014086923,-0.13440479759586332,-0.09602882505085719,-0.05765285250585128,-0.019276879960845372,-0.6332924406809407,-0.5949164681359347,-0.5565404955909288,-0.5181645230459229,-0.47978855050091684,-0.44141257795591093,-0.40303660541090497,-0.364660632865899,-0.32628466032089304,-0.2879086877758871,-0.24953271523088105,-0.21115674268587514,-0.17278077014086923,-0.13440479759586332,-0.09602882505085719,-0.05765285250585128,-0.019276879960845372,-0.6716684132259467,-0.630732480953784,-0.630732480953784,-0.630732480953784,-0.630732480953784,-0.630732480953784,-0.630732480953784,-0.630732480953784,-0.630732480953784,-0.630732480953784,-0.630732480953784,-0.630732480953784,-0.630732480953784,-0.630732480953784,-0.630732480953784,-0.630732480953784,-0.630732480953784,-0.630732480953784,-0.630732480953784,-0.630732480953784,-0.630732480953784,-0.592356508408778,-0.5539805358637719,-0.515604563318766,-0.4772285907737601,-0.4388526182287541,-0.4004766456837482,-0.3621006731387422,-0.32372470059373626,-0.2853487280487303,-0.24697275550372433,-0.2085967829587183,-0.1702208104137124,-0.1318448378687065,-0.09346886532370058,-0.05509289277869445,-0.016716920233688537,-0.592356508408778,-0.5539805358637719,-0.515604563318766,-0.4772285907737601,-0.4388526182287541,-0.4004766456837482,-0.3621006731387422,-0.32372470059373626,-0.2853487280487303,-0.24697275550372433,-0.2085967829587183,-0.1702208104137124,-0.1318448378687065,-0.09346886532370058,-0.05509289277869445,-0.016716920233688537,-0.630732480953784,-0.589796548681621,-0.589796548681621,-0.589796548681621,-0.589796548681621,-0.589796548681621,-0.589796548681621,-0.589796548681621,-0.589796548681621,-0.589796548681621,-0.589796548681621,-0.589796548681621,-0.589796548681621,-0.589796548681621,-0.589796548681621,-0.589796548681621,-0.589796548681621,-0.589796548681621,-0.589796548681621,-0.589796548681621,-0.589796548681621,-0.5514205761366151,-0.5130446035916092,-0.4746686310466032,-0.43629265850159726,-0.39791668595659124,-0.35954071341158533,-0.32116474086657937,-0.2827887683215734,-0.24441279577656744,-0.20603682323156147,-0.16766085068655545,-0.12928487814154954,-0.09090890559654363,-0.05253293305153772,-0.01415696050653159,-0.5514205761366151,-0.5130446035916092,-0.4746686310466032,-0.43629265850159726,-0.39791668595659124,-0.35954071341158533,-0.32116474086657937,-0.2827887683215734,-0.24441279577656744,-0.20603682323156147,-0.16766085068655545,-0.12928487814154954,-0.09090890559654363,-0.05253293305153772,-0.01415696050653159,-0.589796548681621,-0.5488606164094583,-0.5488606164094583,-0.5488606164094583,-0.5488606164094583,-0.5488606164094583,-0.5488606164094583,-0.5488606164094583,-0.5488606164094583,-0.5488606164094583,-0.5488606164094583,-0.5488606164094583,-0.5488606164094583,-0.5488606164094583,-0.5488606164094583,-0.5488606164094583,-0.5488606164094583,-0.5488606164094583,-0.5488606164094583,-0.5488606164094583,-0.5488606164094583,-0.5104846438644522,-0.4721086713194463,-0.4337326987744403,-0.3953567262294344,-0.3569807536844284,-0.3186047811394225,-0.2802288085944165,-0.24185283604941055,-0.20347686350440458,-0.16510089095939862,-0.1267249184143926,-0.08834894586938669,-0.049972973324380776,-0.011597000779374866,-0.5104846438644522,-0.4721086713194463,-0.4337326987744403,-0.3953567262294344,-0.3569807536844284,-0.3186047811394225,-0.2802288085944165,-0.24185283604941055,-0.20347686350440458,-0.16510089095939862,-0.1267249184143926,-0.08834894586938669,-0.049972973324380776,-0.011597000779374866,-0.5488606164094583,-0.5079246841372953,-0.5079246841372953,-0.5079246841372953,-0.5079246841372953,-0.5079246841372953,-0.5079246841372953,-0.5079246841372953,-0.5079246841372953,-0.5079246841372953,-0.5079246841372953,-0.5079246841372953,-0.5079246841372953,-0.5079246841372953,-0.5079246841372953,-0.5079246841372953,-0.5079246841372953,-0.5079246841372953,-0.5079246841372953,-0.5079246841372953,-0.5079246841372953,-0.4695487115922894,-0.4311727390472834,-0.39279676650227746,-0.35442079395727155,-0.31604482141226553,-0.2776688488672596,-0.23929287632225366,-0.2009169037772477,-0.16254093123224173,-0.12416495868723576,-0.08578898614222974,-0.04741301359722383,-0.00903704105221792,-0.4695487115922894,-0.4311727390472834,-0.39279676650227746,-0.35442079395727155,-0.31604482141226553,-0.2776688488672596,-0.23929287632225366,-0.2009169037772477,-0.16254093123224173,-0.12416495868723576,-0.08578898614222974,-0.04741301359722383,-0.00903704105221792,-0.5079246841372953,-0.4669887518651325,-0.4669887518651325,-0.4669887518651325,-0.4669887518651325,-0.4669887518651325,-0.4669887518651325,-0.4669887518651325,-0.4669887518651325,-0.4669887518651325,-0.4669887518651325,-0.4669887518651325,-0.4669887518651325,-0.4669887518651325,-0.4669887518651325,-0.4669887518651325,-0.4669887518651325,-0.4669887518651325,-0.4669887518651325,-0.4669887518651325,-0.4669887518651325,-0.42861277932012654,-0.39023680677512057,-0.3518608342301146,-0.3134848616851087,-0.2751088891401027,-0.23673291659509677,-0.1983569440500908,-0.15998097150508483,-0.12160499896007887,-0.0832290264150729,-0.044853053870066883,-0.006477081325060974,-0.42861277932012654,-0.39023680677512057,-0.3518608342301146,-0.3134848616851087,-0.2751088891401027,-0.23673291659509677,-0.1983569440500908,-0.15998097150508483,-0.12160499896007887,-0.0832290264150729,-0.044853053870066883,-0.006477081325060974,-0.4669887518651325,-0.42605281959296976,-0.42605281959296976,-0.42605281959296976,-0.42605281959296976,-0.42605281959296976,-0.42605281959296976,-0.42605281959296976,-0.42605281959296976,-0.42605281959296976,-0.42605281959296976,-0.42605281959296976,-0.42605281959296976,-0.42605281959296976,-0.42605281959296976,-0.42605281959296976,-0.42605281959296976,-0.42605281959296976,-0.42605281959296976,-0.42605281959296976,-0.42605281959296976,-0.3876768470479638,-0.3493008745029578,-0.31092490195795186,-0.27254892941294595,-0.23417295686793993,-0.19579698432293402,-0.15742101177792805,-0.11904503923292209,-0.08066906668791612,-0.04229309414291016,-0.0039171215979041385,-0.3876768470479638,-0.3493008745029578,-0.31092490195795186,-0.27254892941294595,-0.23417295686793993,-0.19579698432293402,-0.15742101177792805,-0.11904503923292209,-0.08066906668791612,-0.04229309414291016,-0.0039171215979041385,-0.42605281959296976,-0.3851168873208069,-0.3851168873208069,-0.3851168873208069,-0.3851168873208069,-0.3851168873208069,-0.3851168873208069,-0.3851168873208069,-0.3851168873208069,-0.3851168873208069,-0.3851168873208069,-0.3851168873208069,-0.3851168873208069,-0.3851168873208069,-0.3851168873208069,-0.3851168873208069,-0.3851168873208069,-0.3851168873208069,-0.3851168873208069,-0.3851168873208069,-0.3851168873208069,-0.34674091477580093,-0.30836494223079497,-0.269988969685789,-0.2316129971407831,-0.19323702459577707,-0.15486105205077116,-0.1164850795057652,-0.07810910696075923,-0.03973313441575327,-0.0013571618707473032,-0.34674091477580093,-0.30836494223079497,-0.269988969685789,-0.2316129971407831,-0.19323702459577707,-0.15486105205077116,-0.1164850795057652,-0.07810910696075923,-0.03973313441575327,-0.0013571618707473032,-0.3851168873208069,-0.34418095504864404,-0.34418095504864404,-0.34418095504864404,-0.34418095504864404,-0.34418095504864404,-0.34418095504864404,-0.34418095504864404,-0.34418095504864404,-0.34418095504864404,-0.34418095504864404,-0.34418095504864404,-0.34418095504864404,-0.34418095504864404,-0.34418095504864404,-0.34418095504864404,-0.34418095504864404,-0.34418095504864404,-0.34418095504864404,-0.34418095504864404,-0.34418095504864404,-0.3058049825036381,-0.2674290099586321,-0.22905303741362618,-0.19067706486862024,-0.15230109232361422,-0.11392511977860831,-0.07554914723360234,-0.03717317468859638,-0.3058049825036381,-0.2674290099586321,-0.22905303741362618,-0.19067706486862024,-0.15230109232361422,-0.11392511977860831,-0.07554914723360234,-0.03717317468859638,-0.34418095504864404,-0.3032450227764812,-0.3032450227764812,-0.3032450227764812,-0.3032450227764812,-0.3032450227764812,-0.3032450227764812,-0.3032450227764812,-0.3032450227764812,-0.3032450227764812,-0.3032450227764812,-0.3032450227764812,-0.3032450227764812,-0.3032450227764812,-0.3032450227764812,-0.3032450227764812,-0.3032450227764812,-0.3032450227764812,-0.3032450227764812,-0.3032450227764812,-0.3032450227764812,-0.2648690502314752,-0.22649307768646926,-0.18811710514146332,-0.14974113259645738,-0.11136516005145136,-0.07298918750644545,-0.03461321496143949,-0.2648690502314752,-0.22649307768646926,-0.18811710514146332,-0.14974113259645738,-0.11136516005145136,-0.07298918750644545,-0.03461321496143949,-0.3032450227764812,-0.2623090905043184,-0.2623090905043184,-0.2623090905043184,-0.2623090905043184,-0.2623090905043184,-0.2623090905043184,-0.2623090905043184,-0.2623090905043184,-0.2623090905043184,-0.2623090905043184,-0.2623090905043184,-0.2623090905043184,-0.2623090905043184,-0.2623090905043184,-0.2623090905043184,-0.2623090905043184,-0.2623090905043184,-0.2623090905043184,-0.2623090905043184,-0.2623090905043184,-0.22393311795931242,-0.18555714541430646,-0.14718117286930052,-0.10880520032429458,-0.07042922777928856,-0.03205325523428265,-0.22393311795931242,-0.18555714541430646,-0.14718117286930052,-0.10880520032429458,-0.07042922777928856,-0.03205325523428265,-0.2623090905043184,-0.2213731582321556,-0.2213731582321556,-0.2213731582321556,-0.2213731582321556,-0.2213731582321556,-0.2213731582321556,-0.2213731582321556,-0.2213731582321556,-0.2213731582321556,-0.2213731582321556,-0.2213731582321556,-0.2213731582321556,-0.2213731582321556,-0.2213731582321556,-0.2213731582321556,-0.2213731582321556,-0.2213731582321556,-0.2213731582321556,-0.2213731582321556,-0.2213731582321556,-0.18299718568714962,-0.14462121314214366,-0.10624524059713772,-0.06786926805213178,-0.02949329550712576,-0.18299718568714962,-0.14462121314214366,-0.10624524059713772,-0.06786926805213178,-0.02949329550712576,-0.2213731582321556,-0.18043722595999268,-0.18043722595999268,-0.18043722595999268,-0.18043722595999268,-0.18043722595999268,-0.18043722595999268,-0.18043722595999268,-0.18043722595999268,-0.18043722595999268,-0.18043722595999268,-0.18043722595999268,-0.18043722595999268,-0.18043722595999268,-0.18043722595999268,-0.18043722595999268,-0.18043722595999268,-0.18043722595999268,-0.18043722595999268,-0.18043722595999268,-0.18043722595999268,-0.1420612534149867,-0.10368528086998074,-0.06530930832497481,-0.02693333577996887,-0.1420612534149867,-0.10368528086998074,-0.06530930832497481,-0.02693333577996887,-0.18043722595999268,-0.13950129368782976,-0.13950129368782976,-0.13950129368782976,-0.13950129368782976,-0.13950129368782976,-0.13950129368782976,-0.13950129368782976,-0.13950129368782976,-0.13950129368782976,-0.13950129368782976,-0.13950129368782976,-0.13950129368782976,-0.13950129368782976,-0.13950129368782976,-0.13950129368782976,-0.13950129368782976,-0.13950129368782976,-0.13950129368782976,-0.13950129368782976,-0.13950129368782976,-0.1011253211428238,-0.06274934859781783,-0.024373376052811896,-0.1011253211428238,-0.06274934859781783,-0.024373376052811896,-0.13950129368782976,-0.09856536141566702,-0.09856536141566702,-0.09856536141566702,-0.09856536141566702,-0.09856536141566702,-0.09856536141566702,-0.09856536141566702,-0.09856536141566702,-0.09856536141566702,-0.09856536141566702,-0.09856536141566702,-0.09856536141566702,-0.09856536141566702,-0.09856536141566702,-0.09856536141566702,-0.09856536141566702,-0.09856536141566702,-0.09856536141566702,-0.09856536141566702,-0.09856536141566702,-0.060189388870661054,-0.02181341632565509,-0.060189388870661054,-0.02181341632565509,-0.09856536141566702,-0.05762942914350416,-0.05762942914350416,-0.05762942914350416,-0.05762942914350416,-0.05762942914350416,-0.05762942914350416,-0.05762942914350416,-0.05762942914350416,-0.05762942914350416,-0.05762942914350416,-0.05762942914350416,-0.05762942914350416,-0.05762942914350416,-0.05762942914350416,-0.05762942914350416,-0.05762942914350416,-0.05762942914350416,-0.05762942914350416,-0.05762942914350416,-0.05762942914350416,-0.019253456598498198,-0.019253456598498198,-0.05762942914350416,-0.016693496871341307,-0.016693496871341307,-0.016693496871341307,-0.016693496871341307,-0.016693496871341307,-0.016693496871341307,-0.016693496871341307,-0.016693496871341307,-0.016693496871341307,-0.016693496871341307,-0.016693496871341307,-0.016693496871341307,-0.016693496871341307,-0.016693496871341307,-0.016693496871341307,-0.016693496871341307,-0.016693496871341307,-0.016693496871341307,-0.016693496871341307,-0.016693496871341307,-0.016693496871341307,-0.003648370050115868,-0.003648370050115868,-0.003648370050115868,-0.003648370050115868,-0.003648370050115868,-0.003648370050115868,-0.003648370050115868,-0.003648370050115868,-0.003648370050115868,-0.003648370050115868,-0.003648370050115868,-0.003648370050115868,-0.003648370050115868,-0.003648370050115868,-0.003648370050115868,-0.003648370050115868,-0.003648370050115868,-0.003648370050115868,-0.003648370050115868,-0.003648370050115868,-0.003648370050115868,-0.011488560764063183,-0.011488560764063183,-0.011488560764063183,-0.011488560764063183,-0.011488560764063183,-0.011488560764063183,-0.011488560764063183,-0.011488560764063183,-0.011488560764063183,-0.011488560764063183,-0.011488560764063183,-0.011488560764063183,-0.011488560764063183,-0.011488560764063183,-0.011488560764063183,-0.011488560764063183,-0.011488560764063183,-0.011488560764063183,-0.011488560764063183,-0.011488560764063183,-0.011488560764063183,-0.019328751478010553,-0.019328751478010553,-0.019328751478010553,-0.019328751478010553,-0.019328751478010553,-0.019328751478010553,-0.019328751478010553,-0.019328751478010553,-0.019328751478010553,-0.019328751478010553,-0.019328751478010553,-0.019328751478010553,-0.019328751478010553,-0.019328751478010553,-0.019328751478010553,-0.019328751478010553,-0.019328751478010553,-0.019328751478010553,-0.019328751478010553,-0.019328751478010553,-0.019328751478010553,-0.02716894219195798,-0.02716894219195798,-0.02716894219195798,-0.02716894219195798,-0.02716894219195798,-0.02716894219195798,-0.02716894219195798,-0.02716894219195798,-0.02716894219195798,-0.02716894219195798,-0.02716894219195798,-0.02716894219195798,-0.02716894219195798,-0.02716894219195798,-0.02716894219195798,-0.02716894219195798,-0.02716894219195798,-0.02716894219195798,-0.02716894219195798,-0.02716894219195798,-0.02716894219195798,-0.035009132905905294,-0.035009132905905294,-0.035009132905905294,-0.035009132905905294,-0.035009132905905294,-0.035009132905905294,-0.035009132905905294,-0.035009132905905294,-0.035009132905905294,-0.035009132905905294,-0.035009132905905294,-0.035009132905905294,-0.035009132905905294,-0.035009132905905294,-0.035009132905905294,-0.035009132905905294,-0.035009132905905294,-0.035009132905905294,-0.035009132905905294,-0.035009132905905294,-0.035009132905905294,-0.04284932361985261,-0.04284932361985261,-0.04284932361985261,-0.04284932361985261,-0.04284932361985261,-0.04284932361985261,-0.04284932361985261,-0.04284932361985261,-0.04284932361985261,-0.04284932361985261,-0.04284932361985261,-0.04284932361985261,-0.04284932361985261,-0.04284932361985261,-0.04284932361985261,-0.04284932361985261,-0.04284932361985261,-0.04284932361985261,-0.04284932361985261,-0.04284932361985261,-0.004473351074846643,-0.004473351074846643,-0.04284932361985261,-0.08378525589201535,-0.08378525589201535,-0.08378525589201535,-0.08378525589201535,-0.08378525589201535,-0.08378525589201535,-0.08378525589201535,-0.08378525589201535,-0.08378525589201535,-0.08378525589201535,-0.08378525589201535,-0.08378525589201535,-0.08378525589201535,-0.08378525589201535,-0.08378525589201535,-0.08378525589201535,-0.08378525589201535,-0.08378525589201535,-0.08378525589201535,-0.08378525589201535,-0.04540928334700939,-0.007033310802003423,-0.04540928334700939,-0.007033310802003423,-0.08378525589201535,-0.12472118816417826,-0.12472118816417826,-0.12472118816417826,-0.12472118816417826,-0.12472118816417826,-0.12472118816417826,-0.12472118816417826,-0.12472118816417826,-0.12472118816417826,-0.12472118816417826,-0.12472118816417826,-0.12472118816417826,-0.12472118816417826,-0.12472118816417826,-0.12472118816417826,-0.12472118816417826,-0.12472118816417826,-0.12472118816417826,-0.12472118816417826,-0.12472118816417826,-0.0863452156191723,-0.047969243074166334,-0.009593270529160397,-0.0863452156191723,-0.047969243074166334,-0.009593270529160397,-0.12472118816417826,-0.16565712043634112,-0.16565712043634112,-0.16565712043634112,-0.16565712043634112,-0.16565712043634112,-0.16565712043634112,-0.16565712043634112,-0.16565712043634112,-0.16565712043634112,-0.16565712043634112,-0.16565712043634112,-0.16565712043634112,-0.16565712043634112,-0.16565712043634112,-0.16565712043634112,-0.16565712043634112,-0.16565712043634112,-0.16565712043634112,-0.16565712043634112,-0.16565712043634112,-0.12728114789133516,-0.08890517534632919,-0.05052920280132325,-0.012153230256317316,-0.12728114789133516,-0.08890517534632919,-0.05052920280132325,-0.012153230256317316,-0.16565712043634112,-0.20659305270850398,-0.20659305270850398,-0.20659305270850398,-0.20659305270850398,-0.20659305270850398,-0.20659305270850398,-0.20659305270850398,-0.20659305270850398,-0.20659305270850398,-0.20659305270850398,-0.20659305270850398,-0.20659305270850398,-0.20659305270850398,-0.20659305270850398,-0.20659305270850398,-0.20659305270850398,-0.20659305270850398,-0.20659305270850398,-0.20659305270850398,-0.20659305270850398,-0.168217080163498,-0.12984110761849205,-0.09146513507348611,-0.05308916252848017,-0.01471318998347415,-0.168217080163498,-0.12984110761849205,-0.09146513507348611,-0.05308916252848017,-0.01471318998347415,-0.20659305270850398,-0.24752898498066678,-0.24752898498066678,-0.24752898498066678,-0.24752898498066678,-0.24752898498066678,-0.24752898498066678,-0.24752898498066678,-0.24752898498066678,-0.24752898498066678,-0.24752898498066678,-0.24752898498066678,-0.24752898498066678,-0.24752898498066678,-0.24752898498066678,-0.24752898498066678,-0.24752898498066678,-0.24752898498066678,-0.24752898498066678,-0.24752898498066678,-0.24752898498066678,-0.2091530124356608,-0.17077703989065485,-0.1324010673456489,-0.09402509480064297,-0.05564912225563695,-0.01727314971063104,-0.2091530124356608,-0.17077703989065485,-0.1324010673456489,-0.09402509480064297,-0.05564912225563695,-0.01727314971063104,-0.24752898498066678,-0.2884649172528296,-0.2884649172528296,-0.2884649172528296,-0.2884649172528296,-0.2884649172528296,-0.2884649172528296,-0.2884649172528296,-0.2884649172528296,-0.2884649172528296,-0.2884649172528296,-0.2884649172528296,-0.2884649172528296,-0.2884649172528296,-0.2884649172528296,-0.2884649172528296,-0.2884649172528296,-0.2884649172528296,-0.2884649172528296,-0.2884649172528296,-0.2884649172528296,-0.2500889447078236,-0.21171297216281765,-0.1733369996178117,-0.13496102707280577,-0.09658505452779975,-0.05820908198279384,-0.019833109437787877,-0.2500889447078236,-0.21171297216281765,-0.1733369996178117,-0.13496102707280577,-0.09658505452779975,-0.05820908198279384,-0.019833109437787877,-0.2884649172528296,-0.32940084952499243,-0.32940084952499243,-0.32940084952499243,-0.32940084952499243,-0.32940084952499243,-0.32940084952499243,-0.32940084952499243,-0.32940084952499243,-0.32940084952499243,-0.32940084952499243,-0.32940084952499243,-0.32940084952499243,-0.32940084952499243,-0.32940084952499243,-0.32940084952499243,-0.32940084952499243,-0.32940084952499243,-0.32940084952499243,-0.32940084952499243,-0.32940084952499243,-0.29102487697998647,-0.2526489044349805,-0.21427293188997457,-0.17589695934496863,-0.1375209867999626,-0.0991450142549567,-0.06076904170995073,-0.022393069164944768,-0.29102487697998647,-0.2526489044349805,-0.21427293188997457,-0.17589695934496863,-0.1375209867999626,-0.0991450142549567,-0.06076904170995073,-0.022393069164944768,-0.32940084952499243,-0.37033678179715535,-0.37033678179715535,-0.37033678179715535,-0.37033678179715535,-0.37033678179715535,-0.37033678179715535,-0.37033678179715535,-0.37033678179715535,-0.37033678179715535,-0.37033678179715535,-0.37033678179715535,-0.37033678179715535,-0.37033678179715535,-0.37033678179715535,-0.37033678179715535,-0.37033678179715535,-0.37033678179715535,-0.37033678179715535,-0.37033678179715535,-0.37033678179715535,-0.3319608092521494,-0.2935848367071434,-0.2552088641621375,-0.21683289161713154,-0.17845691907212552,-0.1400809465271196,-0.10170497398211364,-0.06332900143710768,-0.024953028892101714,-0.3319608092521494,-0.2935848367071434,-0.2552088641621375,-0.21683289161713154,-0.17845691907212552,-0.1400809465271196,-0.10170497398211364,-0.06332900143710768,-0.024953028892101714,-0.37033678179715535,-0.41127271406931815,-0.41127271406931815,-0.41127271406931815,-0.41127271406931815,-0.41127271406931815,-0.41127271406931815,-0.41127271406931815,-0.41127271406931815,-0.41127271406931815,-0.41127271406931815,-0.41127271406931815,-0.41127271406931815,-0.41127271406931815,-0.41127271406931815,-0.41127271406931815,-0.41127271406931815,-0.41127271406931815,-0.41127271406931815,-0.41127271406931815,-0.41127271406931815,-0.3728967415243122,-0.3345207689793062,-0.29614479643430025,-0.25776882388929434,-0.21939285134428832,-0.1810168787992824,-0.14264090625427644,-0.10426493370927048,-0.06588896116426451,-0.02751298861925855,-0.3728967415243122,-0.3345207689793062,-0.29614479643430025,-0.25776882388929434,-0.21939285134428832,-0.1810168787992824,-0.14264090625427644,-0.10426493370927048,-0.06588896116426451,-0.02751298861925855,-0.41127271406931815,-0.452208646341481,-0.452208646341481,-0.452208646341481,-0.452208646341481,-0.452208646341481,-0.452208646341481,-0.452208646341481,-0.452208646341481,-0.452208646341481,-0.452208646341481,-0.452208646341481,-0.452208646341481,-0.452208646341481,-0.452208646341481,-0.452208646341481,-0.452208646341481,-0.452208646341481,-0.452208646341481,-0.452208646341481,-0.452208646341481,-0.41383267379647504,-0.37545670125146907,-0.3370807287064631,-0.2987047561614572,-0.2603287836164512,-0.22195281107144527,-0.1835768385264393,-0.14520086598143334,-0.10682489343642737,-0.0684489208914214,-0.030072948346415385,-0.41383267379647504,-0.37545670125146907,-0.3370807287064631,-0.2987047561614572,-0.2603287836164512,-0.22195281107144527,-0.1835768385264393,-0.14520086598143334,-0.10682489343642737,-0.0684489208914214,-0.030072948346415385,-0.452208646341481,-0.49314457861364386,-0.49314457861364386,-0.49314457861364386,-0.49314457861364386,-0.49314457861364386,-0.49314457861364386,-0.49314457861364386,-0.49314457861364386,-0.49314457861364386,-0.49314457861364386,-0.49314457861364386,-0.49314457861364386,-0.49314457861364386,-0.49314457861364386,-0.49314457861364386,-0.49314457861364386,-0.49314457861364386,-0.49314457861364386,-0.49314457861364386,-0.49314457861364386,-0.4547686060686379,-0.4163926335236319,-0.37801666097862596,-0.33964068843362005,-0.30126471588861403,-0.2628887433436081,-0.22451277079860216,-0.1861367982535962,-0.14776082570859023,-0.10938485316358426,-0.07100888061857824,-0.03263290807357233,-0.4547686060686379,-0.4163926335236319,-0.37801666097862596,-0.33964068843362005,-0.30126471588861403,-0.2628887433436081,-0.22451277079860216,-0.1861367982535962,-0.14776082570859023,-0.10938485316358426,-0.07100888061857824,-0.03263290807357233,-0.49314457861364386,-0.5340805108858067,-0.5340805108858067,-0.5340805108858067,-0.5340805108858067,-0.5340805108858067,-0.5340805108858067,-0.5340805108858067,-0.5340805108858067,-0.5340805108858067,-0.5340805108858067,-0.5340805108858067,-0.5340805108858067,-0.5340805108858067,-0.5340805108858067,-0.5340805108858067,-0.5340805108858067,-0.5340805108858067,-0.5340805108858067,-0.5340805108858067,-0.5340805108858067,-0.49570453834080064,-0.4573285657957947,-0.4189525932507887,-0.3805766207057828,-0.3422006481607768,-0.30382467561577087,-0.2654487030707649,-0.22707273052575894,-0.18869675798075297,-0.150320785435747,-0.11194481289074099,-0.07356884034573508,-0.035192867800729166,-0.49570453834080064,-0.4573285657957947,-0.4189525932507887,-0.3805766207057828,-0.3422006481607768,-0.30382467561577087,-0.2654487030707649,-0.22707273052575894,-0.18869675798075297,-0.150320785435747,-0.11194481289074099,-0.07356884034573508,-0.035192867800729166,-0.5340805108858067,-0.5750164431579696,-0.5750164431579696,-0.5750164431579696,-0.5750164431579696,-0.5750164431579696,-0.5750164431579696,-0.5750164431579696,-0.5750164431579696,-0.5750164431579696,-0.5750164431579696,-0.5750164431579696,-0.5750164431579696,-0.5750164431579696,-0.5750164431579696,-0.5750164431579696,-0.5750164431579696,-0.5750164431579696,-0.5750164431579696,-0.5750164431579696,-0.5750164431579696,-0.5366404706129636,-0.49826449806795764,-0.4598885255229517,-0.42151255297794576,-0.38313658043293974,-0.34476060788793383,-0.30638463534292787,-0.2680086627979219,-0.22963269025291594,-0.19125671770790997,-0.15288074516290395,-0.11450477261789804,-0.07612880007289213,-0.037752827527886224,-0.5366404706129636,-0.49826449806795764,-0.4598885255229517,-0.42151255297794576,-0.38313658043293974,-0.34476060788793383,-0.30638463534292787,-0.2680086627979219,-0.22963269025291594,-0.19125671770790997,-0.15288074516290395,-0.11450477261789804,-0.07612880007289213,-0.037752827527886224,-0.5750164431579696,-0.6159523754301324,-0.6159523754301324,-0.6159523754301324,-0.6159523754301324,-0.6159523754301324,-0.6159523754301324,-0.6159523754301324,-0.6159523754301324,-0.6159523754301324,-0.6159523754301324,-0.6159523754301324,-0.6159523754301324,-0.6159523754301324,-0.6159523754301324,-0.6159523754301324,-0.6159523754301324,-0.6159523754301324,-0.6159523754301324,-0.6159523754301324,-0.6159523754301324,-0.5775764028851263,-0.5392004303401203,-0.5008244577951144,-0.4624484852501085,-0.4240725127051025,-0.3856965401600966,-0.3473205676150906,-0.30894459507008465,-0.2705686225250787,-0.23219264998007272,-0.1938166774350667,-0.1554407048900608,-0.11706473234505488,-0.07868875980004897,-0.04031278725504284,-0.001936814710036927,-0.5775764028851263,-0.5392004303401203,-0.5008244577951144,-0.4624484852501085,-0.4240725127051025,-0.3856965401600966,-0.3473205676150906,-0.30894459507008465,-0.2705686225250787,-0.23219264998007272,-0.1938166774350667,-0.1554407048900608,-0.11706473234505488,-0.07868875980004897,-0.04031278725504284,-0.001936814710036927,-0.6159523754301324,-0.6568883077022951,-0.6568883077022951,-0.6568883077022951,-0.6568883077022951,-0.6568883077022951,-0.6568883077022951,-0.6568883077022951,-0.6568883077022951,-0.6568883077022951,-0.6568883077022951,-0.6568883077022951,-0.6568883077022951,-0.6568883077022951,-0.6568883077022951,-0.6568883077022951,-0.6568883077022951,-0.6568883077022951,-0.6568883077022951,-0.6568883077022951,-0.6568883077022951,-0.6185123351572892,-0.5801363626122833,-0.5417603900672773,-0.5033844175222714,-0.46500844497726534,-0.42663247243225944,-0.38825649988725347,-0.3498805273422475,-0.31150455479724154,-0.2731285822522356,-0.23475260970722955,-0.19637663716222364,-0.15800066461721773,-0.11962469207221182,-0.08124871952720569,-0.04287274698219978,-0.004496774437193873,-0.6185123351572892,-0.5801363626122833,-0.5417603900672773,-0.5033844175222714,-0.46500844497726534,-0.42663247243225944,-0.38825649988725347,-0.3498805273422475,-0.31150455479724154,-0.2731285822522356,-0.23475260970722955,-0.19637663716222364,-0.15800066461721773,-0.11962469207221182,-0.08124871952720569,-0.04287274698219978,-0.004496774437193873,-0.6568883077022951,-0.6978242399744581,-0.6978242399744581,-0.6978242399744581,-0.6978242399744581,-0.6978242399744581,-0.6978242399744581,-0.6978242399744581,-0.6978242399744581,-0.6978242399744581,-0.6978242399744581,-0.6978242399744581,-0.6978242399744581,-0.6978242399744581,-0.6978242399744581,-0.6978242399744581,-0.6978242399744581,-0.6978242399744581,-0.6978242399744581,-0.6978242399744581,-0.6978242399744581,-0.6594482674294521,-0.621072294884446,-0.5826963223394401,-0.5443203497944342,-0.5059443772494282,-0.4675684047044223,-0.4291924321594163,-0.39081645961441036,-0.3524404870694044,-0.31406451452439843,-0.2756885419793924,-0.2373125694343865,-0.1989365968893806,-0.16056062434437468,-0.12218465179936855,-0.08380867925436264,-0.04543270670935673,-0.00705673416435082,-0.6594482674294521,-0.621072294884446,-0.5826963223394401,-0.5443203497944342,-0.5059443772494282,-0.4675684047044223,-0.4291924321594163,-0.39081645961441036,-0.3524404870694044,-0.31406451452439843,-0.2756885419793924,-0.2373125694343865,-0.1989365968893806,-0.16056062434437468,-0.12218465179936855,-0.08380867925436264,-0.04543270670935673,-0.00705673416435082,-0.6978242399744581,-0.7387601722466208,-0.7387601722466208,-0.7387601722466208,-0.7387601722466208,-0.7387601722466208,-0.7387601722466208,-0.7387601722466208,-0.7387601722466208,-0.7387601722466208,-0.7387601722466208,-0.7387601722466208,-0.7387601722466208,-0.7387601722466208,-0.7387601722466208,-0.7387601722466208,-0.7387601722466208,-0.7387601722466208,-0.7387601722466208,-0.7387601722466208,-0.7387601722466208,-0.7003841997016148,-0.6620082271566088,-0.6236322546116029,-0.585256282066597,-0.546880309521591,-0.508504336976585,-0.47012836443157907,-0.4317523918865731,-0.39337641934156714,-0.3550004467965612,-0.31662447425155515,-0.27824850170654924,-0.23987252916154334,-0.20149655661653743,-0.1631205840715313,-0.12474461152652538,-0.08636863898151947,-0.047992666436513565,-0.009616693891507655,-0.009616693891507655,-0.009616693891507655,-0.009616693891507655,-0.009616693891507655,-0.009616693891507655,-0.009616693891507655,-0.009616693891507655,-0.009616693891507655,-0.009616693891507655,-0.009616693891507655,-0.009616693891507655,-0.009616693891507655,-0.009616693891507655,-0.009616693891507655,-0.009616693891507655,-0.009616693891507655,-0.009616693891507655,-0.009616693891507655,-0.009616693891507655,-0.7003841997016148,-0.6620082271566088,-0.6236322546116029,-0.585256282066597,-0.546880309521591,-0.508504336976585,-0.47012836443157907,-0.4317523918865731,-0.39337641934156714,-0.3550004467965612,-0.31662447425155515,-0.27824850170654924,-0.23987252916154334,-0.20149655661653743,-0.1631205840715313,-0.12474461152652538,-0.08636863898151947,-0.047992666436513565,-0.7387601722466208,-0.7796961045187838,-0.7796961045187838,-0.7796961045187838,-0.7796961045187838,-0.7796961045187838,-0.7796961045187838,-0.7796961045187838,-0.7796961045187838,-0.7796961045187838,-0.7796961045187838,-0.7796961045187838,-0.7796961045187838,-0.7796961045187838,-0.7796961045187838,-0.7796961045187838,-0.7796961045187838,-0.7796961045187838,-0.7796961045187838,-0.7796961045187838,-0.7796961045187838,-0.7413201319737778,-0.7029441594287718,-0.6645681868837658,-0.6261922143387599,-0.5878162417937539,-0.549440269248748,-0.511064296703742,-0.4726883241587361,-0.4343123516137301,-0.39593637906872414,-0.3575604065237181,-0.3191844339787122,-0.2808084614337063,-0.2424324888887004,-0.20405651634369426,-0.16568054379868835,-0.12730457125368244,-0.08892859870867653,-0.05055262616367062,-0.05055262616367062,-0.05055262616367062,-0.05055262616367062,-0.05055262616367062,-0.05055262616367062,-0.05055262616367062,-0.05055262616367062,-0.05055262616367062,-0.05055262616367062,-0.05055262616367062,-0.05055262616367062,-0.05055262616367062,-0.05055262616367062,-0.05055262616367062,-0.05055262616367062,-0.05055262616367062,-0.05055262616367062,-0.05055262616367062,-0.05055262616367062,-0.7413201319737778,-0.7029441594287718,-0.6645681868837658,-0.6261922143387599,-0.5878162417937539,-0.549440269248748,-0.511064296703742,-0.4726883241587361,-0.4343123516137301,-0.39593637906872414,-0.3575604065237181,-0.3191844339787122,-0.2808084614337063,-0.2424324888887004,-0.20405651634369426,-0.16568054379868835,-0.12730457125368244,-0.08892859870867653,-0.7796961045187838,-0.8206320367909465,-0.8206320367909465,-0.8206320367909465,-0.8206320367909465,-0.8206320367909465,-0.8206320367909465,-0.8206320367909465,-0.8206320367909465,-0.8206320367909465,-0.8206320367909465,-0.8206320367909465,-0.8206320367909465,-0.8206320367909465,-0.8206320367909465,-0.8206320367909465,-0.8206320367909465,-0.8206320367909465,-0.8206320367909465,-0.8206320367909465,-0.8206320367909465,-0.7822560642459405,-0.7438800917009345,-0.7055041191559286,-0.6671281466109227,-0.6287521740659167,-0.5903762015209107,-0.5520002289759047,-0.5136242564308988,-0.47524828388589285,-0.4368723113408869,-0.39849633879588087,-0.36012036625087496,-0.32174439370586905,-0.28336842116086314,-0.244992448615857,-0.2066164760708511,-0.1682405035258452,-0.12986453098083928,-0.09148855843583337,-0.09148855843583337,-0.09148855843583337,-0.09148855843583337,-0.09148855843583337,-0.09148855843583337,-0.09148855843583337,-0.09148855843583337,-0.09148855843583337,-0.09148855843583337,-0.09148855843583337,-0.09148855843583337,-0.09148855843583337,-0.09148855843583337,-0.09148855843583337,-0.09148855843583337,-0.09148855843583337,-0.09148855843583337,-0.09148855843583337,-0.09148855843583337,-0.7822560642459405,-0.7438800917009345,-0.7055041191559286,-0.6671281466109227,-0.6287521740659167,-0.5903762015209107,-0.5520002289759047,-0.5136242564308988,-0.47524828388589285,-0.4368723113408869,-0.39849633879588087,-0.36012036625087496,-0.32174439370586905,-0.28336842116086314,-0.244992448615857,-0.2066164760708511,-0.1682405035258452,-0.12986453098083928,-0.8206320367909465],\"y\":[-0.0184057454633052,-0.0184057454633052,-0.0184057454633052,-0.0184057454633052,-0.0184057454633052,-0.0184057454633052,-0.0184057454633052,-0.0184057454633052,-0.0184057454633052,-0.0184057454633052,-0.0184057454633052,-0.0184057454633052,-0.0184057454633052,-0.0184057454633052,-0.0184057454633052,-0.0184057454633052,-0.0184057454633052,-0.0184057454633052,-0.0184057454633052,-0.0184057454633052,-0.0184057454633052,-0.002930287534541387,-0.002930287534541387,-0.002930287534541387,-0.002930287534541387,-0.002930287534541387,-0.002930287534541387,-0.002930287534541387,-0.002930287534541387,-0.002930287534541387,-0.002930287534541387,-0.002930287534541387,-0.002930287534541387,-0.002930287534541387,-0.002930287534541387,-0.002930287534541387,-0.002930287534541387,-0.002930287534541387,-0.002930287534541387,-0.002930287534541387,-0.002930287534541387,-0.002930287534541387,-0.03992695351417336,-0.03992695351417336,-0.03992695351417336,-0.03992695351417336,-0.03992695351417336,-0.03992695351417336,-0.03992695351417336,-0.03992695351417336,-0.03992695351417336,-0.03992695351417336,-0.03992695351417336,-0.03992695351417336,-0.03992695351417336,-0.03992695351417336,-0.03992695351417336,-0.03992695351417336,-0.03992695351417336,-0.03992695351417336,-0.03992695351417336,-0.03992695351417336,-0.03992695351417336,-0.09251943829707027,-0.04709474747270345,-0.0016700566483366375,-0.0016700566483366375,-0.04709474747270345,-0.09251943829707027,-0.09251943829707027,-0.09251943829707027,-0.09251943829707027,-0.09251943829707027,-0.09251943829707027,-0.09251943829707027,-0.09251943829707027,-0.09251943829707027,-0.09251943829707027,-0.09251943829707027,-0.09251943829707027,-0.09251943829707027,-0.09251943829707027,-0.09251943829707027,-0.09251943829707027,-0.09251943829707027,-0.09251943829707027,-0.09251943829707027,-0.09251943829707027,-0.14511192307996712,-0.0996872322556003,-0.05426254143123349,-0.008837850606866676,-0.008837850606866676,-0.05426254143123349,-0.0996872322556003,-0.14511192307996712,-0.14511192307996712,-0.14511192307996712,-0.14511192307996712,-0.14511192307996712,-0.14511192307996712,-0.14511192307996712,-0.14511192307996712,-0.14511192307996712,-0.14511192307996712,-0.14511192307996712,-0.14511192307996712,-0.14511192307996712,-0.14511192307996712,-0.14511192307996712,-0.14511192307996712,-0.14511192307996712,-0.14511192307996712,-0.14511192307996712,-0.14511192307996712,-0.1977044078628641,-0.1522797170384973,-0.10685502621413048,-0.06143033538976367,-0.016005644565396854,-0.016005644565396854,-0.06143033538976367,-0.10685502621413048,-0.1522797170384973,-0.1977044078628641,-0.1977044078628641,-0.1977044078628641,-0.1977044078628641,-0.1977044078628641,-0.1977044078628641,-0.1977044078628641,-0.1977044078628641,-0.1977044078628641,-0.1977044078628641,-0.1977044078628641,-0.1977044078628641,-0.1977044078628641,-0.1977044078628641,-0.1977044078628641,-0.1977044078628641,-0.1977044078628641,-0.1977044078628641,-0.1977044078628641,-0.1977044078628641,-0.2502968926457609,-0.20487220182139407,-0.15944751099702725,-0.11402282017266044,-0.06859812934829362,-0.023173438523926837,-0.023173438523926837,-0.06859812934829362,-0.11402282017266044,-0.15944751099702725,-0.20487220182139407,-0.2502968926457609,-0.2502968926457609,-0.2502968926457609,-0.2502968926457609,-0.2502968926457609,-0.2502968926457609,-0.2502968926457609,-0.2502968926457609,-0.2502968926457609,-0.2502968926457609,-0.2502968926457609,-0.2502968926457609,-0.2502968926457609,-0.2502968926457609,-0.2502968926457609,-0.2502968926457609,-0.2502968926457609,-0.2502968926457609,-0.2502968926457609,-0.2502968926457609,-0.30288937742865774,-0.2574646866042909,-0.2120399957799241,-0.1666153049555573,-0.12119061413119048,-0.07576592330682369,-0.030341232482456848,-0.030341232482456848,-0.07576592330682369,-0.12119061413119048,-0.1666153049555573,-0.2120399957799241,-0.2574646866042909,-0.30288937742865774,-0.30288937742865774,-0.30288937742865774,-0.30288937742865774,-0.30288937742865774,-0.30288937742865774,-0.30288937742865774,-0.30288937742865774,-0.30288937742865774,-0.30288937742865774,-0.30288937742865774,-0.30288937742865774,-0.30288937742865774,-0.30288937742865774,-0.30288937742865774,-0.30288937742865774,-0.30288937742865774,-0.30288937742865774,-0.30288937742865774,-0.30288937742865774,-0.3554818622115547,-0.3100571713871879,-0.26463248056282107,-0.21920778973845426,-0.17378309891408744,-0.12835840808972065,-0.08293371726535381,-0.037509026440987026,-0.037509026440987026,-0.08293371726535381,-0.12835840808972065,-0.17378309891408744,-0.21920778973845426,-0.26463248056282107,-0.3100571713871879,-0.3554818622115547,-0.3554818622115547,-0.3554818622115547,-0.3554818622115547,-0.3554818622115547,-0.3554818622115547,-0.3554818622115547,-0.3554818622115547,-0.3554818622115547,-0.3554818622115547,-0.3554818622115547,-0.3554818622115547,-0.3554818622115547,-0.3554818622115547,-0.3554818622115547,-0.3554818622115547,-0.3554818622115547,-0.3554818622115547,-0.3554818622115547,-0.3554818622115547,-0.4080743469944516,-0.3626496561700848,-0.317224965345718,-0.27180027452135114,-0.22637558369698435,-0.18095089287261756,-0.13552620204825072,-0.09010151122388393,-0.04467682039951709,-0.04467682039951709,-0.09010151122388393,-0.13552620204825072,-0.18095089287261756,-0.22637558369698435,-0.27180027452135114,-0.317224965345718,-0.3626496561700848,-0.4080743469944516,-0.4080743469944516,-0.4080743469944516,-0.4080743469944516,-0.4080743469944516,-0.4080743469944516,-0.4080743469944516,-0.4080743469944516,-0.4080743469944516,-0.4080743469944516,-0.4080743469944516,-0.4080743469944516,-0.4080743469944516,-0.4080743469944516,-0.4080743469944516,-0.4080743469944516,-0.4080743469944516,-0.4080743469944516,-0.4080743469944516,-0.4080743469944516,-0.4606668317773484,-0.4152421409529816,-0.3698174501286148,-0.32439275930424794,-0.27896806847988115,-0.23354337765551436,-0.18811868683114752,-0.14269399600678073,-0.09726930518241389,-0.05184461435804705,-0.006419923533680261,-0.006419923533680261,-0.05184461435804705,-0.09726930518241389,-0.14269399600678073,-0.18811868683114752,-0.23354337765551436,-0.27896806847988115,-0.32439275930424794,-0.3698174501286148,-0.4152421409529816,-0.4606668317773484,-0.4606668317773484,-0.4606668317773484,-0.4606668317773484,-0.4606668317773484,-0.4606668317773484,-0.4606668317773484,-0.4606668317773484,-0.4606668317773484,-0.4606668317773484,-0.4606668317773484,-0.4606668317773484,-0.4606668317773484,-0.4606668317773484,-0.4606668317773484,-0.4606668317773484,-0.4606668317773484,-0.4606668317773484,-0.4606668317773484,-0.4606668317773484,-0.5132593165602453,-0.46783462573587853,-0.4224099349115117,-0.37698524408714484,-0.33156055326277806,-0.28613586243841127,-0.24071117161404443,-0.19528648078967764,-0.1498617899653108,-0.10443709914094396,-0.05901240831657717,-0.013587717492210438,-0.013587717492210438,-0.05901240831657717,-0.10443709914094396,-0.1498617899653108,-0.19528648078967764,-0.24071117161404443,-0.28613586243841127,-0.33156055326277806,-0.37698524408714484,-0.4224099349115117,-0.46783462573587853,-0.5132593165602453,-0.5132593165602453,-0.5132593165602453,-0.5132593165602453,-0.5132593165602453,-0.5132593165602453,-0.5132593165602453,-0.5132593165602453,-0.5132593165602453,-0.5132593165602453,-0.5132593165602453,-0.5132593165602453,-0.5132593165602453,-0.5132593165602453,-0.5132593165602453,-0.5132593165602453,-0.5132593165602453,-0.5132593165602453,-0.5132593165602453,-0.5132593165602453,-0.5658518013431422,-0.5204271105187754,-0.4750024196944086,-0.42957772887004175,-0.38415303804567497,-0.3387283472213082,-0.29330365639694134,-0.24787896557257455,-0.2024542747482077,-0.15702958392384087,-0.11160489309947408,-0.06618020227510735,-0.020755511450740394,-0.020755511450740394,-0.06618020227510735,-0.11160489309947408,-0.15702958392384087,-0.2024542747482077,-0.24787896557257455,-0.29330365639694134,-0.3387283472213082,-0.38415303804567497,-0.42957772887004175,-0.4750024196944086,-0.5204271105187754,-0.5658518013431422,-0.5658518013431422,-0.5658518013431422,-0.5658518013431422,-0.5658518013431422,-0.5658518013431422,-0.5658518013431422,-0.5658518013431422,-0.5658518013431422,-0.5658518013431422,-0.5658518013431422,-0.5658518013431422,-0.5658518013431422,-0.5658518013431422,-0.5658518013431422,-0.5658518013431422,-0.5658518013431422,-0.5658518013431422,-0.5658518013431422,-0.5658518013431422,-0.6184442861260391,-0.5730195953016723,-0.5275949044773055,-0.48217021365293866,-0.4367455228285719,-0.3913208320042051,-0.34589614117983825,-0.30047145035547146,-0.2550467595311046,-0.20962206870673777,-0.164197377882371,-0.11877268705800426,-0.0733479962336373,-0.02792330540927057,-0.02792330540927057,-0.0733479962336373,-0.11877268705800426,-0.164197377882371,-0.20962206870673777,-0.2550467595311046,-0.30047145035547146,-0.34589614117983825,-0.3913208320042051,-0.4367455228285719,-0.48217021365293866,-0.5275949044773055,-0.5730195953016723,-0.6184442861260391,-0.6184442861260391,-0.6184442861260391,-0.6184442861260391,-0.6184442861260391,-0.6184442861260391,-0.6184442861260391,-0.6184442861260391,-0.6184442861260391,-0.6184442861260391,-0.6184442861260391,-0.6184442861260391,-0.6184442861260391,-0.6184442861260391,-0.6184442861260391,-0.6184442861260391,-0.6184442861260391,-0.6184442861260391,-0.6184442861260391,-0.6184442861260391,-0.671036770908936,-0.6256120800845693,-0.5801873892602024,-0.5347626984358356,-0.4893380076114688,-0.443913316787102,-0.39848862596273515,-0.35306393513836837,-0.3076392443140015,-0.2622145534896347,-0.2167898626652679,-0.17136517184090116,-0.1259404810165342,-0.08051579019216748,-0.03509109936780075,-0.03509109936780075,-0.08051579019216748,-0.1259404810165342,-0.17136517184090116,-0.2167898626652679,-0.2622145534896347,-0.3076392443140015,-0.35306393513836837,-0.39848862596273515,-0.443913316787102,-0.4893380076114688,-0.5347626984358356,-0.5801873892602024,-0.6256120800845693,-0.671036770908936,-0.671036770908936,-0.671036770908936,-0.671036770908936,-0.671036770908936,-0.671036770908936,-0.671036770908936,-0.671036770908936,-0.671036770908936,-0.671036770908936,-0.671036770908936,-0.671036770908936,-0.671036770908936,-0.671036770908936,-0.671036770908936,-0.671036770908936,-0.671036770908936,-0.671036770908936,-0.671036770908936,-0.671036770908936,-0.7236292556918329,-0.678204564867466,-0.6327798740430992,-0.5873551832187324,-0.5419304923943655,-0.4965058015699988,-0.45108111074563195,-0.40565641992126517,-0.3602317290968983,-0.3148070382725315,-0.2693823474481647,-0.22395765662379796,-0.178532965799431,-0.13310827497506428,-0.08768358415069755,-0.04225889332633059,-0.04225889332633059,-0.08768358415069755,-0.13310827497506428,-0.178532965799431,-0.22395765662379796,-0.2693823474481647,-0.3148070382725315,-0.3602317290968983,-0.40565641992126517,-0.45108111074563195,-0.4965058015699988,-0.5419304923943655,-0.5873551832187324,-0.6327798740430992,-0.678204564867466,-0.7236292556918329,-0.7236292556918329,-0.7236292556918329,-0.7236292556918329,-0.7236292556918329,-0.7236292556918329,-0.7236292556918329,-0.7236292556918329,-0.7236292556918329,-0.7236292556918329,-0.7236292556918329,-0.7236292556918329,-0.7236292556918329,-0.7236292556918329,-0.7236292556918329,-0.7236292556918329,-0.7236292556918329,-0.7236292556918329,-0.7236292556918329,-0.7236292556918329,-0.7391047136205968,-0.69368002279623,-0.6482553319718631,-0.6028306411474963,-0.5574059503231295,-0.5119812594987627,-0.4665565686743959,-0.4211318778500291,-0.37570718702566225,-0.3302824962012954,-0.2848578053769286,-0.2394331145525619,-0.19400842372819493,-0.1485837329038282,-0.10315904207946147,-0.05773435125509452,-0.012309660430727787,-0.012309660430727787,-0.05773435125509452,-0.10315904207946147,-0.1485837329038282,-0.19400842372819493,-0.2394331145525619,-0.2848578053769286,-0.3302824962012954,-0.37570718702566225,-0.4211318778500291,-0.4665565686743959,-0.5119812594987627,-0.5574059503231295,-0.6028306411474963,-0.6482553319718631,-0.69368002279623,-0.7391047136205968,-0.7391047136205968,-0.7391047136205968,-0.7391047136205968,-0.7391047136205968,-0.7391047136205968,-0.7391047136205968,-0.7391047136205968,-0.7391047136205968,-0.7391047136205968,-0.7391047136205968,-0.7391047136205968,-0.7391047136205968,-0.7391047136205968,-0.7391047136205968,-0.7391047136205968,-0.7391047136205968,-0.7391047136205968,-0.7391047136205968,-0.7391047136205968,-0.7545801715493605,-0.7091554807249938,-0.663730789900627,-0.6183060990762601,-0.5728814082518934,-0.5274567174275265,-0.4820320266031597,-0.4366073357787929,-0.39118264495442606,-0.3457579541300592,-0.30033326330569243,-0.2549085724813257,-0.20948388165695875,-0.16405919083259202,-0.11863450000822529,-0.07320980918385833,-0.0277851183594916,-0.0277851183594916,-0.07320980918385833,-0.11863450000822529,-0.16405919083259202,-0.20948388165695875,-0.2549085724813257,-0.30033326330569243,-0.3457579541300592,-0.39118264495442606,-0.4366073357787929,-0.4820320266031597,-0.5274567174275265,-0.5728814082518934,-0.6183060990762601,-0.663730789900627,-0.7091554807249938,-0.7545801715493605,-0.7545801715493605,-0.7545801715493605,-0.7545801715493605,-0.7545801715493605,-0.7545801715493605,-0.7545801715493605,-0.7545801715493605,-0.7545801715493605,-0.7545801715493605,-0.7545801715493605,-0.7545801715493605,-0.7545801715493605,-0.7545801715493605,-0.7545801715493605,-0.7545801715493605,-0.7545801715493605,-0.7545801715493605,-0.7545801715493605,-0.7545801715493605,-0.7700556294781244,-0.7246309386537576,-0.6792062478293908,-0.6337815570050239,-0.5883568661806571,-0.5429321753562903,-0.4975074845319235,-0.4520827937075567,-0.4066581028831899,-0.36123341205882303,-0.31580872123445625,-0.2703840304100895,-0.22495933958572256,-0.17953464876135583,-0.1341099579369891,-0.08868526711262215,-0.043260576288255415,-0.043260576288255415,-0.08868526711262215,-0.1341099579369891,-0.17953464876135583,-0.22495933958572256,-0.2703840304100895,-0.31580872123445625,-0.36123341205882303,-0.4066581028831899,-0.4520827937075567,-0.4975074845319235,-0.5429321753562903,-0.5883568661806571,-0.6337815570050239,-0.6792062478293908,-0.7246309386537576,-0.7700556294781244,-0.7700556294781244,-0.7700556294781244,-0.7700556294781244,-0.7700556294781244,-0.7700556294781244,-0.7700556294781244,-0.7700556294781244,-0.7700556294781244,-0.7700556294781244,-0.7700556294781244,-0.7700556294781244,-0.7700556294781244,-0.7700556294781244,-0.7700556294781244,-0.7700556294781244,-0.7700556294781244,-0.7700556294781244,-0.7700556294781244,-0.7700556294781244,-0.7855310874068884,-0.7401063965825215,-0.6946817057581547,-0.6492570149337878,-0.603832324109421,-0.5584076332850543,-0.5129829424606874,-0.46755825163632064,-0.4221335608119538,-0.37670886998758696,-0.33128417916322017,-0.28585948833885344,-0.2404347975144865,-0.19501010669011976,-0.14958541586575302,-0.10416072504138607,-0.05873603421701934,-0.013311343392652386,-0.013311343392652386,-0.05873603421701934,-0.10416072504138607,-0.14958541586575302,-0.19501010669011976,-0.2404347975144865,-0.28585948833885344,-0.33128417916322017,-0.37670886998758696,-0.4221335608119538,-0.46755825163632064,-0.5129829424606874,-0.5584076332850543,-0.603832324109421,-0.6492570149337878,-0.6946817057581547,-0.7401063965825215,-0.7855310874068884,-0.7855310874068884,-0.7855310874068884,-0.7855310874068884,-0.7855310874068884,-0.7855310874068884,-0.7855310874068884,-0.7855310874068884,-0.7855310874068884,-0.7855310874068884,-0.7855310874068884,-0.7855310874068884,-0.7855310874068884,-0.7855310874068884,-0.7855310874068884,-0.7855310874068884,-0.7855310874068884,-0.7855310874068884,-0.7855310874068884,-0.7855310874068884,-0.8010065453356521,-0.7555818545112852,-0.7101571636869184,-0.6647324728625515,-0.6193077820381847,-0.573883091213818,-0.5284584003894511,-0.48303370956508435,-0.4376090187407175,-0.39218432791635066,-0.3467596370919839,-0.30133494626761714,-0.2559102554432502,-0.21048556461888346,-0.16506087379451673,-0.11963618297014977,-0.07421149214578304,-0.02878680132141609,-0.02878680132141609,-0.07421149214578304,-0.11963618297014977,-0.16506087379451673,-0.21048556461888346,-0.2559102554432502,-0.30133494626761714,-0.3467596370919839,-0.39218432791635066,-0.4376090187407175,-0.48303370956508435,-0.5284584003894511,-0.573883091213818,-0.6193077820381847,-0.6647324728625515,-0.7101571636869184,-0.7555818545112852,-0.8010065453356521,-0.8010065453356521,-0.8010065453356521,-0.8010065453356521,-0.8010065453356521,-0.8010065453356521,-0.8010065453356521,-0.8010065453356521,-0.8010065453356521,-0.8010065453356521,-0.8010065453356521,-0.8010065453356521,-0.8010065453356521,-0.8010065453356521,-0.8010065453356521,-0.8010065453356521,-0.8010065453356521,-0.8010065453356521,-0.8010065453356521,-0.8010065453356521,-0.816482003264416,-0.7710573124400492,-0.7256326216156823,-0.6802079307913155,-0.6347832399669486,-0.5893585491425819,-0.5439338583182151,-0.49850916749384827,-0.45308447666948143,-0.4076597858451146,-0.3622350950207478,-0.31681040419638107,-0.2713857133720141,-0.22596102254764738,-0.18053633172328065,-0.1351116408989137,-0.08968695007454697,-0.044262259250180014,-0.044262259250180014,-0.08968695007454697,-0.1351116408989137,-0.18053633172328065,-0.22596102254764738,-0.2713857133720141,-0.31681040419638107,-0.3622350950207478,-0.4076597858451146,-0.45308447666948143,-0.49850916749384827,-0.5439338583182151,-0.5893585491425819,-0.6347832399669486,-0.6802079307913155,-0.7256326216156823,-0.7710573124400492,-0.816482003264416,-0.816482003264416,-0.816482003264416,-0.816482003264416,-0.816482003264416,-0.816482003264416,-0.816482003264416,-0.816482003264416,-0.816482003264416,-0.816482003264416,-0.816482003264416,-0.816482003264416,-0.816482003264416,-0.816482003264416,-0.816482003264416,-0.816482003264416,-0.816482003264416,-0.816482003264416,-0.816482003264416,-0.816482003264416,-0.8319574611931799,-0.7865327703688131,-0.7411080795444462,-0.6956833887200794,-0.6502586978957126,-0.6048340070713458,-0.559409316246979,-0.5139846254226121,-0.46855993459824535,-0.4231352437738785,-0.3777105529495117,-0.332285862125145,-0.28686117130077804,-0.2414364804764113,-0.19601178965204458,-0.15058709882767762,-0.10516240800331089,-0.05973771717894394,-0.014313026354577207,-0.014313026354577207,-0.05973771717894394,-0.10516240800331089,-0.15058709882767762,-0.19601178965204458,-0.2414364804764113,-0.28686117130077804,-0.332285862125145,-0.3777105529495117,-0.4231352437738785,-0.46855993459824535,-0.5139846254226121,-0.559409316246979,-0.6048340070713458,-0.6502586978957126,-0.6956833887200794,-0.7411080795444462,-0.7865327703688131,-0.8319574611931799,-0.8319574611931799,-0.8319574611931799,-0.8319574611931799,-0.8319574611931799,-0.8319574611931799,-0.8319574611931799,-0.8319574611931799,-0.8319574611931799,-0.8319574611931799,-0.8319574611931799,-0.8319574611931799,-0.8319574611931799,-0.8319574611931799,-0.8319574611931799,-0.8319574611931799,-0.8319574611931799,-0.8319574611931799,-0.8319574611931799,-0.8319574611931799,-0.8474329191219436,-0.8020082282975768,-0.7565835374732099,-0.7111588466488431,-0.6657341558244763,-0.6203094650001095,-0.5748847741757427,-0.5294600833513758,-0.48403539252700906,-0.4386107017026422,-0.3931860108782754,-0.3477613200539087,-0.30233662922954174,-0.256911938405175,-0.21148724758080828,-0.16606255675644133,-0.1206378659320746,-0.07521317510770764,-0.02978848428334091,-0.02978848428334091,-0.07521317510770764,-0.1206378659320746,-0.16606255675644133,-0.21148724758080828,-0.256911938405175,-0.30233662922954174,-0.3477613200539087,-0.3931860108782754,-0.4386107017026422,-0.48403539252700906,-0.5294600833513758,-0.5748847741757427,-0.6203094650001095,-0.6657341558244763,-0.7111588466488431,-0.7565835374732099,-0.8020082282975768,-0.8474329191219436,-0.8474329191219436,-0.8474329191219436,-0.8474329191219436,-0.8474329191219436,-0.8474329191219436,-0.8474329191219436,-0.8474329191219436,-0.8474329191219436,-0.8474329191219436,-0.8474329191219436,-0.8474329191219436,-0.8474329191219436,-0.8474329191219436,-0.8474329191219436,-0.8474329191219436,-0.8474329191219436,-0.8474329191219436,-0.8474329191219436,-0.8474329191219436,-0.8629083770507076,-0.8174836862263407,-0.7720589954019739,-0.726634304577607,-0.6812096137532402,-0.6357849229288735,-0.5903602321045066,-0.5449355412801398,-0.499510850455773,-0.45408615963140614,-0.40866146880703935,-0.3632367779826726,-0.31781208715830567,-0.27238739633393894,-0.2269627055095722,-0.18153801468520525,-0.13611332386083852,-0.09068863303647157,-0.045263942212104835,-0.045263942212104835,-0.09068863303647157,-0.13611332386083852,-0.18153801468520525,-0.2269627055095722,-0.27238739633393894,-0.31781208715830567,-0.3632367779826726,-0.40866146880703935,-0.45408615963140614,-0.499510850455773,-0.5449355412801398,-0.5903602321045066,-0.6357849229288735,-0.6812096137532402,-0.726634304577607,-0.7720589954019739,-0.8174836862263407,-0.8629083770507076,-0.8629083770507076,-0.8629083770507076,-0.8629083770507076,-0.8629083770507076,-0.8629083770507076,-0.8629083770507076,-0.8629083770507076,-0.8629083770507076,-0.8629083770507076,-0.8629083770507076,-0.8629083770507076,-0.8629083770507076,-0.8629083770507076,-0.8629083770507076,-0.8629083770507076,-0.8629083770507076,-0.8629083770507076,-0.8629083770507076,-0.8629083770507076,-0.8783838349794713,-0.8329591441551045,-0.7875344533307377,-0.7421097625063708,-0.6966850716820041,-0.6512603808576373,-0.6058356900332704,-0.5604109992089037,-0.5149863083845367,-0.46956161756016995,-0.42413692673580317,-0.37871223591143643,-0.3332875450870695,-0.28786285426270275,-0.24243816343833602,-0.19701347261396907,-0.15158878178960233,-0.10616409096523538,-0.06073940014086865,-0.015314709316501918,-0.015314709316501918,-0.015314709316501918,-0.015314709316501918,-0.015314709316501918,-0.015314709316501918,-0.015314709316501918,-0.015314709316501918,-0.015314709316501918,-0.015314709316501918,-0.015314709316501918,-0.015314709316501918,-0.015314709316501918,-0.015314709316501918,-0.015314709316501918,-0.015314709316501918,-0.015314709316501918,-0.015314709316501918,-0.015314709316501918,-0.015314709316501918,-0.06073940014086865,-0.10616409096523538,-0.15158878178960233,-0.19701347261396907,-0.24243816343833602,-0.28786285426270275,-0.3332875450870695,-0.37871223591143643,-0.42413692673580317,-0.46956161756016995,-0.5149863083845367,-0.5604109992089037,-0.6058356900332704,-0.6512603808576373,-0.6966850716820041,-0.7421097625063708,-0.7875344533307377,-0.8329591441551045,-0.8783838349794713,-0.8783838349794713,-0.8783838349794713,-0.8783838349794713,-0.8783838349794713,-0.8783838349794713,-0.8783838349794713,-0.8783838349794713,-0.8783838349794713,-0.8783838349794713,-0.8783838349794713,-0.8783838349794713,-0.8783838349794713,-0.8783838349794713,-0.8783838349794713,-0.8783838349794713,-0.8783838349794713,-0.8783838349794713,-0.8783838349794713,-0.8783838349794713,-0.8938592929082352,-0.8484346020838684,-0.8030099112595016,-0.7575852204351348,-0.712160529610768,-0.6667358387864012,-0.6213111479620343,-0.5758864571376676,-0.5304617663133007,-0.4850370754889339,-0.4396123846645671,-0.39418769384020036,-0.3487630030158334,-0.3033383121914667,-0.25791362136709994,-0.212488930542733,-0.16706423971836626,-0.1216395488939993,-0.07621485806963257,-0.030790167245265843,-0.030790167245265843,-0.030790167245265843,-0.030790167245265843,-0.030790167245265843,-0.030790167245265843,-0.030790167245265843,-0.030790167245265843,-0.030790167245265843,-0.030790167245265843,-0.030790167245265843,-0.030790167245265843,-0.030790167245265843,-0.030790167245265843,-0.030790167245265843,-0.030790167245265843,-0.030790167245265843,-0.030790167245265843,-0.030790167245265843,-0.030790167245265843,-0.07621485806963257,-0.1216395488939993,-0.16706423971836626,-0.212488930542733,-0.25791362136709994,-0.3033383121914667,-0.3487630030158334,-0.39418769384020036,-0.4396123846645671,-0.4850370754889339,-0.5304617663133007,-0.5758864571376676,-0.6213111479620343,-0.6667358387864012,-0.712160529610768,-0.7575852204351348,-0.8030099112595016,-0.8484346020838684,-0.8938592929082352,-0.8938592929082352,-0.8938592929082352,-0.8938592929082352,-0.8938592929082352,-0.8938592929082352,-0.8938592929082352,-0.8938592929082352,-0.8938592929082352,-0.8938592929082352,-0.8938592929082352,-0.8938592929082352,-0.8938592929082352,-0.8938592929082352,-0.8938592929082352,-0.8938592929082352,-0.8938592929082352,-0.8938592929082352,-0.8938592929082352,-0.8938592929082352,-0.9093347508369991,-0.8639100600126323,-0.8184853691882654,-0.7730606783638986,-0.7276359875395317,-0.682211296715165,-0.6367866058907982,-0.5913619150664313,-0.5459372242420646,-0.5005125334176976,-0.4550878425933309,-0.4096631517689642,-0.3642384609445972,-0.3188137701202305,-0.27338907929586376,-0.2279643884714968,-0.18253969764713007,-0.13711500682276312,-0.09169031599839639,-0.046265625174029656,-0.046265625174029656,-0.046265625174029656,-0.046265625174029656,-0.046265625174029656,-0.046265625174029656,-0.046265625174029656,-0.046265625174029656,-0.046265625174029656,-0.046265625174029656,-0.046265625174029656,-0.046265625174029656,-0.046265625174029656,-0.046265625174029656,-0.046265625174029656,-0.046265625174029656,-0.046265625174029656,-0.046265625174029656,-0.046265625174029656,-0.046265625174029656,-0.09169031599839639,-0.13711500682276312,-0.18253969764713007,-0.2279643884714968,-0.27338907929586376,-0.3188137701202305,-0.3642384609445972,-0.4096631517689642,-0.4550878425933309,-0.5005125334176976,-0.5459372242420646,-0.5913619150664313,-0.6367866058907982,-0.682211296715165,-0.7276359875395317,-0.7730606783638986,-0.8184853691882654,-0.8639100600126323,-0.9093347508369991,-0.9093347508369991,-0.9093347508369991,-0.9093347508369991,-0.9093347508369991,-0.9093347508369991,-0.9093347508369991,-0.9093347508369991,-0.9093347508369991,-0.9093347508369991,-0.9093347508369991,-0.9093347508369991,-0.9093347508369991,-0.9093347508369991,-0.9093347508369991,-0.9093347508369991,-0.9093347508369991,-0.9093347508369991,-0.9093347508369991,-0.9093347508369991,-0.9248102087657628,-0.8793855179413961,-0.8339608271170292,-0.7885361362926624,-0.7431114454682957,-0.6976867546439288,-0.652262063819562,-0.6068373729951952,-0.5614126821708283,-0.5159879913464616,-0.4705633005220947,-0.425138609697728,-0.37971391887336103,-0.3342892280489943,-0.28886453722462757,-0.24343984640026062,-0.1980151555758939,-0.15259046475152693,-0.1071657739271602,-0.06174108310279347,-0.06174108310279347,-0.06174108310279347,-0.06174108310279347,-0.06174108310279347,-0.06174108310279347,-0.06174108310279347,-0.06174108310279347,-0.06174108310279347,-0.06174108310279347,-0.06174108310279347,-0.06174108310279347,-0.06174108310279347,-0.06174108310279347,-0.06174108310279347,-0.06174108310279347,-0.06174108310279347,-0.06174108310279347,-0.06174108310279347,-0.06174108310279347,-0.1071657739271602,-0.15259046475152693,-0.1980151555758939,-0.24343984640026062,-0.28886453722462757,-0.3342892280489943,-0.37971391887336103,-0.425138609697728,-0.4705633005220947,-0.5159879913464616,-0.5614126821708283,-0.6068373729951952,-0.652262063819562,-0.6976867546439288,-0.7431114454682957,-0.7885361362926624,-0.8339608271170292,-0.8793855179413961,-0.9248102087657628,-0.9248102087657628,-0.9248102087657628,-0.9248102087657628,-0.9248102087657628,-0.9248102087657628,-0.9248102087657628,-0.9248102087657628,-0.9248102087657628,-0.9248102087657628,-0.9248102087657628,-0.9248102087657628,-0.9248102087657628,-0.9248102087657628,-0.9248102087657628,-0.9248102087657628,-0.9248102087657628,-0.9248102087657628,-0.9248102087657628,-0.9248102087657628,-0.9402856666945267,-0.8948609758701599,-0.849436285045793,-0.8040115942214262,-0.7585869033970594,-0.7131622125726926,-0.6677375217483258,-0.622312830923959,-0.5768881400995922,-0.5314634492752253,-0.48603875845085853,-0.4406140676264918,-0.39518937680212485,-0.3497646859777581,-0.3043399951533914,-0.25891530432902443,-0.2134906135046577,-0.16806592268029075,-0.12264123185592402,-0.07721654103155728,-0.07721654103155728,-0.07721654103155728,-0.07721654103155728,-0.07721654103155728,-0.07721654103155728,-0.07721654103155728,-0.07721654103155728,-0.07721654103155728,-0.07721654103155728,-0.07721654103155728,-0.07721654103155728,-0.07721654103155728,-0.07721654103155728,-0.07721654103155728,-0.07721654103155728,-0.07721654103155728,-0.07721654103155728,-0.07721654103155728,-0.07721654103155728,-0.12264123185592402,-0.16806592268029075,-0.2134906135046577,-0.25891530432902443,-0.3043399951533914,-0.3497646859777581,-0.39518937680212485,-0.4406140676264918,-0.48603875845085853,-0.5314634492752253,-0.5768881400995922,-0.622312830923959,-0.6677375217483258,-0.7131622125726926,-0.7585869033970594,-0.8040115942214262,-0.849436285045793,-0.8948609758701599,-0.9402856666945267,-0.9402856666945267,-0.9402856666945267,-0.9402856666945267,-0.9402856666945267,-0.9402856666945267,-0.9402856666945267,-0.9402856666945267,-0.9402856666945267,-0.9402856666945267,-0.9402856666945267,-0.9402856666945267,-0.9402856666945267,-0.9402856666945267,-0.9402856666945267,-0.9402856666945267,-0.9402856666945267,-0.9402856666945267,-0.9402856666945267,-0.9402856666945267,-0.9557611246232907,-0.9103364337989238,-0.864911742974557,-0.8194870521501901,-0.7740623613258233,-0.7286376705014566,-0.6832129796770897,-0.6377882888527229,-0.5923635980283561,-0.5469389072039892,-0.5015142163796225,-0.4560895255552557,-0.4106648347308888,-0.36524014390652204,-0.3198154530821553,-0.27439076225778836,-0.22896607143342163,-0.18354138060905467,-0.13811668978468794,-0.09269199896032121,-0.09269199896032121,-0.09269199896032121,-0.09269199896032121,-0.09269199896032121,-0.09269199896032121,-0.09269199896032121,-0.09269199896032121,-0.09269199896032121,-0.09269199896032121,-0.09269199896032121,-0.09269199896032121,-0.09269199896032121,-0.09269199896032121,-0.09269199896032121,-0.09269199896032121,-0.09269199896032121,-0.09269199896032121,-0.09269199896032121,-0.09269199896032121,-0.13811668978468794,-0.18354138060905467,-0.22896607143342163,-0.27439076225778836,-0.3198154530821553,-0.36524014390652204,-0.4106648347308888,-0.4560895255552557,-0.5015142163796225,-0.5469389072039892,-0.5923635980283561,-0.6377882888527229,-0.6832129796770897,-0.7286376705014566,-0.7740623613258233,-0.8194870521501901,-0.864911742974557,-0.9103364337989238,-0.9557611246232907,-0.9557611246232907,-0.9557611246232907,-0.9557611246232907,-0.9557611246232907,-0.9557611246232907,-0.9557611246232907,-0.9557611246232907,-0.9557611246232907,-0.9557611246232907,-0.9557611246232907,-0.9557611246232907,-0.9557611246232907,-0.9557611246232907,-0.9557611246232907,-0.9557611246232907,-0.9557611246232907,-0.9557611246232907,-0.9557611246232907,-0.9557611246232907,-0.9712365825520546,-0.9258118917276877,-0.8803872009033209,-0.8349625100789541,-0.7895378192545872,-0.7441131284302205,-0.6986884376058536,-0.6532637467814868,-0.6078390559571201,-0.5624143651327531,-0.5169896743083864,-0.47156498348401965,-0.4261402926596527,-0.38071560183528597,-0.33529091101091923,-0.2898662201865523,-0.24444152936218555,-0.1990168385378186,-0.15359214771345187,-0.10816745688908513,-0.10816745688908513,-0.10816745688908513,-0.10816745688908513,-0.10816745688908513,-0.10816745688908513,-0.10816745688908513,-0.10816745688908513,-0.10816745688908513,-0.10816745688908513,-0.10816745688908513,-0.10816745688908513,-0.10816745688908513,-0.10816745688908513,-0.10816745688908513,-0.10816745688908513,-0.10816745688908513,-0.10816745688908513,-0.10816745688908513,-0.10816745688908513,-0.15359214771345187,-0.1990168385378186,-0.24444152936218555,-0.2898662201865523,-0.33529091101091923,-0.38071560183528597,-0.4261402926596527,-0.47156498348401965,-0.5169896743083864,-0.5624143651327531,-0.6078390559571201,-0.6532637467814868,-0.6986884376058536,-0.7441131284302205,-0.7895378192545872,-0.8349625100789541,-0.8803872009033209,-0.9258118917276877,-0.9712365825520546,-0.9712365825520546,-0.9712365825520546,-0.9712365825520546,-0.9712365825520546,-0.9712365825520546,-0.9712365825520546,-0.9712365825520546,-0.9712365825520546,-0.9712365825520546,-0.9712365825520546,-0.9712365825520546,-0.9712365825520546,-0.9712365825520546,-0.9712365825520546,-0.9712365825520546,-0.9712365825520546,-0.9712365825520546,-0.9712365825520546,-0.9712365825520546,-0.9867120404808185,-0.9412873496564517,-0.8958626588320848,-0.850437968007718,-0.8050132771833511,-0.7595885863589844,-0.7141638955346176,-0.6687392047102507,-0.623314513885884,-0.577889823061517,-0.5324651322371503,-0.4870404414127836,-0.4416157505884166,-0.3961910597640499,-0.35076636893968316,-0.3053416781153162,-0.2599169872909495,-0.21449229646658252,-0.1690676056422158,-0.12364291481784906,-0.12364291481784906,-0.12364291481784906,-0.12364291481784906,-0.12364291481784906,-0.12364291481784906,-0.12364291481784906,-0.12364291481784906,-0.12364291481784906,-0.12364291481784906,-0.12364291481784906,-0.12364291481784906,-0.12364291481784906,-0.12364291481784906,-0.12364291481784906,-0.12364291481784906,-0.12364291481784906,-0.12364291481784906,-0.12364291481784906,-0.12364291481784906,-0.1690676056422158,-0.21449229646658252,-0.2599169872909495,-0.3053416781153162,-0.35076636893968316,-0.3961910597640499,-0.4416157505884166,-0.4870404414127836,-0.5324651322371503,-0.577889823061517,-0.623314513885884,-0.6687392047102507,-0.7141638955346176,-0.7595885863589844,-0.8050132771833511,-0.850437968007718,-0.8958626588320848,-0.9412873496564517,-0.9867120404808185,-0.9867120404808185,-0.9867120404808185,-0.9867120404808185,-0.9867120404808185,-0.9867120404808185,-0.9867120404808185,-0.9867120404808185,-0.9867120404808185,-0.9867120404808185,-0.9867120404808185,-0.9867120404808185,-0.9867120404808185,-0.9867120404808185,-0.9867120404808185,-0.9867120404808185,-0.9867120404808185,-0.9867120404808185,-0.9867120404808185,-0.9867120404808185,-1.0021874984095822,-0.9567628075852154,-0.9113381167608485,-0.8659134259364817,-0.8204887351121148,-0.7750640442877481,-0.7296393534633813,-0.6842146626390144,-0.6387899718146477,-0.5933652809902807,-0.547940590165914,-0.5025158993415473,-0.4570912085171803,-0.4116665176928136,-0.36624182686844686,-0.3208171360440799,-0.2753924452197132,-0.22996775439534622,-0.1845430635709795,-0.13911837274661276,-0.13911837274661276,-0.13911837274661276,-0.13911837274661276,-0.13911837274661276,-0.13911837274661276,-0.13911837274661276,-0.13911837274661276,-0.13911837274661276,-0.13911837274661276,-0.13911837274661276,-0.13911837274661276,-0.13911837274661276,-0.13911837274661276,-0.13911837274661276,-0.13911837274661276,-0.13911837274661276,-0.13911837274661276,-0.13911837274661276,-0.13911837274661276,-0.1845430635709795,-0.22996775439534622,-0.2753924452197132,-0.3208171360440799,-0.36624182686844686,-0.4116665176928136,-0.4570912085171803,-0.5025158993415473,-0.547940590165914,-0.5933652809902807,-0.6387899718146477,-0.6842146626390144,-0.7296393534633813,-0.7750640442877481,-0.8204887351121148,-0.8659134259364817,-0.9113381167608485,-0.9567628075852154,-1.0021874984095822,-1.0021874984095822,-1.0021874984095822,-1.0021874984095822,-1.0021874984095822,-1.0021874984095822,-1.0021874984095822,-1.0021874984095822,-1.0021874984095822,-1.0021874984095822,-1.0021874984095822,-1.0021874984095822,-1.0021874984095822,-1.0021874984095822,-1.0021874984095822,-1.0021874984095822,-1.0021874984095822,-1.0021874984095822,-1.0021874984095822,-1.0021874984095822,-1.017662956338346,-0.9722382655139791,-0.9268135746896122,-0.8813888838652454,-0.8359641930408785,-0.7905395022165118,-0.745114811392145,-0.6996901205677781,-0.6542654297434114,-0.6088407389190444,-0.5634160480946777,-0.517991357270311,-0.47256666644594403,-0.4271419756215773,-0.38171728479721057,-0.3362925939728436,-0.2908679031484769,-0.24544321232410993,-0.2000185214997432,-0.15459383067537646,-0.15459383067537646,-0.15459383067537646,-0.15459383067537646,-0.15459383067537646,-0.15459383067537646,-0.15459383067537646,-0.15459383067537646,-0.15459383067537646,-0.15459383067537646,-0.15459383067537646,-0.15459383067537646,-0.15459383067537646,-0.15459383067537646,-0.15459383067537646,-0.15459383067537646,-0.15459383067537646,-0.15459383067537646,-0.15459383067537646,-0.15459383067537646,-0.2000185214997432,-0.24544321232410993,-0.2908679031484769,-0.3362925939728436,-0.38171728479721057,-0.4271419756215773,-0.47256666644594403,-0.517991357270311,-0.5634160480946777,-0.6088407389190444,-0.6542654297434114,-0.6996901205677781,-0.745114811392145,-0.7905395022165118,-0.8359641930408785,-0.8813888838652454,-0.9268135746896122,-0.9722382655139791,-1.017662956338346,-1.017662956338346,-1.017662956338346,-1.017662956338346,-1.017662956338346,-1.017662956338346,-1.017662956338346,-1.017662956338346,-1.017662956338346,-1.017662956338346,-1.017662956338346,-1.017662956338346,-1.017662956338346,-1.017662956338346,-1.017662956338346,-1.017662956338346,-1.017662956338346,-1.017662956338346,-1.017662956338346,-1.017662956338346,-0.9650704715554492,-0.9196457807310824,-0.8742210899067155,-0.8287963990823487,-0.7833717082579819,-0.7379470174336151,-0.6925223266092483,-0.6470976357848814,-0.6016729449605147,-0.5562482541361478,-0.510823563311781,-0.4653988724874143,-0.41997418166304734,-0.3745494908386806,-0.3291248000143139,-0.2837001091899469,-0.2382754183655802,-0.19285072754121324,-0.1474260367168465,-0.10200134589247978,-0.10200134589247978,-0.10200134589247978,-0.10200134589247978,-0.10200134589247978,-0.10200134589247978,-0.10200134589247978,-0.10200134589247978,-0.10200134589247978,-0.10200134589247978,-0.10200134589247978,-0.10200134589247978,-0.10200134589247978,-0.10200134589247978,-0.10200134589247978,-0.10200134589247978,-0.10200134589247978,-0.10200134589247978,-0.10200134589247978,-0.10200134589247978,-0.1474260367168465,-0.19285072754121324,-0.2382754183655802,-0.2837001091899469,-0.3291248000143139,-0.3745494908386806,-0.41997418166304734,-0.4653988724874143,-0.510823563311781,-0.5562482541361478,-0.6016729449605147,-0.6470976357848814,-0.6925223266092483,-0.7379470174336151,-0.7833717082579819,-0.8287963990823487,-0.8742210899067155,-0.9196457807310824,-0.9650704715554492,-0.9650704715554492,-0.9650704715554492,-0.9650704715554492,-0.9650704715554492,-0.9650704715554492,-0.9650704715554492,-0.9650704715554492,-0.9650704715554492,-0.9650704715554492,-0.9650704715554492,-0.9650704715554492,-0.9650704715554492,-0.9650704715554492,-0.9650704715554492,-0.9650704715554492,-0.9650704715554492,-0.9650704715554492,-0.9650704715554492,-0.9650704715554492,-0.9124779867725523,-0.8670532959481855,-0.8216286051238186,-0.7762039142994518,-0.730779223475085,-0.6853545326507182,-0.6399298418263514,-0.5945051510019845,-0.5490804601776178,-0.5036557693532508,-0.4582310785288841,-0.4128063877045174,-0.36738169688015043,-0.3219570060557837,-0.27653231523141697,-0.23110762440705002,-0.18568293358268328,-0.14025824275831633,-0.0948335519339496,-0.04940886110958287,-0.04940886110958287,-0.04940886110958287,-0.04940886110958287,-0.04940886110958287,-0.04940886110958287,-0.04940886110958287,-0.04940886110958287,-0.04940886110958287,-0.04940886110958287,-0.04940886110958287,-0.04940886110958287,-0.04940886110958287,-0.04940886110958287,-0.04940886110958287,-0.04940886110958287,-0.04940886110958287,-0.04940886110958287,-0.04940886110958287,-0.04940886110958287,-0.0948335519339496,-0.14025824275831633,-0.18568293358268328,-0.23110762440705002,-0.27653231523141697,-0.3219570060557837,-0.36738169688015043,-0.4128063877045174,-0.4582310785288841,-0.5036557693532508,-0.5490804601776178,-0.5945051510019845,-0.6399298418263514,-0.6853545326507182,-0.730779223475085,-0.7762039142994518,-0.8216286051238186,-0.8670532959481855,-0.9124779867725523,-0.9124779867725523,-0.9124779867725523,-0.9124779867725523,-0.9124779867725523,-0.9124779867725523,-0.9124779867725523,-0.9124779867725523,-0.9124779867725523,-0.9124779867725523,-0.9124779867725523,-0.9124779867725523,-0.9124779867725523,-0.9124779867725523,-0.9124779867725523,-0.9124779867725523,-0.9124779867725523,-0.9124779867725523,-0.9124779867725523,-0.9124779867725523,-0.8598855019896554,-0.8144608111652886,-0.7690361203409217,-0.7236114295165549,-0.678186738692188,-0.6327620478678213,-0.5873373570434545,-0.5419126662190876,-0.49648797539472084,-0.451063284570354,-0.4056385937459872,-0.3602139029216205,-0.3147892120972535,-0.2693645212728868,-0.22393983044852006,-0.1785151396241531,-0.13309044879978638,-0.08766575797541942,-0.04224106715105269,-0.04224106715105269,-0.08766575797541942,-0.13309044879978638,-0.1785151396241531,-0.22393983044852006,-0.2693645212728868,-0.3147892120972535,-0.3602139029216205,-0.4056385937459872,-0.451063284570354,-0.49648797539472084,-0.5419126662190876,-0.5873373570434545,-0.6327620478678213,-0.678186738692188,-0.7236114295165549,-0.7690361203409217,-0.8144608111652886,-0.8598855019896554,-0.8598855019896554,-0.8598855019896554,-0.8598855019896554,-0.8598855019896554,-0.8598855019896554,-0.8598855019896554,-0.8598855019896554,-0.8598855019896554,-0.8598855019896554,-0.8598855019896554,-0.8598855019896554,-0.8598855019896554,-0.8598855019896554,-0.8598855019896554,-0.8598855019896554,-0.8598855019896554,-0.8598855019896554,-0.8598855019896554,-0.8598855019896554,-0.8072930172067585,-0.7618683263823917,-0.7164436355580248,-0.671018944733658,-0.6255942539092911,-0.5801695630849244,-0.5347448722605576,-0.48932018143619077,-0.44389549061182393,-0.3984707997874571,-0.3530461089630903,-0.30762141813872357,-0.2621967273143566,-0.21677203648998988,-0.17134734566562315,-0.1259226548412562,-0.08049796401688947,-0.035073273192522514,-0.035073273192522514,-0.08049796401688947,-0.1259226548412562,-0.17134734566562315,-0.21677203648998988,-0.2621967273143566,-0.30762141813872357,-0.3530461089630903,-0.3984707997874571,-0.44389549061182393,-0.48932018143619077,-0.5347448722605576,-0.5801695630849244,-0.6255942539092911,-0.671018944733658,-0.7164436355580248,-0.7618683263823917,-0.8072930172067585,-0.8072930172067585,-0.8072930172067585,-0.8072930172067585,-0.8072930172067585,-0.8072930172067585,-0.8072930172067585,-0.8072930172067585,-0.8072930172067585,-0.8072930172067585,-0.8072930172067585,-0.8072930172067585,-0.8072930172067585,-0.8072930172067585,-0.8072930172067585,-0.8072930172067585,-0.8072930172067585,-0.8072930172067585,-0.8072930172067585,-0.8072930172067585,-0.7547005324238616,-0.7092758415994947,-0.6638511507751279,-0.6184264599507611,-0.5730017691263942,-0.5275770783020275,-0.48215238747766065,-0.43672769665329386,-0.391303005828927,-0.3458783150045602,-0.3004536241801934,-0.25502893335582666,-0.2096042425314597,-0.16417955170709297,-0.11875486088272624,-0.07333017005835929,-0.02790547923399256,-0.02790547923399256,-0.07333017005835929,-0.11875486088272624,-0.16417955170709297,-0.2096042425314597,-0.25502893335582666,-0.3004536241801934,-0.3458783150045602,-0.391303005828927,-0.43672769665329386,-0.48215238747766065,-0.5275770783020275,-0.5730017691263942,-0.6184264599507611,-0.6638511507751279,-0.7092758415994947,-0.7547005324238616,-0.7547005324238616,-0.7547005324238616,-0.7547005324238616,-0.7547005324238616,-0.7547005324238616,-0.7547005324238616,-0.7547005324238616,-0.7547005324238616,-0.7547005324238616,-0.7547005324238616,-0.7547005324238616,-0.7547005324238616,-0.7547005324238616,-0.7547005324238616,-0.7547005324238616,-0.7547005324238616,-0.7547005324238616,-0.7547005324238616,-0.7547005324238616,-0.7021080476409647,-0.656683356816598,-0.6112586659922311,-0.5658339751678643,-0.5204092843434975,-0.4749845935191307,-0.42955990269476385,-0.38413521187039706,-0.3387105210460302,-0.2932858302216634,-0.2478611393972966,-0.20243644857292986,-0.1570117577485629,-0.11158706692419618,-0.06616237609982945,-0.020737685275462492,-0.020737685275462492,-0.06616237609982945,-0.11158706692419618,-0.1570117577485629,-0.20243644857292986,-0.2478611393972966,-0.2932858302216634,-0.3387105210460302,-0.38413521187039706,-0.42955990269476385,-0.4749845935191307,-0.5204092843434975,-0.5658339751678643,-0.6112586659922311,-0.656683356816598,-0.7021080476409647,-0.7021080476409647,-0.7021080476409647,-0.7021080476409647,-0.7021080476409647,-0.7021080476409647,-0.7021080476409647,-0.7021080476409647,-0.7021080476409647,-0.7021080476409647,-0.7021080476409647,-0.7021080476409647,-0.7021080476409647,-0.7021080476409647,-0.7021080476409647,-0.7021080476409647,-0.7021080476409647,-0.7021080476409647,-0.7021080476409647,-0.7021080476409647,-0.6495155628580678,-0.6040908720337009,-0.5586661812093341,-0.5132414903849672,-0.46781679956060046,-0.4223921087362337,-0.37696741791186683,-0.33154272708750004,-0.2861180362631332,-0.24069334543876636,-0.19526865461439957,-0.14984396379003284,-0.10441927296566589,-0.05899458214129916,-0.013569891316932425,-0.013569891316932425,-0.05899458214129916,-0.10441927296566589,-0.14984396379003284,-0.19526865461439957,-0.24069334543876636,-0.2861180362631332,-0.33154272708750004,-0.37696741791186683,-0.4223921087362337,-0.46781679956060046,-0.5132414903849672,-0.5586661812093341,-0.6040908720337009,-0.6495155628580678,-0.6495155628580678,-0.6495155628580678,-0.6495155628580678,-0.6495155628580678,-0.6495155628580678,-0.6495155628580678,-0.6495155628580678,-0.6495155628580678,-0.6495155628580678,-0.6495155628580678,-0.6495155628580678,-0.6495155628580678,-0.6495155628580678,-0.6495155628580678,-0.6495155628580678,-0.6495155628580678,-0.6495155628580678,-0.6495155628580678,-0.6495155628580678,-0.5969230780751709,-0.5514983872508041,-0.5060736964264373,-0.46064900560207045,-0.41522431477770366,-0.3697996239533369,-0.32437493312897003,-0.27895024230460325,-0.2335255514802364,-0.18810086065586956,-0.14267616983150277,-0.09725147900713604,-0.05182678818276909,-0.006402097358402359,-0.006402097358402359,-0.05182678818276909,-0.09725147900713604,-0.14267616983150277,-0.18810086065586956,-0.2335255514802364,-0.27895024230460325,-0.32437493312897003,-0.3697996239533369,-0.41522431477770366,-0.46064900560207045,-0.5060736964264373,-0.5514983872508041,-0.5969230780751709,-0.5969230780751709,-0.5969230780751709,-0.5969230780751709,-0.5969230780751709,-0.5969230780751709,-0.5969230780751709,-0.5969230780751709,-0.5969230780751709,-0.5969230780751709,-0.5969230780751709,-0.5969230780751709,-0.5969230780751709,-0.5969230780751709,-0.5969230780751709,-0.5969230780751709,-0.5969230780751709,-0.5969230780751709,-0.5969230780751709,-0.5969230780751709,-0.544330593292274,-0.4989059024679072,-0.4534812116435404,-0.40805652081917354,-0.36263182999480675,-0.31720713917043997,-0.2717824483460731,-0.22635775752170634,-0.1809330666973395,-0.13550837587297265,-0.09008368504860587,-0.044658994224239135,-0.044658994224239135,-0.09008368504860587,-0.13550837587297265,-0.1809330666973395,-0.22635775752170634,-0.2717824483460731,-0.31720713917043997,-0.36263182999480675,-0.40805652081917354,-0.4534812116435404,-0.4989059024679072,-0.544330593292274,-0.544330593292274,-0.544330593292274,-0.544330593292274,-0.544330593292274,-0.544330593292274,-0.544330593292274,-0.544330593292274,-0.544330593292274,-0.544330593292274,-0.544330593292274,-0.544330593292274,-0.544330593292274,-0.544330593292274,-0.544330593292274,-0.544330593292274,-0.544330593292274,-0.544330593292274,-0.544330593292274,-0.544330593292274,-0.4917381085093772,-0.4463134176850104,-0.4008887268606436,-0.35546403603627674,-0.31003934521190996,-0.26461465438754317,-0.21918996356317633,-0.17376527273880954,-0.1283405819144427,-0.08291589109007586,-0.03749120026570907,-0.03749120026570907,-0.08291589109007586,-0.1283405819144427,-0.17376527273880954,-0.21918996356317633,-0.26461465438754317,-0.31003934521190996,-0.35546403603627674,-0.4008887268606436,-0.4463134176850104,-0.4917381085093772,-0.4917381085093772,-0.4917381085093772,-0.4917381085093772,-0.4917381085093772,-0.4917381085093772,-0.4917381085093772,-0.4917381085093772,-0.4917381085093772,-0.4917381085093772,-0.4917381085093772,-0.4917381085093772,-0.4917381085093772,-0.4917381085093772,-0.4917381085093772,-0.4917381085093772,-0.4917381085093772,-0.4917381085093772,-0.4917381085093772,-0.4917381085093772,-0.4391456237264803,-0.3937209329021135,-0.3482962420777467,-0.30287155125337983,-0.25744686042901305,-0.21202216960464626,-0.16659747878027942,-0.12117278795591263,-0.07574809713154579,-0.030323406307178946,-0.030323406307178946,-0.07574809713154579,-0.12117278795591263,-0.16659747878027942,-0.21202216960464626,-0.25744686042901305,-0.30287155125337983,-0.3482962420777467,-0.3937209329021135,-0.4391456237264803,-0.4391456237264803,-0.4391456237264803,-0.4391456237264803,-0.4391456237264803,-0.4391456237264803,-0.4391456237264803,-0.4391456237264803,-0.4391456237264803,-0.4391456237264803,-0.4391456237264803,-0.4391456237264803,-0.4391456237264803,-0.4391456237264803,-0.4391456237264803,-0.4391456237264803,-0.4391456237264803,-0.4391456237264803,-0.4391456237264803,-0.4391456237264803,-0.3865531389435834,-0.3411284481192166,-0.29570375729484977,-0.2502790664704829,-0.20485437564611614,-0.15942968482174935,-0.11400499399738251,-0.06858030317301572,-0.02315561234864888,-0.02315561234864888,-0.06858030317301572,-0.11400499399738251,-0.15942968482174935,-0.20485437564611614,-0.2502790664704829,-0.29570375729484977,-0.3411284481192166,-0.3865531389435834,-0.3865531389435834,-0.3865531389435834,-0.3865531389435834,-0.3865531389435834,-0.3865531389435834,-0.3865531389435834,-0.3865531389435834,-0.3865531389435834,-0.3865531389435834,-0.3865531389435834,-0.3865531389435834,-0.3865531389435834,-0.3865531389435834,-0.3865531389435834,-0.3865531389435834,-0.3865531389435834,-0.3865531389435834,-0.3865531389435834,-0.3865531389435834,-0.3339606541606865,-0.2885359633363197,-0.24311127251195286,-0.19768658168758604,-0.15226189086321923,-0.10683720003885244,-0.0614125092144856,-0.015987818390118813,-0.015987818390118813,-0.0614125092144856,-0.10683720003885244,-0.15226189086321923,-0.19768658168758604,-0.24311127251195286,-0.2885359633363197,-0.3339606541606865,-0.3339606541606865,-0.3339606541606865,-0.3339606541606865,-0.3339606541606865,-0.3339606541606865,-0.3339606541606865,-0.3339606541606865,-0.3339606541606865,-0.3339606541606865,-0.3339606541606865,-0.3339606541606865,-0.3339606541606865,-0.3339606541606865,-0.3339606541606865,-0.3339606541606865,-0.3339606541606865,-0.3339606541606865,-0.3339606541606865,-0.3339606541606865,-0.2813681693777896,-0.23594347855342276,-0.19051878772905595,-0.14509409690468913,-0.09966940608032232,-0.05424471525595553,-0.008820024431588691,-0.008820024431588691,-0.05424471525595553,-0.09966940608032232,-0.14509409690468913,-0.19051878772905595,-0.23594347855342276,-0.2813681693777896,-0.2813681693777896,-0.2813681693777896,-0.2813681693777896,-0.2813681693777896,-0.2813681693777896,-0.2813681693777896,-0.2813681693777896,-0.2813681693777896,-0.2813681693777896,-0.2813681693777896,-0.2813681693777896,-0.2813681693777896,-0.2813681693777896,-0.2813681693777896,-0.2813681693777896,-0.2813681693777896,-0.2813681693777896,-0.2813681693777896,-0.2813681693777896,-0.22877568459489273,-0.1833509937705259,-0.1379263029461591,-0.09250161212179228,-0.04707692129742547,-0.00165223047305868,-0.00165223047305868,-0.04707692129742547,-0.09250161212179228,-0.1379263029461591,-0.1833509937705259,-0.22877568459489273,-0.22877568459489273,-0.22877568459489273,-0.22877568459489273,-0.22877568459489273,-0.22877568459489273,-0.22877568459489273,-0.22877568459489273,-0.22877568459489273,-0.22877568459489273,-0.22877568459489273,-0.22877568459489273,-0.22877568459489273,-0.22877568459489273,-0.22877568459489273,-0.22877568459489273,-0.22877568459489273,-0.22877568459489273,-0.22877568459489273,-0.22877568459489273,-0.17618319981199584,-0.13075850898762903,-0.08533381816326222,-0.0399091273388954,-0.0399091273388954,-0.08533381816326222,-0.13075850898762903,-0.17618319981199584,-0.17618319981199584,-0.17618319981199584,-0.17618319981199584,-0.17618319981199584,-0.17618319981199584,-0.17618319981199584,-0.17618319981199584,-0.17618319981199584,-0.17618319981199584,-0.17618319981199584,-0.17618319981199584,-0.17618319981199584,-0.17618319981199584,-0.17618319981199584,-0.17618319981199584,-0.17618319981199584,-0.17618319981199584,-0.17618319981199584,-0.17618319981199584,-0.12359071502909896,-0.07816602420473215,-0.032741333380365334,-0.032741333380365334,-0.07816602420473215,-0.12359071502909896,-0.12359071502909896,-0.12359071502909896,-0.12359071502909896,-0.12359071502909896,-0.12359071502909896,-0.12359071502909896,-0.12359071502909896,-0.12359071502909896,-0.12359071502909896,-0.12359071502909896,-0.12359071502909896,-0.12359071502909896,-0.12359071502909896,-0.12359071502909896,-0.12359071502909896,-0.12359071502909896,-0.12359071502909896,-0.12359071502909896,-0.12359071502909896,-0.07099823024620205,-0.02557353942183524,-0.02557353942183524,-0.07099823024620205,-0.07099823024620205,-0.07099823024620205,-0.07099823024620205,-0.07099823024620205,-0.07099823024620205,-0.07099823024620205,-0.07099823024620205,-0.07099823024620205,-0.07099823024620205,-0.07099823024620205,-0.07099823024620205,-0.07099823024620205,-0.07099823024620205,-0.07099823024620205,-0.07099823024620205,-0.07099823024620205,-0.07099823024620205,-0.07099823024620205,-0.07099823024620205,-0.0184057454633052,-0.0184057454633052,-0.0184057454633052,-0.0184057454633052,-0.0184057454633052,-0.0184057454633052,-0.0184057454633052,-0.0184057454633052,-0.0184057454633052,-0.0184057454633052,-0.0184057454633052,-0.0184057454633052,-0.0184057454633052,-0.0184057454633052,-0.0184057454633052,-0.0184057454633052,-0.0184057454633052,-0.0184057454633052,-0.0184057454633052,-0.0184057454633052,-0.0184057454633052],\"type\":\"scatter\"},{\"mode\":\"lines\",\"name\":\"$\\\\Large{Z^{(1)}}$\",\"x\":[-1.9099100305304457,-1.9099100305304457,1.799880915799522,1.799880915799522,-1.9099100305304457],\"y\":[-2.9814905813435457,2.330085335171783,2.330085335171783,-2.9814905813435457,-2.9814905813435457],\"type\":\"scatter\"}],                        {\"template\":{\"data\":{\"histogram2dcontour\":[{\"type\":\"histogram2dcontour\",\"colorbar\":{\"outlinewidth\":0,\"ticks\":\"\"},\"colorscale\":[[0.0,\"#0d0887\"],[0.1111111111111111,\"#46039f\"],[0.2222222222222222,\"#7201a8\"],[0.3333333333333333,\"#9c179e\"],[0.4444444444444444,\"#bd3786\"],[0.5555555555555556,\"#d8576b\"],[0.6666666666666666,\"#ed7953\"],[0.7777777777777778,\"#fb9f3a\"],[0.8888888888888888,\"#fdca26\"],[1.0,\"#f0f921\"]]}],\"choropleth\":[{\"type\":\"choropleth\",\"colorbar\":{\"outlinewidth\":0,\"ticks\":\"\"}}],\"histogram2d\":[{\"type\":\"histogram2d\",\"colorbar\":{\"outlinewidth\":0,\"ticks\":\"\"},\"colorscale\":[[0.0,\"#0d0887\"],[0.1111111111111111,\"#46039f\"],[0.2222222222222222,\"#7201a8\"],[0.3333333333333333,\"#9c179e\"],[0.4444444444444444,\"#bd3786\"],[0.5555555555555556,\"#d8576b\"],[0.6666666666666666,\"#ed7953\"],[0.7777777777777778,\"#fb9f3a\"],[0.8888888888888888,\"#fdca26\"],[1.0,\"#f0f921\"]]}],\"heatmap\":[{\"type\":\"heatmap\",\"colorbar\":{\"outlinewidth\":0,\"ticks\":\"\"},\"colorscale\":[[0.0,\"#0d0887\"],[0.1111111111111111,\"#46039f\"],[0.2222222222222222,\"#7201a8\"],[0.3333333333333333,\"#9c179e\"],[0.4444444444444444,\"#bd3786\"],[0.5555555555555556,\"#d8576b\"],[0.6666666666666666,\"#ed7953\"],[0.7777777777777778,\"#fb9f3a\"],[0.8888888888888888,\"#fdca26\"],[1.0,\"#f0f921\"]]}],\"heatmapgl\":[{\"type\":\"heatmapgl\",\"colorbar\":{\"outlinewidth\":0,\"ticks\":\"\"},\"colorscale\":[[0.0,\"#0d0887\"],[0.1111111111111111,\"#46039f\"],[0.2222222222222222,\"#7201a8\"],[0.3333333333333333,\"#9c179e\"],[0.4444444444444444,\"#bd3786\"],[0.5555555555555556,\"#d8576b\"],[0.6666666666666666,\"#ed7953\"],[0.7777777777777778,\"#fb9f3a\"],[0.8888888888888888,\"#fdca26\"],[1.0,\"#f0f921\"]]}],\"contourcarpet\":[{\"type\":\"contourcarpet\",\"colorbar\":{\"outlinewidth\":0,\"ticks\":\"\"}}],\"contour\":[{\"type\":\"contour\",\"colorbar\":{\"outlinewidth\":0,\"ticks\":\"\"},\"colorscale\":[[0.0,\"#0d0887\"],[0.1111111111111111,\"#46039f\"],[0.2222222222222222,\"#7201a8\"],[0.3333333333333333,\"#9c179e\"],[0.4444444444444444,\"#bd3786\"],[0.5555555555555556,\"#d8576b\"],[0.6666666666666666,\"#ed7953\"],[0.7777777777777778,\"#fb9f3a\"],[0.8888888888888888,\"#fdca26\"],[1.0,\"#f0f921\"]]}],\"surface\":[{\"type\":\"surface\",\"colorbar\":{\"outlinewidth\":0,\"ticks\":\"\"},\"colorscale\":[[0.0,\"#0d0887\"],[0.1111111111111111,\"#46039f\"],[0.2222222222222222,\"#7201a8\"],[0.3333333333333333,\"#9c179e\"],[0.4444444444444444,\"#bd3786\"],[0.5555555555555556,\"#d8576b\"],[0.6666666666666666,\"#ed7953\"],[0.7777777777777778,\"#fb9f3a\"],[0.8888888888888888,\"#fdca26\"],[1.0,\"#f0f921\"]]}],\"mesh3d\":[{\"type\":\"mesh3d\",\"colorbar\":{\"outlinewidth\":0,\"ticks\":\"\"}}],\"scatter\":[{\"marker\":{\"line\":{\"color\":\"#283442\"}},\"type\":\"scatter\"}],\"parcoords\":[{\"type\":\"parcoords\",\"line\":{\"colorbar\":{\"outlinewidth\":0,\"ticks\":\"\"}}}],\"scatterpolargl\":[{\"type\":\"scatterpolargl\",\"marker\":{\"colorbar\":{\"outlinewidth\":0,\"ticks\":\"\"}}}],\"bar\":[{\"error_x\":{\"color\":\"#f2f5fa\"},\"error_y\":{\"color\":\"#f2f5fa\"},\"marker\":{\"line\":{\"color\":\"rgb(17,17,17)\",\"width\":0.5},\"pattern\":{\"fillmode\":\"overlay\",\"size\":10,\"solidity\":0.2}},\"type\":\"bar\"}],\"scattergeo\":[{\"type\":\"scattergeo\",\"marker\":{\"colorbar\":{\"outlinewidth\":0,\"ticks\":\"\"}}}],\"scatterpolar\":[{\"type\":\"scatterpolar\",\"marker\":{\"colorbar\":{\"outlinewidth\":0,\"ticks\":\"\"}}}],\"histogram\":[{\"marker\":{\"pattern\":{\"fillmode\":\"overlay\",\"size\":10,\"solidity\":0.2}},\"type\":\"histogram\"}],\"scattergl\":[{\"marker\":{\"line\":{\"color\":\"#283442\"}},\"type\":\"scattergl\"}],\"scatter3d\":[{\"type\":\"scatter3d\",\"line\":{\"colorbar\":{\"outlinewidth\":0,\"ticks\":\"\"}},\"marker\":{\"colorbar\":{\"outlinewidth\":0,\"ticks\":\"\"}}}],\"scattermapbox\":[{\"type\":\"scattermapbox\",\"marker\":{\"colorbar\":{\"outlinewidth\":0,\"ticks\":\"\"}}}],\"scatterternary\":[{\"type\":\"scatterternary\",\"marker\":{\"colorbar\":{\"outlinewidth\":0,\"ticks\":\"\"}}}],\"scattercarpet\":[{\"type\":\"scattercarpet\",\"marker\":{\"colorbar\":{\"outlinewidth\":0,\"ticks\":\"\"}}}],\"carpet\":[{\"aaxis\":{\"endlinecolor\":\"#A2B1C6\",\"gridcolor\":\"#506784\",\"linecolor\":\"#506784\",\"minorgridcolor\":\"#506784\",\"startlinecolor\":\"#A2B1C6\"},\"baxis\":{\"endlinecolor\":\"#A2B1C6\",\"gridcolor\":\"#506784\",\"linecolor\":\"#506784\",\"minorgridcolor\":\"#506784\",\"startlinecolor\":\"#A2B1C6\"},\"type\":\"carpet\"}],\"table\":[{\"cells\":{\"fill\":{\"color\":\"#506784\"},\"line\":{\"color\":\"rgb(17,17,17)\"}},\"header\":{\"fill\":{\"color\":\"#2a3f5f\"},\"line\":{\"color\":\"rgb(17,17,17)\"}},\"type\":\"table\"}],\"barpolar\":[{\"marker\":{\"line\":{\"color\":\"rgb(17,17,17)\",\"width\":0.5},\"pattern\":{\"fillmode\":\"overlay\",\"size\":10,\"solidity\":0.2}},\"type\":\"barpolar\"}],\"pie\":[{\"automargin\":true,\"type\":\"pie\"}]},\"layout\":{\"autotypenumbers\":\"strict\",\"colorway\":[\"#636efa\",\"#EF553B\",\"#00cc96\",\"#ab63fa\",\"#FFA15A\",\"#19d3f3\",\"#FF6692\",\"#B6E880\",\"#FF97FF\",\"#FECB52\"],\"font\":{\"color\":\"#f2f5fa\"},\"hovermode\":\"closest\",\"hoverlabel\":{\"align\":\"left\"},\"paper_bgcolor\":\"rgb(17,17,17)\",\"plot_bgcolor\":\"rgb(17,17,17)\",\"polar\":{\"bgcolor\":\"rgb(17,17,17)\",\"angularaxis\":{\"gridcolor\":\"#506784\",\"linecolor\":\"#506784\",\"ticks\":\"\"},\"radialaxis\":{\"gridcolor\":\"#506784\",\"linecolor\":\"#506784\",\"ticks\":\"\"}},\"ternary\":{\"bgcolor\":\"rgb(17,17,17)\",\"aaxis\":{\"gridcolor\":\"#506784\",\"linecolor\":\"#506784\",\"ticks\":\"\"},\"baxis\":{\"gridcolor\":\"#506784\",\"linecolor\":\"#506784\",\"ticks\":\"\"},\"caxis\":{\"gridcolor\":\"#506784\",\"linecolor\":\"#506784\",\"ticks\":\"\"}},\"coloraxis\":{\"colorbar\":{\"outlinewidth\":0,\"ticks\":\"\"}},\"colorscale\":{\"sequential\":[[0.0,\"#0d0887\"],[0.1111111111111111,\"#46039f\"],[0.2222222222222222,\"#7201a8\"],[0.3333333333333333,\"#9c179e\"],[0.4444444444444444,\"#bd3786\"],[0.5555555555555556,\"#d8576b\"],[0.6666666666666666,\"#ed7953\"],[0.7777777777777778,\"#fb9f3a\"],[0.8888888888888888,\"#fdca26\"],[1.0,\"#f0f921\"]],\"sequentialminus\":[[0.0,\"#0d0887\"],[0.1111111111111111,\"#46039f\"],[0.2222222222222222,\"#7201a8\"],[0.3333333333333333,\"#9c179e\"],[0.4444444444444444,\"#bd3786\"],[0.5555555555555556,\"#d8576b\"],[0.6666666666666666,\"#ed7953\"],[0.7777777777777778,\"#fb9f3a\"],[0.8888888888888888,\"#fdca26\"],[1.0,\"#f0f921\"]],\"diverging\":[[0,\"#8e0152\"],[0.1,\"#c51b7d\"],[0.2,\"#de77ae\"],[0.3,\"#f1b6da\"],[0.4,\"#fde0ef\"],[0.5,\"#f7f7f7\"],[0.6,\"#e6f5d0\"],[0.7,\"#b8e186\"],[0.8,\"#7fbc41\"],[0.9,\"#4d9221\"],[1,\"#276419\"]]},\"xaxis\":{\"gridcolor\":\"#283442\",\"linecolor\":\"#506784\",\"ticks\":\"\",\"title\":{\"standoff\":15},\"zerolinecolor\":\"#283442\",\"automargin\":true,\"zerolinewidth\":2},\"yaxis\":{\"gridcolor\":\"#283442\",\"linecolor\":\"#506784\",\"ticks\":\"\",\"title\":{\"standoff\":15},\"zerolinecolor\":\"#283442\",\"automargin\":true,\"zerolinewidth\":2},\"scene\":{\"xaxis\":{\"backgroundcolor\":\"rgb(17,17,17)\",\"gridcolor\":\"#506784\",\"linecolor\":\"#506784\",\"showbackground\":true,\"ticks\":\"\",\"zerolinecolor\":\"#C8D4E3\",\"gridwidth\":2},\"yaxis\":{\"backgroundcolor\":\"rgb(17,17,17)\",\"gridcolor\":\"#506784\",\"linecolor\":\"#506784\",\"showbackground\":true,\"ticks\":\"\",\"zerolinecolor\":\"#C8D4E3\",\"gridwidth\":2},\"zaxis\":{\"backgroundcolor\":\"rgb(17,17,17)\",\"gridcolor\":\"#506784\",\"linecolor\":\"#506784\",\"showbackground\":true,\"ticks\":\"\",\"zerolinecolor\":\"#C8D4E3\",\"gridwidth\":2}},\"shapedefaults\":{\"line\":{\"color\":\"#f2f5fa\"}},\"annotationdefaults\":{\"arrowcolor\":\"#f2f5fa\",\"arrowhead\":0,\"arrowwidth\":1},\"geo\":{\"bgcolor\":\"rgb(17,17,17)\",\"landcolor\":\"rgb(17,17,17)\",\"subunitcolor\":\"#506784\",\"showland\":true,\"showlakes\":true,\"lakecolor\":\"rgb(17,17,17)\"},\"title\":{\"x\":0.05},\"updatemenudefaults\":{\"bgcolor\":\"#506784\",\"borderwidth\":0},\"sliderdefaults\":{\"bgcolor\":\"#C8D4E3\",\"borderwidth\":1,\"bordercolor\":\"rgb(17,17,17)\",\"tickwidth\":0},\"mapbox\":{\"style\":\"dark\"}}},\"title\":{\"text\":\"First layer's linear inclusion\",\"y\":0.9,\"x\":0.5,\"xanchor\":\"center\",\"yanchor\":\"top\"},\"font\":{\"size\":20},\"legend\":{\"font\":{\"size\":30},\"yanchor\":\"top\",\"y\":1.05,\"xanchor\":\"left\",\"x\":0.01},\"paper_bgcolor\":\"#1E1F22\",\"xaxis\":{\"title\":{\"text\":\"1st component\"}},\"yaxis\":{\"title\":{\"text\":\"2nd component\"},\"scaleanchor\":\"x\",\"scaleratio\":1},\"autosize\":false,\"width\":1300,\"height\":1300,\"showlegend\":true,\"plot_bgcolor\":\"#1E1F22\"},                        {\"responsive\": true}                    ).then(function(){\n                            \nvar gd = document.getElementById('ee033f17-0cec-46a1-abd6-08a9532a1507');\nvar x = new MutationObserver(function (mutations, observer) {{\n        var display = window.getComputedStyle(gd).display;\n        if (!display || display === 'none') {{\n            console.log([gd, 'removed!']);\n            Plotly.purge(gd);\n            observer.disconnect();\n        }}\n}});\n\n// Listen for the removal of the full notebook cells\nvar notebookContainer = gd.closest('#notebook-container');\nif (notebookContainer) {{\n    x.observe(notebookContainer, {childList: true});\n}}\n\n// Listen for the clearing of the current output cell\nvar outputEl = gd.closest('.output');\nif (outputEl) {{\n    x.observe(outputEl, {childList: true});\n}}\n\n                        })                };                });            </script>        </div>"
     },
     "metadata": {},
     "output_type": "display_data"
    }
   ],
   "source": [
    "fig_linear_inclusion = go.Figure()\n",
    "fig_linear_inclusion.add_trace(\n",
    "    go.Scatter(\n",
    "        x=theta_0[0],\n",
    "        y=theta_0[1],\n",
    "        mode=\"lines\",\n",
    "        name=r\"$\\Large{\\Theta^{(0)}}$\",\n",
    "    )\n",
    ")\n",
    "fig_linear_inclusion.add_trace(\n",
    "    go.Scatter(\n",
    "        x=theta_1[0],\n",
    "        y=theta_1[1],\n",
    "        mode=\"lines\",\n",
    "        name=r\"$\\Large{\\Theta^{(1)}}$\",\n",
    "    )\n",
    ")\n",
    "fig_linear_inclusion.add_trace(\n",
    "    go.Scatter(x=z_1[0], y=z_1[1], mode=\"lines\", name=r\"$\\Large{z^{(1)}}$\")\n",
    ")\n",
    "fig_linear_inclusion.add_trace(\n",
    "    go.Scatter(\n",
    "        x=lower_linear_1[0][lower_linear_1[0] <= 0],\n",
    "        y=lower_linear_1[1][lower_linear_1[1] <= 0],\n",
    "        mode=\"markers\",\n",
    "        name=\"lower bound\",\n",
    "        fill=\"none\",\n",
    "    )\n",
    ")\n",
    "# fig_linear_inclusion.add_trace(\n",
    "#     go.Scatter(\n",
    "#         x=upper_linear_1[0],\n",
    "#         y=upper_linear_1[1],\n",
    "#         mode=\"markers\",\n",
    "#         name=\"upper bound\",\n",
    "#         fill=\"toself\",\n",
    "#     )\n",
    "# )\n",
    "fig_linear_inclusion.add_trace(\n",
    "    go.Scatter(\n",
    "        x=(z_0_1.inf, z_0_1.inf, z_0_1.sup, z_0_1.sup, z_0_1.inf),\n",
    "        y=(z_1_1.inf, z_1_1.sup, z_1_1.sup, z_1_1.inf, z_1_1.inf),\n",
    "        mode=\"lines\",\n",
    "        name=r\"$\\Large{Z^{(1)}}$\",\n",
    "    )\n",
    ")\n",
    "fig_linear_inclusion.update_layout(\n",
    "    title=dict(text=\"First layer's linear inclusion\", **shared_title_params),\n",
    "    **shared_layout,\n",
    ")\n",
    "fig_linear_inclusion.update_yaxes(**shared_ratio)\n",
    "fig_linear_inclusion.show()"
   ],
   "metadata": {
    "collapsed": false
   }
  },
  {
   "cell_type": "code",
   "execution_count": null,
   "outputs": [],
   "source": [],
   "metadata": {
    "collapsed": false
   }
  }
 ],
 "metadata": {
  "kernelspec": {
   "display_name": "Python 3 (ipykernel)",
   "language": "python",
   "name": "python3"
  },
  "language_info": {
   "codemirror_mode": {
    "name": "ipython",
    "version": 3
   },
   "file_extension": ".py",
   "mimetype": "text/x-python",
   "name": "python",
   "nbconvert_exporter": "python",
   "pygments_lexer": "ipython3",
   "version": "3.10.7"
  }
 },
 "nbformat": 4,
 "nbformat_minor": 1
}
